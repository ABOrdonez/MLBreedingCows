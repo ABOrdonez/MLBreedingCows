{
 "cells": [
  {
   "cell_type": "markdown",
   "metadata": {},
   "source": [
    "## Carga y  prepación de el dataframe"
   ]
  },
  {
   "cell_type": "markdown",
   "metadata": {},
   "source": [
    "Cargamos y preparamos el dataframe teniendo en cuenta el analisis y la evaluación efectuada. Y de esta manera comenzar a evaluar los distintos modelos y cómo estos se comportan frente a los datos."
   ]
  },
  {
   "cell_type": "code",
   "execution_count": 1,
   "metadata": {},
   "outputs": [],
   "source": [
    "%matplotlib inline\n",
    "import pandas as pd\n",
    "import numpy as np\n",
    "import matplotlib.pyplot as plt\n",
    "import seaborn as sns\n",
    "from sklearn.model_selection import train_test_split\n",
    "import plotly.graph_objects as go\n",
    "from plotly.subplots import make_subplots\n",
    "from datetime import datetime\n",
    "from sklearn.metrics import accuracy_score, precision_score, recall_score, confusion_matrix\n",
    "from sklearn.model_selection import train_test_split\n",
    "\n",
    "plt.rcParams['figure.figsize'] = 25, 10"
   ]
  },
  {
   "cell_type": "code",
   "execution_count": 2,
   "metadata": {},
   "outputs": [],
   "source": [
    "full = pd.read_csv('data/reproductions.csv')\n",
    "\n",
    "full['age'] = datetime.now().date().year - full['birth_year']\n",
    "\n",
    "full['success_reproduction_count'] = full['success_insemination_count'] + full['success_natural_count']\n",
    "full['fail_reproduction_count'] = full['fail_insemination_count'] + full['fail_natural_count']\n",
    "\n",
    "full['pregnant_after_count'] = full['pregnant_after_insemination_count'] + full['pregnant_after_natural_count']\n",
    "full['empty_after_count'] = full['empty_after_natural_count'] + full['empty_after_insemination_count']\n",
    "\n",
    "full['reproduction_execution'] = pd.to_datetime(full.reproduction_execution)\n",
    "full['date_offset'] = (pd.DatetimeIndex(full.reproduction_execution).month*100 + pd.DatetimeIndex(full.reproduction_execution).day - 320)%1300\n",
    "full['season'] = pd.cut(full['date_offset'], [0, 300, 602, 900, 1300], \n",
    "                      labels=['autumn', 'winter', 'spring', 'summer'])\n",
    "\n",
    "full['body_development'] = full['body_development'].round()\n",
    "\n",
    "full.loc[full['DIB_placement'].notnull(),'DIB_placement_converted'] = 1\n",
    "full.loc[full['DIB_placement'].isnull(),'DIB_placement_converted'] = 0\n",
    "\n",
    "full.loc[full['DIB_extraction'].notnull(),'transformed_DIB_extraction'] = 1\n",
    "full.loc[full['DIB_extraction'].isnull(),'transformed_DIB_extraction'] = 0\n",
    "\n",
    "full.loc[full.reproduction_type == 'Natural','reproduction_type'] = 1\n",
    "full.loc[full.reproduction_type == 'Inseminacion','reproduction_type'] = 0\n",
    "\n",
    "full.loc[full.palpation_after == 'Preñada','palpation_after'] = 1\n",
    "full.loc[full.palpation_after == 'preñada','palpation_after'] = 1\n",
    "full.loc[full.palpation_after == 'Vacia','palpation_after'] = 0\n",
    "full.loc[full.palpation_after == 'No Paso','palpation_after'] = 0\n",
    "full.loc[full.palpation_after == 'Sin Tacto','palpation_after'] = 0\n",
    "full.loc[full.palpation_after == 'vacia','palpation_after'] = 0\n",
    "\n",
    "full.loc[full['reproduction_released'].notnull(),'transformed_reproduction_released'] = 1\n",
    "full.loc[full['reproduction_released'].isnull(),'transformed_reproduction_released'] = 0\n",
    "\n",
    "full.loc[full['body_development'].isnull(),'body_development'] = 0\n",
    "full.loc[full['reproduction_type'].isnull(),'reproduction_type'] = 0\n",
    "full.loc[full['reproduction_execution'].isnull(),'reproduction_execution'] = ('2017-02-02 16:20:39.396628224')\n",
    "\n",
    "full.drop(full.loc[full['season'].isnull()].index, inplace=True)\n",
    "\n",
    "#full.drop(full.loc[full['reproduction_type'].isnull()].index, inplace=True)\n",
    "#full.drop(full.loc[full['season'].isnull()].index, inplace=True)\n",
    "\n",
    "del full['palpation_before']\n",
    "del full['birth_year']\n",
    "del full['CUT_before']\n",
    "del full['CUT_after']\n",
    "del full['DIB_placement']\n",
    "del full['DIB_extraction']\n",
    "del full['reproduction_released']\n",
    "del full['date_offset']\n",
    "del full['pregnant_after_insemination_count']\n",
    "del full['empty_after_insemination_count']\n",
    "del full['reproduction_execution']\n",
    "del full['brood_sex']"
   ]
  },
  {
   "cell_type": "markdown",
   "metadata": {},
   "source": [
    "### Porcentajes en los que dividimos el dataset\n",
    "- 60% train\n",
    "- 20% test\n",
    "- 20% validation"
   ]
  },
  {
   "cell_type": "code",
   "execution_count": 3,
   "metadata": {},
   "outputs": [
    {
     "data": {
      "text/plain": [
       "((1351, 22), (901, 22))"
      ]
     },
     "execution_count": 3,
     "metadata": {},
     "output_type": "execute_result"
    }
   ],
   "source": [
    "train, not_train = train_test_split(full, test_size=0.4)\n",
    "validation, test = train_test_split(not_train, test_size=0.5)\n",
    "train.shape, not_train.shape"
   ]
  },
  {
   "cell_type": "code",
   "execution_count": 4,
   "metadata": {},
   "outputs": [],
   "source": [
    "def evaluate_model(model, extract_inputs_function, extract_outputs_function, include_validation=False):\n",
    "    sets = [('train', train), ('test', test)]\n",
    "    if include_validation:\n",
    "        sets.append(('validation', validation))\n",
    "        \n",
    "    for set_name, set_data in sets:\n",
    "        inputs = extract_inputs_function(set_data)\n",
    "        outputs = extract_outputs_function(set_data)\n",
    "        predictions = model.predict(inputs)\n",
    "        \n",
    "        print(set_name, '#' * 80)\n",
    "        \n",
    "        # print metrics\n",
    "        \n",
    "        print('Accuracy:', accuracy_score(outputs, predictions))\n",
    "        print('Precision:', precision_score(outputs, predictions))\n",
    "        print('Recall:', recall_score(outputs, predictions))\n",
    "        print()\n",
    "        \n",
    "        # plot confussion matrix\n",
    "        \n",
    "        plt.figure(figsize=(3,4))\n",
    "        \n",
    "        plt.xticks([0, 1], ['reproduction unsuccessfull', 'reproduction successfull'], rotation=45)\n",
    "        plt.yticks([0, 1], ['reproduction unsuccessfull', 'reproduction successfull'])\n",
    "        \n",
    "        plt.xlabel('Predicted class')\n",
    "        plt.ylabel('True class')\n",
    "\n",
    "        plt.title(set_name)\n",
    "\n",
    "        plt.imshow(\n",
    "            confusion_matrix(outputs, predictions), \n",
    "            cmap=plt.cm.Blues, \n",
    "            interpolation='nearest',\n",
    "        )\n",
    "\n",
    "        plt.show()"
   ]
  },
  {
   "cell_type": "markdown",
   "metadata": {},
   "source": [
    "## Métricas\n",
    "En nuestro caso contamos con el set de datos balanceado, por lo que vamos a utilizar como una de las métrica **Accuracy**. Esta métrica es muy buena para la clacificación cuando el dataset está bien balanceado. También vamos a utilizar la metrica **Recall** ya que nos interesa encontrar **la mayor cantidad posible de casos positivos**."
   ]
  },
  {
   "cell_type": "markdown",
   "metadata": {},
   "source": [
    "## Primer modelo: Regresión logica"
   ]
  },
  {
   "cell_type": "code",
   "execution_count": 5,
   "metadata": {},
   "outputs": [],
   "source": [
    "from sklearn.linear_model import LogisticRegression\n",
    "from sklearn.preprocessing import StandardScaler\n",
    "from sklearn.pipeline import Pipeline"
   ]
  },
  {
   "cell_type": "code",
   "execution_count": 6,
   "metadata": {},
   "outputs": [],
   "source": [
    "# final input columns, in the order we want to use them\n",
    "LR_INPUT_COLUMNS = [\n",
    "    'age',\n",
    "    'body_development',\n",
    "    'DIB_placement_converted',\n",
    "    'season_autumn',\n",
    "    'season_winter',\n",
    "    'season_spring',\n",
    "    'season_summer',\n",
    "    'success_reproduction_count',\n",
    "    #'success_insemination_count',\n",
    "    #'success_natural_count',\n",
    "    'fail_reproduction_count',\n",
    "    #'fail_insemination_count',\n",
    "    #'fail_natural_count',\n",
    "    'pregnant_after_count',\n",
    "    'empty_after_count',\n",
    "]\n",
    "\n",
    "\n",
    "def lr_extract_inputs(dataset):\n",
    "    \"\"\"\n",
    "    Inputs in the format supported by the logistic regressor.\n",
    "    \"\"\"\n",
    "    inputs = dataset.copy()\n",
    "    \n",
    "    # season to numbers\n",
    "    inputs['season_autumn'] = inputs.season == 'autumn'\n",
    "    inputs['season_winter'] = inputs.season == 'winter'\n",
    "    inputs['season_spring'] = inputs.season == 'spring'\n",
    "    inputs['season_summer'] = inputs.season == 'summer'\n",
    "    del inputs['season']\n",
    "    \n",
    "    # return the raw numbers\n",
    "    return inputs[LR_INPUT_COLUMNS].values.astype(np.float64)\n",
    "\n",
    "def lr_extract_outputs(dataset):\n",
    "    \"\"\"\n",
    "    Outputs in the format supported by the logistic regressor.\n",
    "    \"\"\"\n",
    "    return dataset.transformed_reproduction_released.values"
   ]
  },
  {
   "cell_type": "code",
   "execution_count": 7,
   "metadata": {},
   "outputs": [],
   "source": [
    "lr_model = Pipeline([\n",
    "    ('scaler', StandardScaler()),\n",
    "    ('classifier', LogisticRegression()),\n",
    "])"
   ]
  },
  {
   "cell_type": "code",
   "execution_count": 8,
   "metadata": {},
   "outputs": [
    {
     "data": {
      "text/plain": [
       "Pipeline(steps=[('scaler', StandardScaler()),\n",
       "                ('classifier', LogisticRegression())])"
      ]
     },
     "execution_count": 8,
     "metadata": {},
     "output_type": "execute_result"
    }
   ],
   "source": [
    "lr_model.fit(\n",
    "    lr_extract_inputs(train),\n",
    "    lr_extract_outputs(train),\n",
    ")"
   ]
  },
  {
   "cell_type": "code",
   "execution_count": 9,
   "metadata": {},
   "outputs": [
    {
     "name": "stdout",
     "output_type": "stream",
     "text": [
      "train ################################################################################\n",
      "Accuracy: 0.6432272390821614\n",
      "Precision: 0.6666666666666666\n",
      "Recall: 0.7299077733860343\n",
      "\n"
     ]
    },
    {
     "data": {
      "image/png": "[encoded data removed]",
      "text/plain": [
       "<Figure size 216x288 with 1 Axes>"
      ]
     },
     "metadata": {
      "needs_background": "light"
     },
     "output_type": "display_data"
    },
    {
     "name": "stdout",
     "output_type": "stream",
     "text": [
      "test ################################################################################\n",
      "Accuracy: 0.6341463414634146\n",
      "Precision: 0.6526315789473685\n",
      "Recall: 0.7380952380952381\n",
      "\n"
     ]
    },
    {
     "data": {
      "image/png": "[encoded data removed]",
      "text/plain": [
       "<Figure size 216x288 with 1 Axes>"
      ]
     },
     "metadata": {
      "needs_background": "light"
     },
     "output_type": "display_data"
    }
   ],
   "source": [
    "evaluate_model(lr_model, lr_extract_inputs, lr_extract_outputs)"
   ]
  },
  {
   "cell_type": "code",
   "execution_count": 10,
   "metadata": {},
   "outputs": [
    {
     "data": {
      "text/plain": [
       "[('scaler', StandardScaler()), ('classifier', LogisticRegression())]"
      ]
     },
     "execution_count": 10,
     "metadata": {},
     "output_type": "execute_result"
    }
   ],
   "source": [
    "lr_model.steps"
   ]
  },
  {
   "cell_type": "code",
   "execution_count": 11,
   "metadata": {},
   "outputs": [
    {
     "data": {
      "text/plain": [
       "array([[-0.21934661,  0.14384393,  0.2425    , -0.30290889,  0.27018248,\n",
       "         0.14817977, -0.01045927, -0.13440512, -0.72314221,  0.3382819 ,\n",
       "         0.42985142]])"
      ]
     },
     "execution_count": 11,
     "metadata": {},
     "output_type": "execute_result"
    }
   ],
   "source": [
    "clf = lr_model.steps[1][1]\n",
    "clf.coef_"
   ]
  },
  {
   "cell_type": "code",
   "execution_count": 12,
   "metadata": {},
   "outputs": [
    {
     "name": "stdout",
     "output_type": "stream",
     "text": [
      "age : -0.21934660691454017\n",
      "body_development : 0.14384392894842726\n",
      "DIB_placement_converted : 0.24250000497507235\n",
      "season_autumn : -0.30290888548582273\n",
      "season_winter : 0.2701824838779233\n",
      "season_spring : 0.1481797727456676\n",
      "season_summer : -0.010459269892536146\n",
      "success_reproduction_count : -0.13440511741468827\n",
      "fail_reproduction_count : -0.7231422093926734\n",
      "pregnant_after_count : 0.33828189552862126\n",
      "empty_after_count : 0.42985142461757264\n"
     ]
    }
   ],
   "source": [
    "for col_name, weight in zip(LR_INPUT_COLUMNS, clf.coef_[0]):\n",
    "    print(col_name, ':', weight)"
   ]
  },
  {
   "cell_type": "markdown",
   "metadata": {},
   "source": [
    "### Conclusión\n",
    "En este modelo, utilizando las métricas mencionadas anteriormente, obtuvimos un 65% en Accuracy y un 72% en Recall en la validación. Aunque el Accuracy no es muy alto, lo vemos aceptable; ya que encontramos más de la mitad de los casos"
   ]
  },
  {
   "cell_type": "markdown",
   "metadata": {},
   "source": [
    "## Segundo modelo: K nearest neighbors"
   ]
  },
  {
   "cell_type": "code",
   "execution_count": 13,
   "metadata": {},
   "outputs": [],
   "source": [
    "from sklearn.neighbors import KNeighborsClassifier"
   ]
  },
  {
   "cell_type": "code",
   "execution_count": 14,
   "metadata": {},
   "outputs": [],
   "source": [
    "K = 100\n",
    "\n",
    "knn_model = Pipeline([\n",
    "    ('scaler', StandardScaler()),\n",
    "    ('classifier', KNeighborsClassifier(n_neighbors=K)),\n",
    "])"
   ]
  },
  {
   "cell_type": "code",
   "execution_count": 15,
   "metadata": {},
   "outputs": [
    {
     "data": {
      "text/plain": [
       "Pipeline(steps=[('scaler', StandardScaler()),\n",
       "                ('classifier', KNeighborsClassifier(n_neighbors=100))])"
      ]
     },
     "execution_count": 15,
     "metadata": {},
     "output_type": "execute_result"
    }
   ],
   "source": [
    "knn_model.fit(\n",
    "    lr_extract_inputs(train),\n",
    "    lr_extract_outputs(train),\n",
    ")"
   ]
  },
  {
   "cell_type": "code",
   "execution_count": 16,
   "metadata": {},
   "outputs": [
    {
     "name": "stdout",
     "output_type": "stream",
     "text": [
      "train ################################################################################\n",
      "Accuracy: 0.6602516654330126\n",
      "Precision: 0.668918918918919\n",
      "Recall: 0.782608695652174\n",
      "\n"
     ]
    },
    {
     "data": {
      "image/png": "[encoded data removed]",
      "text/plain": [
       "<Figure size 216x288 with 1 Axes>"
      ]
     },
     "metadata": {
      "needs_background": "light"
     },
     "output_type": "display_data"
    },
    {
     "name": "stdout",
     "output_type": "stream",
     "text": [
      "test ################################################################################\n",
      "Accuracy: 0.6252771618625277\n",
      "Precision: 0.6397306397306397\n",
      "Recall: 0.753968253968254\n",
      "\n"
     ]
    },
    {
     "data": {
      "image/png": "[encoded data removed]",
      "text/plain": [
       "<Figure size 216x288 with 1 Axes>"
      ]
     },
     "metadata": {
      "needs_background": "light"
     },
     "output_type": "display_data"
    }
   ],
   "source": [
    "evaluate_model(knn_model, lr_extract_inputs, lr_extract_outputs)"
   ]
  },
  {
   "cell_type": "markdown",
   "metadata": {},
   "source": [
    "### Conclusión\n",
    "Al diferencia del modelo anterior, obtuvimos en validación un 60% en Accuracy (%3 menos), un poco menor, y un 80% en Recall (%4 más).\n",
    "\n",
    "Podemos obervar también que los resultados de la validación son casi identicos a los del entrenamiento, lo que nos da indicios de que el modelo se comporta de la misma forma con datos nuevos."
   ]
  },
  {
   "cell_type": "markdown",
   "metadata": {},
   "source": [
    "## Tercer modelo: Decision Trees"
   ]
  },
  {
   "cell_type": "code",
   "execution_count": 17,
   "metadata": {},
   "outputs": [],
   "source": [
    "from sklearn.tree import DecisionTreeClassifier"
   ]
  },
  {
   "cell_type": "code",
   "execution_count": 18,
   "metadata": {},
   "outputs": [],
   "source": [
    "# final input columns, in the order we want to use them\n",
    "TREE_INPUT_COLUMNS = [\n",
    "    'age',\n",
    "    'body_development',\n",
    "    'DIB_placement_converted',\n",
    "    'season',\n",
    "    'success_reproduction_count',\n",
    "    #'success_insemination_count',\n",
    "    #'success_natural_count',\n",
    "    'fail_reproduction_count',\n",
    "    #'fail_insemination_count',\n",
    "    #'fail_natural_count',\n",
    "    'pregnant_after_count',\n",
    "    'empty_after_count',\n",
    "]\n",
    "\n",
    "\n",
    "def tree_extract_inputs(dataset):\n",
    "    \"\"\"\n",
    "    Inputs in the format supported by the logistic regressor.\n",
    "    \"\"\"\n",
    "    inputs = dataset.copy()\n",
    "    \n",
    "    # season to labels\n",
    "    inputs['season'] = inputs.season.map({'autumn': 1, 'winter': 2, 'spring': 3, 'summer': 4})\n",
    "\n",
    "    # return the raw numbers\n",
    "    return inputs[TREE_INPUT_COLUMNS].values\n",
    "\n",
    "def tree_extract_outputs(dataset):\n",
    "    \"\"\"\n",
    "    Outputs in the format supported by the logistic regressor.\n",
    "    \"\"\"\n",
    "    return dataset.transformed_reproduction_released.values"
   ]
  },
  {
   "cell_type": "code",
   "execution_count": 19,
   "metadata": {},
   "outputs": [],
   "source": [
    "tree_model = DecisionTreeClassifier()"
   ]
  },
  {
   "cell_type": "code",
   "execution_count": 20,
   "metadata": {},
   "outputs": [
    {
     "data": {
      "text/plain": [
       "DecisionTreeClassifier()"
      ]
     },
     "execution_count": 20,
     "metadata": {},
     "output_type": "execute_result"
    }
   ],
   "source": [
    "tree_model.fit(\n",
    "    tree_extract_inputs(train),\n",
    "    tree_extract_outputs(train),\n",
    ")"
   ]
  },
  {
   "cell_type": "code",
   "execution_count": 21,
   "metadata": {},
   "outputs": [
    {
     "name": "stdout",
     "output_type": "stream",
     "text": [
      "train ################################################################################\n",
      "Accuracy: 0.8364174685418209\n",
      "Precision: 0.8548812664907651\n",
      "Recall: 0.8537549407114624\n",
      "\n"
     ]
    },
    {
     "data": {
      "image/png": "[encoded data removed]",
      "text/plain": [
       "<Figure size 216x288 with 1 Axes>"
      ]
     },
     "metadata": {
      "needs_background": "light"
     },
     "output_type": "display_data"
    },
    {
     "name": "stdout",
     "output_type": "stream",
     "text": [
      "test ################################################################################\n",
      "Accuracy: 0.6430155210643016\n",
      "Precision: 0.6756756756756757\n",
      "Recall: 0.6944444444444444\n",
      "\n"
     ]
    },
    {
     "data": {
      "image/png": "[encoded data removed]",
      "text/plain": [
       "<Figure size 216x288 with 1 Axes>"
      ]
     },
     "metadata": {
      "needs_background": "light"
     },
     "output_type": "display_data"
    }
   ],
   "source": [
    "evaluate_model(tree_model, tree_extract_inputs, tree_extract_outputs)"
   ]
  },
  {
   "cell_type": "markdown",
   "metadata": {},
   "source": [
    "#### Conclusión\n",
    "En este modelo podemos observar que obtuvimos resultados mejores que con los dos anteriores. Podemos agrear que son más fáciles de sobrenrenar que la regresión lineal y el K-NN, ya que tuvimos que configurarlo con una profundidad máxima de 6 niveles porque arrojaba resultados por encima del 99% en el train y en el validation solo llegabamos al 60 %"
   ]
  },
  {
   "cell_type": "markdown",
   "metadata": {},
   "source": [
    "## Cuarto modelo: Random Forests"
   ]
  },
  {
   "cell_type": "code",
   "execution_count": 22,
   "metadata": {},
   "outputs": [],
   "source": [
    "from sklearn.ensemble import RandomForestClassifier"
   ]
  },
  {
   "cell_type": "code",
   "execution_count": 23,
   "metadata": {},
   "outputs": [],
   "source": [
    "forest_model = RandomForestClassifier(max_depth=5)\n",
    "# n_estimators? max_depth=3?, max_features=2?"
   ]
  },
  {
   "cell_type": "code",
   "execution_count": 24,
   "metadata": {},
   "outputs": [
    {
     "data": {
      "text/plain": [
       "RandomForestClassifier(max_depth=5)"
      ]
     },
     "execution_count": 24,
     "metadata": {},
     "output_type": "execute_result"
    }
   ],
   "source": [
    "forest_model.fit(\n",
    "    tree_extract_inputs(train),\n",
    "    tree_extract_outputs(train),\n",
    ")"
   ]
  },
  {
   "cell_type": "code",
   "execution_count": 25,
   "metadata": {
    "scrolled": false
   },
   "outputs": [
    {
     "name": "stdout",
     "output_type": "stream",
     "text": [
      "train ################################################################################\n",
      "Accuracy: 0.7002220577350111\n",
      "Precision: 0.6820987654320988\n",
      "Recall: 0.8735177865612648\n",
      "\n"
     ]
    },
    {
     "data": {
      "image/png": "[encoded data removed]",
      "text/plain": [
       "<Figure size 216x288 with 1 Axes>"
      ]
     },
     "metadata": {
      "needs_background": "light"
     },
     "output_type": "display_data"
    },
    {
     "name": "stdout",
     "output_type": "stream",
     "text": [
      "test ################################################################################\n",
      "Accuracy: 0.6873614190687362\n",
      "Precision: 0.6646884272997032\n",
      "Recall: 0.8888888888888888\n",
      "\n"
     ]
    },
    {
     "data": {
      "image/png": "[encoded data removed]",
      "text/plain": [
       "<Figure size 216x288 with 1 Axes>"
      ]
     },
     "metadata": {
      "needs_background": "light"
     },
     "output_type": "display_data"
    }
   ],
   "source": [
    "evaluate_model(forest_model, tree_extract_inputs, tree_extract_outputs)"
   ]
  },
  {
   "cell_type": "markdown",
   "metadata": {},
   "source": [
    "#### Conclusión\n",
    "Al igual que en el modelo anterior, obtuvimos resultados de Accuracy mejores que con la regresión lineal y el K-NN. Con resultados del 70% con Accuracy y 81 % con Recall concluimos que este modelo es menos conveniente que los anteriores."
   ]
  },
  {
   "cell_type": "markdown",
   "metadata": {},
   "source": [
    "## Fifth model: Gradient Boosted Trees"
   ]
  },
  {
   "cell_type": "code",
   "execution_count": 26,
   "metadata": {},
   "outputs": [],
   "source": [
    "from sklearn.ensemble import GradientBoostingClassifier"
   ]
  },
  {
   "cell_type": "code",
   "execution_count": 27,
   "metadata": {},
   "outputs": [],
   "source": [
    "boost_model = GradientBoostingClassifier()"
   ]
  },
  {
   "cell_type": "code",
   "execution_count": 28,
   "metadata": {},
   "outputs": [
    {
     "data": {
      "text/plain": [
       "GradientBoostingClassifier()"
      ]
     },
     "execution_count": 28,
     "metadata": {},
     "output_type": "execute_result"
    }
   ],
   "source": [
    "boost_model.fit(\n",
    "    tree_extract_inputs(train),\n",
    "    tree_extract_outputs(train),\n",
    ")"
   ]
  },
  {
   "cell_type": "code",
   "execution_count": 29,
   "metadata": {
    "scrolled": false
   },
   "outputs": [
    {
     "name": "stdout",
     "output_type": "stream",
     "text": [
      "train ################################################################################\n",
      "Accuracy: 0.7253886010362695\n",
      "Precision: 0.710412147505423\n",
      "Recall: 0.8629776021080369\n",
      "\n"
     ]
    },
    {
     "data": {
      "image/png": "[encoded data removed]",
      "text/plain": [
       "<Figure size 216x288 with 1 Axes>"
      ]
     },
     "metadata": {
      "needs_background": "light"
     },
     "output_type": "display_data"
    },
    {
     "name": "stdout",
     "output_type": "stream",
     "text": [
      "test ################################################################################\n",
      "Accuracy: 0.6962305986696231\n",
      "Precision: 0.6885245901639344\n",
      "Recall: 0.8333333333333334\n",
      "\n"
     ]
    },
    {
     "data": {
      "image/png": "[encoded data removed]",
      "text/plain": [
       "<Figure size 216x288 with 1 Axes>"
      ]
     },
     "metadata": {
      "needs_background": "light"
     },
     "output_type": "display_data"
    }
   ],
   "source": [
    "evaluate_model(boost_model, tree_extract_inputs, tree_extract_outputs)"
   ]
  },
  {
   "cell_type": "markdown",
   "metadata": {},
   "source": [
    "#### Conclusión\n",
    "Al igual que en el modelo anterior, obtuvimos resultados de Accuracy mejores que con la regresión lineal y el K-NN. Con resultados del 71% con Accuracy y 84 % con Recall concluimos que este modelo es menos conveniente que los anteriores."
   ]
  },
  {
   "cell_type": "markdown",
   "metadata": {},
   "source": [
    "## Sexto modelo: Neural Networks"
   ]
  },
  {
   "cell_type": "code",
   "execution_count": 30,
   "metadata": {},
   "outputs": [],
   "source": [
    "from keras.models import Sequential\n",
    "from keras.layers import Dense, Activation, Input, Dropout"
   ]
  },
  {
   "cell_type": "code",
   "execution_count": 31,
   "metadata": {},
   "outputs": [],
   "source": [
    "nn_model = Sequential([   \n",
    "    Dense(50, input_shape=(len(LR_INPUT_COLUMNS), )),\n",
    "    Activation('tanh'),\n",
    "    \n",
    "    # Dropout(0.1),\n",
    "\n",
    "    Dense(50),\n",
    "    Activation('tanh'),\n",
    "    \n",
    "    # Dropout(0.1),\n",
    "\n",
    "    Dense(1),\n",
    "    Activation('sigmoid'),\n",
    "])\n",
    "\n",
    "nn_model.compile(\n",
    "    optimizer='adam',\n",
    "    loss='binary_crossentropy',\n",
    "    metrics=['accuracy',],\n",
    ")"
   ]
  },
  {
   "cell_type": "code",
   "execution_count": 32,
   "metadata": {
    "scrolled": true
   },
   "outputs": [
    {
     "name": "stdout",
     "output_type": "stream",
     "text": [
      "Epoch 1/500\n",
      "11/11 [==============================] - 0s 15ms/step - loss: 0.7026 - accuracy: 0.5070 - val_loss: 0.6916 - val_accuracy: 0.5588\n",
      "Epoch 2/500\n",
      "11/11 [==============================] - 0s 4ms/step - loss: 0.6973 - accuracy: 0.5611 - val_loss: 0.6806 - val_accuracy: 0.5876\n",
      "Epoch 3/500\n",
      "11/11 [==============================] - 0s 5ms/step - loss: 0.6820 - accuracy: 0.5811 - val_loss: 0.6748 - val_accuracy: 0.5588\n",
      "Epoch 4/500\n",
      "11/11 [==============================] - 0s 5ms/step - loss: 0.6771 - accuracy: 0.5618 - val_loss: 0.6706 - val_accuracy: 0.5610\n",
      "Epoch 5/500\n",
      "11/11 [==============================] - 0s 3ms/step - loss: 0.6702 - accuracy: 0.6099 - val_loss: 0.6671 - val_accuracy: 0.5876\n",
      "Epoch 6/500\n",
      "11/11 [==============================] - 0s 4ms/step - loss: 0.6679 - accuracy: 0.5803 - val_loss: 0.6639 - val_accuracy: 0.6275\n",
      "Epoch 7/500\n",
      "11/11 [==============================] - 0s 2ms/step - loss: 0.6605 - accuracy: 0.5944 - val_loss: 0.6613 - val_accuracy: 0.6142\n",
      "Epoch 8/500\n",
      "11/11 [==============================] - 0s 4ms/step - loss: 0.6553 - accuracy: 0.6380 - val_loss: 0.6579 - val_accuracy: 0.6275\n",
      "Epoch 9/500\n",
      "11/11 [==============================] - 0s 4ms/step - loss: 0.6517 - accuracy: 0.6447 - val_loss: 0.6556 - val_accuracy: 0.6275\n",
      "Epoch 10/500\n",
      "11/11 [==============================] - 0s 3ms/step - loss: 0.6503 - accuracy: 0.6432 - val_loss: 0.6611 - val_accuracy: 0.6120\n",
      "Epoch 11/500\n",
      "11/11 [==============================] - 0s 8ms/step - loss: 0.6458 - accuracy: 0.6269 - val_loss: 0.6527 - val_accuracy: 0.6120\n",
      "Epoch 12/500\n",
      "11/11 [==============================] - 0s 4ms/step - loss: 0.6430 - accuracy: 0.6477 - val_loss: 0.6520 - val_accuracy: 0.6120\n",
      "Epoch 13/500\n",
      "11/11 [==============================] - 0s 3ms/step - loss: 0.6445 - accuracy: 0.6425 - val_loss: 0.6619 - val_accuracy: 0.6186\n",
      "Epoch 14/500\n",
      "11/11 [==============================] - 0s 3ms/step - loss: 0.6440 - accuracy: 0.6358 - val_loss: 0.6516 - val_accuracy: 0.6164\n",
      "Epoch 15/500\n",
      "11/11 [==============================] - 0s 3ms/step - loss: 0.6379 - accuracy: 0.6499 - val_loss: 0.6512 - val_accuracy: 0.6164\n",
      "Epoch 16/500\n",
      "11/11 [==============================] - 0s 3ms/step - loss: 0.6376 - accuracy: 0.6484 - val_loss: 0.6588 - val_accuracy: 0.6452\n",
      "Epoch 17/500\n",
      "11/11 [==============================] - 0s 3ms/step - loss: 0.6362 - accuracy: 0.6506 - val_loss: 0.6519 - val_accuracy: 0.6164\n",
      "Epoch 18/500\n",
      "11/11 [==============================] - 0s 3ms/step - loss: 0.6340 - accuracy: 0.6484 - val_loss: 0.6548 - val_accuracy: 0.6430\n",
      "Epoch 19/500\n",
      "11/11 [==============================] - 0s 4ms/step - loss: 0.6339 - accuracy: 0.6491 - val_loss: 0.6514 - val_accuracy: 0.6186\n",
      "Epoch 20/500\n",
      "11/11 [==============================] - 0s 4ms/step - loss: 0.6317 - accuracy: 0.6514 - val_loss: 0.6557 - val_accuracy: 0.6452\n",
      "Epoch 21/500\n",
      "11/11 [==============================] - 0s 3ms/step - loss: 0.6337 - accuracy: 0.6588 - val_loss: 0.6489 - val_accuracy: 0.6231\n",
      "Epoch 22/500\n",
      "11/11 [==============================] - 0s 4ms/step - loss: 0.6302 - accuracy: 0.6514 - val_loss: 0.6487 - val_accuracy: 0.6297\n",
      "Epoch 23/500\n",
      "11/11 [==============================] - 0s 2ms/step - loss: 0.6310 - accuracy: 0.6580 - val_loss: 0.6493 - val_accuracy: 0.6231\n",
      "Epoch 24/500\n",
      "11/11 [==============================] - 0s 3ms/step - loss: 0.6353 - accuracy: 0.6603 - val_loss: 0.6490 - val_accuracy: 0.6208\n",
      "Epoch 25/500\n",
      "11/11 [==============================] - 0s 3ms/step - loss: 0.6297 - accuracy: 0.6580 - val_loss: 0.6536 - val_accuracy: 0.6430\n",
      "Epoch 26/500\n",
      "11/11 [==============================] - 0s 3ms/step - loss: 0.6313 - accuracy: 0.6566 - val_loss: 0.6466 - val_accuracy: 0.6319\n",
      "Epoch 27/500\n",
      "11/11 [==============================] - 0s 3ms/step - loss: 0.6302 - accuracy: 0.6580 - val_loss: 0.6503 - val_accuracy: 0.6075\n",
      "Epoch 28/500\n",
      "11/11 [==============================] - 0s 3ms/step - loss: 0.6357 - accuracy: 0.6499 - val_loss: 0.6484 - val_accuracy: 0.6475\n",
      "Epoch 29/500\n",
      "11/11 [==============================] - 0s 4ms/step - loss: 0.6277 - accuracy: 0.6588 - val_loss: 0.6452 - val_accuracy: 0.6341\n",
      "Epoch 30/500\n",
      "11/11 [==============================] - 0s 7ms/step - loss: 0.6253 - accuracy: 0.6580 - val_loss: 0.6449 - val_accuracy: 0.6364\n",
      "Epoch 31/500\n",
      "11/11 [==============================] - 0s 3ms/step - loss: 0.6244 - accuracy: 0.6558 - val_loss: 0.6432 - val_accuracy: 0.6231\n",
      "Epoch 32/500\n",
      "11/11 [==============================] - 0s 3ms/step - loss: 0.6246 - accuracy: 0.6595 - val_loss: 0.6473 - val_accuracy: 0.6541\n",
      "Epoch 33/500\n",
      "11/11 [==============================] - 0s 3ms/step - loss: 0.6268 - accuracy: 0.6617 - val_loss: 0.6489 - val_accuracy: 0.6142\n",
      "Epoch 34/500\n",
      "11/11 [==============================] - 0s 3ms/step - loss: 0.6310 - accuracy: 0.6595 - val_loss: 0.6430 - val_accuracy: 0.6364\n",
      "Epoch 35/500\n",
      "11/11 [==============================] - 0s 3ms/step - loss: 0.6262 - accuracy: 0.6566 - val_loss: 0.6447 - val_accuracy: 0.6475\n",
      "Epoch 36/500\n",
      "11/11 [==============================] - 0s 3ms/step - loss: 0.6252 - accuracy: 0.6662 - val_loss: 0.6416 - val_accuracy: 0.6475\n",
      "Epoch 37/500\n",
      "11/11 [==============================] - 0s 3ms/step - loss: 0.6214 - accuracy: 0.6654 - val_loss: 0.6409 - val_accuracy: 0.6319\n",
      "Epoch 38/500\n",
      "11/11 [==============================] - 0s 3ms/step - loss: 0.6221 - accuracy: 0.6610 - val_loss: 0.6425 - val_accuracy: 0.6275\n",
      "Epoch 39/500\n",
      "11/11 [==============================] - 0s 3ms/step - loss: 0.6255 - accuracy: 0.6595 - val_loss: 0.6441 - val_accuracy: 0.6475\n",
      "Epoch 40/500\n",
      "11/11 [==============================] - 0s 3ms/step - loss: 0.6200 - accuracy: 0.6654 - val_loss: 0.6404 - val_accuracy: 0.6341\n",
      "Epoch 41/500\n",
      "11/11 [==============================] - 0s 3ms/step - loss: 0.6192 - accuracy: 0.6647 - val_loss: 0.6385 - val_accuracy: 0.6319\n",
      "Epoch 42/500\n",
      "11/11 [==============================] - 0s 3ms/step - loss: 0.6180 - accuracy: 0.6647 - val_loss: 0.6394 - val_accuracy: 0.6541\n",
      "Epoch 43/500\n",
      "11/11 [==============================] - 0s 4ms/step - loss: 0.6198 - accuracy: 0.6625 - val_loss: 0.6386 - val_accuracy: 0.6497\n",
      "Epoch 44/500\n",
      "11/11 [==============================] - 0s 3ms/step - loss: 0.6201 - accuracy: 0.6603 - val_loss: 0.6412 - val_accuracy: 0.6541\n",
      "Epoch 45/500\n",
      "11/11 [==============================] - 0s 3ms/step - loss: 0.6197 - accuracy: 0.6714 - val_loss: 0.6415 - val_accuracy: 0.6475\n",
      "Epoch 46/500\n",
      "11/11 [==============================] - 0s 3ms/step - loss: 0.6190 - accuracy: 0.6662 - val_loss: 0.6375 - val_accuracy: 0.6475\n",
      "Epoch 47/500\n",
      "11/11 [==============================] - 0s 3ms/step - loss: 0.6157 - accuracy: 0.6736 - val_loss: 0.6373 - val_accuracy: 0.6452\n",
      "Epoch 48/500\n",
      "11/11 [==============================] - 0s 4ms/step - loss: 0.6155 - accuracy: 0.6706 - val_loss: 0.6378 - val_accuracy: 0.6319\n",
      "Epoch 49/500\n",
      "11/11 [==============================] - 0s 4ms/step - loss: 0.6149 - accuracy: 0.6662 - val_loss: 0.6364 - val_accuracy: 0.6541\n",
      "Epoch 50/500\n",
      "11/11 [==============================] - 0s 4ms/step - loss: 0.6154 - accuracy: 0.6677 - val_loss: 0.6363 - val_accuracy: 0.6630\n",
      "Epoch 51/500\n",
      "11/11 [==============================] - 0s 6ms/step - loss: 0.6135 - accuracy: 0.6714 - val_loss: 0.6373 - val_accuracy: 0.6430\n",
      "Epoch 52/500\n",
      "11/11 [==============================] - 0s 7ms/step - loss: 0.6138 - accuracy: 0.6736 - val_loss: 0.6356 - val_accuracy: 0.6541\n",
      "Epoch 53/500\n",
      "11/11 [==============================] - 0s 5ms/step - loss: 0.6132 - accuracy: 0.6736 - val_loss: 0.6356 - val_accuracy: 0.6452\n",
      "Epoch 54/500\n",
      "11/11 [==============================] - 0s 4ms/step - loss: 0.6111 - accuracy: 0.6736 - val_loss: 0.6346 - val_accuracy: 0.6608\n",
      "Epoch 55/500\n",
      "11/11 [==============================] - 0s 5ms/step - loss: 0.6173 - accuracy: 0.6536 - val_loss: 0.6353 - val_accuracy: 0.6408\n",
      "Epoch 56/500\n",
      "11/11 [==============================] - 0s 5ms/step - loss: 0.6153 - accuracy: 0.6765 - val_loss: 0.6372 - val_accuracy: 0.6430\n",
      "Epoch 57/500\n",
      "11/11 [==============================] - 0s 6ms/step - loss: 0.6180 - accuracy: 0.6743 - val_loss: 0.6354 - val_accuracy: 0.6696\n",
      "Epoch 58/500\n",
      "11/11 [==============================] - 0s 7ms/step - loss: 0.6118 - accuracy: 0.6765 - val_loss: 0.6337 - val_accuracy: 0.6563\n"
     ]
    },
    {
     "name": "stdout",
     "output_type": "stream",
     "text": [
      "Epoch 59/500\n",
      "11/11 [==============================] - 0s 3ms/step - loss: 0.6107 - accuracy: 0.6721 - val_loss: 0.6365 - val_accuracy: 0.6785\n",
      "Epoch 60/500\n",
      "11/11 [==============================] - 0s 4ms/step - loss: 0.6076 - accuracy: 0.6795 - val_loss: 0.6350 - val_accuracy: 0.6475\n",
      "Epoch 61/500\n",
      "11/11 [==============================] - 0s 4ms/step - loss: 0.6116 - accuracy: 0.6765 - val_loss: 0.6408 - val_accuracy: 0.6630\n",
      "Epoch 62/500\n",
      "11/11 [==============================] - 0s 4ms/step - loss: 0.6110 - accuracy: 0.6728 - val_loss: 0.6315 - val_accuracy: 0.6630\n",
      "Epoch 63/500\n",
      "11/11 [==============================] - 0s 3ms/step - loss: 0.6081 - accuracy: 0.6906 - val_loss: 0.6312 - val_accuracy: 0.6430\n",
      "Epoch 64/500\n",
      "11/11 [==============================] - 0s 4ms/step - loss: 0.6086 - accuracy: 0.6795 - val_loss: 0.6346 - val_accuracy: 0.6763\n",
      "Epoch 65/500\n",
      "11/11 [==============================] - 0s 5ms/step - loss: 0.6092 - accuracy: 0.6817 - val_loss: 0.6347 - val_accuracy: 0.6763\n",
      "Epoch 66/500\n",
      "11/11 [==============================] - 0s 5ms/step - loss: 0.6067 - accuracy: 0.6899 - val_loss: 0.6338 - val_accuracy: 0.6563\n",
      "Epoch 67/500\n",
      "11/11 [==============================] - 0s 5ms/step - loss: 0.6062 - accuracy: 0.6847 - val_loss: 0.6332 - val_accuracy: 0.6741\n",
      "Epoch 68/500\n",
      "11/11 [==============================] - 0s 6ms/step - loss: 0.6049 - accuracy: 0.6832 - val_loss: 0.6313 - val_accuracy: 0.6563\n",
      "Epoch 69/500\n",
      "11/11 [==============================] - 0s 4ms/step - loss: 0.6038 - accuracy: 0.6921 - val_loss: 0.6301 - val_accuracy: 0.6608\n",
      "Epoch 70/500\n",
      "11/11 [==============================] - 0s 6ms/step - loss: 0.6025 - accuracy: 0.6876 - val_loss: 0.6339 - val_accuracy: 0.6585\n",
      "Epoch 71/500\n",
      "11/11 [==============================] - 0s 4ms/step - loss: 0.6090 - accuracy: 0.6751 - val_loss: 0.6336 - val_accuracy: 0.6763\n",
      "Epoch 72/500\n",
      "11/11 [==============================] - 0s 6ms/step - loss: 0.6090 - accuracy: 0.6825 - val_loss: 0.6386 - val_accuracy: 0.6652\n",
      "Epoch 73/500\n",
      "11/11 [==============================] - 0s 5ms/step - loss: 0.6032 - accuracy: 0.6943 - val_loss: 0.6391 - val_accuracy: 0.6364\n",
      "Epoch 74/500\n",
      "11/11 [==============================] - 0s 12ms/step - loss: 0.6070 - accuracy: 0.6684 - val_loss: 0.6359 - val_accuracy: 0.6718\n",
      "Epoch 75/500\n",
      "11/11 [==============================] - 0s 6ms/step - loss: 0.6012 - accuracy: 0.6899 - val_loss: 0.6292 - val_accuracy: 0.6541\n",
      "Epoch 76/500\n",
      "11/11 [==============================] - 0s 4ms/step - loss: 0.6003 - accuracy: 0.6899 - val_loss: 0.6315 - val_accuracy: 0.6696\n",
      "Epoch 77/500\n",
      "11/11 [==============================] - 0s 4ms/step - loss: 0.6000 - accuracy: 0.6847 - val_loss: 0.6293 - val_accuracy: 0.6541\n",
      "Epoch 78/500\n",
      "11/11 [==============================] - 0s 4ms/step - loss: 0.6022 - accuracy: 0.6751 - val_loss: 0.6438 - val_accuracy: 0.6608\n",
      "Epoch 79/500\n",
      "11/11 [==============================] - 0s 3ms/step - loss: 0.6033 - accuracy: 0.6906 - val_loss: 0.6306 - val_accuracy: 0.6497\n",
      "Epoch 80/500\n",
      "11/11 [==============================] - 0s 4ms/step - loss: 0.5996 - accuracy: 0.6906 - val_loss: 0.6283 - val_accuracy: 0.6630\n",
      "Epoch 81/500\n",
      "11/11 [==============================] - 0s 4ms/step - loss: 0.5987 - accuracy: 0.6876 - val_loss: 0.6294 - val_accuracy: 0.6696\n",
      "Epoch 82/500\n",
      "11/11 [==============================] - 0s 5ms/step - loss: 0.5986 - accuracy: 0.6847 - val_loss: 0.6291 - val_accuracy: 0.6652\n",
      "Epoch 83/500\n",
      "11/11 [==============================] - 0s 4ms/step - loss: 0.5970 - accuracy: 0.6862 - val_loss: 0.6365 - val_accuracy: 0.6763\n",
      "Epoch 84/500\n",
      "11/11 [==============================] - 0s 3ms/step - loss: 0.6015 - accuracy: 0.6980 - val_loss: 0.6353 - val_accuracy: 0.6475\n",
      "Epoch 85/500\n",
      "11/11 [==============================] - 0s 3ms/step - loss: 0.5997 - accuracy: 0.6825 - val_loss: 0.6273 - val_accuracy: 0.6608\n",
      "Epoch 86/500\n",
      "11/11 [==============================] - 0s 3ms/step - loss: 0.5977 - accuracy: 0.6847 - val_loss: 0.6290 - val_accuracy: 0.6652\n",
      "Epoch 87/500\n",
      "11/11 [==============================] - 0s 3ms/step - loss: 0.5972 - accuracy: 0.6876 - val_loss: 0.6324 - val_accuracy: 0.6785\n",
      "Epoch 88/500\n",
      "11/11 [==============================] - 0s 4ms/step - loss: 0.5972 - accuracy: 0.6869 - val_loss: 0.6287 - val_accuracy: 0.6674\n",
      "Epoch 89/500\n",
      "11/11 [==============================] - 0s 4ms/step - loss: 0.5956 - accuracy: 0.6899 - val_loss: 0.6299 - val_accuracy: 0.6475\n",
      "Epoch 90/500\n",
      "11/11 [==============================] - 0s 3ms/step - loss: 0.5969 - accuracy: 0.6943 - val_loss: 0.6317 - val_accuracy: 0.6475\n",
      "Epoch 91/500\n",
      "11/11 [==============================] - 0s 4ms/step - loss: 0.5968 - accuracy: 0.6921 - val_loss: 0.6334 - val_accuracy: 0.6829\n",
      "Epoch 92/500\n",
      "11/11 [==============================] - 0s 3ms/step - loss: 0.5963 - accuracy: 0.6921 - val_loss: 0.6316 - val_accuracy: 0.6475\n",
      "Epoch 93/500\n",
      "11/11 [==============================] - 0s 3ms/step - loss: 0.5942 - accuracy: 0.6950 - val_loss: 0.6317 - val_accuracy: 0.6763\n",
      "Epoch 94/500\n",
      "11/11 [==============================] - 0s 3ms/step - loss: 0.5958 - accuracy: 0.6921 - val_loss: 0.6350 - val_accuracy: 0.6741\n",
      "Epoch 95/500\n",
      "11/11 [==============================] - 0s 3ms/step - loss: 0.6014 - accuracy: 0.6810 - val_loss: 0.6259 - val_accuracy: 0.6608\n",
      "Epoch 96/500\n",
      "11/11 [==============================] - 0s 3ms/step - loss: 0.5924 - accuracy: 0.6958 - val_loss: 0.6288 - val_accuracy: 0.6718\n",
      "Epoch 97/500\n",
      "11/11 [==============================] - 0s 3ms/step - loss: 0.5927 - accuracy: 0.6891 - val_loss: 0.6319 - val_accuracy: 0.6785\n",
      "Epoch 98/500\n",
      "11/11 [==============================] - 0s 3ms/step - loss: 0.5919 - accuracy: 0.6936 - val_loss: 0.6279 - val_accuracy: 0.6541\n",
      "Epoch 99/500\n",
      "11/11 [==============================] - 0s 3ms/step - loss: 0.5912 - accuracy: 0.6995 - val_loss: 0.6290 - val_accuracy: 0.6519\n",
      "Epoch 100/500\n",
      "11/11 [==============================] - 0s 3ms/step - loss: 0.5995 - accuracy: 0.6810 - val_loss: 0.6274 - val_accuracy: 0.6718\n",
      "Epoch 101/500\n",
      "11/11 [==============================] - 0s 3ms/step - loss: 0.6001 - accuracy: 0.6721 - val_loss: 0.6361 - val_accuracy: 0.6718\n",
      "Epoch 102/500\n",
      "11/11 [==============================] - 0s 3ms/step - loss: 0.5960 - accuracy: 0.6876 - val_loss: 0.6333 - val_accuracy: 0.6718\n",
      "Epoch 103/500\n",
      "11/11 [==============================] - 0s 3ms/step - loss: 0.5923 - accuracy: 0.6921 - val_loss: 0.6285 - val_accuracy: 0.6519\n",
      "Epoch 104/500\n",
      "11/11 [==============================] - 0s 3ms/step - loss: 0.5921 - accuracy: 0.6950 - val_loss: 0.6275 - val_accuracy: 0.6563\n",
      "Epoch 105/500\n",
      "11/11 [==============================] - 0s 2ms/step - loss: 0.5893 - accuracy: 0.6928 - val_loss: 0.6287 - val_accuracy: 0.6652\n",
      "Epoch 106/500\n",
      "11/11 [==============================] - 0s 3ms/step - loss: 0.5897 - accuracy: 0.6936 - val_loss: 0.6287 - val_accuracy: 0.6563\n",
      "Epoch 107/500\n",
      "11/11 [==============================] - 0s 3ms/step - loss: 0.5879 - accuracy: 0.7010 - val_loss: 0.6303 - val_accuracy: 0.6674\n",
      "Epoch 108/500\n",
      "11/11 [==============================] - 0s 3ms/step - loss: 0.5907 - accuracy: 0.7017 - val_loss: 0.6293 - val_accuracy: 0.6563\n",
      "Epoch 109/500\n",
      "11/11 [==============================] - 0s 2ms/step - loss: 0.5877 - accuracy: 0.6906 - val_loss: 0.6280 - val_accuracy: 0.6674\n",
      "Epoch 110/500\n",
      "11/11 [==============================] - 0s 3ms/step - loss: 0.5879 - accuracy: 0.6980 - val_loss: 0.6335 - val_accuracy: 0.6452\n",
      "Epoch 111/500\n",
      "11/11 [==============================] - 0s 3ms/step - loss: 0.5897 - accuracy: 0.6936 - val_loss: 0.6343 - val_accuracy: 0.6696\n",
      "Epoch 112/500\n",
      "11/11 [==============================] - 0s 3ms/step - loss: 0.5865 - accuracy: 0.6950 - val_loss: 0.6339 - val_accuracy: 0.6497\n",
      "Epoch 113/500\n",
      "11/11 [==============================] - 0s 3ms/step - loss: 0.5908 - accuracy: 0.6921 - val_loss: 0.6296 - val_accuracy: 0.6497\n",
      "Epoch 114/500\n",
      "11/11 [==============================] - 0s 6ms/step - loss: 0.5928 - accuracy: 0.6891 - val_loss: 0.6289 - val_accuracy: 0.6696\n",
      "Epoch 115/500\n",
      "11/11 [==============================] - 0s 2ms/step - loss: 0.5900 - accuracy: 0.6869 - val_loss: 0.6363 - val_accuracy: 0.6741\n",
      "Epoch 116/500\n"
     ]
    },
    {
     "name": "stdout",
     "output_type": "stream",
     "text": [
      "11/11 [==============================] - 0s 3ms/step - loss: 0.5902 - accuracy: 0.7017 - val_loss: 0.6285 - val_accuracy: 0.6630\n",
      "Epoch 117/500\n",
      "11/11 [==============================] - 0s 4ms/step - loss: 0.5867 - accuracy: 0.6943 - val_loss: 0.6284 - val_accuracy: 0.6563\n",
      "Epoch 118/500\n",
      "11/11 [==============================] - 0s 3ms/step - loss: 0.5883 - accuracy: 0.6928 - val_loss: 0.6277 - val_accuracy: 0.6652\n",
      "Epoch 119/500\n",
      "11/11 [==============================] - 0s 3ms/step - loss: 0.5847 - accuracy: 0.6973 - val_loss: 0.6291 - val_accuracy: 0.6696\n",
      "Epoch 120/500\n",
      "11/11 [==============================] - 0s 3ms/step - loss: 0.5848 - accuracy: 0.6995 - val_loss: 0.6298 - val_accuracy: 0.6608\n",
      "Epoch 121/500\n",
      "11/11 [==============================] - 0s 3ms/step - loss: 0.5867 - accuracy: 0.6958 - val_loss: 0.6379 - val_accuracy: 0.6341\n",
      "Epoch 122/500\n",
      "11/11 [==============================] - 0s 3ms/step - loss: 0.5896 - accuracy: 0.6876 - val_loss: 0.6282 - val_accuracy: 0.6630\n",
      "Epoch 123/500\n",
      "11/11 [==============================] - 0s 3ms/step - loss: 0.5822 - accuracy: 0.7017 - val_loss: 0.6291 - val_accuracy: 0.6630\n",
      "Epoch 124/500\n",
      "11/11 [==============================] - 0s 3ms/step - loss: 0.5835 - accuracy: 0.6928 - val_loss: 0.6271 - val_accuracy: 0.6608\n",
      "Epoch 125/500\n",
      "11/11 [==============================] - 0s 3ms/step - loss: 0.5831 - accuracy: 0.6928 - val_loss: 0.6263 - val_accuracy: 0.6652\n",
      "Epoch 126/500\n",
      "11/11 [==============================] - 0s 3ms/step - loss: 0.5819 - accuracy: 0.7002 - val_loss: 0.6403 - val_accuracy: 0.6674\n",
      "Epoch 127/500\n",
      "11/11 [==============================] - 0s 3ms/step - loss: 0.5881 - accuracy: 0.6891 - val_loss: 0.6287 - val_accuracy: 0.6652\n",
      "Epoch 128/500\n",
      "11/11 [==============================] - 0s 3ms/step - loss: 0.5810 - accuracy: 0.6980 - val_loss: 0.6357 - val_accuracy: 0.6341\n",
      "Epoch 129/500\n",
      "11/11 [==============================] - 0s 3ms/step - loss: 0.5918 - accuracy: 0.6884 - val_loss: 0.6417 - val_accuracy: 0.6763\n",
      "Epoch 130/500\n",
      "11/11 [==============================] - 0s 3ms/step - loss: 0.5843 - accuracy: 0.6921 - val_loss: 0.6258 - val_accuracy: 0.6763\n",
      "Epoch 131/500\n",
      "11/11 [==============================] - 0s 3ms/step - loss: 0.5840 - accuracy: 0.6980 - val_loss: 0.6386 - val_accuracy: 0.6297\n",
      "Epoch 132/500\n",
      "11/11 [==============================] - 0s 3ms/step - loss: 0.5870 - accuracy: 0.6899 - val_loss: 0.6273 - val_accuracy: 0.6696\n",
      "Epoch 133/500\n",
      "11/11 [==============================] - 0s 3ms/step - loss: 0.5812 - accuracy: 0.7039 - val_loss: 0.6286 - val_accuracy: 0.6718\n",
      "Epoch 134/500\n",
      "11/11 [==============================] - 0s 3ms/step - loss: 0.5832 - accuracy: 0.6950 - val_loss: 0.6340 - val_accuracy: 0.6696\n",
      "Epoch 135/500\n",
      "11/11 [==============================] - 0s 3ms/step - loss: 0.5862 - accuracy: 0.6943 - val_loss: 0.6316 - val_accuracy: 0.6652\n",
      "Epoch 136/500\n",
      "11/11 [==============================] - 0s 3ms/step - loss: 0.5862 - accuracy: 0.6973 - val_loss: 0.6252 - val_accuracy: 0.6674\n",
      "Epoch 137/500\n",
      "11/11 [==============================] - 0s 3ms/step - loss: 0.5813 - accuracy: 0.7047 - val_loss: 0.6313 - val_accuracy: 0.6452\n",
      "Epoch 138/500\n",
      "11/11 [==============================] - 0s 3ms/step - loss: 0.5801 - accuracy: 0.6987 - val_loss: 0.6292 - val_accuracy: 0.6674\n",
      "Epoch 139/500\n",
      "11/11 [==============================] - 0s 3ms/step - loss: 0.5788 - accuracy: 0.6936 - val_loss: 0.6290 - val_accuracy: 0.6696\n",
      "Epoch 140/500\n",
      "11/11 [==============================] - 0s 3ms/step - loss: 0.5784 - accuracy: 0.6980 - val_loss: 0.6274 - val_accuracy: 0.6630\n",
      "Epoch 141/500\n",
      "11/11 [==============================] - 0s 3ms/step - loss: 0.5789 - accuracy: 0.6995 - val_loss: 0.6252 - val_accuracy: 0.6652\n",
      "Epoch 142/500\n",
      "11/11 [==============================] - 0s 3ms/step - loss: 0.5776 - accuracy: 0.6980 - val_loss: 0.6286 - val_accuracy: 0.6563\n",
      "Epoch 143/500\n",
      "11/11 [==============================] - 0s 3ms/step - loss: 0.5792 - accuracy: 0.6980 - val_loss: 0.6264 - val_accuracy: 0.6585\n",
      "Epoch 144/500\n",
      "11/11 [==============================] - 0s 3ms/step - loss: 0.5769 - accuracy: 0.6899 - val_loss: 0.6281 - val_accuracy: 0.6652\n",
      "Epoch 145/500\n",
      "11/11 [==============================] - 0s 3ms/step - loss: 0.5798 - accuracy: 0.6936 - val_loss: 0.6278 - val_accuracy: 0.6630\n",
      "Epoch 146/500\n",
      "11/11 [==============================] - 0s 3ms/step - loss: 0.5773 - accuracy: 0.6973 - val_loss: 0.6337 - val_accuracy: 0.6497\n",
      "Epoch 147/500\n",
      "11/11 [==============================] - 0s 3ms/step - loss: 0.5783 - accuracy: 0.7002 - val_loss: 0.6259 - val_accuracy: 0.6585\n",
      "Epoch 148/500\n",
      "11/11 [==============================] - 0s 3ms/step - loss: 0.5791 - accuracy: 0.6928 - val_loss: 0.6384 - val_accuracy: 0.6785\n",
      "Epoch 149/500\n",
      "11/11 [==============================] - 0s 3ms/step - loss: 0.5823 - accuracy: 0.7024 - val_loss: 0.6263 - val_accuracy: 0.6696\n",
      "Epoch 150/500\n",
      "11/11 [==============================] - 0s 3ms/step - loss: 0.5771 - accuracy: 0.6876 - val_loss: 0.6360 - val_accuracy: 0.6475\n",
      "Epoch 151/500\n",
      "11/11 [==============================] - 0s 3ms/step - loss: 0.5763 - accuracy: 0.6936 - val_loss: 0.6236 - val_accuracy: 0.6696\n",
      "Epoch 152/500\n",
      "11/11 [==============================] - 0s 3ms/step - loss: 0.5760 - accuracy: 0.7002 - val_loss: 0.6265 - val_accuracy: 0.6718\n",
      "Epoch 153/500\n",
      "11/11 [==============================] - 0s 3ms/step - loss: 0.5755 - accuracy: 0.7024 - val_loss: 0.6353 - val_accuracy: 0.6364\n",
      "Epoch 154/500\n",
      "11/11 [==============================] - 0s 3ms/step - loss: 0.5760 - accuracy: 0.7010 - val_loss: 0.6260 - val_accuracy: 0.6652\n",
      "Epoch 155/500\n",
      "11/11 [==============================] - 0s 3ms/step - loss: 0.5756 - accuracy: 0.6899 - val_loss: 0.6330 - val_accuracy: 0.6763\n",
      "Epoch 156/500\n",
      "11/11 [==============================] - 0s 3ms/step - loss: 0.5776 - accuracy: 0.6906 - val_loss: 0.6241 - val_accuracy: 0.6696\n",
      "Epoch 157/500\n",
      "11/11 [==============================] - 0s 3ms/step - loss: 0.5734 - accuracy: 0.7002 - val_loss: 0.6282 - val_accuracy: 0.6608\n",
      "Epoch 158/500\n",
      "11/11 [==============================] - 0s 3ms/step - loss: 0.5733 - accuracy: 0.6928 - val_loss: 0.6295 - val_accuracy: 0.6519\n",
      "Epoch 159/500\n",
      "11/11 [==============================] - 0s 3ms/step - loss: 0.5726 - accuracy: 0.6958 - val_loss: 0.6261 - val_accuracy: 0.6652\n",
      "Epoch 160/500\n",
      "11/11 [==============================] - 0s 3ms/step - loss: 0.5707 - accuracy: 0.7091 - val_loss: 0.6299 - val_accuracy: 0.6585\n",
      "Epoch 161/500\n",
      "11/11 [==============================] - 0s 4ms/step - loss: 0.5718 - accuracy: 0.7039 - val_loss: 0.6316 - val_accuracy: 0.6475\n",
      "Epoch 162/500\n",
      "11/11 [==============================] - 0s 3ms/step - loss: 0.5720 - accuracy: 0.7010 - val_loss: 0.6225 - val_accuracy: 0.6696\n",
      "Epoch 163/500\n",
      "11/11 [==============================] - 0s 3ms/step - loss: 0.5750 - accuracy: 0.7017 - val_loss: 0.6242 - val_accuracy: 0.6585\n",
      "Epoch 164/500\n",
      "11/11 [==============================] - 0s 3ms/step - loss: 0.5710 - accuracy: 0.7113 - val_loss: 0.6428 - val_accuracy: 0.6386\n",
      "Epoch 165/500\n",
      "11/11 [==============================] - 0s 3ms/step - loss: 0.5799 - accuracy: 0.6958 - val_loss: 0.6247 - val_accuracy: 0.6763\n",
      "Epoch 166/500\n",
      "11/11 [==============================] - 0s 3ms/step - loss: 0.5707 - accuracy: 0.7054 - val_loss: 0.6336 - val_accuracy: 0.6652\n",
      "Epoch 167/500\n",
      "11/11 [==============================] - 0s 3ms/step - loss: 0.5713 - accuracy: 0.6958 - val_loss: 0.6266 - val_accuracy: 0.6519\n",
      "Epoch 168/500\n",
      "11/11 [==============================] - 0s 3ms/step - loss: 0.5712 - accuracy: 0.7069 - val_loss: 0.6219 - val_accuracy: 0.6674\n",
      "Epoch 169/500\n",
      "11/11 [==============================] - 0s 3ms/step - loss: 0.5726 - accuracy: 0.6987 - val_loss: 0.6252 - val_accuracy: 0.6763\n",
      "Epoch 170/500\n",
      "11/11 [==============================] - 0s 2ms/step - loss: 0.5717 - accuracy: 0.6943 - val_loss: 0.6257 - val_accuracy: 0.6563\n",
      "Epoch 171/500\n",
      "11/11 [==============================] - 0s 3ms/step - loss: 0.5702 - accuracy: 0.7010 - val_loss: 0.6268 - val_accuracy: 0.6585\n",
      "Epoch 172/500\n",
      "11/11 [==============================] - 0s 3ms/step - loss: 0.5683 - accuracy: 0.7032 - val_loss: 0.6220 - val_accuracy: 0.6674\n",
      "Epoch 173/500\n"
     ]
    },
    {
     "name": "stdout",
     "output_type": "stream",
     "text": [
      "11/11 [==============================] - 0s 2ms/step - loss: 0.5676 - accuracy: 0.7002 - val_loss: 0.6268 - val_accuracy: 0.6608\n",
      "Epoch 174/500\n",
      "11/11 [==============================] - 0s 3ms/step - loss: 0.5687 - accuracy: 0.6973 - val_loss: 0.6246 - val_accuracy: 0.6696\n",
      "Epoch 175/500\n",
      "11/11 [==============================] - 0s 3ms/step - loss: 0.5688 - accuracy: 0.7039 - val_loss: 0.6309 - val_accuracy: 0.6785\n",
      "Epoch 176/500\n",
      "11/11 [==============================] - 0s 3ms/step - loss: 0.5738 - accuracy: 0.7002 - val_loss: 0.6236 - val_accuracy: 0.6652\n",
      "Epoch 177/500\n",
      "11/11 [==============================] - 0s 3ms/step - loss: 0.5700 - accuracy: 0.7010 - val_loss: 0.6262 - val_accuracy: 0.6497\n",
      "Epoch 178/500\n",
      "11/11 [==============================] - 0s 3ms/step - loss: 0.5684 - accuracy: 0.6987 - val_loss: 0.6278 - val_accuracy: 0.6519\n",
      "Epoch 179/500\n",
      "11/11 [==============================] - 0s 4ms/step - loss: 0.5770 - accuracy: 0.7106 - val_loss: 0.6237 - val_accuracy: 0.6763\n",
      "Epoch 180/500\n",
      "11/11 [==============================] - 0s 3ms/step - loss: 0.5667 - accuracy: 0.7106 - val_loss: 0.6232 - val_accuracy: 0.6674\n",
      "Epoch 181/500\n",
      "11/11 [==============================] - 0s 3ms/step - loss: 0.5652 - accuracy: 0.7017 - val_loss: 0.6242 - val_accuracy: 0.6608\n",
      "Epoch 182/500\n",
      "11/11 [==============================] - 0s 3ms/step - loss: 0.5649 - accuracy: 0.7017 - val_loss: 0.6236 - val_accuracy: 0.6696\n",
      "Epoch 183/500\n",
      "11/11 [==============================] - 0s 3ms/step - loss: 0.5658 - accuracy: 0.7047 - val_loss: 0.6253 - val_accuracy: 0.6630\n",
      "Epoch 184/500\n",
      "11/11 [==============================] - 0s 3ms/step - loss: 0.5651 - accuracy: 0.7039 - val_loss: 0.6222 - val_accuracy: 0.6541\n",
      "Epoch 185/500\n",
      "11/11 [==============================] - 0s 3ms/step - loss: 0.5720 - accuracy: 0.7002 - val_loss: 0.6231 - val_accuracy: 0.6563\n",
      "Epoch 186/500\n",
      "11/11 [==============================] - 0s 3ms/step - loss: 0.5654 - accuracy: 0.7084 - val_loss: 0.6308 - val_accuracy: 0.6519\n",
      "Epoch 187/500\n",
      "11/11 [==============================] - 0s 3ms/step - loss: 0.5664 - accuracy: 0.7010 - val_loss: 0.6216 - val_accuracy: 0.6696\n",
      "Epoch 188/500\n",
      "11/11 [==============================] - 0s 3ms/step - loss: 0.5628 - accuracy: 0.7091 - val_loss: 0.6257 - val_accuracy: 0.6585\n",
      "Epoch 189/500\n",
      "11/11 [==============================] - 0s 3ms/step - loss: 0.5619 - accuracy: 0.7017 - val_loss: 0.6209 - val_accuracy: 0.6630\n",
      "Epoch 190/500\n",
      "11/11 [==============================] - 0s 3ms/step - loss: 0.5629 - accuracy: 0.7054 - val_loss: 0.6205 - val_accuracy: 0.6696\n",
      "Epoch 191/500\n",
      "11/11 [==============================] - 0s 3ms/step - loss: 0.5625 - accuracy: 0.7061 - val_loss: 0.6259 - val_accuracy: 0.6630\n",
      "Epoch 192/500\n",
      "11/11 [==============================] - 0s 3ms/step - loss: 0.5610 - accuracy: 0.7165 - val_loss: 0.6201 - val_accuracy: 0.6718\n",
      "Epoch 193/500\n",
      "11/11 [==============================] - 0s 3ms/step - loss: 0.5609 - accuracy: 0.7024 - val_loss: 0.6260 - val_accuracy: 0.6563\n",
      "Epoch 194/500\n",
      "11/11 [==============================] - 0s 3ms/step - loss: 0.5618 - accuracy: 0.7047 - val_loss: 0.6202 - val_accuracy: 0.6696\n",
      "Epoch 195/500\n",
      "11/11 [==============================] - 0s 3ms/step - loss: 0.5652 - accuracy: 0.6987 - val_loss: 0.6417 - val_accuracy: 0.6652\n",
      "Epoch 196/500\n",
      "11/11 [==============================] - 0s 3ms/step - loss: 0.5664 - accuracy: 0.7061 - val_loss: 0.6228 - val_accuracy: 0.6563\n",
      "Epoch 197/500\n",
      "11/11 [==============================] - 0s 3ms/step - loss: 0.5607 - accuracy: 0.7010 - val_loss: 0.6237 - val_accuracy: 0.6519\n",
      "Epoch 198/500\n",
      "11/11 [==============================] - 0s 3ms/step - loss: 0.5622 - accuracy: 0.7106 - val_loss: 0.6208 - val_accuracy: 0.6563\n",
      "Epoch 199/500\n",
      "11/11 [==============================] - 0s 3ms/step - loss: 0.5591 - accuracy: 0.7121 - val_loss: 0.6249 - val_accuracy: 0.6630\n",
      "Epoch 200/500\n",
      "11/11 [==============================] - 0s 3ms/step - loss: 0.5616 - accuracy: 0.7032 - val_loss: 0.6267 - val_accuracy: 0.6696\n",
      "Epoch 201/500\n",
      "11/11 [==============================] - 0s 3ms/step - loss: 0.5687 - accuracy: 0.6995 - val_loss: 0.6267 - val_accuracy: 0.6519\n",
      "Epoch 202/500\n",
      "11/11 [==============================] - 0s 3ms/step - loss: 0.5641 - accuracy: 0.7017 - val_loss: 0.6280 - val_accuracy: 0.6608\n",
      "Epoch 203/500\n",
      "11/11 [==============================] - 0s 3ms/step - loss: 0.5595 - accuracy: 0.7098 - val_loss: 0.6241 - val_accuracy: 0.6541\n",
      "Epoch 204/500\n",
      "11/11 [==============================] - 0s 3ms/step - loss: 0.5600 - accuracy: 0.7106 - val_loss: 0.6197 - val_accuracy: 0.6585\n",
      "Epoch 205/500\n",
      "11/11 [==============================] - 0s 3ms/step - loss: 0.5578 - accuracy: 0.7098 - val_loss: 0.6217 - val_accuracy: 0.6652\n",
      "Epoch 206/500\n",
      "11/11 [==============================] - 0s 3ms/step - loss: 0.5562 - accuracy: 0.7106 - val_loss: 0.6248 - val_accuracy: 0.6674\n",
      "Epoch 207/500\n",
      "11/11 [==============================] - 0s 3ms/step - loss: 0.5626 - accuracy: 0.7091 - val_loss: 0.6185 - val_accuracy: 0.6674\n",
      "Epoch 208/500\n",
      "11/11 [==============================] - 0s 3ms/step - loss: 0.5572 - accuracy: 0.7106 - val_loss: 0.6275 - val_accuracy: 0.6585\n",
      "Epoch 209/500\n",
      "11/11 [==============================] - 0s 3ms/step - loss: 0.5590 - accuracy: 0.7135 - val_loss: 0.6234 - val_accuracy: 0.6608\n",
      "Epoch 210/500\n",
      "11/11 [==============================] - 0s 3ms/step - loss: 0.5564 - accuracy: 0.7224 - val_loss: 0.6176 - val_accuracy: 0.6674\n",
      "Epoch 211/500\n",
      "11/11 [==============================] - 0s 3ms/step - loss: 0.5555 - accuracy: 0.7121 - val_loss: 0.6211 - val_accuracy: 0.6585\n",
      "Epoch 212/500\n",
      "11/11 [==============================] - 0s 3ms/step - loss: 0.5559 - accuracy: 0.7098 - val_loss: 0.6368 - val_accuracy: 0.6718\n",
      "Epoch 213/500\n",
      "11/11 [==============================] - 0s 3ms/step - loss: 0.5695 - accuracy: 0.6973 - val_loss: 0.6182 - val_accuracy: 0.6741\n",
      "Epoch 214/500\n",
      "11/11 [==============================] - 0s 2ms/step - loss: 0.5690 - accuracy: 0.7047 - val_loss: 0.6310 - val_accuracy: 0.6452\n",
      "Epoch 215/500\n",
      "11/11 [==============================] - 0s 3ms/step - loss: 0.5626 - accuracy: 0.7039 - val_loss: 0.6419 - val_accuracy: 0.6386\n",
      "Epoch 216/500\n",
      "11/11 [==============================] - 0s 3ms/step - loss: 0.5637 - accuracy: 0.7054 - val_loss: 0.6173 - val_accuracy: 0.6652\n",
      "Epoch 217/500\n",
      "11/11 [==============================] - 0s 3ms/step - loss: 0.5551 - accuracy: 0.7128 - val_loss: 0.6153 - val_accuracy: 0.6674\n",
      "Epoch 218/500\n",
      "11/11 [==============================] - 0s 3ms/step - loss: 0.5540 - accuracy: 0.7113 - val_loss: 0.6189 - val_accuracy: 0.6696\n",
      "Epoch 219/500\n",
      "11/11 [==============================] - 0s 3ms/step - loss: 0.5553 - accuracy: 0.7084 - val_loss: 0.6252 - val_accuracy: 0.6608\n",
      "Epoch 220/500\n",
      "11/11 [==============================] - 0s 3ms/step - loss: 0.5552 - accuracy: 0.7076 - val_loss: 0.6189 - val_accuracy: 0.6652\n",
      "Epoch 221/500\n",
      "11/11 [==============================] - 0s 3ms/step - loss: 0.5563 - accuracy: 0.7143 - val_loss: 0.6196 - val_accuracy: 0.6674\n",
      "Epoch 222/500\n",
      "11/11 [==============================] - 0s 3ms/step - loss: 0.5545 - accuracy: 0.7143 - val_loss: 0.6256 - val_accuracy: 0.6519\n",
      "Epoch 223/500\n",
      "11/11 [==============================] - 0s 3ms/step - loss: 0.5596 - accuracy: 0.7091 - val_loss: 0.6184 - val_accuracy: 0.6630\n",
      "Epoch 224/500\n",
      "11/11 [==============================] - 0s 3ms/step - loss: 0.5526 - accuracy: 0.7209 - val_loss: 0.6175 - val_accuracy: 0.6652\n",
      "Epoch 225/500\n",
      "11/11 [==============================] - 0s 4ms/step - loss: 0.5508 - accuracy: 0.7195 - val_loss: 0.6223 - val_accuracy: 0.6563\n",
      "Epoch 226/500\n",
      "11/11 [==============================] - 0s 3ms/step - loss: 0.5546 - accuracy: 0.7098 - val_loss: 0.6203 - val_accuracy: 0.6718\n",
      "Epoch 227/500\n",
      "11/11 [==============================] - 0s 3ms/step - loss: 0.5525 - accuracy: 0.7209 - val_loss: 0.6160 - val_accuracy: 0.6741\n",
      "Epoch 228/500\n",
      "11/11 [==============================] - 0s 4ms/step - loss: 0.5521 - accuracy: 0.7047 - val_loss: 0.6210 - val_accuracy: 0.6741\n",
      "Epoch 229/500\n",
      "11/11 [==============================] - 0s 3ms/step - loss: 0.5515 - accuracy: 0.7180 - val_loss: 0.6244 - val_accuracy: 0.6497\n",
      "Epoch 230/500\n"
     ]
    },
    {
     "name": "stdout",
     "output_type": "stream",
     "text": [
      "11/11 [==============================] - 0s 5ms/step - loss: 0.5514 - accuracy: 0.7165 - val_loss: 0.6172 - val_accuracy: 0.6741\n",
      "Epoch 231/500\n",
      "11/11 [==============================] - 0s 9ms/step - loss: 0.5505 - accuracy: 0.7135 - val_loss: 0.6240 - val_accuracy: 0.6608\n",
      "Epoch 232/500\n",
      "11/11 [==============================] - 0s 5ms/step - loss: 0.5528 - accuracy: 0.7106 - val_loss: 0.6173 - val_accuracy: 0.6696\n",
      "Epoch 233/500\n",
      "11/11 [==============================] - 0s 3ms/step - loss: 0.5518 - accuracy: 0.7172 - val_loss: 0.6182 - val_accuracy: 0.6785\n",
      "Epoch 234/500\n",
      "11/11 [==============================] - 0s 3ms/step - loss: 0.5561 - accuracy: 0.7091 - val_loss: 0.6139 - val_accuracy: 0.6741\n",
      "Epoch 235/500\n",
      "11/11 [==============================] - 0s 3ms/step - loss: 0.5575 - accuracy: 0.7143 - val_loss: 0.6246 - val_accuracy: 0.6785\n",
      "Epoch 236/500\n",
      "11/11 [==============================] - 0s 3ms/step - loss: 0.5545 - accuracy: 0.7121 - val_loss: 0.6211 - val_accuracy: 0.6718\n",
      "Epoch 237/500\n",
      "11/11 [==============================] - 0s 3ms/step - loss: 0.5494 - accuracy: 0.7209 - val_loss: 0.6254 - val_accuracy: 0.6585\n",
      "Epoch 238/500\n",
      "11/11 [==============================] - 0s 3ms/step - loss: 0.5544 - accuracy: 0.7165 - val_loss: 0.6199 - val_accuracy: 0.6563\n",
      "Epoch 239/500\n",
      "11/11 [==============================] - 0s 3ms/step - loss: 0.5511 - accuracy: 0.7143 - val_loss: 0.6313 - val_accuracy: 0.6519\n",
      "Epoch 240/500\n",
      "11/11 [==============================] - 0s 3ms/step - loss: 0.5570 - accuracy: 0.7106 - val_loss: 0.6202 - val_accuracy: 0.6674\n",
      "Epoch 241/500\n",
      "11/11 [==============================] - 0s 3ms/step - loss: 0.5518 - accuracy: 0.7135 - val_loss: 0.6248 - val_accuracy: 0.6785\n",
      "Epoch 242/500\n",
      "11/11 [==============================] - 0s 3ms/step - loss: 0.5641 - accuracy: 0.6965 - val_loss: 0.6185 - val_accuracy: 0.6652\n",
      "Epoch 243/500\n",
      "11/11 [==============================] - 0s 3ms/step - loss: 0.5601 - accuracy: 0.7032 - val_loss: 0.6184 - val_accuracy: 0.6674\n",
      "Epoch 244/500\n",
      "11/11 [==============================] - 0s 3ms/step - loss: 0.5475 - accuracy: 0.7239 - val_loss: 0.6237 - val_accuracy: 0.6608\n",
      "Epoch 245/500\n",
      "11/11 [==============================] - 0s 3ms/step - loss: 0.5502 - accuracy: 0.7121 - val_loss: 0.6161 - val_accuracy: 0.6674\n",
      "Epoch 246/500\n",
      "11/11 [==============================] - 0s 3ms/step - loss: 0.5530 - accuracy: 0.7165 - val_loss: 0.6161 - val_accuracy: 0.6608\n",
      "Epoch 247/500\n",
      "11/11 [==============================] - 0s 3ms/step - loss: 0.5475 - accuracy: 0.7143 - val_loss: 0.6152 - val_accuracy: 0.6674\n",
      "Epoch 248/500\n",
      "11/11 [==============================] - 0s 3ms/step - loss: 0.5483 - accuracy: 0.7283 - val_loss: 0.6154 - val_accuracy: 0.6741\n",
      "Epoch 249/500\n",
      "11/11 [==============================] - 0s 3ms/step - loss: 0.5455 - accuracy: 0.7180 - val_loss: 0.6132 - val_accuracy: 0.6741\n",
      "Epoch 250/500\n",
      "11/11 [==============================] - 0s 3ms/step - loss: 0.5460 - accuracy: 0.7261 - val_loss: 0.6188 - val_accuracy: 0.6718\n",
      "Epoch 251/500\n",
      "11/11 [==============================] - 0s 3ms/step - loss: 0.5442 - accuracy: 0.7269 - val_loss: 0.6198 - val_accuracy: 0.6763\n",
      "Epoch 252/500\n",
      "11/11 [==============================] - 0s 3ms/step - loss: 0.5550 - accuracy: 0.7121 - val_loss: 0.6274 - val_accuracy: 0.6519\n",
      "Epoch 253/500\n",
      "11/11 [==============================] - 0s 3ms/step - loss: 0.5488 - accuracy: 0.7202 - val_loss: 0.6237 - val_accuracy: 0.6585\n",
      "Epoch 254/500\n",
      "11/11 [==============================] - 0s 3ms/step - loss: 0.5490 - accuracy: 0.7202 - val_loss: 0.6225 - val_accuracy: 0.6718\n",
      "Epoch 255/500\n",
      "11/11 [==============================] - 0s 4ms/step - loss: 0.5450 - accuracy: 0.7128 - val_loss: 0.6155 - val_accuracy: 0.6785\n",
      "Epoch 256/500\n",
      "11/11 [==============================] - 0s 3ms/step - loss: 0.5465 - accuracy: 0.7202 - val_loss: 0.6135 - val_accuracy: 0.6718\n",
      "Epoch 257/500\n",
      "11/11 [==============================] - 0s 5ms/step - loss: 0.5461 - accuracy: 0.7283 - val_loss: 0.6328 - val_accuracy: 0.6497\n",
      "Epoch 258/500\n",
      "11/11 [==============================] - 0s 5ms/step - loss: 0.5547 - accuracy: 0.7024 - val_loss: 0.6276 - val_accuracy: 0.6608\n",
      "Epoch 259/500\n",
      "11/11 [==============================] - 0s 2ms/step - loss: 0.5522 - accuracy: 0.7165 - val_loss: 0.6209 - val_accuracy: 0.6652\n",
      "Epoch 260/500\n",
      "11/11 [==============================] - 0s 3ms/step - loss: 0.5447 - accuracy: 0.7246 - val_loss: 0.6137 - val_accuracy: 0.6674\n",
      "Epoch 261/500\n",
      "11/11 [==============================] - 0s 3ms/step - loss: 0.5475 - accuracy: 0.7084 - val_loss: 0.6269 - val_accuracy: 0.6807\n",
      "Epoch 262/500\n",
      "11/11 [==============================] - 0s 3ms/step - loss: 0.5495 - accuracy: 0.7128 - val_loss: 0.6166 - val_accuracy: 0.6674\n",
      "Epoch 263/500\n",
      "11/11 [==============================] - 0s 3ms/step - loss: 0.5476 - accuracy: 0.7187 - val_loss: 0.6138 - val_accuracy: 0.6718\n",
      "Epoch 264/500\n",
      "11/11 [==============================] - 0s 3ms/step - loss: 0.5420 - accuracy: 0.7283 - val_loss: 0.6131 - val_accuracy: 0.6763\n",
      "Epoch 265/500\n",
      "11/11 [==============================] - 0s 3ms/step - loss: 0.5396 - accuracy: 0.7306 - val_loss: 0.6118 - val_accuracy: 0.6718\n",
      "Epoch 266/500\n",
      "11/11 [==============================] - 0s 4ms/step - loss: 0.5416 - accuracy: 0.7202 - val_loss: 0.6192 - val_accuracy: 0.6741\n",
      "Epoch 267/500\n",
      "11/11 [==============================] - 0s 3ms/step - loss: 0.5431 - accuracy: 0.7158 - val_loss: 0.6112 - val_accuracy: 0.6785\n",
      "Epoch 268/500\n",
      "11/11 [==============================] - 0s 3ms/step - loss: 0.5425 - accuracy: 0.7187 - val_loss: 0.6164 - val_accuracy: 0.6652\n",
      "Epoch 269/500\n",
      "11/11 [==============================] - 0s 4ms/step - loss: 0.5400 - accuracy: 0.7239 - val_loss: 0.6158 - val_accuracy: 0.6763\n",
      "Epoch 270/500\n",
      "11/11 [==============================] - 0s 3ms/step - loss: 0.5435 - accuracy: 0.7195 - val_loss: 0.6196 - val_accuracy: 0.6563\n",
      "Epoch 271/500\n",
      "11/11 [==============================] - 0s 3ms/step - loss: 0.5410 - accuracy: 0.7254 - val_loss: 0.6164 - val_accuracy: 0.6696\n",
      "Epoch 272/500\n",
      "11/11 [==============================] - 0s 3ms/step - loss: 0.5439 - accuracy: 0.7180 - val_loss: 0.6148 - val_accuracy: 0.6652\n",
      "Epoch 273/500\n",
      "11/11 [==============================] - 0s 3ms/step - loss: 0.5410 - accuracy: 0.7261 - val_loss: 0.6146 - val_accuracy: 0.6696\n",
      "Epoch 274/500\n",
      "11/11 [==============================] - 0s 3ms/step - loss: 0.5412 - accuracy: 0.7172 - val_loss: 0.6184 - val_accuracy: 0.6652\n",
      "Epoch 275/500\n",
      "11/11 [==============================] - 0s 3ms/step - loss: 0.5425 - accuracy: 0.7217 - val_loss: 0.6139 - val_accuracy: 0.6763\n",
      "Epoch 276/500\n",
      "11/11 [==============================] - 0s 3ms/step - loss: 0.5396 - accuracy: 0.7187 - val_loss: 0.6129 - val_accuracy: 0.6807\n",
      "Epoch 277/500\n",
      "11/11 [==============================] - 0s 3ms/step - loss: 0.5380 - accuracy: 0.7239 - val_loss: 0.6177 - val_accuracy: 0.6763\n",
      "Epoch 278/500\n",
      "11/11 [==============================] - 0s 3ms/step - loss: 0.5500 - accuracy: 0.7172 - val_loss: 0.6144 - val_accuracy: 0.6674\n",
      "Epoch 279/500\n",
      "11/11 [==============================] - 0s 3ms/step - loss: 0.5381 - accuracy: 0.7246 - val_loss: 0.6138 - val_accuracy: 0.6763\n",
      "Epoch 280/500\n",
      "11/11 [==============================] - 0s 3ms/step - loss: 0.5370 - accuracy: 0.7232 - val_loss: 0.6140 - val_accuracy: 0.6785\n",
      "Epoch 281/500\n",
      "11/11 [==============================] - 0s 3ms/step - loss: 0.5393 - accuracy: 0.7246 - val_loss: 0.6186 - val_accuracy: 0.6630\n",
      "Epoch 282/500\n",
      "11/11 [==============================] - 0s 3ms/step - loss: 0.5373 - accuracy: 0.7261 - val_loss: 0.6098 - val_accuracy: 0.6807\n",
      "Epoch 283/500\n",
      "11/11 [==============================] - 0s 3ms/step - loss: 0.5353 - accuracy: 0.7298 - val_loss: 0.6129 - val_accuracy: 0.6674\n",
      "Epoch 284/500\n",
      "11/11 [==============================] - 0s 3ms/step - loss: 0.5346 - accuracy: 0.7283 - val_loss: 0.6113 - val_accuracy: 0.6785\n",
      "Epoch 285/500\n",
      "11/11 [==============================] - 0s 2ms/step - loss: 0.5417 - accuracy: 0.7276 - val_loss: 0.6345 - val_accuracy: 0.6364\n",
      "Epoch 286/500\n",
      "11/11 [==============================] - 0s 3ms/step - loss: 0.5400 - accuracy: 0.7187 - val_loss: 0.6121 - val_accuracy: 0.6918\n",
      "Epoch 287/500\n"
     ]
    },
    {
     "name": "stdout",
     "output_type": "stream",
     "text": [
      "11/11 [==============================] - 0s 3ms/step - loss: 0.5330 - accuracy: 0.7291 - val_loss: 0.6243 - val_accuracy: 0.6475\n",
      "Epoch 288/500\n",
      "11/11 [==============================] - 0s 3ms/step - loss: 0.5388 - accuracy: 0.7195 - val_loss: 0.6121 - val_accuracy: 0.6785\n",
      "Epoch 289/500\n",
      "11/11 [==============================] - 0s 3ms/step - loss: 0.5332 - accuracy: 0.7298 - val_loss: 0.6135 - val_accuracy: 0.6696\n",
      "Epoch 290/500\n",
      "11/11 [==============================] - 0s 3ms/step - loss: 0.5397 - accuracy: 0.7172 - val_loss: 0.6124 - val_accuracy: 0.6763\n",
      "Epoch 291/500\n",
      "11/11 [==============================] - 0s 2ms/step - loss: 0.5337 - accuracy: 0.7313 - val_loss: 0.6202 - val_accuracy: 0.6541\n",
      "Epoch 292/500\n",
      "11/11 [==============================] - 0s 3ms/step - loss: 0.5397 - accuracy: 0.7298 - val_loss: 0.6110 - val_accuracy: 0.6785\n",
      "Epoch 293/500\n",
      "11/11 [==============================] - 0s 3ms/step - loss: 0.5480 - accuracy: 0.7128 - val_loss: 0.6184 - val_accuracy: 0.6763\n",
      "Epoch 294/500\n",
      "11/11 [==============================] - 0s 3ms/step - loss: 0.5320 - accuracy: 0.7254 - val_loss: 0.6110 - val_accuracy: 0.6785\n",
      "Epoch 295/500\n",
      "11/11 [==============================] - 0s 3ms/step - loss: 0.5374 - accuracy: 0.7269 - val_loss: 0.6130 - val_accuracy: 0.6807\n",
      "Epoch 296/500\n",
      "11/11 [==============================] - 0s 3ms/step - loss: 0.5312 - accuracy: 0.7165 - val_loss: 0.6261 - val_accuracy: 0.6696\n",
      "Epoch 297/500\n",
      "11/11 [==============================] - 0s 3ms/step - loss: 0.5397 - accuracy: 0.7239 - val_loss: 0.6149 - val_accuracy: 0.6585\n",
      "Epoch 298/500\n",
      "11/11 [==============================] - 0s 3ms/step - loss: 0.5341 - accuracy: 0.7269 - val_loss: 0.6316 - val_accuracy: 0.6430\n",
      "Epoch 299/500\n",
      "11/11 [==============================] - 0s 3ms/step - loss: 0.5425 - accuracy: 0.7158 - val_loss: 0.6158 - val_accuracy: 0.6851\n",
      "Epoch 300/500\n",
      "11/11 [==============================] - 0s 3ms/step - loss: 0.5410 - accuracy: 0.7165 - val_loss: 0.6242 - val_accuracy: 0.6696\n",
      "Epoch 301/500\n",
      "11/11 [==============================] - 0s 3ms/step - loss: 0.5367 - accuracy: 0.7276 - val_loss: 0.6103 - val_accuracy: 0.6718\n",
      "Epoch 302/500\n",
      "11/11 [==============================] - 0s 3ms/step - loss: 0.5331 - accuracy: 0.7387 - val_loss: 0.6111 - val_accuracy: 0.6785\n",
      "Epoch 303/500\n",
      "11/11 [==============================] - 0s 3ms/step - loss: 0.5306 - accuracy: 0.7291 - val_loss: 0.6094 - val_accuracy: 0.6741\n",
      "Epoch 304/500\n",
      "11/11 [==============================] - 0s 3ms/step - loss: 0.5305 - accuracy: 0.7328 - val_loss: 0.6128 - val_accuracy: 0.6807\n",
      "Epoch 305/500\n",
      "11/11 [==============================] - 0s 3ms/step - loss: 0.5313 - accuracy: 0.7350 - val_loss: 0.6197 - val_accuracy: 0.6696\n",
      "Epoch 306/500\n",
      "11/11 [==============================] - 0s 3ms/step - loss: 0.5373 - accuracy: 0.7261 - val_loss: 0.6130 - val_accuracy: 0.6829\n",
      "Epoch 307/500\n",
      "11/11 [==============================] - 0s 3ms/step - loss: 0.5319 - accuracy: 0.7283 - val_loss: 0.6101 - val_accuracy: 0.6807\n",
      "Epoch 308/500\n",
      "11/11 [==============================] - 0s 3ms/step - loss: 0.5289 - accuracy: 0.7350 - val_loss: 0.6144 - val_accuracy: 0.6563\n",
      "Epoch 309/500\n",
      "11/11 [==============================] - 0s 3ms/step - loss: 0.5282 - accuracy: 0.7365 - val_loss: 0.6146 - val_accuracy: 0.6741\n",
      "Epoch 310/500\n",
      "11/11 [==============================] - 0s 3ms/step - loss: 0.5294 - accuracy: 0.7380 - val_loss: 0.6118 - val_accuracy: 0.6718\n",
      "Epoch 311/500\n",
      "11/11 [==============================] - 0s 4ms/step - loss: 0.5272 - accuracy: 0.7365 - val_loss: 0.6096 - val_accuracy: 0.6696\n",
      "Epoch 312/500\n",
      "11/11 [==============================] - 0s 3ms/step - loss: 0.5275 - accuracy: 0.7372 - val_loss: 0.6145 - val_accuracy: 0.6608\n",
      "Epoch 313/500\n",
      "11/11 [==============================] - 0s 3ms/step - loss: 0.5281 - accuracy: 0.7365 - val_loss: 0.6130 - val_accuracy: 0.6807\n",
      "Epoch 314/500\n",
      "11/11 [==============================] - 0s 3ms/step - loss: 0.5284 - accuracy: 0.7276 - val_loss: 0.6173 - val_accuracy: 0.6829\n",
      "Epoch 315/500\n",
      "11/11 [==============================] - 0s 3ms/step - loss: 0.5321 - accuracy: 0.7246 - val_loss: 0.6128 - val_accuracy: 0.6874\n",
      "Epoch 316/500\n",
      "11/11 [==============================] - 0s 3ms/step - loss: 0.5308 - accuracy: 0.7328 - val_loss: 0.6226 - val_accuracy: 0.6497\n",
      "Epoch 317/500\n",
      "11/11 [==============================] - 0s 3ms/step - loss: 0.5306 - accuracy: 0.7239 - val_loss: 0.6181 - val_accuracy: 0.6519\n",
      "Epoch 318/500\n",
      "11/11 [==============================] - 0s 3ms/step - loss: 0.5303 - accuracy: 0.7224 - val_loss: 0.6281 - val_accuracy: 0.6696\n",
      "Epoch 319/500\n",
      "11/11 [==============================] - 0s 3ms/step - loss: 0.5302 - accuracy: 0.7335 - val_loss: 0.6080 - val_accuracy: 0.6851\n",
      "Epoch 320/500\n",
      "11/11 [==============================] - 0s 3ms/step - loss: 0.5264 - accuracy: 0.7298 - val_loss: 0.6163 - val_accuracy: 0.6741\n",
      "Epoch 321/500\n",
      "11/11 [==============================] - 0s 3ms/step - loss: 0.5266 - accuracy: 0.7343 - val_loss: 0.6130 - val_accuracy: 0.6785\n",
      "Epoch 322/500\n",
      "11/11 [==============================] - 0s 5ms/step - loss: 0.5245 - accuracy: 0.7387 - val_loss: 0.6126 - val_accuracy: 0.6696\n",
      "Epoch 323/500\n",
      "11/11 [==============================] - 0s 3ms/step - loss: 0.5268 - accuracy: 0.7409 - val_loss: 0.6192 - val_accuracy: 0.6430\n",
      "Epoch 324/500\n",
      "11/11 [==============================] - 0s 3ms/step - loss: 0.5252 - accuracy: 0.7350 - val_loss: 0.6109 - val_accuracy: 0.6696\n",
      "Epoch 325/500\n",
      "11/11 [==============================] - 0s 3ms/step - loss: 0.5256 - accuracy: 0.7395 - val_loss: 0.6182 - val_accuracy: 0.6519\n",
      "Epoch 326/500\n",
      "11/11 [==============================] - 0s 3ms/step - loss: 0.5267 - accuracy: 0.7328 - val_loss: 0.6111 - val_accuracy: 0.6807\n",
      "Epoch 327/500\n",
      "11/11 [==============================] - 0s 3ms/step - loss: 0.5338 - accuracy: 0.7224 - val_loss: 0.6181 - val_accuracy: 0.6541\n",
      "Epoch 328/500\n",
      "11/11 [==============================] - 0s 3ms/step - loss: 0.5273 - accuracy: 0.7298 - val_loss: 0.6149 - val_accuracy: 0.6452\n",
      "Epoch 329/500\n",
      "11/11 [==============================] - 0s 3ms/step - loss: 0.5298 - accuracy: 0.7269 - val_loss: 0.6486 - val_accuracy: 0.6386\n",
      "Epoch 330/500\n",
      "11/11 [==============================] - 0s 3ms/step - loss: 0.5354 - accuracy: 0.7217 - val_loss: 0.6155 - val_accuracy: 0.6674\n",
      "Epoch 331/500\n",
      "11/11 [==============================] - 0s 3ms/step - loss: 0.5239 - accuracy: 0.7387 - val_loss: 0.6130 - val_accuracy: 0.6585\n",
      "Epoch 332/500\n",
      "11/11 [==============================] - 0s 3ms/step - loss: 0.5284 - accuracy: 0.7232 - val_loss: 0.6222 - val_accuracy: 0.6741\n",
      "Epoch 333/500\n",
      "11/11 [==============================] - 0s 3ms/step - loss: 0.5253 - accuracy: 0.7372 - val_loss: 0.6114 - val_accuracy: 0.6785\n",
      "Epoch 334/500\n",
      "11/11 [==============================] - 0s 3ms/step - loss: 0.5208 - accuracy: 0.7380 - val_loss: 0.6137 - val_accuracy: 0.6497\n",
      "Epoch 335/500\n",
      "11/11 [==============================] - 0s 3ms/step - loss: 0.5254 - accuracy: 0.7276 - val_loss: 0.6142 - val_accuracy: 0.6652\n",
      "Epoch 336/500\n",
      "11/11 [==============================] - 0s 3ms/step - loss: 0.5268 - accuracy: 0.7328 - val_loss: 0.6165 - val_accuracy: 0.6807\n",
      "Epoch 337/500\n",
      "11/11 [==============================] - 0s 3ms/step - loss: 0.5220 - accuracy: 0.7321 - val_loss: 0.6084 - val_accuracy: 0.6874\n",
      "Epoch 338/500\n",
      "11/11 [==============================] - 0s 3ms/step - loss: 0.5265 - accuracy: 0.7402 - val_loss: 0.6140 - val_accuracy: 0.6785\n",
      "Epoch 339/500\n",
      "11/11 [==============================] - 0s 4ms/step - loss: 0.5367 - accuracy: 0.7261 - val_loss: 0.6104 - val_accuracy: 0.6741\n",
      "Epoch 340/500\n",
      "11/11 [==============================] - 0s 3ms/step - loss: 0.5245 - accuracy: 0.7358 - val_loss: 0.6186 - val_accuracy: 0.6475\n",
      "Epoch 341/500\n",
      "11/11 [==============================] - 0s 3ms/step - loss: 0.5215 - accuracy: 0.7372 - val_loss: 0.6169 - val_accuracy: 0.6519\n",
      "Epoch 342/500\n",
      "11/11 [==============================] - 0s 4ms/step - loss: 0.5329 - accuracy: 0.7202 - val_loss: 0.6119 - val_accuracy: 0.6785\n",
      "Epoch 343/500\n",
      "11/11 [==============================] - 0s 6ms/step - loss: 0.5304 - accuracy: 0.7195 - val_loss: 0.6171 - val_accuracy: 0.6763\n",
      "Epoch 344/500\n"
     ]
    },
    {
     "name": "stdout",
     "output_type": "stream",
     "text": [
      "11/11 [==============================] - 0s 4ms/step - loss: 0.5181 - accuracy: 0.7454 - val_loss: 0.6104 - val_accuracy: 0.6674\n",
      "Epoch 345/500\n",
      "11/11 [==============================] - 0s 3ms/step - loss: 0.5174 - accuracy: 0.7365 - val_loss: 0.6199 - val_accuracy: 0.6718\n",
      "Epoch 346/500\n",
      "11/11 [==============================] - 0s 3ms/step - loss: 0.5201 - accuracy: 0.7306 - val_loss: 0.6118 - val_accuracy: 0.6718\n",
      "Epoch 347/500\n",
      "11/11 [==============================] - 0s 3ms/step - loss: 0.5211 - accuracy: 0.7424 - val_loss: 0.6123 - val_accuracy: 0.6630\n",
      "Epoch 348/500\n",
      "11/11 [==============================] - 0s 4ms/step - loss: 0.5221 - accuracy: 0.7395 - val_loss: 0.6146 - val_accuracy: 0.6585\n",
      "Epoch 349/500\n",
      "11/11 [==============================] - 0s 3ms/step - loss: 0.5173 - accuracy: 0.7372 - val_loss: 0.6105 - val_accuracy: 0.6829\n",
      "Epoch 350/500\n",
      "11/11 [==============================] - 0s 3ms/step - loss: 0.5179 - accuracy: 0.7424 - val_loss: 0.6151 - val_accuracy: 0.6497\n",
      "Epoch 351/500\n",
      "11/11 [==============================] - 0s 3ms/step - loss: 0.5214 - accuracy: 0.7402 - val_loss: 0.6127 - val_accuracy: 0.6608\n",
      "Epoch 352/500\n",
      "11/11 [==============================] - 0s 3ms/step - loss: 0.5187 - accuracy: 0.7321 - val_loss: 0.6116 - val_accuracy: 0.6696\n",
      "Epoch 353/500\n",
      "11/11 [==============================] - 0s 3ms/step - loss: 0.5191 - accuracy: 0.7365 - val_loss: 0.6124 - val_accuracy: 0.6608\n",
      "Epoch 354/500\n",
      "11/11 [==============================] - 0s 4ms/step - loss: 0.5187 - accuracy: 0.7365 - val_loss: 0.6163 - val_accuracy: 0.6475\n",
      "Epoch 355/500\n",
      "11/11 [==============================] - 0s 3ms/step - loss: 0.5191 - accuracy: 0.7269 - val_loss: 0.6098 - val_accuracy: 0.6674\n",
      "Epoch 356/500\n",
      "11/11 [==============================] - 0s 4ms/step - loss: 0.5200 - accuracy: 0.7343 - val_loss: 0.6202 - val_accuracy: 0.6718\n",
      "Epoch 357/500\n",
      "11/11 [==============================] - 0s 3ms/step - loss: 0.5183 - accuracy: 0.7343 - val_loss: 0.6104 - val_accuracy: 0.6785\n",
      "Epoch 358/500\n",
      "11/11 [==============================] - 0s 4ms/step - loss: 0.5174 - accuracy: 0.7365 - val_loss: 0.6103 - val_accuracy: 0.6763\n",
      "Epoch 359/500\n",
      "11/11 [==============================] - 0s 3ms/step - loss: 0.5164 - accuracy: 0.7432 - val_loss: 0.6100 - val_accuracy: 0.6829\n",
      "Epoch 360/500\n",
      "11/11 [==============================] - 0s 3ms/step - loss: 0.5141 - accuracy: 0.7424 - val_loss: 0.6240 - val_accuracy: 0.6452\n",
      "Epoch 361/500\n",
      "11/11 [==============================] - 0s 4ms/step - loss: 0.5177 - accuracy: 0.7395 - val_loss: 0.6097 - val_accuracy: 0.6807\n",
      "Epoch 362/500\n",
      "11/11 [==============================] - 0s 3ms/step - loss: 0.5173 - accuracy: 0.7395 - val_loss: 0.6107 - val_accuracy: 0.6696\n",
      "Epoch 363/500\n",
      "11/11 [==============================] - 0s 4ms/step - loss: 0.5131 - accuracy: 0.7454 - val_loss: 0.6129 - val_accuracy: 0.6785\n",
      "Epoch 364/500\n",
      "11/11 [==============================] - 0s 4ms/step - loss: 0.5166 - accuracy: 0.7358 - val_loss: 0.6116 - val_accuracy: 0.6608\n",
      "Epoch 365/500\n",
      "11/11 [==============================] - 0s 3ms/step - loss: 0.5222 - accuracy: 0.7328 - val_loss: 0.6104 - val_accuracy: 0.6585\n",
      "Epoch 366/500\n",
      "11/11 [==============================] - 0s 3ms/step - loss: 0.5277 - accuracy: 0.7335 - val_loss: 0.6106 - val_accuracy: 0.6718\n",
      "Epoch 367/500\n",
      "11/11 [==============================] - 0s 3ms/step - loss: 0.5181 - accuracy: 0.7283 - val_loss: 0.6284 - val_accuracy: 0.6452\n",
      "Epoch 368/500\n",
      "11/11 [==============================] - 0s 3ms/step - loss: 0.5187 - accuracy: 0.7291 - val_loss: 0.6123 - val_accuracy: 0.6475\n",
      "Epoch 369/500\n",
      "11/11 [==============================] - 0s 3ms/step - loss: 0.5171 - accuracy: 0.7343 - val_loss: 0.6156 - val_accuracy: 0.6918\n",
      "Epoch 370/500\n",
      "11/11 [==============================] - 0s 3ms/step - loss: 0.5259 - accuracy: 0.7246 - val_loss: 0.6500 - val_accuracy: 0.6608\n",
      "Epoch 371/500\n",
      "11/11 [==============================] - 0s 3ms/step - loss: 0.5248 - accuracy: 0.7224 - val_loss: 0.6120 - val_accuracy: 0.6785\n",
      "Epoch 372/500\n",
      "11/11 [==============================] - 0s 3ms/step - loss: 0.5124 - accuracy: 0.7483 - val_loss: 0.6150 - val_accuracy: 0.6718\n",
      "Epoch 373/500\n",
      "11/11 [==============================] - 0s 3ms/step - loss: 0.5161 - accuracy: 0.7432 - val_loss: 0.6110 - val_accuracy: 0.6696\n",
      "Epoch 374/500\n",
      "11/11 [==============================] - 0s 3ms/step - loss: 0.5150 - accuracy: 0.7387 - val_loss: 0.6166 - val_accuracy: 0.6630\n",
      "Epoch 375/500\n",
      "11/11 [==============================] - 0s 3ms/step - loss: 0.5147 - accuracy: 0.7321 - val_loss: 0.6144 - val_accuracy: 0.6829\n",
      "Epoch 376/500\n",
      "11/11 [==============================] - 0s 3ms/step - loss: 0.5158 - accuracy: 0.7395 - val_loss: 0.6102 - val_accuracy: 0.6718\n",
      "Epoch 377/500\n",
      "11/11 [==============================] - 0s 4ms/step - loss: 0.5108 - accuracy: 0.7439 - val_loss: 0.6163 - val_accuracy: 0.6674\n",
      "Epoch 378/500\n",
      "11/11 [==============================] - 0s 3ms/step - loss: 0.5123 - accuracy: 0.7387 - val_loss: 0.6115 - val_accuracy: 0.6785\n",
      "Epoch 379/500\n",
      "11/11 [==============================] - 0s 3ms/step - loss: 0.5107 - accuracy: 0.7439 - val_loss: 0.6122 - val_accuracy: 0.6718\n",
      "Epoch 380/500\n",
      "11/11 [==============================] - 0s 3ms/step - loss: 0.5135 - accuracy: 0.7402 - val_loss: 0.6132 - val_accuracy: 0.6563\n",
      "Epoch 381/500\n",
      "11/11 [==============================] - 0s 2ms/step - loss: 0.5097 - accuracy: 0.7432 - val_loss: 0.6185 - val_accuracy: 0.6674\n",
      "Epoch 382/500\n",
      "11/11 [==============================] - 0s 3ms/step - loss: 0.5114 - accuracy: 0.7424 - val_loss: 0.6117 - val_accuracy: 0.6630\n",
      "Epoch 383/500\n",
      "11/11 [==============================] - 0s 3ms/step - loss: 0.5110 - accuracy: 0.7402 - val_loss: 0.6122 - val_accuracy: 0.6608\n",
      "Epoch 384/500\n",
      "11/11 [==============================] - 0s 3ms/step - loss: 0.5250 - accuracy: 0.7246 - val_loss: 0.6113 - val_accuracy: 0.6630\n",
      "Epoch 385/500\n",
      "11/11 [==============================] - 0s 3ms/step - loss: 0.5169 - accuracy: 0.7395 - val_loss: 0.6209 - val_accuracy: 0.6541\n",
      "Epoch 386/500\n",
      "11/11 [==============================] - 0s 4ms/step - loss: 0.5171 - accuracy: 0.7291 - val_loss: 0.6320 - val_accuracy: 0.6475\n",
      "Epoch 387/500\n",
      "11/11 [==============================] - 0s 3ms/step - loss: 0.5145 - accuracy: 0.7454 - val_loss: 0.6149 - val_accuracy: 0.6608\n",
      "Epoch 388/500\n",
      "11/11 [==============================] - 0s 2ms/step - loss: 0.5142 - accuracy: 0.7387 - val_loss: 0.6092 - val_accuracy: 0.6674\n",
      "Epoch 389/500\n",
      "11/11 [==============================] - 0s 3ms/step - loss: 0.5094 - accuracy: 0.7395 - val_loss: 0.6128 - val_accuracy: 0.6674\n",
      "Epoch 390/500\n",
      "11/11 [==============================] - 0s 3ms/step - loss: 0.5082 - accuracy: 0.7476 - val_loss: 0.6120 - val_accuracy: 0.6630\n",
      "Epoch 391/500\n",
      "11/11 [==============================] - 0s 4ms/step - loss: 0.5060 - accuracy: 0.7461 - val_loss: 0.6210 - val_accuracy: 0.6430\n",
      "Epoch 392/500\n",
      "11/11 [==============================] - 0s 3ms/step - loss: 0.5095 - accuracy: 0.7328 - val_loss: 0.6113 - val_accuracy: 0.6785\n",
      "Epoch 393/500\n",
      "11/11 [==============================] - 0s 3ms/step - loss: 0.5105 - accuracy: 0.7372 - val_loss: 0.6119 - val_accuracy: 0.6674\n",
      "Epoch 394/500\n",
      "11/11 [==============================] - 0s 3ms/step - loss: 0.5081 - accuracy: 0.7424 - val_loss: 0.6151 - val_accuracy: 0.6630\n",
      "Epoch 395/500\n",
      "11/11 [==============================] - 0s 3ms/step - loss: 0.5096 - accuracy: 0.7424 - val_loss: 0.6145 - val_accuracy: 0.6763\n",
      "Epoch 396/500\n",
      "11/11 [==============================] - 0s 3ms/step - loss: 0.5108 - accuracy: 0.7402 - val_loss: 0.6108 - val_accuracy: 0.6652\n",
      "Epoch 397/500\n",
      "11/11 [==============================] - 0s 2ms/step - loss: 0.5108 - accuracy: 0.7409 - val_loss: 0.6234 - val_accuracy: 0.6763\n",
      "Epoch 398/500\n",
      "11/11 [==============================] - 0s 3ms/step - loss: 0.5119 - accuracy: 0.7365 - val_loss: 0.6164 - val_accuracy: 0.6763\n",
      "Epoch 399/500\n",
      "11/11 [==============================] - 0s 3ms/step - loss: 0.5104 - accuracy: 0.7417 - val_loss: 0.6155 - val_accuracy: 0.6630\n",
      "Epoch 400/500\n",
      "11/11 [==============================] - 0s 3ms/step - loss: 0.5095 - accuracy: 0.7446 - val_loss: 0.6124 - val_accuracy: 0.6674\n",
      "Epoch 401/500\n"
     ]
    },
    {
     "name": "stdout",
     "output_type": "stream",
     "text": [
      "11/11 [==============================] - 0s 2ms/step - loss: 0.5064 - accuracy: 0.7424 - val_loss: 0.6115 - val_accuracy: 0.6630\n",
      "Epoch 402/500\n",
      "11/11 [==============================] - 0s 3ms/step - loss: 0.5056 - accuracy: 0.7506 - val_loss: 0.6097 - val_accuracy: 0.6652\n",
      "Epoch 403/500\n",
      "11/11 [==============================] - 0s 3ms/step - loss: 0.5062 - accuracy: 0.7491 - val_loss: 0.6137 - val_accuracy: 0.6674\n",
      "Epoch 404/500\n",
      "11/11 [==============================] - 0s 3ms/step - loss: 0.5070 - accuracy: 0.7439 - val_loss: 0.6188 - val_accuracy: 0.6652\n",
      "Epoch 405/500\n",
      "11/11 [==============================] - 0s 3ms/step - loss: 0.5074 - accuracy: 0.7372 - val_loss: 0.6157 - val_accuracy: 0.6652\n",
      "Epoch 406/500\n",
      "11/11 [==============================] - 0s 3ms/step - loss: 0.5117 - accuracy: 0.7409 - val_loss: 0.6208 - val_accuracy: 0.6718\n",
      "Epoch 407/500\n",
      "11/11 [==============================] - 0s 3ms/step - loss: 0.5034 - accuracy: 0.7417 - val_loss: 0.6159 - val_accuracy: 0.6563\n",
      "Epoch 408/500\n",
      "11/11 [==============================] - 0s 3ms/step - loss: 0.5055 - accuracy: 0.7461 - val_loss: 0.6133 - val_accuracy: 0.6608\n",
      "Epoch 409/500\n",
      "11/11 [==============================] - 0s 3ms/step - loss: 0.5077 - accuracy: 0.7395 - val_loss: 0.6128 - val_accuracy: 0.6851\n",
      "Epoch 410/500\n",
      "11/11 [==============================] - 0s 3ms/step - loss: 0.5108 - accuracy: 0.7372 - val_loss: 0.6194 - val_accuracy: 0.6519\n",
      "Epoch 411/500\n",
      "11/11 [==============================] - 0s 2ms/step - loss: 0.5099 - accuracy: 0.7372 - val_loss: 0.6119 - val_accuracy: 0.6563\n",
      "Epoch 412/500\n",
      "11/11 [==============================] - 0s 3ms/step - loss: 0.5068 - accuracy: 0.7387 - val_loss: 0.6134 - val_accuracy: 0.6519\n",
      "Epoch 413/500\n",
      "11/11 [==============================] - 0s 4ms/step - loss: 0.5042 - accuracy: 0.7409 - val_loss: 0.6171 - val_accuracy: 0.6585\n",
      "Epoch 414/500\n",
      "11/11 [==============================] - 0s 4ms/step - loss: 0.5047 - accuracy: 0.7380 - val_loss: 0.6145 - val_accuracy: 0.6829\n",
      "Epoch 415/500\n",
      "11/11 [==============================] - 0s 3ms/step - loss: 0.5069 - accuracy: 0.7395 - val_loss: 0.6139 - val_accuracy: 0.6674\n",
      "Epoch 416/500\n",
      "11/11 [==============================] - 0s 4ms/step - loss: 0.5050 - accuracy: 0.7395 - val_loss: 0.6252 - val_accuracy: 0.6674\n",
      "Epoch 417/500\n",
      "11/11 [==============================] - 0s 3ms/step - loss: 0.5119 - accuracy: 0.7343 - val_loss: 0.6241 - val_accuracy: 0.6696\n",
      "Epoch 418/500\n",
      "11/11 [==============================] - 0s 3ms/step - loss: 0.5045 - accuracy: 0.7528 - val_loss: 0.6165 - val_accuracy: 0.6674\n",
      "Epoch 419/500\n",
      "11/11 [==============================] - 0s 3ms/step - loss: 0.5037 - accuracy: 0.7476 - val_loss: 0.6147 - val_accuracy: 0.6541\n",
      "Epoch 420/500\n",
      "11/11 [==============================] - 0s 2ms/step - loss: 0.5095 - accuracy: 0.7409 - val_loss: 0.6132 - val_accuracy: 0.6585\n",
      "Epoch 421/500\n",
      "11/11 [==============================] - 0s 4ms/step - loss: 0.5024 - accuracy: 0.7454 - val_loss: 0.6157 - val_accuracy: 0.6497\n",
      "Epoch 422/500\n",
      "11/11 [==============================] - 0s 3ms/step - loss: 0.5009 - accuracy: 0.7483 - val_loss: 0.6189 - val_accuracy: 0.6585\n",
      "Epoch 423/500\n",
      "11/11 [==============================] - 0s 3ms/step - loss: 0.5052 - accuracy: 0.7409 - val_loss: 0.6143 - val_accuracy: 0.6741\n",
      "Epoch 424/500\n",
      "11/11 [==============================] - 0s 3ms/step - loss: 0.5045 - accuracy: 0.7402 - val_loss: 0.6168 - val_accuracy: 0.6652\n",
      "Epoch 425/500\n",
      "11/11 [==============================] - 0s 3ms/step - loss: 0.5027 - accuracy: 0.7513 - val_loss: 0.6156 - val_accuracy: 0.6563\n",
      "Epoch 426/500\n",
      "11/11 [==============================] - 0s 3ms/step - loss: 0.5017 - accuracy: 0.7565 - val_loss: 0.6186 - val_accuracy: 0.6807\n",
      "Epoch 427/500\n",
      "11/11 [==============================] - 0s 5ms/step - loss: 0.5026 - accuracy: 0.7461 - val_loss: 0.6167 - val_accuracy: 0.6497\n",
      "Epoch 428/500\n",
      "11/11 [==============================] - 0s 3ms/step - loss: 0.5034 - accuracy: 0.7461 - val_loss: 0.6289 - val_accuracy: 0.6563\n",
      "Epoch 429/500\n",
      "11/11 [==============================] - 0s 3ms/step - loss: 0.4991 - accuracy: 0.7513 - val_loss: 0.6144 - val_accuracy: 0.6674\n",
      "Epoch 430/500\n",
      "11/11 [==============================] - 0s 3ms/step - loss: 0.5052 - accuracy: 0.7395 - val_loss: 0.6141 - val_accuracy: 0.6652\n",
      "Epoch 431/500\n",
      "11/11 [==============================] - 0s 5ms/step - loss: 0.5020 - accuracy: 0.7483 - val_loss: 0.6147 - val_accuracy: 0.6563\n",
      "Epoch 432/500\n",
      "11/11 [==============================] - 0s 3ms/step - loss: 0.4994 - accuracy: 0.7483 - val_loss: 0.6180 - val_accuracy: 0.6452\n",
      "Epoch 433/500\n",
      "11/11 [==============================] - 0s 4ms/step - loss: 0.5021 - accuracy: 0.7476 - val_loss: 0.6190 - val_accuracy: 0.6585\n",
      "Epoch 434/500\n",
      "11/11 [==============================] - 0s 4ms/step - loss: 0.5011 - accuracy: 0.7528 - val_loss: 0.6140 - val_accuracy: 0.6652\n",
      "Epoch 435/500\n",
      "11/11 [==============================] - 0s 3ms/step - loss: 0.5008 - accuracy: 0.7402 - val_loss: 0.6318 - val_accuracy: 0.6519\n",
      "Epoch 436/500\n",
      "11/11 [==============================] - 0s 4ms/step - loss: 0.5006 - accuracy: 0.7491 - val_loss: 0.6136 - val_accuracy: 0.6519\n",
      "Epoch 437/500\n",
      "11/11 [==============================] - 0s 3ms/step - loss: 0.4983 - accuracy: 0.7491 - val_loss: 0.6164 - val_accuracy: 0.6608\n",
      "Epoch 438/500\n",
      "11/11 [==============================] - 0s 3ms/step - loss: 0.5012 - accuracy: 0.7461 - val_loss: 0.6410 - val_accuracy: 0.6630\n",
      "Epoch 439/500\n",
      "11/11 [==============================] - 0s 3ms/step - loss: 0.5053 - accuracy: 0.7269 - val_loss: 0.6242 - val_accuracy: 0.6541\n",
      "Epoch 440/500\n",
      "11/11 [==============================] - 0s 3ms/step - loss: 0.5019 - accuracy: 0.7432 - val_loss: 0.6369 - val_accuracy: 0.6541\n",
      "Epoch 441/500\n",
      "11/11 [==============================] - 0s 3ms/step - loss: 0.4982 - accuracy: 0.7461 - val_loss: 0.6168 - val_accuracy: 0.6718\n",
      "Epoch 442/500\n",
      "11/11 [==============================] - 0s 5ms/step - loss: 0.5052 - accuracy: 0.7328 - val_loss: 0.6294 - val_accuracy: 0.6652\n",
      "Epoch 443/500\n",
      "11/11 [==============================] - 0s 3ms/step - loss: 0.5005 - accuracy: 0.7454 - val_loss: 0.6160 - val_accuracy: 0.6563\n",
      "Epoch 444/500\n",
      "11/11 [==============================] - 0s 3ms/step - loss: 0.5026 - accuracy: 0.7498 - val_loss: 0.6413 - val_accuracy: 0.6497\n",
      "Epoch 445/500\n",
      "11/11 [==============================] - 0s 3ms/step - loss: 0.5066 - accuracy: 0.7557 - val_loss: 0.6237 - val_accuracy: 0.6563\n",
      "Epoch 446/500\n",
      "11/11 [==============================] - 0s 3ms/step - loss: 0.5027 - accuracy: 0.7439 - val_loss: 0.6174 - val_accuracy: 0.6674\n",
      "Epoch 447/500\n",
      "11/11 [==============================] - 0s 4ms/step - loss: 0.4962 - accuracy: 0.7483 - val_loss: 0.6161 - val_accuracy: 0.6519\n",
      "Epoch 448/500\n",
      "11/11 [==============================] - 0s 4ms/step - loss: 0.4967 - accuracy: 0.7498 - val_loss: 0.6149 - val_accuracy: 0.6608\n",
      "Epoch 449/500\n",
      "11/11 [==============================] - 0s 3ms/step - loss: 0.4968 - accuracy: 0.7506 - val_loss: 0.6179 - val_accuracy: 0.6585\n",
      "Epoch 450/500\n",
      "11/11 [==============================] - 0s 2ms/step - loss: 0.4941 - accuracy: 0.7498 - val_loss: 0.6166 - val_accuracy: 0.6585\n",
      "Epoch 451/500\n",
      "11/11 [==============================] - 0s 3ms/step - loss: 0.5000 - accuracy: 0.7506 - val_loss: 0.6174 - val_accuracy: 0.6652\n",
      "Epoch 452/500\n",
      "11/11 [==============================] - 0s 3ms/step - loss: 0.5028 - accuracy: 0.7483 - val_loss: 0.6282 - val_accuracy: 0.6475\n",
      "Epoch 453/500\n",
      "11/11 [==============================] - 0s 3ms/step - loss: 0.4996 - accuracy: 0.7417 - val_loss: 0.6212 - val_accuracy: 0.6541\n",
      "Epoch 454/500\n",
      "11/11 [==============================] - 0s 3ms/step - loss: 0.4960 - accuracy: 0.7580 - val_loss: 0.6151 - val_accuracy: 0.6608\n",
      "Epoch 455/500\n",
      "11/11 [==============================] - 0s 3ms/step - loss: 0.4961 - accuracy: 0.7506 - val_loss: 0.6177 - val_accuracy: 0.6585\n",
      "Epoch 456/500\n",
      "11/11 [==============================] - 0s 4ms/step - loss: 0.4960 - accuracy: 0.7498 - val_loss: 0.6223 - val_accuracy: 0.6541\n",
      "Epoch 457/500\n",
      "11/11 [==============================] - 0s 4ms/step - loss: 0.4992 - accuracy: 0.7409 - val_loss: 0.6184 - val_accuracy: 0.6585\n",
      "Epoch 458/500\n"
     ]
    },
    {
     "name": "stdout",
     "output_type": "stream",
     "text": [
      "11/11 [==============================] - 0s 3ms/step - loss: 0.5013 - accuracy: 0.7461 - val_loss: 0.6278 - val_accuracy: 0.6652\n",
      "Epoch 459/500\n",
      "11/11 [==============================] - 0s 3ms/step - loss: 0.5008 - accuracy: 0.7446 - val_loss: 0.6221 - val_accuracy: 0.6741\n",
      "Epoch 460/500\n",
      "11/11 [==============================] - 0s 3ms/step - loss: 0.5016 - accuracy: 0.7469 - val_loss: 0.6217 - val_accuracy: 0.6519\n",
      "Epoch 461/500\n",
      "11/11 [==============================] - 0s 3ms/step - loss: 0.4992 - accuracy: 0.7461 - val_loss: 0.6187 - val_accuracy: 0.6608\n",
      "Epoch 462/500\n",
      "11/11 [==============================] - 0s 3ms/step - loss: 0.5096 - accuracy: 0.7387 - val_loss: 0.6234 - val_accuracy: 0.6541\n",
      "Epoch 463/500\n",
      "11/11 [==============================] - 0s 4ms/step - loss: 0.4973 - accuracy: 0.7550 - val_loss: 0.6220 - val_accuracy: 0.6608\n",
      "Epoch 464/500\n",
      "11/11 [==============================] - 0s 3ms/step - loss: 0.4980 - accuracy: 0.7454 - val_loss: 0.6171 - val_accuracy: 0.6497\n",
      "Epoch 465/500\n",
      "11/11 [==============================] - 0s 3ms/step - loss: 0.4951 - accuracy: 0.7528 - val_loss: 0.6165 - val_accuracy: 0.6563\n",
      "Epoch 466/500\n",
      "11/11 [==============================] - 0s 3ms/step - loss: 0.4934 - accuracy: 0.7513 - val_loss: 0.6163 - val_accuracy: 0.6563\n",
      "Epoch 467/500\n",
      "11/11 [==============================] - 0s 3ms/step - loss: 0.4940 - accuracy: 0.7483 - val_loss: 0.6191 - val_accuracy: 0.6497\n",
      "Epoch 468/500\n",
      "11/11 [==============================] - 0s 3ms/step - loss: 0.4937 - accuracy: 0.7520 - val_loss: 0.6149 - val_accuracy: 0.6608\n",
      "Epoch 469/500\n",
      "11/11 [==============================] - 0s 3ms/step - loss: 0.4945 - accuracy: 0.7543 - val_loss: 0.6167 - val_accuracy: 0.6608\n",
      "Epoch 470/500\n",
      "11/11 [==============================] - 0s 3ms/step - loss: 0.4934 - accuracy: 0.7543 - val_loss: 0.6206 - val_accuracy: 0.6608\n",
      "Epoch 471/500\n",
      "11/11 [==============================] - 0s 3ms/step - loss: 0.4988 - accuracy: 0.7520 - val_loss: 0.6192 - val_accuracy: 0.6696\n",
      "Epoch 472/500\n",
      "11/11 [==============================] - 0s 3ms/step - loss: 0.5011 - accuracy: 0.7409 - val_loss: 0.6265 - val_accuracy: 0.6674\n",
      "Epoch 473/500\n",
      "11/11 [==============================] - 0s 3ms/step - loss: 0.4959 - accuracy: 0.7535 - val_loss: 0.6196 - val_accuracy: 0.6541\n",
      "Epoch 474/500\n",
      "11/11 [==============================] - 0s 3ms/step - loss: 0.4940 - accuracy: 0.7483 - val_loss: 0.6162 - val_accuracy: 0.6718\n",
      "Epoch 475/500\n",
      "11/11 [==============================] - 0s 3ms/step - loss: 0.4949 - accuracy: 0.7439 - val_loss: 0.6182 - val_accuracy: 0.6608\n",
      "Epoch 476/500\n",
      "11/11 [==============================] - 0s 2ms/step - loss: 0.4956 - accuracy: 0.7409 - val_loss: 0.6236 - val_accuracy: 0.6608\n",
      "Epoch 477/500\n",
      "11/11 [==============================] - 0s 3ms/step - loss: 0.4953 - accuracy: 0.7439 - val_loss: 0.6187 - val_accuracy: 0.6585\n",
      "Epoch 478/500\n",
      "11/11 [==============================] - 0s 3ms/step - loss: 0.5048 - accuracy: 0.7446 - val_loss: 0.6194 - val_accuracy: 0.6585\n",
      "Epoch 479/500\n",
      "11/11 [==============================] - 0s 3ms/step - loss: 0.5043 - accuracy: 0.7313 - val_loss: 0.6206 - val_accuracy: 0.6630\n",
      "Epoch 480/500\n",
      "11/11 [==============================] - 0s 2ms/step - loss: 0.4922 - accuracy: 0.7520 - val_loss: 0.6180 - val_accuracy: 0.6585\n",
      "Epoch 481/500\n",
      "11/11 [==============================] - 0s 3ms/step - loss: 0.4928 - accuracy: 0.7535 - val_loss: 0.6300 - val_accuracy: 0.6563\n",
      "Epoch 482/500\n",
      "11/11 [==============================] - 0s 3ms/step - loss: 0.5015 - accuracy: 0.7395 - val_loss: 0.6207 - val_accuracy: 0.6497\n",
      "Epoch 483/500\n",
      "11/11 [==============================] - 0s 3ms/step - loss: 0.4913 - accuracy: 0.7454 - val_loss: 0.6257 - val_accuracy: 0.6563\n",
      "Epoch 484/500\n",
      "11/11 [==============================] - 0s 3ms/step - loss: 0.4905 - accuracy: 0.7506 - val_loss: 0.6194 - val_accuracy: 0.6563\n",
      "Epoch 485/500\n",
      "11/11 [==============================] - 0s 3ms/step - loss: 0.4913 - accuracy: 0.7565 - val_loss: 0.6219 - val_accuracy: 0.6519\n",
      "Epoch 486/500\n",
      "11/11 [==============================] - 0s 3ms/step - loss: 0.4929 - accuracy: 0.7506 - val_loss: 0.6383 - val_accuracy: 0.6630\n",
      "Epoch 487/500\n",
      "11/11 [==============================] - 0s 3ms/step - loss: 0.4924 - accuracy: 0.7528 - val_loss: 0.6176 - val_accuracy: 0.6585\n",
      "Epoch 488/500\n",
      "11/11 [==============================] - 0s 3ms/step - loss: 0.4970 - accuracy: 0.7417 - val_loss: 0.6274 - val_accuracy: 0.6519\n",
      "Epoch 489/500\n",
      "11/11 [==============================] - 0s 3ms/step - loss: 0.4924 - accuracy: 0.7513 - val_loss: 0.6189 - val_accuracy: 0.6541\n",
      "Epoch 490/500\n",
      "11/11 [==============================] - 0s 3ms/step - loss: 0.4947 - accuracy: 0.7520 - val_loss: 0.6277 - val_accuracy: 0.6519\n",
      "Epoch 491/500\n",
      "11/11 [==============================] - 0s 4ms/step - loss: 0.4936 - accuracy: 0.7446 - val_loss: 0.6163 - val_accuracy: 0.6475\n",
      "Epoch 492/500\n",
      "11/11 [==============================] - 0s 4ms/step - loss: 0.4935 - accuracy: 0.7535 - val_loss: 0.6286 - val_accuracy: 0.6519\n",
      "Epoch 493/500\n",
      "11/11 [==============================] - 0s 4ms/step - loss: 0.4951 - accuracy: 0.7506 - val_loss: 0.6305 - val_accuracy: 0.6497\n",
      "Epoch 494/500\n",
      "11/11 [==============================] - 0s 4ms/step - loss: 0.4941 - accuracy: 0.7469 - val_loss: 0.6304 - val_accuracy: 0.6563\n",
      "Epoch 495/500\n",
      "11/11 [==============================] - 0s 4ms/step - loss: 0.4981 - accuracy: 0.7491 - val_loss: 0.6215 - val_accuracy: 0.6585\n",
      "Epoch 496/500\n",
      "11/11 [==============================] - 0s 3ms/step - loss: 0.4888 - accuracy: 0.7506 - val_loss: 0.6192 - val_accuracy: 0.6497\n",
      "Epoch 497/500\n",
      "11/11 [==============================] - 0s 4ms/step - loss: 0.4946 - accuracy: 0.7543 - val_loss: 0.6226 - val_accuracy: 0.6475\n",
      "Epoch 498/500\n",
      "11/11 [==============================] - 0s 3ms/step - loss: 0.4979 - accuracy: 0.7483 - val_loss: 0.6250 - val_accuracy: 0.6630\n",
      "Epoch 499/500\n",
      "11/11 [==============================] - 0s 5ms/step - loss: 0.4908 - accuracy: 0.7513 - val_loss: 0.6195 - val_accuracy: 0.6497\n",
      "Epoch 500/500\n",
      "11/11 [==============================] - 0s 4ms/step - loss: 0.4885 - accuracy: 0.7557 - val_loss: 0.6204 - val_accuracy: 0.6519\n"
     ]
    }
   ],
   "source": [
    "history = nn_model.fit(\n",
    "    lr_extract_inputs(train), \n",
    "    lr_extract_outputs(train),\n",
    "    epochs=500,\n",
    "    batch_size=128,\n",
    "    validation_data=(\n",
    "        lr_extract_inputs(test),\n",
    "        lr_extract_outputs(test),\n",
    "    )\n",
    ")"
   ]
  },
  {
   "cell_type": "code",
   "execution_count": 33,
   "metadata": {},
   "outputs": [
    {
     "name": "stdout",
     "output_type": "stream",
     "text": [
      "train ################################################################################\n",
      "Accuracy: 0.6602516654330126\n",
      "Precision: 0.668918918918919\n",
      "Recall: 0.782608695652174\n",
      "\n"
     ]
    },
    {
     "data": {
      "image/png": "[encoded data removed]",
      "text/plain": [
       "<Figure size 216x288 with 1 Axes>"
      ]
     },
     "metadata": {
      "needs_background": "light"
     },
     "output_type": "display_data"
    },
    {
     "name": "stdout",
     "output_type": "stream",
     "text": [
      "test ################################################################################\n",
      "Accuracy: 0.6252771618625277\n",
      "Precision: 0.6397306397306397\n",
      "Recall: 0.753968253968254\n",
      "\n"
     ]
    },
    {
     "data": {
      "image/png": "[encoded data removed]",
      "text/plain": [
       "<Figure size 216x288 with 1 Axes>"
      ]
     },
     "metadata": {
      "needs_background": "light"
     },
     "output_type": "display_data"
    },
    {
     "name": "stdout",
     "output_type": "stream",
     "text": [
      "validation ################################################################################\n",
      "Accuracy: 0.6044444444444445\n",
      "Precision: 0.5981308411214953\n",
      "Recall: 0.7966804979253111\n",
      "\n"
     ]
    },
    {
     "data": {
      "image/png": "[encoded data removed]",
      "text/plain": [
       "<Figure size 216x288 with 1 Axes>"
      ]
     },
     "metadata": {
      "needs_background": "light"
     },
     "output_type": "display_data"
    }
   ],
   "source": [
    "evaluate_model(knn_model, lr_extract_inputs, lr_extract_outputs, True)"
   ]
  },
  {
   "cell_type": "markdown",
   "metadata": {},
   "source": [
    "#### Conclusión\n",
    "Luego de varias iteraciones sobre diferentes modelos de NN, no logramos mejorar los resultados obtenidos a traves de otros modelos. Probablemente se pueda mejorar un poco los resultados con las funciones de activacion y las cantidades de neuronas por capa correctas, pero teniendo en cuenta que los resultados de todos los modelos no tenían un Accuracy prometedor, se sospecha que puede deberse al dataset utilizado, cuyos datos no provean suficiente informacion para lograr mejores predicciones."
   ]
  },
  {
   "cell_type": "markdown",
   "metadata": {},
   "source": [
    "### Conclusión final\n",
    "El mejor resultado obtenido fue mediante **Gradient Boosted Trees**:"
   ]
  },
  {
   "cell_type": "code",
   "execution_count": 34,
   "metadata": {},
   "outputs": [
    {
     "name": "stdout",
     "output_type": "stream",
     "text": [
      "train ################################################################################\n",
      "Accuracy: 0.7253886010362695\n",
      "Precision: 0.710412147505423\n",
      "Recall: 0.8629776021080369\n",
      "\n"
     ]
    },
    {
     "data": {
      "image/png": "[encoded data removed]",
      "text/plain": [
       "<Figure size 216x288 with 1 Axes>"
      ]
     },
     "metadata": {
      "needs_background": "light"
     },
     "output_type": "display_data"
    },
    {
     "name": "stdout",
     "output_type": "stream",
     "text": [
      "test ################################################################################\n",
      "Accuracy: 0.6962305986696231\n",
      "Precision: 0.6885245901639344\n",
      "Recall: 0.8333333333333334\n",
      "\n"
     ]
    },
    {
     "data": {
      "image/png": "[encoded data removed]",
      "text/plain": [
       "<Figure size 216x288 with 1 Axes>"
      ]
     },
     "metadata": {
      "needs_background": "light"
     },
     "output_type": "display_data"
    },
    {
     "name": "stdout",
     "output_type": "stream",
     "text": [
      "validation ################################################################################\n",
      "Accuracy: 0.6288888888888889\n",
      "Precision: 0.6141975308641975\n",
      "Recall: 0.8257261410788381\n",
      "\n"
     ]
    },
    {
     "data": {
      "image/png": "[encoded data removed]",
      "text/plain": [
       "<Figure size 216x288 with 1 Axes>"
      ]
     },
     "metadata": {
      "needs_background": "light"
     },
     "output_type": "display_data"
    }
   ],
   "source": [
    "evaluate_model(boost_model, tree_extract_inputs, tree_extract_outputs, True) #con validation"
   ]
  }
 ],
 "metadata": {
  "kernelspec": {
   "display_name": "Python 3",
   "language": "python",
   "name": "python3"
  },
  "language_info": {
   "codemirror_mode": {
    "name": "ipython",
    "version": 3
   },
   "file_extension": ".py",
   "mimetype": "text/x-python",
   "name": "python",
   "nbconvert_exporter": "python",
   "pygments_lexer": "ipython3",
   "version": "3.7.0"
  }
 },
 "nbformat": 4,
 "nbformat_minor": 4
}
