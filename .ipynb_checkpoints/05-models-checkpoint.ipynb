{
 "cells": [
  {
   "cell_type": "markdown",
   "metadata": {},
   "source": [
    "## Carga y  prepación de el dataframe"
   ]
  },
  {
   "cell_type": "markdown",
   "metadata": {},
   "source": [
    "Cargamos y preparamos el dataframe teniendo en cuenta el analisis y la evaluación efectuada. Y de esta manera comenzar a evaluar los distintos modelos y cómo estos se comportan frente a los datos."
   ]
  },
  {
   "cell_type": "code",
   "execution_count": 161,
   "metadata": {},
   "outputs": [],
   "source": [
    "%matplotlib inline\n",
    "import pandas as pd\n",
    "import numpy as np\n",
    "import matplotlib.pyplot as plt\n",
    "import seaborn as sns\n",
    "from sklearn.model_selection import train_test_split\n",
    "import plotly.graph_objects as go\n",
    "from plotly.subplots import make_subplots\n",
    "from datetime import datetime\n",
    "from sklearn.metrics import accuracy_score, precision_score, recall_score, confusion_matrix\n",
    "from sklearn.model_selection import train_test_split\n",
    "\n",
    "plt.rcParams['figure.figsize'] = 25, 10"
   ]
  },
  {
   "cell_type": "code",
   "execution_count": 198,
   "metadata": {},
   "outputs": [],
   "source": [
    "full = pd.read_csv('data/reproductions.csv')\n",
    "\n",
    "full['age'] = datetime.now().date().year - full['birth_year']\n",
    "\n",
    "full.loc[full['body_development'].isnull(),'body_development'] = 0\n",
    "\n",
    "full.loc[full['DIB_placement'].notnull(),'DIB_placement_converted'] = 1\n",
    "full.loc[full['DIB_placement'].isnull(),'DIB_placement_converted'] = 0\n",
    "\n",
    "full.loc[full['DIB_extraction'].notnull(),'transformed_DIB_extraction'] = 1\n",
    "full.loc[full['DIB_extraction'].isnull(),'transformed_DIB_extraction'] = 0\n",
    "\n",
    "full.loc[full.reproduction_type == 'Natural','reproduction_type'] = 1\n",
    "full.loc[full.reproduction_type == 'Inseminacion','reproduction_type'] = 0\n",
    "\n",
    "full.loc[full.palpation_after == 'Preñada','palpation_after'] = 1\n",
    "full.loc[full.palpation_after == 'preñada','palpation_after'] = 1\n",
    "full.loc[full.palpation_after == 'Vacia','palpation_after'] = 0\n",
    "full.loc[full.palpation_after == 'No Paso','palpation_after'] = 0\n",
    "full.loc[full.palpation_after == 'Sin Tacto','palpation_after'] = 0\n",
    "full.loc[full.palpation_after == 'vacia','palpation_after'] = 0\n",
    "\n",
    "full['body_development'] = full['body_development'].round()\n",
    "\n",
    "full.loc[full['reproduction_released'].notnull(),'transformed_reproduction_released'] = 1\n",
    "full.loc[full['reproduction_released'].isnull(),'transformed_reproduction_released'] = 0\n",
    "\n",
    "full['success_reproduction_count'] = full['success_insemination_count'] + full['success_natural_count']\n",
    "full['fail_reproduction_count'] = full['fail_insemination_count'] + full['fail_natural_count']\n",
    "\n",
    "full['pregnant_after_count'] = full['pregnant_after_insemination_count'] + full['pregnant_after_natural_count']\n",
    "full['empty_after_count'] = full['empty_after_natural_count'] + full['empty_after_insemination_count']\n",
    "\n",
    "full['reproduction_execution'] = pd.to_datetime(full.reproduction_execution)\n",
    "full['date_offset'] = (pd.DatetimeIndex(full.reproduction_execution).month*100 + pd.DatetimeIndex(full.reproduction_execution).day - 320)%1300\n",
    "full['season'] = pd.cut(full['date_offset'], [0, 300, 602, 900, 1300], \n",
    "                      labels=['autumn', 'winter', 'spring', 'summer'])\n",
    "\n",
    "index_success_reproduction_count = full[ full['success_reproduction_count'] >= 3 ].index\n",
    "full.drop(index_success_reproduction_count , inplace=True)\n",
    "index_fail_reproduction_count = full[ full['fail_reproduction_count'] >= 3 ].index\n",
    "full.drop(index_fail_reproduction_count , inplace=True)\n",
    "\n",
    "index_pregnant_after_count = full[ full['pregnant_after_count'] >= 3 ].index\n",
    "full.drop(index_pregnant_after_count , inplace=True)\n",
    "index_empty_after_count = full[ full['empty_after_count'] >= 3 ].index\n",
    "full.drop(index_empty_after_count , inplace=True)\n",
    "\n",
    "index_DIB_placement_count = full[ full['DIB_placement_count'] >= 3 ].index\n",
    "full.drop(index_DIB_placement_count , inplace=True)\n",
    "index_DIB_extraction_count = full[ full['DIB_extraction_count'] >= 3 ].index\n",
    "full.drop(index_DIB_extraction_count , inplace=True)\n",
    "\n",
    "full.drop(full.loc[full['reproduction_type'].isnull()].index, inplace=True)\n",
    "full.drop(full.loc[full['season'].isnull()].index, inplace=True)\n",
    "\n",
    "del full['palpation_before']\n",
    "del full['birth_year']\n",
    "del full['brood_sex']\n",
    "del full['CUT_before']\n",
    "del full['CUT_after']\n",
    "del full['DIB_placement']\n",
    "del full['DIB_extraction']\n",
    "del full['reproduction_released']\n",
    "del full['date_offset']"
   ]
  },
  {
   "cell_type": "markdown",
   "metadata": {},
   "source": [
    "### Porcentajes en los que dividimos el dataset\n",
    "- 60% train\n",
    "- 20% test\n",
    "- 20% validation"
   ]
  },
  {
   "cell_type": "code",
   "execution_count": 199,
   "metadata": {},
   "outputs": [],
   "source": [
    "train, not_train = train_test_split(full, test_size=0.4)\n",
    "validation, test = train_test_split(not_train, test_size=0.5)"
   ]
  },
  {
   "cell_type": "code",
   "execution_count": 200,
   "metadata": {},
   "outputs": [],
   "source": [
    "def evaluate_model(model, extract_inputs_function, extract_outputs_function, include_validation=False):\n",
    "    sets = [('train', train), ('test', test)]\n",
    "    if include_validation:\n",
    "        sets.append(('validation', validation))\n",
    "        \n",
    "    for set_name, set_data in sets:\n",
    "        inputs = extract_inputs_function(set_data)\n",
    "        outputs = extract_outputs_function(set_data)\n",
    "        predictions = model.predict(inputs)\n",
    "        \n",
    "        print(set_name, '#' * 80)\n",
    "        \n",
    "        # print metrics\n",
    "        \n",
    "        print('Accuracy:', accuracy_score(outputs, predictions))\n",
    "        print('Precision:', precision_score(outputs, predictions))\n",
    "        print('Recall:', recall_score(outputs, predictions))\n",
    "        print()\n",
    "        \n",
    "        # plot confussion matrix\n",
    "        \n",
    "        plt.figure(figsize=(3,4))\n",
    "        \n",
    "        plt.xticks([0, 1], ['reproduction unsuccessfull', 'reproduction successfull'], rotation=45)\n",
    "        plt.yticks([0, 1], ['reproduction unsuccessfull', 'reproduction successfull'])\n",
    "        \n",
    "        plt.xlabel('Predicted class')\n",
    "        plt.ylabel('True class')\n",
    "\n",
    "        plt.title(set_name)\n",
    "\n",
    "        plt.imshow(\n",
    "            confusion_matrix(outputs, predictions), \n",
    "            cmap=plt.cm.Blues, \n",
    "            interpolation='nearest',\n",
    "        )\n",
    "\n",
    "        plt.show()"
   ]
  },
  {
   "cell_type": "markdown",
   "metadata": {},
   "source": [
    "## Métricas\n",
    "En nuestro caso contamos con el set de datos balanceado, por lo que vamos a utilizar como una de las métrica **Accuracy**. Esta métrica es muy buena para la clacificación cuando el dataset está bien balanceado. También vamos a utilizar la metrica **Recall** ya que nos interesa encontrar **la mayor cantidad posible de casos positivos**."
   ]
  },
  {
   "cell_type": "markdown",
   "metadata": {},
   "source": [
    "## Primer modelo: Regresión logica"
   ]
  },
  {
   "cell_type": "code",
   "execution_count": 201,
   "metadata": {},
   "outputs": [],
   "source": [
    "from sklearn.linear_model import LogisticRegression\n",
    "from sklearn.preprocessing import StandardScaler\n",
    "from sklearn.pipeline import Pipeline"
   ]
  },
  {
   "cell_type": "code",
   "execution_count": 202,
   "metadata": {},
   "outputs": [],
   "source": [
    "# final input columns, in the order we want to use them\n",
    "LR_INPUT_COLUMNS = [\n",
    "    'age',\n",
    "    'body_development',\n",
    "    'DIB_placement_converted',\n",
    "    'season_autumn',\n",
    "    'season_winter',\n",
    "    'season_spring',\n",
    "    'season_summer',\n",
    "    #'success_reproduction_count',\n",
    "    'success_insemination_count',\n",
    "    'success_natural_count',\n",
    "    #'fail_reproduction_count',\n",
    "    'fail_insemination_count',\n",
    "    'fail_natural_count',\n",
    "    'pregnant_after_count',\n",
    "    'empty_after_count',\n",
    "]\n",
    "\n",
    "\n",
    "def lr_extract_inputs(dataset):\n",
    "    \"\"\"\n",
    "    Inputs in the format supported by the logistic regressor.\n",
    "    \"\"\"\n",
    "    # we don't want to modify the original dataset, that we will use with other models\n",
    "    inputs = dataset.copy()\n",
    "    \n",
    "    # season to numbers\n",
    "    inputs['season_autumn'] = inputs.season == 'autumn'\n",
    "    inputs['season_winter'] = inputs.season == 'winter'\n",
    "    inputs['season_spring'] = inputs.season == 'spring'\n",
    "    inputs['season_summer'] = inputs.season == 'summer'\n",
    "    del inputs['season']\n",
    "    \n",
    "    # return the raw numbers\n",
    "    return inputs[LR_INPUT_COLUMNS].values.astype(np.float64)\n",
    "\n",
    "def lr_extract_outputs(dataset):\n",
    "    \"\"\"\n",
    "    Outputs in the format supported by the logistic regressor.\n",
    "    \"\"\"\n",
    "    return dataset.transformed_reproduction_released.values"
   ]
  },
  {
   "cell_type": "code",
   "execution_count": 203,
   "metadata": {},
   "outputs": [],
   "source": [
    "lr_model = Pipeline([\n",
    "    ('scaler', StandardScaler()),\n",
    "    ('classifier', LogisticRegression()),\n",
    "])"
   ]
  },
  {
   "cell_type": "code",
   "execution_count": 204,
   "metadata": {},
   "outputs": [
    {
     "data": {
      "text/plain": [
       "Pipeline(steps=[('scaler', StandardScaler()),\n",
       "                ('classifier', LogisticRegression())])"
      ]
     },
     "execution_count": 204,
     "metadata": {},
     "output_type": "execute_result"
    }
   ],
   "source": [
    "lr_model.fit(\n",
    "    lr_extract_inputs(train),\n",
    "    lr_extract_outputs(train),\n",
    ")"
   ]
  },
  {
   "cell_type": "code",
   "execution_count": 205,
   "metadata": {},
   "outputs": [
    {
     "name": "stdout",
     "output_type": "stream",
     "text": [
      "train ################################################################################\n",
      "Accuracy: 0.6352040816326531\n",
      "Precision: 0.6610644257703081\n",
      "Recall: 0.716236722306525\n",
      "\n"
     ]
    },
    {
     "data": {
      "image/png": "[encoded data removed]",
      "text/plain": [
       "<Figure size 216x288 with 1 Axes>"
      ]
     },
     "metadata": {
      "needs_background": "light"
     },
     "output_type": "display_data"
    },
    {
     "name": "stdout",
     "output_type": "stream",
     "text": [
      "test ################################################################################\n",
      "Accuracy: 0.628498727735369\n",
      "Precision: 0.6608695652173913\n",
      "Recall: 0.6909090909090909\n",
      "\n"
     ]
    },
    {
     "data": {
      "image/png": "[encoded data removed]",
      "text/plain": [
       "<Figure size 216x288 with 1 Axes>"
      ]
     },
     "metadata": {
      "needs_background": "light"
     },
     "output_type": "display_data"
    }
   ],
   "source": [
    "evaluate_model(lr_model, lr_extract_inputs, lr_extract_outputs)"
   ]
  },
  {
   "cell_type": "code",
   "execution_count": 206,
   "metadata": {},
   "outputs": [
    {
     "data": {
      "text/plain": [
       "[('scaler', StandardScaler()), ('classifier', LogisticRegression())]"
      ]
     },
     "execution_count": 206,
     "metadata": {},
     "output_type": "execute_result"
    }
   ],
   "source": [
    "lr_model.steps"
   ]
  },
  {
   "cell_type": "code",
   "execution_count": 207,
   "metadata": {},
   "outputs": [
    {
     "data": {
      "text/plain": [
       "array([[-0.15516493,  0.13319706,  0.15114202, -0.25704684,  0.24398031,\n",
       "         0.18347679, -0.07759843, -0.0915182 ,  0.13384634, -0.269782  ,\n",
       "        -0.79635342,  0.19473826,  0.5989088 ]])"
      ]
     },
     "execution_count": 207,
     "metadata": {},
     "output_type": "execute_result"
    }
   ],
   "source": [
    "clf = lr_model.steps[1][1]\n",
    "clf.coef_"
   ]
  },
  {
   "cell_type": "code",
   "execution_count": 208,
   "metadata": {},
   "outputs": [
    {
     "name": "stdout",
     "output_type": "stream",
     "text": [
      "age : -0.15516493297659023\n",
      "body_development : 0.13319706211939053\n",
      "DIB_placement_converted : 0.15114201583603978\n",
      "season_autumn : -0.257046835274387\n",
      "season_winter : 0.2439803083381703\n",
      "season_spring : 0.18347678891180605\n",
      "season_summer : -0.07759842599100897\n",
      "success_insemination_count : -0.09151819901360848\n",
      "success_natural_count : 0.1338463449148186\n",
      "fail_insemination_count : -0.26978200112076234\n",
      "fail_natural_count : -0.7963534175352326\n",
      "pregnant_after_count : 0.19473825667249453\n",
      "empty_after_count : 0.5989087964785288\n"
     ]
    }
   ],
   "source": [
    "for col_name, weight in zip(LR_INPUT_COLUMNS, clf.coef_[0]):\n",
    "    print(col_name, ':', weight)"
   ]
  },
  {
   "cell_type": "markdown",
   "metadata": {},
   "source": [
    "### Conclusión\n",
    "En este modelo, utilizando las métricas mencionadas anteriormente, obtuvimos un 65% en Accuracy y un 72% en Recall en la validación. Aunque el Accuracy no es muy alto, lo vemos aceptable; ya que encontramos más de la mitad de los casos"
   ]
  },
  {
   "cell_type": "markdown",
   "metadata": {},
   "source": [
    "## Segundo modelo: K nearest neighbors"
   ]
  },
  {
   "cell_type": "code",
   "execution_count": 209,
   "metadata": {},
   "outputs": [],
   "source": [
    "from sklearn.neighbors import KNeighborsClassifier"
   ]
  },
  {
   "cell_type": "code",
   "execution_count": 210,
   "metadata": {},
   "outputs": [],
   "source": [
    "K = 100\n",
    "\n",
    "knn_model = Pipeline([\n",
    "    ('scaler', StandardScaler()),\n",
    "    ('classifier', KNeighborsClassifier(n_neighbors=K)),\n",
    "])"
   ]
  },
  {
   "cell_type": "code",
   "execution_count": 211,
   "metadata": {},
   "outputs": [
    {
     "data": {
      "text/plain": [
       "Pipeline(steps=[('scaler', StandardScaler()),\n",
       "                ('classifier', KNeighborsClassifier(n_neighbors=100))])"
      ]
     },
     "execution_count": 211,
     "metadata": {},
     "output_type": "execute_result"
    }
   ],
   "source": [
    "knn_model.fit(\n",
    "    lr_extract_inputs(train),\n",
    "    lr_extract_outputs(train),\n",
    ")"
   ]
  },
  {
   "cell_type": "code",
   "execution_count": 212,
   "metadata": {},
   "outputs": [
    {
     "name": "stdout",
     "output_type": "stream",
     "text": [
      "train ################################################################################\n",
      "Accuracy: 0.6292517006802721\n",
      "Precision: 0.6358099878197321\n",
      "Recall: 0.7921092564491654\n",
      "\n"
     ]
    },
    {
     "data": {
      "image/png": "[encoded data removed]",
      "text/plain": [
       "<Figure size 216x288 with 1 Axes>"
      ]
     },
     "metadata": {
      "needs_background": "light"
     },
     "output_type": "display_data"
    },
    {
     "name": "stdout",
     "output_type": "stream",
     "text": [
      "test ################################################################################\n",
      "Accuracy: 0.6234096692111959\n",
      "Precision: 0.6267605633802817\n",
      "Recall: 0.8090909090909091\n",
      "\n"
     ]
    },
    {
     "data": {
      "image/png": "[encoded data removed]",
      "text/plain": [
       "<Figure size 216x288 with 1 Axes>"
      ]
     },
     "metadata": {
      "needs_background": "light"
     },
     "output_type": "display_data"
    }
   ],
   "source": [
    "evaluate_model(knn_model, lr_extract_inputs, lr_extract_outputs)"
   ]
  },
  {
   "cell_type": "markdown",
   "metadata": {},
   "source": [
    "### Conclusión\n",
    "Al diferencia del modelo anterior, obtuvimos en validación un 60% en Accuracy (%3 menos), un poco menor, y un 80% en Recall (%4 más).\n",
    "\n",
    "Podemos obervar también que los resultados de la validación son casi identicos a los del entrenamiento, lo que nos da indicios de que el modelo se comporta de la misma forma con datos nuevos."
   ]
  },
  {
   "cell_type": "markdown",
   "metadata": {},
   "source": [
    "## Tercer modelo: Decision Trees"
   ]
  },
  {
   "cell_type": "code",
   "execution_count": 213,
   "metadata": {},
   "outputs": [],
   "source": [
    "from sklearn.tree import DecisionTreeClassifier"
   ]
  },
  {
   "cell_type": "code",
   "execution_count": 214,
   "metadata": {},
   "outputs": [],
   "source": [
    "# final input columns, in the order we want to use them\n",
    "TREE_INPUT_COLUMNS = [\n",
    "    'age',\n",
    "    'body_development',\n",
    "    'DIB_placement_converted',\n",
    "    'season',\n",
    "    'success_reproduction_count',\n",
    "    #'success_insemination_count',\n",
    "    #'success_natural_count',\n",
    "    'fail_reproduction_count',\n",
    "    #'fail_insemination_count',\n",
    "    #'fail_natural_count',\n",
    "    'pregnant_after_count',\n",
    "    'empty_after_count',\n",
    "]\n",
    "\n",
    "\n",
    "def tree_extract_inputs(dataset):\n",
    "    \"\"\"\n",
    "    Inputs in the format supported by the logistic regressor.\n",
    "    \"\"\"\n",
    "    # we don't want to modify the original dataset, that we will use with other models\n",
    "    inputs = dataset.copy()\n",
    "    \n",
    "    # season to labels\n",
    "    inputs['season'] = inputs.season.map({'autumn': 1, 'winter': 2, 'spring': 3, 'summer': 4})\n",
    "\n",
    "    # return the raw numbers\n",
    "    return inputs[TREE_INPUT_COLUMNS].values\n",
    "\n",
    "def tree_extract_outputs(dataset):\n",
    "    \"\"\"\n",
    "    Outputs in the format supported by the logistic regressor.\n",
    "    \"\"\"\n",
    "    return dataset.transformed_reproduction_released.values"
   ]
  },
  {
   "cell_type": "code",
   "execution_count": 215,
   "metadata": {},
   "outputs": [],
   "source": [
    "tree_model = DecisionTreeClassifier(max_depth=6)"
   ]
  },
  {
   "cell_type": "code",
   "execution_count": 217,
   "metadata": {},
   "outputs": [
    {
     "data": {
      "text/plain": [
       "DecisionTreeClassifier(max_depth=6)"
      ]
     },
     "execution_count": 217,
     "metadata": {},
     "output_type": "execute_result"
    }
   ],
   "source": [
    "tree_model.fit(\n",
    "    tree_extract_inputs(train),\n",
    "    tree_extract_outputs(train),\n",
    ")"
   ]
  },
  {
   "cell_type": "code",
   "execution_count": 218,
   "metadata": {},
   "outputs": [
    {
     "name": "stdout",
     "output_type": "stream",
     "text": [
      "train ################################################################################\n",
      "Accuracy: 0.6972789115646258\n",
      "Precision: 0.6788665879574971\n",
      "Recall: 0.8725341426403642\n",
      "\n"
     ]
    },
    {
     "data": {
      "image/png": "[encoded data removed]",
      "text/plain": [
       "<Figure size 216x288 with 1 Axes>"
      ]
     },
     "metadata": {
      "needs_background": "light"
     },
     "output_type": "display_data"
    },
    {
     "name": "stdout",
     "output_type": "stream",
     "text": [
      "test ################################################################################\n",
      "Accuracy: 0.6412213740458015\n",
      "Precision: 0.6405693950177936\n",
      "Recall: 0.8181818181818182\n",
      "\n"
     ]
    },
    {
     "data": {
      "image/png": "[encoded data removed]",
      "text/plain": [
       "<Figure size 216x288 with 1 Axes>"
      ]
     },
     "metadata": {
      "needs_background": "light"
     },
     "output_type": "display_data"
    }
   ],
   "source": [
    "evaluate_model(tree_model, tree_extract_inputs, tree_extract_outputs)"
   ]
  },
  {
   "cell_type": "markdown",
   "metadata": {},
   "source": [
    "#### Conclusión\n",
    "En este modelo podemos observar que obtuvimos resultados mejores que con los dos anteriores. Podemos agrear que son más fáciles de sobrenrenar que la regresión lineal y el K-NN, ya que tuvimos que configurarlo con una profundidad máxima de 6 niveles porque arrojaba resultados por encima del 99% en el train y en el validation solo llegabamos al 60 %"
   ]
  },
  {
   "cell_type": "markdown",
   "metadata": {},
   "source": [
    "## Cuarto modelo: Random Forests"
   ]
  },
  {
   "cell_type": "code",
   "execution_count": 148,
   "metadata": {},
   "outputs": [],
   "source": [
    "from sklearn.ensemble import RandomForestClassifier"
   ]
  },
  {
   "cell_type": "code",
   "execution_count": 219,
   "metadata": {},
   "outputs": [],
   "source": [
    "forest_model = RandomForestClassifier(max_depth=10)\n",
    "# n_estimators? max_depth=3?, max_features=2?"
   ]
  },
  {
   "cell_type": "code",
   "execution_count": 220,
   "metadata": {},
   "outputs": [
    {
     "data": {
      "text/plain": [
       "RandomForestClassifier(max_depth=10)"
      ]
     },
     "execution_count": 220,
     "metadata": {},
     "output_type": "execute_result"
    }
   ],
   "source": [
    "forest_model.fit(\n",
    "    tree_extract_inputs(train),\n",
    "    tree_extract_outputs(train),\n",
    ")"
   ]
  },
  {
   "cell_type": "code",
   "execution_count": 221,
   "metadata": {
    "scrolled": false
   },
   "outputs": [
    {
     "name": "stdout",
     "output_type": "stream",
     "text": [
      "train ################################################################################\n",
      "Accuracy: 0.8069727891156463\n",
      "Precision: 0.7734177215189874\n",
      "Recall: 0.9271623672230652\n",
      "\n"
     ]
    },
    {
     "data": {
      "image/png": "[encoded data removed]",
      "text/plain": [
       "<Figure size 216x288 with 1 Axes>"
      ]
     },
     "metadata": {
      "needs_background": "light"
     },
     "output_type": "display_data"
    },
    {
     "name": "stdout",
     "output_type": "stream",
     "text": [
      "test ################################################################################\n",
      "Accuracy: 0.6641221374045801\n",
      "Precision: 0.6605839416058394\n",
      "Recall: 0.8227272727272728\n",
      "\n"
     ]
    },
    {
     "data": {
      "image/png": "[encoded data removed]",
      "text/plain": [
       "<Figure size 216x288 with 1 Axes>"
      ]
     },
     "metadata": {
      "needs_background": "light"
     },
     "output_type": "display_data"
    }
   ],
   "source": [
    "evaluate_model(forest_model, tree_extract_inputs, tree_extract_outputs)"
   ]
  },
  {
   "cell_type": "markdown",
   "metadata": {},
   "source": [
    "#### Conclusión\n",
    "Al igual que en el modelo anterior, obtuvimos resultados de Accuracy mejores que con la regresión lineal y el K-NN. Con resultados del 70% con Accuracy y 81 % con Recall concluimos que este modelo es menos conveniente que los anteriores."
   ]
  },
  {
   "cell_type": "markdown",
   "metadata": {},
   "source": [
    "## Fifth model: Gradient Boosted Trees"
   ]
  },
  {
   "cell_type": "code",
   "execution_count": 222,
   "metadata": {},
   "outputs": [],
   "source": [
    "from sklearn.ensemble import GradientBoostingClassifier"
   ]
  },
  {
   "cell_type": "code",
   "execution_count": 195,
   "metadata": {},
   "outputs": [],
   "source": [
    "boost_model = GradientBoostingClassifier()"
   ]
  },
  {
   "cell_type": "code",
   "execution_count": 223,
   "metadata": {},
   "outputs": [
    {
     "data": {
      "text/plain": [
       "GradientBoostingClassifier()"
      ]
     },
     "execution_count": 223,
     "metadata": {},
     "output_type": "execute_result"
    }
   ],
   "source": [
    "boost_model.fit(\n",
    "    tree_extract_inputs(train),\n",
    "    tree_extract_outputs(train),\n",
    ")"
   ]
  },
  {
   "cell_type": "code",
   "execution_count": 224,
   "metadata": {
    "scrolled": false
   },
   "outputs": [
    {
     "name": "stdout",
     "output_type": "stream",
     "text": [
      "train ################################################################################\n",
      "Accuracy: 0.7117346938775511\n",
      "Precision: 0.705655526992288\n",
      "Recall: 0.8330804248861912\n",
      "\n"
     ]
    },
    {
     "data": {
      "image/png": "[encoded data removed]",
      "text/plain": [
       "<Figure size 216x288 with 1 Axes>"
      ]
     },
     "metadata": {
      "needs_background": "light"
     },
     "output_type": "display_data"
    },
    {
     "name": "stdout",
     "output_type": "stream",
     "text": [
      "test ################################################################################\n",
      "Accuracy: 0.6615776081424937\n",
      "Precision: 0.6653992395437263\n",
      "Recall: 0.7954545454545454\n",
      "\n"
     ]
    },
    {
     "data": {
      "image/png": "[encoded data removed]",
      "text/plain": [
       "<Figure size 216x288 with 1 Axes>"
      ]
     },
     "metadata": {
      "needs_background": "light"
     },
     "output_type": "display_data"
    }
   ],
   "source": [
    "evaluate_model(boost_model, tree_extract_inputs, tree_extract_outputs)"
   ]
  },
  {
   "cell_type": "markdown",
   "metadata": {},
   "source": [
    "#### Conclusión\n",
    "Al igual que en el modelo anterior, obtuvimos resultados de Accuracy mejores que con la regresión lineal y el K-NN. Con resultados del 71% con Accuracy y 84 % con Recall concluimos que este modelo es menos conveniente que los anteriores."
   ]
  },
  {
   "cell_type": "markdown",
   "metadata": {},
   "source": [
    "## Sexto modelo: Neural Networks"
   ]
  },
  {
   "cell_type": "code",
   "execution_count": 94,
   "metadata": {},
   "outputs": [],
   "source": [
    "from keras.models import Sequential\n",
    "from keras.layers import Dense, Activation, Input, Dropout"
   ]
  },
  {
   "cell_type": "code",
   "execution_count": 185,
   "metadata": {},
   "outputs": [],
   "source": [
    "nn_model = Sequential([   \n",
    "    Dense(50, input_shape=(len(LR_INPUT_COLUMNS), )),\n",
    "    Activation('tanh'),\n",
    "    \n",
    "    # Dropout(0.1),\n",
    "\n",
    "    Dense(50),\n",
    "    Activation('tanh'),\n",
    "    \n",
    "    # Dropout(0.1),\n",
    "\n",
    "    Dense(1),\n",
    "    Activation('sigmoid'),\n",
    "])\n",
    "\n",
    "nn_model.compile(\n",
    "    optimizer='adam',\n",
    "    loss='binary_crossentropy',\n",
    "    metrics=['accuracy',],\n",
    ")"
   ]
  },
  {
   "cell_type": "code",
   "execution_count": 186,
   "metadata": {
    "scrolled": true
   },
   "outputs": [
    {
     "name": "stdout",
     "output_type": "stream",
     "text": [
      "Epoch 1/500\n",
      "10/10 [==============================] - 0s 12ms/step - loss: 0.7094 - accuracy: 0.5068 - val_loss: 0.6930 - val_accuracy: 0.5038\n",
      "Epoch 2/500\n",
      "10/10 [==============================] - 0s 3ms/step - loss: 0.6856 - accuracy: 0.5323 - val_loss: 0.6858 - val_accuracy: 0.5191\n",
      "Epoch 3/500\n",
      "10/10 [==============================] - 0s 5ms/step - loss: 0.6765 - accuracy: 0.5782 - val_loss: 0.6863 - val_accuracy: 0.5496\n",
      "Epoch 4/500\n",
      "10/10 [==============================] - 0s 5ms/step - loss: 0.6764 - accuracy: 0.5825 - val_loss: 0.6805 - val_accuracy: 0.5598\n",
      "Epoch 5/500\n",
      "10/10 [==============================] - 0s 5ms/step - loss: 0.6673 - accuracy: 0.6105 - val_loss: 0.6798 - val_accuracy: 0.5674\n",
      "Epoch 6/500\n",
      "10/10 [==============================] - 0s 6ms/step - loss: 0.6644 - accuracy: 0.6199 - val_loss: 0.6772 - val_accuracy: 0.5598\n",
      "Epoch 7/500\n",
      "10/10 [==============================] - 0s 4ms/step - loss: 0.6614 - accuracy: 0.6182 - val_loss: 0.6733 - val_accuracy: 0.5598\n",
      "Epoch 8/500\n",
      "10/10 [==============================] - 0s 4ms/step - loss: 0.6617 - accuracy: 0.6029 - val_loss: 0.6721 - val_accuracy: 0.5725\n",
      "Epoch 9/500\n",
      "10/10 [==============================] - 0s 5ms/step - loss: 0.6551 - accuracy: 0.6182 - val_loss: 0.6689 - val_accuracy: 0.5776\n",
      "Epoch 10/500\n",
      "10/10 [==============================] - 0s 4ms/step - loss: 0.6525 - accuracy: 0.6276 - val_loss: 0.6669 - val_accuracy: 0.5725\n",
      "Epoch 11/500\n",
      "10/10 [==============================] - 0s 5ms/step - loss: 0.6499 - accuracy: 0.6259 - val_loss: 0.6656 - val_accuracy: 0.5751\n",
      "Epoch 12/500\n",
      "10/10 [==============================] - 0s 5ms/step - loss: 0.6466 - accuracy: 0.6301 - val_loss: 0.6652 - val_accuracy: 0.5852\n",
      "Epoch 13/500\n",
      "10/10 [==============================] - 0s 4ms/step - loss: 0.6466 - accuracy: 0.6352 - val_loss: 0.6609 - val_accuracy: 0.6183\n",
      "Epoch 14/500\n",
      "10/10 [==============================] - 0s 4ms/step - loss: 0.6464 - accuracy: 0.6216 - val_loss: 0.6669 - val_accuracy: 0.5878\n",
      "Epoch 15/500\n",
      "10/10 [==============================] - 0s 4ms/step - loss: 0.6422 - accuracy: 0.6361 - val_loss: 0.6601 - val_accuracy: 0.6183\n",
      "Epoch 16/500\n",
      "10/10 [==============================] - 0s 4ms/step - loss: 0.6396 - accuracy: 0.6395 - val_loss: 0.6637 - val_accuracy: 0.5954\n",
      "Epoch 17/500\n",
      "10/10 [==============================] - 0s 4ms/step - loss: 0.6383 - accuracy: 0.6454 - val_loss: 0.6642 - val_accuracy: 0.6005\n",
      "Epoch 18/500\n",
      "10/10 [==============================] - 0s 4ms/step - loss: 0.6359 - accuracy: 0.6522 - val_loss: 0.6591 - val_accuracy: 0.6285\n",
      "Epoch 19/500\n",
      "10/10 [==============================] - 0s 4ms/step - loss: 0.6360 - accuracy: 0.6386 - val_loss: 0.6742 - val_accuracy: 0.5878\n",
      "Epoch 20/500\n",
      "10/10 [==============================] - 0s 4ms/step - loss: 0.6424 - accuracy: 0.6301 - val_loss: 0.6581 - val_accuracy: 0.6310\n",
      "Epoch 21/500\n",
      "10/10 [==============================] - 0s 7ms/step - loss: 0.6335 - accuracy: 0.6446 - val_loss: 0.6598 - val_accuracy: 0.6056\n",
      "Epoch 22/500\n",
      "10/10 [==============================] - 0s 4ms/step - loss: 0.6330 - accuracy: 0.6463 - val_loss: 0.6591 - val_accuracy: 0.6310\n",
      "Epoch 23/500\n",
      "10/10 [==============================] - 0s 3ms/step - loss: 0.6369 - accuracy: 0.6310 - val_loss: 0.6572 - val_accuracy: 0.6158\n",
      "Epoch 24/500\n",
      "10/10 [==============================] - 0s 6ms/step - loss: 0.6395 - accuracy: 0.6190 - val_loss: 0.6788 - val_accuracy: 0.5929\n",
      "Epoch 25/500\n",
      "10/10 [==============================] - 0s 4ms/step - loss: 0.6445 - accuracy: 0.6352 - val_loss: 0.6570 - val_accuracy: 0.6183\n",
      "Epoch 26/500\n",
      "10/10 [==============================] - 0s 4ms/step - loss: 0.6342 - accuracy: 0.6395 - val_loss: 0.6616 - val_accuracy: 0.6005\n",
      "Epoch 27/500\n",
      "10/10 [==============================] - 0s 4ms/step - loss: 0.6280 - accuracy: 0.6565 - val_loss: 0.6576 - val_accuracy: 0.6158\n",
      "Epoch 28/500\n",
      "10/10 [==============================] - 0s 6ms/step - loss: 0.6299 - accuracy: 0.6497 - val_loss: 0.6658 - val_accuracy: 0.6081\n",
      "Epoch 29/500\n",
      "10/10 [==============================] - 0s 5ms/step - loss: 0.6285 - accuracy: 0.6573 - val_loss: 0.6565 - val_accuracy: 0.6107\n",
      "Epoch 30/500\n",
      "10/10 [==============================] - 0s 6ms/step - loss: 0.6266 - accuracy: 0.6531 - val_loss: 0.6575 - val_accuracy: 0.6081\n",
      "Epoch 31/500\n",
      "10/10 [==============================] - 0s 9ms/step - loss: 0.6253 - accuracy: 0.6692 - val_loss: 0.6530 - val_accuracy: 0.6310\n",
      "Epoch 32/500\n",
      "10/10 [==============================] - 0s 5ms/step - loss: 0.6250 - accuracy: 0.6548 - val_loss: 0.6522 - val_accuracy: 0.6336\n",
      "Epoch 33/500\n",
      "10/10 [==============================] - 0s 4ms/step - loss: 0.6267 - accuracy: 0.6556 - val_loss: 0.6566 - val_accuracy: 0.6107\n",
      "Epoch 34/500\n",
      "10/10 [==============================] - 0s 4ms/step - loss: 0.6246 - accuracy: 0.6590 - val_loss: 0.6502 - val_accuracy: 0.6361\n",
      "Epoch 35/500\n",
      "10/10 [==============================] - 0s 5ms/step - loss: 0.6241 - accuracy: 0.6565 - val_loss: 0.6505 - val_accuracy: 0.6361\n",
      "Epoch 36/500\n",
      "10/10 [==============================] - 0s 5ms/step - loss: 0.6218 - accuracy: 0.6488 - val_loss: 0.6536 - val_accuracy: 0.6310\n",
      "Epoch 37/500\n",
      "10/10 [==============================] - 0s 5ms/step - loss: 0.6228 - accuracy: 0.6641 - val_loss: 0.6540 - val_accuracy: 0.6387\n",
      "Epoch 38/500\n",
      "10/10 [==============================] - 0s 4ms/step - loss: 0.6214 - accuracy: 0.6471 - val_loss: 0.6540 - val_accuracy: 0.6158\n",
      "Epoch 39/500\n",
      "10/10 [==============================] - 0s 4ms/step - loss: 0.6215 - accuracy: 0.6582 - val_loss: 0.6514 - val_accuracy: 0.6361\n",
      "Epoch 40/500\n",
      "10/10 [==============================] - 0s 4ms/step - loss: 0.6232 - accuracy: 0.6539 - val_loss: 0.6696 - val_accuracy: 0.6132\n",
      "Epoch 41/500\n",
      "10/10 [==============================] - 0s 4ms/step - loss: 0.6260 - accuracy: 0.6514 - val_loss: 0.6551 - val_accuracy: 0.6438\n",
      "Epoch 42/500\n",
      "10/10 [==============================] - 0s 4ms/step - loss: 0.6233 - accuracy: 0.6531 - val_loss: 0.6663 - val_accuracy: 0.6285\n",
      "Epoch 43/500\n",
      "10/10 [==============================] - 0s 4ms/step - loss: 0.6192 - accuracy: 0.6590 - val_loss: 0.6530 - val_accuracy: 0.6387\n",
      "Epoch 44/500\n",
      "10/10 [==============================] - 0s 4ms/step - loss: 0.6175 - accuracy: 0.6658 - val_loss: 0.6614 - val_accuracy: 0.6132\n",
      "Epoch 45/500\n",
      "10/10 [==============================] - 0s 4ms/step - loss: 0.6184 - accuracy: 0.6624 - val_loss: 0.6491 - val_accuracy: 0.6387\n",
      "Epoch 46/500\n",
      "10/10 [==============================] - 0s 5ms/step - loss: 0.6157 - accuracy: 0.6650 - val_loss: 0.6578 - val_accuracy: 0.6132\n",
      "Epoch 47/500\n",
      "10/10 [==============================] - 0s 6ms/step - loss: 0.6173 - accuracy: 0.6539 - val_loss: 0.6498 - val_accuracy: 0.6438\n",
      "Epoch 48/500\n",
      "10/10 [==============================] - 0s 4ms/step - loss: 0.6170 - accuracy: 0.6539 - val_loss: 0.6602 - val_accuracy: 0.6209\n",
      "Epoch 49/500\n",
      "10/10 [==============================] - 0s 5ms/step - loss: 0.6191 - accuracy: 0.6582 - val_loss: 0.6441 - val_accuracy: 0.6463\n",
      "Epoch 50/500\n",
      "10/10 [==============================] - 0s 4ms/step - loss: 0.6150 - accuracy: 0.6497 - val_loss: 0.6484 - val_accuracy: 0.6158\n",
      "Epoch 51/500\n",
      "10/10 [==============================] - 0s 4ms/step - loss: 0.6138 - accuracy: 0.6607 - val_loss: 0.6435 - val_accuracy: 0.6412\n",
      "Epoch 52/500\n",
      "10/10 [==============================] - 0s 5ms/step - loss: 0.6150 - accuracy: 0.6565 - val_loss: 0.6458 - val_accuracy: 0.6463\n",
      "Epoch 53/500\n",
      "10/10 [==============================] - 0s 7ms/step - loss: 0.6167 - accuracy: 0.6556 - val_loss: 0.6483 - val_accuracy: 0.6336\n",
      "Epoch 54/500\n",
      "10/10 [==============================] - 0s 5ms/step - loss: 0.6134 - accuracy: 0.6786 - val_loss: 0.6521 - val_accuracy: 0.6285\n",
      "Epoch 55/500\n",
      "10/10 [==============================] - 0s 4ms/step - loss: 0.6131 - accuracy: 0.6599 - val_loss: 0.6439 - val_accuracy: 0.6412\n",
      "Epoch 56/500\n",
      "10/10 [==============================] - 0s 8ms/step - loss: 0.6176 - accuracy: 0.6590 - val_loss: 0.6421 - val_accuracy: 0.6514\n",
      "Epoch 57/500\n",
      "10/10 [==============================] - 0s 7ms/step - loss: 0.6172 - accuracy: 0.6590 - val_loss: 0.6598 - val_accuracy: 0.6132\n",
      "Epoch 58/500\n",
      "10/10 [==============================] - 0s 5ms/step - loss: 0.6128 - accuracy: 0.6607 - val_loss: 0.6397 - val_accuracy: 0.6565\n"
     ]
    },
    {
     "name": "stdout",
     "output_type": "stream",
     "text": [
      "Epoch 59/500\n",
      "10/10 [==============================] - 0s 4ms/step - loss: 0.6087 - accuracy: 0.6641 - val_loss: 0.6470 - val_accuracy: 0.6234\n",
      "Epoch 60/500\n",
      "10/10 [==============================] - 0s 3ms/step - loss: 0.6117 - accuracy: 0.6709 - val_loss: 0.6427 - val_accuracy: 0.6489\n",
      "Epoch 61/500\n",
      "10/10 [==============================] - 0s 4ms/step - loss: 0.6086 - accuracy: 0.6726 - val_loss: 0.6397 - val_accuracy: 0.6489\n",
      "Epoch 62/500\n",
      "10/10 [==============================] - 0s 5ms/step - loss: 0.6086 - accuracy: 0.6709 - val_loss: 0.6430 - val_accuracy: 0.6336\n",
      "Epoch 63/500\n",
      "10/10 [==============================] - 0s 5ms/step - loss: 0.6110 - accuracy: 0.6650 - val_loss: 0.6388 - val_accuracy: 0.6539\n",
      "Epoch 64/500\n",
      "10/10 [==============================] - 0s 3ms/step - loss: 0.6066 - accuracy: 0.6692 - val_loss: 0.6466 - val_accuracy: 0.6285\n",
      "Epoch 65/500\n",
      "10/10 [==============================] - 0s 4ms/step - loss: 0.6063 - accuracy: 0.6667 - val_loss: 0.6459 - val_accuracy: 0.6489\n",
      "Epoch 66/500\n",
      "10/10 [==============================] - 0s 3ms/step - loss: 0.6059 - accuracy: 0.6837 - val_loss: 0.6407 - val_accuracy: 0.6514\n",
      "Epoch 67/500\n",
      "10/10 [==============================] - 0s 3ms/step - loss: 0.6060 - accuracy: 0.6692 - val_loss: 0.6444 - val_accuracy: 0.6489\n",
      "Epoch 68/500\n",
      "10/10 [==============================] - 0s 3ms/step - loss: 0.6058 - accuracy: 0.6718 - val_loss: 0.6373 - val_accuracy: 0.6667\n",
      "Epoch 69/500\n",
      "10/10 [==============================] - 0s 3ms/step - loss: 0.6040 - accuracy: 0.6820 - val_loss: 0.6464 - val_accuracy: 0.6310\n",
      "Epoch 70/500\n",
      "10/10 [==============================] - 0s 4ms/step - loss: 0.6073 - accuracy: 0.6726 - val_loss: 0.6377 - val_accuracy: 0.6641\n",
      "Epoch 71/500\n",
      "10/10 [==============================] - 0s 4ms/step - loss: 0.6056 - accuracy: 0.6718 - val_loss: 0.6537 - val_accuracy: 0.6260\n",
      "Epoch 72/500\n",
      "10/10 [==============================] - 0s 4ms/step - loss: 0.6043 - accuracy: 0.6820 - val_loss: 0.6391 - val_accuracy: 0.6616\n",
      "Epoch 73/500\n",
      "10/10 [==============================] - 0s 5ms/step - loss: 0.6040 - accuracy: 0.6760 - val_loss: 0.6400 - val_accuracy: 0.6514\n",
      "Epoch 74/500\n",
      "10/10 [==============================] - 0s 6ms/step - loss: 0.6027 - accuracy: 0.6811 - val_loss: 0.6350 - val_accuracy: 0.6641\n",
      "Epoch 75/500\n",
      "10/10 [==============================] - 0s 6ms/step - loss: 0.6023 - accuracy: 0.6803 - val_loss: 0.6523 - val_accuracy: 0.6209\n",
      "Epoch 76/500\n",
      "10/10 [==============================] - 0s 5ms/step - loss: 0.6147 - accuracy: 0.6522 - val_loss: 0.6373 - val_accuracy: 0.6692\n",
      "Epoch 77/500\n",
      "10/10 [==============================] - 0s 4ms/step - loss: 0.6063 - accuracy: 0.6684 - val_loss: 0.6461 - val_accuracy: 0.6310\n",
      "Epoch 78/500\n",
      "10/10 [==============================] - 0s 5ms/step - loss: 0.6077 - accuracy: 0.6658 - val_loss: 0.6346 - val_accuracy: 0.6539\n",
      "Epoch 79/500\n",
      "10/10 [==============================] - 0s 8ms/step - loss: 0.6009 - accuracy: 0.6820 - val_loss: 0.6327 - val_accuracy: 0.6565\n",
      "Epoch 80/500\n",
      "10/10 [==============================] - 0s 5ms/step - loss: 0.6048 - accuracy: 0.6667 - val_loss: 0.6455 - val_accuracy: 0.6260\n",
      "Epoch 81/500\n",
      "10/10 [==============================] - 0s 3ms/step - loss: 0.6008 - accuracy: 0.6845 - val_loss: 0.6325 - val_accuracy: 0.6616\n",
      "Epoch 82/500\n",
      "10/10 [==============================] - 0s 4ms/step - loss: 0.5991 - accuracy: 0.6828 - val_loss: 0.6489 - val_accuracy: 0.6234\n",
      "Epoch 83/500\n",
      "10/10 [==============================] - 0s 4ms/step - loss: 0.6040 - accuracy: 0.6658 - val_loss: 0.6363 - val_accuracy: 0.6565\n",
      "Epoch 84/500\n",
      "10/10 [==============================] - 0s 4ms/step - loss: 0.5980 - accuracy: 0.6947 - val_loss: 0.6397 - val_accuracy: 0.6361\n",
      "Epoch 85/500\n",
      "10/10 [==============================] - 0s 4ms/step - loss: 0.5976 - accuracy: 0.6905 - val_loss: 0.6318 - val_accuracy: 0.6590\n",
      "Epoch 86/500\n",
      "10/10 [==============================] - 0s 4ms/step - loss: 0.5975 - accuracy: 0.6803 - val_loss: 0.6360 - val_accuracy: 0.6539\n",
      "Epoch 87/500\n",
      "10/10 [==============================] - 0s 4ms/step - loss: 0.5969 - accuracy: 0.6862 - val_loss: 0.6329 - val_accuracy: 0.6565\n",
      "Epoch 88/500\n",
      "10/10 [==============================] - 0s 6ms/step - loss: 0.5969 - accuracy: 0.6930 - val_loss: 0.6298 - val_accuracy: 0.6590\n",
      "Epoch 89/500\n",
      "10/10 [==============================] - 0s 3ms/step - loss: 0.6017 - accuracy: 0.6786 - val_loss: 0.6537 - val_accuracy: 0.6310\n",
      "Epoch 90/500\n",
      "10/10 [==============================] - 0s 4ms/step - loss: 0.6028 - accuracy: 0.6786 - val_loss: 0.6348 - val_accuracy: 0.6565\n",
      "Epoch 91/500\n",
      "10/10 [==============================] - 0s 4ms/step - loss: 0.5997 - accuracy: 0.6794 - val_loss: 0.6358 - val_accuracy: 0.6412\n",
      "Epoch 92/500\n",
      "10/10 [==============================] - 0s 4ms/step - loss: 0.5959 - accuracy: 0.6964 - val_loss: 0.6329 - val_accuracy: 0.6514\n",
      "Epoch 93/500\n",
      "10/10 [==============================] - 0s 5ms/step - loss: 0.5936 - accuracy: 0.6947 - val_loss: 0.6363 - val_accuracy: 0.6489\n",
      "Epoch 94/500\n",
      "10/10 [==============================] - 0s 4ms/step - loss: 0.5933 - accuracy: 0.6930 - val_loss: 0.6325 - val_accuracy: 0.6539\n",
      "Epoch 95/500\n",
      "10/10 [==============================] - 0s 4ms/step - loss: 0.5940 - accuracy: 0.6837 - val_loss: 0.6351 - val_accuracy: 0.6565\n",
      "Epoch 96/500\n",
      "10/10 [==============================] - 0s 4ms/step - loss: 0.5965 - accuracy: 0.6828 - val_loss: 0.6367 - val_accuracy: 0.6692\n",
      "Epoch 97/500\n",
      "10/10 [==============================] - 0s 4ms/step - loss: 0.6076 - accuracy: 0.6548 - val_loss: 0.6459 - val_accuracy: 0.6260\n",
      "Epoch 98/500\n",
      "10/10 [==============================] - 0s 4ms/step - loss: 0.5958 - accuracy: 0.6786 - val_loss: 0.6305 - val_accuracy: 0.6667\n",
      "Epoch 99/500\n",
      "10/10 [==============================] - 0s 4ms/step - loss: 0.5912 - accuracy: 0.7007 - val_loss: 0.6372 - val_accuracy: 0.6336\n",
      "Epoch 100/500\n",
      "10/10 [==============================] - 0s 3ms/step - loss: 0.5921 - accuracy: 0.6820 - val_loss: 0.6311 - val_accuracy: 0.6667\n",
      "Epoch 101/500\n",
      "10/10 [==============================] - 0s 4ms/step - loss: 0.5935 - accuracy: 0.6794 - val_loss: 0.6454 - val_accuracy: 0.6336\n",
      "Epoch 102/500\n",
      "10/10 [==============================] - 0s 5ms/step - loss: 0.5998 - accuracy: 0.6811 - val_loss: 0.6303 - val_accuracy: 0.6590\n",
      "Epoch 103/500\n",
      "10/10 [==============================] - 0s 4ms/step - loss: 0.5896 - accuracy: 0.6879 - val_loss: 0.6427 - val_accuracy: 0.6361\n",
      "Epoch 104/500\n",
      "10/10 [==============================] - 0s 4ms/step - loss: 0.5947 - accuracy: 0.6828 - val_loss: 0.6337 - val_accuracy: 0.6565\n",
      "Epoch 105/500\n",
      "10/10 [==============================] - 0s 4ms/step - loss: 0.5906 - accuracy: 0.6905 - val_loss: 0.6295 - val_accuracy: 0.6590\n",
      "Epoch 106/500\n",
      "10/10 [==============================] - 0s 4ms/step - loss: 0.5887 - accuracy: 0.6888 - val_loss: 0.6352 - val_accuracy: 0.6514\n",
      "Epoch 107/500\n",
      "10/10 [==============================] - 0s 4ms/step - loss: 0.5927 - accuracy: 0.6845 - val_loss: 0.6416 - val_accuracy: 0.6438\n",
      "Epoch 108/500\n",
      "10/10 [==============================] - 0s 4ms/step - loss: 0.6020 - accuracy: 0.6650 - val_loss: 0.6297 - val_accuracy: 0.6692\n",
      "Epoch 109/500\n",
      "10/10 [==============================] - 0s 4ms/step - loss: 0.6028 - accuracy: 0.6590 - val_loss: 0.6435 - val_accuracy: 0.6310\n",
      "Epoch 110/500\n",
      "10/10 [==============================] - 0s 4ms/step - loss: 0.6027 - accuracy: 0.6718 - val_loss: 0.6355 - val_accuracy: 0.6667\n",
      "Epoch 111/500\n",
      "10/10 [==============================] - 0s 4ms/step - loss: 0.6019 - accuracy: 0.6811 - val_loss: 0.6363 - val_accuracy: 0.6438\n",
      "Epoch 112/500\n",
      "10/10 [==============================] - 0s 4ms/step - loss: 0.5902 - accuracy: 0.6854 - val_loss: 0.6264 - val_accuracy: 0.6641\n",
      "Epoch 113/500\n",
      "10/10 [==============================] - 0s 4ms/step - loss: 0.5891 - accuracy: 0.6828 - val_loss: 0.6289 - val_accuracy: 0.6641\n",
      "Epoch 114/500\n",
      "10/10 [==============================] - 0s 5ms/step - loss: 0.5968 - accuracy: 0.6803 - val_loss: 0.6374 - val_accuracy: 0.6412\n",
      "Epoch 115/500\n",
      "10/10 [==============================] - 0s 5ms/step - loss: 0.5981 - accuracy: 0.6684 - val_loss: 0.6264 - val_accuracy: 0.6641\n",
      "Epoch 116/500\n"
     ]
    },
    {
     "name": "stdout",
     "output_type": "stream",
     "text": [
      "10/10 [==============================] - 0s 5ms/step - loss: 0.5891 - accuracy: 0.6905 - val_loss: 0.6366 - val_accuracy: 0.6463\n",
      "Epoch 117/500\n",
      "10/10 [==============================] - 0s 4ms/step - loss: 0.5878 - accuracy: 0.6896 - val_loss: 0.6265 - val_accuracy: 0.6539\n",
      "Epoch 118/500\n",
      "10/10 [==============================] - 0s 3ms/step - loss: 0.5930 - accuracy: 0.6735 - val_loss: 0.6305 - val_accuracy: 0.6387\n",
      "Epoch 119/500\n",
      "10/10 [==============================] - 0s 4ms/step - loss: 0.5839 - accuracy: 0.6956 - val_loss: 0.6290 - val_accuracy: 0.6539\n",
      "Epoch 120/500\n",
      "10/10 [==============================] - 0s 4ms/step - loss: 0.5833 - accuracy: 0.6964 - val_loss: 0.6274 - val_accuracy: 0.6616\n",
      "Epoch 121/500\n",
      "10/10 [==============================] - 0s 4ms/step - loss: 0.5849 - accuracy: 0.6964 - val_loss: 0.6288 - val_accuracy: 0.6590\n",
      "Epoch 122/500\n",
      "10/10 [==============================] - 0s 4ms/step - loss: 0.5818 - accuracy: 0.6947 - val_loss: 0.6257 - val_accuracy: 0.6616\n",
      "Epoch 123/500\n",
      "10/10 [==============================] - 0s 4ms/step - loss: 0.5823 - accuracy: 0.6981 - val_loss: 0.6295 - val_accuracy: 0.6565\n",
      "Epoch 124/500\n",
      "10/10 [==============================] - 0s 4ms/step - loss: 0.5795 - accuracy: 0.6964 - val_loss: 0.6256 - val_accuracy: 0.6590\n",
      "Epoch 125/500\n",
      "10/10 [==============================] - 0s 4ms/step - loss: 0.5802 - accuracy: 0.7049 - val_loss: 0.6250 - val_accuracy: 0.6565\n",
      "Epoch 126/500\n",
      "10/10 [==============================] - 0s 5ms/step - loss: 0.5791 - accuracy: 0.7032 - val_loss: 0.6231 - val_accuracy: 0.6641\n",
      "Epoch 127/500\n",
      "10/10 [==============================] - 0s 4ms/step - loss: 0.5793 - accuracy: 0.7032 - val_loss: 0.6270 - val_accuracy: 0.6616\n",
      "Epoch 128/500\n",
      "10/10 [==============================] - 0s 4ms/step - loss: 0.5797 - accuracy: 0.7041 - val_loss: 0.6231 - val_accuracy: 0.6667\n",
      "Epoch 129/500\n",
      "10/10 [==============================] - 0s 5ms/step - loss: 0.5799 - accuracy: 0.6973 - val_loss: 0.6251 - val_accuracy: 0.6641\n",
      "Epoch 130/500\n",
      "10/10 [==============================] - 0s 4ms/step - loss: 0.5781 - accuracy: 0.7015 - val_loss: 0.6272 - val_accuracy: 0.6616\n",
      "Epoch 131/500\n",
      "10/10 [==============================] - 0s 4ms/step - loss: 0.5776 - accuracy: 0.7015 - val_loss: 0.6286 - val_accuracy: 0.6565\n",
      "Epoch 132/500\n",
      "10/10 [==============================] - 0s 4ms/step - loss: 0.5796 - accuracy: 0.7007 - val_loss: 0.6350 - val_accuracy: 0.6514\n",
      "Epoch 133/500\n",
      "10/10 [==============================] - 0s 4ms/step - loss: 0.5802 - accuracy: 0.6913 - val_loss: 0.6317 - val_accuracy: 0.6616\n",
      "Epoch 134/500\n",
      "10/10 [==============================] - 0s 5ms/step - loss: 0.5763 - accuracy: 0.7007 - val_loss: 0.6241 - val_accuracy: 0.6539\n",
      "Epoch 135/500\n",
      "10/10 [==============================] - 0s 4ms/step - loss: 0.5773 - accuracy: 0.6981 - val_loss: 0.6226 - val_accuracy: 0.6641\n",
      "Epoch 136/500\n",
      "10/10 [==============================] - 0s 5ms/step - loss: 0.5755 - accuracy: 0.6956 - val_loss: 0.6238 - val_accuracy: 0.6692\n",
      "Epoch 137/500\n",
      "10/10 [==============================] - 0s 4ms/step - loss: 0.5766 - accuracy: 0.6998 - val_loss: 0.6229 - val_accuracy: 0.6616\n",
      "Epoch 138/500\n",
      "10/10 [==============================] - 0s 6ms/step - loss: 0.5785 - accuracy: 0.6990 - val_loss: 0.6276 - val_accuracy: 0.6667\n",
      "Epoch 139/500\n",
      "10/10 [==============================] - 0s 4ms/step - loss: 0.5730 - accuracy: 0.7041 - val_loss: 0.6208 - val_accuracy: 0.6616\n",
      "Epoch 140/500\n",
      "10/10 [==============================] - 0s 4ms/step - loss: 0.5720 - accuracy: 0.7066 - val_loss: 0.6315 - val_accuracy: 0.6590\n",
      "Epoch 141/500\n",
      "10/10 [==============================] - 0s 5ms/step - loss: 0.5725 - accuracy: 0.6964 - val_loss: 0.6241 - val_accuracy: 0.6565\n",
      "Epoch 142/500\n",
      "10/10 [==============================] - 0s 4ms/step - loss: 0.5763 - accuracy: 0.6956 - val_loss: 0.6287 - val_accuracy: 0.6539\n",
      "Epoch 143/500\n",
      "10/10 [==============================] - 0s 4ms/step - loss: 0.5714 - accuracy: 0.7015 - val_loss: 0.6211 - val_accuracy: 0.6539\n",
      "Epoch 144/500\n",
      "10/10 [==============================] - 0s 5ms/step - loss: 0.5722 - accuracy: 0.6981 - val_loss: 0.6263 - val_accuracy: 0.6641\n",
      "Epoch 145/500\n",
      "10/10 [==============================] - 0s 4ms/step - loss: 0.5712 - accuracy: 0.7041 - val_loss: 0.6214 - val_accuracy: 0.6565\n",
      "Epoch 146/500\n",
      "10/10 [==============================] - 0s 4ms/step - loss: 0.5706 - accuracy: 0.6922 - val_loss: 0.6299 - val_accuracy: 0.6590\n",
      "Epoch 147/500\n",
      "10/10 [==============================] - 0s 4ms/step - loss: 0.5767 - accuracy: 0.7015 - val_loss: 0.6185 - val_accuracy: 0.6794\n",
      "Epoch 148/500\n",
      "10/10 [==============================] - 0s 5ms/step - loss: 0.5713 - accuracy: 0.6990 - val_loss: 0.6263 - val_accuracy: 0.6565\n",
      "Epoch 149/500\n",
      "10/10 [==============================] - 0s 3ms/step - loss: 0.5697 - accuracy: 0.7049 - val_loss: 0.6141 - val_accuracy: 0.6794\n",
      "Epoch 150/500\n",
      "10/10 [==============================] - 0s 4ms/step - loss: 0.5684 - accuracy: 0.7049 - val_loss: 0.6196 - val_accuracy: 0.6667\n",
      "Epoch 151/500\n",
      "10/10 [==============================] - 0s 4ms/step - loss: 0.5680 - accuracy: 0.7049 - val_loss: 0.6231 - val_accuracy: 0.6692\n",
      "Epoch 152/500\n",
      "10/10 [==============================] - 0s 4ms/step - loss: 0.5682 - accuracy: 0.7058 - val_loss: 0.6182 - val_accuracy: 0.6667\n",
      "Epoch 153/500\n",
      "10/10 [==============================] - 0s 4ms/step - loss: 0.5677 - accuracy: 0.7049 - val_loss: 0.6216 - val_accuracy: 0.6667\n",
      "Epoch 154/500\n",
      "10/10 [==============================] - 0s 4ms/step - loss: 0.5677 - accuracy: 0.7015 - val_loss: 0.6190 - val_accuracy: 0.6692\n",
      "Epoch 155/500\n",
      "10/10 [==============================] - 0s 3ms/step - loss: 0.5660 - accuracy: 0.7092 - val_loss: 0.6259 - val_accuracy: 0.6692\n",
      "Epoch 156/500\n",
      "10/10 [==============================] - 0s 4ms/step - loss: 0.5697 - accuracy: 0.6879 - val_loss: 0.6231 - val_accuracy: 0.6768\n",
      "Epoch 157/500\n",
      "10/10 [==============================] - 0s 4ms/step - loss: 0.5685 - accuracy: 0.7075 - val_loss: 0.6210 - val_accuracy: 0.6565\n",
      "Epoch 158/500\n",
      "10/10 [==============================] - 0s 4ms/step - loss: 0.5667 - accuracy: 0.7049 - val_loss: 0.6212 - val_accuracy: 0.6692\n",
      "Epoch 159/500\n",
      "10/10 [==============================] - 0s 4ms/step - loss: 0.5620 - accuracy: 0.7109 - val_loss: 0.6168 - val_accuracy: 0.6794\n",
      "Epoch 160/500\n",
      "10/10 [==============================] - 0s 3ms/step - loss: 0.5626 - accuracy: 0.7015 - val_loss: 0.6194 - val_accuracy: 0.6743\n",
      "Epoch 161/500\n",
      "10/10 [==============================] - 0s 4ms/step - loss: 0.5623 - accuracy: 0.7024 - val_loss: 0.6243 - val_accuracy: 0.6590\n",
      "Epoch 162/500\n",
      "10/10 [==============================] - 0s 3ms/step - loss: 0.5632 - accuracy: 0.7058 - val_loss: 0.6318 - val_accuracy: 0.6463\n",
      "Epoch 163/500\n",
      "10/10 [==============================] - 0s 4ms/step - loss: 0.5624 - accuracy: 0.7007 - val_loss: 0.6203 - val_accuracy: 0.6743\n",
      "Epoch 164/500\n",
      "10/10 [==============================] - 0s 3ms/step - loss: 0.5637 - accuracy: 0.7066 - val_loss: 0.6190 - val_accuracy: 0.6641\n",
      "Epoch 165/500\n",
      "10/10 [==============================] - 0s 4ms/step - loss: 0.5642 - accuracy: 0.6956 - val_loss: 0.6288 - val_accuracy: 0.6514\n",
      "Epoch 166/500\n",
      "10/10 [==============================] - 0s 6ms/step - loss: 0.5616 - accuracy: 0.7160 - val_loss: 0.6154 - val_accuracy: 0.6692\n",
      "Epoch 167/500\n",
      "10/10 [==============================] - 0s 4ms/step - loss: 0.5613 - accuracy: 0.7083 - val_loss: 0.6214 - val_accuracy: 0.6539\n",
      "Epoch 168/500\n",
      "10/10 [==============================] - 0s 4ms/step - loss: 0.5657 - accuracy: 0.6964 - val_loss: 0.6241 - val_accuracy: 0.6692\n",
      "Epoch 169/500\n",
      "10/10 [==============================] - 0s 4ms/step - loss: 0.5575 - accuracy: 0.7143 - val_loss: 0.6172 - val_accuracy: 0.6616\n",
      "Epoch 170/500\n",
      "10/10 [==============================] - 0s 3ms/step - loss: 0.5585 - accuracy: 0.7092 - val_loss: 0.6155 - val_accuracy: 0.6667\n",
      "Epoch 171/500\n",
      "10/10 [==============================] - 0s 4ms/step - loss: 0.5573 - accuracy: 0.7100 - val_loss: 0.6161 - val_accuracy: 0.6794\n",
      "Epoch 172/500\n",
      "10/10 [==============================] - 0s 3ms/step - loss: 0.5582 - accuracy: 0.7134 - val_loss: 0.6220 - val_accuracy: 0.6616\n",
      "Epoch 173/500\n"
     ]
    },
    {
     "name": "stdout",
     "output_type": "stream",
     "text": [
      "10/10 [==============================] - 0s 4ms/step - loss: 0.5590 - accuracy: 0.7126 - val_loss: 0.6231 - val_accuracy: 0.6616\n",
      "Epoch 174/500\n",
      "10/10 [==============================] - 0s 8ms/step - loss: 0.5554 - accuracy: 0.7134 - val_loss: 0.6142 - val_accuracy: 0.6947\n",
      "Epoch 175/500\n",
      "10/10 [==============================] - 0s 4ms/step - loss: 0.5595 - accuracy: 0.7117 - val_loss: 0.6210 - val_accuracy: 0.6718\n",
      "Epoch 176/500\n",
      "10/10 [==============================] - 0s 4ms/step - loss: 0.5557 - accuracy: 0.7109 - val_loss: 0.6258 - val_accuracy: 0.6539\n",
      "Epoch 177/500\n",
      "10/10 [==============================] - 0s 5ms/step - loss: 0.5546 - accuracy: 0.7109 - val_loss: 0.6212 - val_accuracy: 0.6718\n",
      "Epoch 178/500\n",
      "10/10 [==============================] - 0s 3ms/step - loss: 0.5543 - accuracy: 0.7100 - val_loss: 0.6164 - val_accuracy: 0.6514\n",
      "Epoch 179/500\n",
      "10/10 [==============================] - 0s 4ms/step - loss: 0.5542 - accuracy: 0.7143 - val_loss: 0.6245 - val_accuracy: 0.6616\n",
      "Epoch 180/500\n",
      "10/10 [==============================] - 0s 3ms/step - loss: 0.5560 - accuracy: 0.7007 - val_loss: 0.6206 - val_accuracy: 0.6667\n",
      "Epoch 181/500\n",
      "10/10 [==============================] - 0s 3ms/step - loss: 0.5520 - accuracy: 0.7134 - val_loss: 0.6204 - val_accuracy: 0.6718\n",
      "Epoch 182/500\n",
      "10/10 [==============================] - 0s 4ms/step - loss: 0.5518 - accuracy: 0.7177 - val_loss: 0.6165 - val_accuracy: 0.6947\n",
      "Epoch 183/500\n",
      "10/10 [==============================] - 0s 4ms/step - loss: 0.5515 - accuracy: 0.7211 - val_loss: 0.6205 - val_accuracy: 0.6718\n",
      "Epoch 184/500\n",
      "10/10 [==============================] - 0s 5ms/step - loss: 0.5502 - accuracy: 0.7151 - val_loss: 0.6176 - val_accuracy: 0.6768\n",
      "Epoch 185/500\n",
      "10/10 [==============================] - 0s 4ms/step - loss: 0.5507 - accuracy: 0.7151 - val_loss: 0.6277 - val_accuracy: 0.6641\n",
      "Epoch 186/500\n",
      "10/10 [==============================] - 0s 4ms/step - loss: 0.5511 - accuracy: 0.7126 - val_loss: 0.6266 - val_accuracy: 0.6718\n",
      "Epoch 187/500\n",
      "10/10 [==============================] - 0s 3ms/step - loss: 0.5537 - accuracy: 0.7134 - val_loss: 0.6215 - val_accuracy: 0.6616\n",
      "Epoch 188/500\n",
      "10/10 [==============================] - 0s 5ms/step - loss: 0.5478 - accuracy: 0.7058 - val_loss: 0.6398 - val_accuracy: 0.6463\n",
      "Epoch 189/500\n",
      "10/10 [==============================] - 0s 4ms/step - loss: 0.5453 - accuracy: 0.7194 - val_loss: 0.6257 - val_accuracy: 0.6896\n",
      "Epoch 190/500\n",
      "10/10 [==============================] - 0s 4ms/step - loss: 0.5634 - accuracy: 0.6956 - val_loss: 0.6409 - val_accuracy: 0.6361\n",
      "Epoch 191/500\n",
      "10/10 [==============================] - 0s 4ms/step - loss: 0.5460 - accuracy: 0.7194 - val_loss: 0.6254 - val_accuracy: 0.6870\n",
      "Epoch 192/500\n",
      "10/10 [==============================] - 0s 3ms/step - loss: 0.5572 - accuracy: 0.7075 - val_loss: 0.6406 - val_accuracy: 0.6489\n",
      "Epoch 193/500\n",
      "10/10 [==============================] - 0s 5ms/step - loss: 0.5517 - accuracy: 0.7015 - val_loss: 0.6213 - val_accuracy: 0.6539\n",
      "Epoch 194/500\n",
      "10/10 [==============================] - 0s 5ms/step - loss: 0.5480 - accuracy: 0.7151 - val_loss: 0.6193 - val_accuracy: 0.6692\n",
      "Epoch 195/500\n",
      "10/10 [==============================] - 0s 3ms/step - loss: 0.5486 - accuracy: 0.7236 - val_loss: 0.6172 - val_accuracy: 0.6718\n",
      "Epoch 196/500\n",
      "10/10 [==============================] - 0s 4ms/step - loss: 0.5438 - accuracy: 0.7228 - val_loss: 0.6322 - val_accuracy: 0.6438\n",
      "Epoch 197/500\n",
      "10/10 [==============================] - 0s 4ms/step - loss: 0.5485 - accuracy: 0.7177 - val_loss: 0.6183 - val_accuracy: 0.6768\n",
      "Epoch 198/500\n",
      "10/10 [==============================] - 0s 3ms/step - loss: 0.5415 - accuracy: 0.7194 - val_loss: 0.6281 - val_accuracy: 0.6667\n",
      "Epoch 199/500\n",
      "10/10 [==============================] - 0s 4ms/step - loss: 0.5461 - accuracy: 0.7134 - val_loss: 0.6244 - val_accuracy: 0.6794\n",
      "Epoch 200/500\n",
      "10/10 [==============================] - 0s 4ms/step - loss: 0.5486 - accuracy: 0.7126 - val_loss: 0.6572 - val_accuracy: 0.6260\n",
      "Epoch 201/500\n",
      "10/10 [==============================] - 0s 4ms/step - loss: 0.5457 - accuracy: 0.7126 - val_loss: 0.6256 - val_accuracy: 0.6718\n",
      "Epoch 202/500\n",
      "10/10 [==============================] - 0s 3ms/step - loss: 0.5524 - accuracy: 0.7092 - val_loss: 0.6399 - val_accuracy: 0.6361\n",
      "Epoch 203/500\n",
      "10/10 [==============================] - 0s 4ms/step - loss: 0.5419 - accuracy: 0.7151 - val_loss: 0.6199 - val_accuracy: 0.6565\n",
      "Epoch 204/500\n",
      "10/10 [==============================] - 0s 4ms/step - loss: 0.5478 - accuracy: 0.7194 - val_loss: 0.6247 - val_accuracy: 0.6718\n",
      "Epoch 205/500\n",
      "10/10 [==============================] - 0s 3ms/step - loss: 0.5417 - accuracy: 0.7126 - val_loss: 0.6289 - val_accuracy: 0.6590\n",
      "Epoch 206/500\n",
      "10/10 [==============================] - 0s 5ms/step - loss: 0.5426 - accuracy: 0.7185 - val_loss: 0.6190 - val_accuracy: 0.6921\n",
      "Epoch 207/500\n",
      "10/10 [==============================] - 0s 5ms/step - loss: 0.5385 - accuracy: 0.7202 - val_loss: 0.6161 - val_accuracy: 0.6743\n",
      "Epoch 208/500\n",
      "10/10 [==============================] - 0s 3ms/step - loss: 0.5437 - accuracy: 0.7134 - val_loss: 0.6282 - val_accuracy: 0.6565\n",
      "Epoch 209/500\n",
      "10/10 [==============================] - 0s 4ms/step - loss: 0.5397 - accuracy: 0.7236 - val_loss: 0.6243 - val_accuracy: 0.6921\n",
      "Epoch 210/500\n",
      "10/10 [==============================] - 0s 4ms/step - loss: 0.5380 - accuracy: 0.7211 - val_loss: 0.6372 - val_accuracy: 0.6463\n",
      "Epoch 211/500\n",
      "10/10 [==============================] - 0s 5ms/step - loss: 0.5393 - accuracy: 0.7177 - val_loss: 0.6182 - val_accuracy: 0.6718\n",
      "Epoch 212/500\n",
      "10/10 [==============================] - 0s 4ms/step - loss: 0.5403 - accuracy: 0.7134 - val_loss: 0.6284 - val_accuracy: 0.6565\n",
      "Epoch 213/500\n",
      "10/10 [==============================] - 0s 3ms/step - loss: 0.5383 - accuracy: 0.7194 - val_loss: 0.6223 - val_accuracy: 0.6819\n",
      "Epoch 214/500\n",
      "10/10 [==============================] - 0s 4ms/step - loss: 0.5361 - accuracy: 0.7202 - val_loss: 0.6201 - val_accuracy: 0.6692\n",
      "Epoch 215/500\n",
      "10/10 [==============================] - 0s 4ms/step - loss: 0.5361 - accuracy: 0.7185 - val_loss: 0.6265 - val_accuracy: 0.6718\n",
      "Epoch 216/500\n",
      "10/10 [==============================] - 0s 4ms/step - loss: 0.5351 - accuracy: 0.7236 - val_loss: 0.6230 - val_accuracy: 0.6743\n",
      "Epoch 217/500\n",
      "10/10 [==============================] - 0s 4ms/step - loss: 0.5349 - accuracy: 0.7296 - val_loss: 0.6205 - val_accuracy: 0.6819\n",
      "Epoch 218/500\n",
      "10/10 [==============================] - 0s 4ms/step - loss: 0.5346 - accuracy: 0.7202 - val_loss: 0.6256 - val_accuracy: 0.6667\n",
      "Epoch 219/500\n",
      "10/10 [==============================] - 0s 4ms/step - loss: 0.5334 - accuracy: 0.7245 - val_loss: 0.6240 - val_accuracy: 0.6718\n",
      "Epoch 220/500\n",
      "10/10 [==============================] - 0s 4ms/step - loss: 0.5348 - accuracy: 0.7219 - val_loss: 0.6213 - val_accuracy: 0.6768\n",
      "Epoch 221/500\n",
      "10/10 [==============================] - 0s 5ms/step - loss: 0.5432 - accuracy: 0.7202 - val_loss: 0.6294 - val_accuracy: 0.6692\n",
      "Epoch 222/500\n",
      "10/10 [==============================] - 0s 4ms/step - loss: 0.5396 - accuracy: 0.7202 - val_loss: 0.6365 - val_accuracy: 0.6539\n",
      "Epoch 223/500\n",
      "10/10 [==============================] - 0s 5ms/step - loss: 0.5361 - accuracy: 0.7202 - val_loss: 0.6241 - val_accuracy: 0.6819\n",
      "Epoch 224/500\n",
      "10/10 [==============================] - 0s 5ms/step - loss: 0.5334 - accuracy: 0.7313 - val_loss: 0.6329 - val_accuracy: 0.6590\n",
      "Epoch 225/500\n",
      "10/10 [==============================] - 0s 4ms/step - loss: 0.5332 - accuracy: 0.7279 - val_loss: 0.6261 - val_accuracy: 0.6743\n",
      "Epoch 226/500\n",
      "10/10 [==============================] - 0s 6ms/step - loss: 0.5355 - accuracy: 0.7228 - val_loss: 0.6212 - val_accuracy: 0.6845\n",
      "Epoch 227/500\n",
      "10/10 [==============================] - 0s 5ms/step - loss: 0.5325 - accuracy: 0.7211 - val_loss: 0.6217 - val_accuracy: 0.6972\n",
      "Epoch 228/500\n",
      "10/10 [==============================] - 0s 5ms/step - loss: 0.5312 - accuracy: 0.7194 - val_loss: 0.6211 - val_accuracy: 0.6768\n",
      "Epoch 229/500\n",
      "10/10 [==============================] - 0s 5ms/step - loss: 0.5305 - accuracy: 0.7236 - val_loss: 0.6276 - val_accuracy: 0.6667\n",
      "Epoch 230/500\n"
     ]
    },
    {
     "name": "stdout",
     "output_type": "stream",
     "text": [
      "10/10 [==============================] - 0s 4ms/step - loss: 0.5299 - accuracy: 0.7321 - val_loss: 0.6284 - val_accuracy: 0.6845\n",
      "Epoch 231/500\n",
      "10/10 [==============================] - 0s 3ms/step - loss: 0.5346 - accuracy: 0.7245 - val_loss: 0.6281 - val_accuracy: 0.6794\n",
      "Epoch 232/500\n",
      "10/10 [==============================] - 0s 3ms/step - loss: 0.5322 - accuracy: 0.7245 - val_loss: 0.6407 - val_accuracy: 0.6387\n",
      "Epoch 233/500\n",
      "10/10 [==============================] - 0s 4ms/step - loss: 0.5368 - accuracy: 0.7160 - val_loss: 0.6243 - val_accuracy: 0.6692\n",
      "Epoch 234/500\n",
      "10/10 [==============================] - 0s 4ms/step - loss: 0.5386 - accuracy: 0.7185 - val_loss: 0.6233 - val_accuracy: 0.6947\n",
      "Epoch 235/500\n",
      "10/10 [==============================] - 0s 4ms/step - loss: 0.5413 - accuracy: 0.7100 - val_loss: 0.6472 - val_accuracy: 0.6438\n",
      "Epoch 236/500\n",
      "10/10 [==============================] - 0s 5ms/step - loss: 0.5319 - accuracy: 0.7236 - val_loss: 0.6183 - val_accuracy: 0.6972\n",
      "Epoch 237/500\n",
      "10/10 [==============================] - 0s 6ms/step - loss: 0.5283 - accuracy: 0.7347 - val_loss: 0.6301 - val_accuracy: 0.6743\n",
      "Epoch 238/500\n",
      "10/10 [==============================] - 0s 5ms/step - loss: 0.5282 - accuracy: 0.7194 - val_loss: 0.6254 - val_accuracy: 0.6768\n",
      "Epoch 239/500\n",
      "10/10 [==============================] - 0s 11ms/step - loss: 0.5271 - accuracy: 0.7219 - val_loss: 0.6333 - val_accuracy: 0.6590\n",
      "Epoch 240/500\n",
      "10/10 [==============================] - 0s 7ms/step - loss: 0.5307 - accuracy: 0.7347 - val_loss: 0.6298 - val_accuracy: 0.6794\n",
      "Epoch 241/500\n",
      "10/10 [==============================] - 0s 5ms/step - loss: 0.5285 - accuracy: 0.7330 - val_loss: 0.6260 - val_accuracy: 0.6743\n",
      "Epoch 242/500\n",
      "10/10 [==============================] - 0s 6ms/step - loss: 0.5251 - accuracy: 0.7321 - val_loss: 0.6249 - val_accuracy: 0.6947\n",
      "Epoch 243/500\n",
      "10/10 [==============================] - 0s 7ms/step - loss: 0.5239 - accuracy: 0.7296 - val_loss: 0.6276 - val_accuracy: 0.6870\n",
      "Epoch 244/500\n",
      "10/10 [==============================] - 0s 4ms/step - loss: 0.5242 - accuracy: 0.7338 - val_loss: 0.6195 - val_accuracy: 0.7023\n",
      "Epoch 245/500\n",
      "10/10 [==============================] - 0s 3ms/step - loss: 0.5257 - accuracy: 0.7364 - val_loss: 0.6287 - val_accuracy: 0.6794\n",
      "Epoch 246/500\n",
      "10/10 [==============================] - 0s 3ms/step - loss: 0.5266 - accuracy: 0.7321 - val_loss: 0.6271 - val_accuracy: 0.6870\n",
      "Epoch 247/500\n",
      "10/10 [==============================] - 0s 4ms/step - loss: 0.5238 - accuracy: 0.7253 - val_loss: 0.6292 - val_accuracy: 0.6641\n",
      "Epoch 248/500\n",
      "10/10 [==============================] - 0s 3ms/step - loss: 0.5233 - accuracy: 0.7279 - val_loss: 0.6267 - val_accuracy: 0.6896\n",
      "Epoch 249/500\n",
      "10/10 [==============================] - 0s 3ms/step - loss: 0.5223 - accuracy: 0.7338 - val_loss: 0.6347 - val_accuracy: 0.6870\n",
      "Epoch 250/500\n",
      "10/10 [==============================] - 0s 4ms/step - loss: 0.5233 - accuracy: 0.7279 - val_loss: 0.6244 - val_accuracy: 0.6921\n",
      "Epoch 251/500\n",
      "10/10 [==============================] - 0s 4ms/step - loss: 0.5222 - accuracy: 0.7279 - val_loss: 0.6354 - val_accuracy: 0.6667\n",
      "Epoch 252/500\n",
      "10/10 [==============================] - 0s 4ms/step - loss: 0.5246 - accuracy: 0.7245 - val_loss: 0.6210 - val_accuracy: 0.6997\n",
      "Epoch 253/500\n",
      "10/10 [==============================] - 0s 4ms/step - loss: 0.5213 - accuracy: 0.7296 - val_loss: 0.6320 - val_accuracy: 0.6972\n",
      "Epoch 254/500\n",
      "10/10 [==============================] - 0s 4ms/step - loss: 0.5223 - accuracy: 0.7364 - val_loss: 0.6324 - val_accuracy: 0.6870\n",
      "Epoch 255/500\n",
      "10/10 [==============================] - 0s 4ms/step - loss: 0.5238 - accuracy: 0.7236 - val_loss: 0.6261 - val_accuracy: 0.6819\n",
      "Epoch 256/500\n",
      "10/10 [==============================] - 0s 4ms/step - loss: 0.5241 - accuracy: 0.7279 - val_loss: 0.6297 - val_accuracy: 0.6870\n",
      "Epoch 257/500\n",
      "10/10 [==============================] - 0s 5ms/step - loss: 0.5212 - accuracy: 0.7347 - val_loss: 0.6327 - val_accuracy: 0.6819\n",
      "Epoch 258/500\n",
      "10/10 [==============================] - 0s 5ms/step - loss: 0.5215 - accuracy: 0.7347 - val_loss: 0.6422 - val_accuracy: 0.6743\n",
      "Epoch 259/500\n",
      "10/10 [==============================] - 0s 5ms/step - loss: 0.5217 - accuracy: 0.7330 - val_loss: 0.6388 - val_accuracy: 0.6641\n",
      "Epoch 260/500\n",
      "10/10 [==============================] - 0s 4ms/step - loss: 0.5218 - accuracy: 0.7364 - val_loss: 0.6194 - val_accuracy: 0.6819\n",
      "Epoch 261/500\n",
      "10/10 [==============================] - 0s 7ms/step - loss: 0.5224 - accuracy: 0.7296 - val_loss: 0.6268 - val_accuracy: 0.6819\n",
      "Epoch 262/500\n",
      "10/10 [==============================] - 0s 4ms/step - loss: 0.5182 - accuracy: 0.7287 - val_loss: 0.6249 - val_accuracy: 0.6921\n",
      "Epoch 263/500\n",
      "10/10 [==============================] - 0s 4ms/step - loss: 0.5173 - accuracy: 0.7347 - val_loss: 0.6351 - val_accuracy: 0.6794\n",
      "Epoch 264/500\n",
      "10/10 [==============================] - 0s 4ms/step - loss: 0.5159 - accuracy: 0.7355 - val_loss: 0.6288 - val_accuracy: 0.6947\n",
      "Epoch 265/500\n",
      "10/10 [==============================] - 0s 5ms/step - loss: 0.5179 - accuracy: 0.7330 - val_loss: 0.6276 - val_accuracy: 0.6947\n",
      "Epoch 266/500\n",
      "10/10 [==============================] - 0s 5ms/step - loss: 0.5186 - accuracy: 0.7321 - val_loss: 0.6593 - val_accuracy: 0.6310\n",
      "Epoch 267/500\n",
      "10/10 [==============================] - 0s 5ms/step - loss: 0.5274 - accuracy: 0.7296 - val_loss: 0.6265 - val_accuracy: 0.6896\n",
      "Epoch 268/500\n",
      "10/10 [==============================] - 0s 7ms/step - loss: 0.5221 - accuracy: 0.7355 - val_loss: 0.6259 - val_accuracy: 0.6819\n",
      "Epoch 269/500\n",
      "10/10 [==============================] - 0s 5ms/step - loss: 0.5243 - accuracy: 0.7304 - val_loss: 0.6467 - val_accuracy: 0.6336\n",
      "Epoch 270/500\n",
      "10/10 [==============================] - 0s 5ms/step - loss: 0.5232 - accuracy: 0.7287 - val_loss: 0.6373 - val_accuracy: 0.6743\n",
      "Epoch 271/500\n",
      "10/10 [==============================] - 0s 5ms/step - loss: 0.5203 - accuracy: 0.7338 - val_loss: 0.6294 - val_accuracy: 0.6743\n",
      "Epoch 272/500\n",
      "10/10 [==============================] - 0s 5ms/step - loss: 0.5170 - accuracy: 0.7372 - val_loss: 0.6545 - val_accuracy: 0.6539\n",
      "Epoch 273/500\n",
      "10/10 [==============================] - 0s 5ms/step - loss: 0.5177 - accuracy: 0.7338 - val_loss: 0.6288 - val_accuracy: 0.6896\n",
      "Epoch 274/500\n",
      "10/10 [==============================] - 0s 4ms/step - loss: 0.5154 - accuracy: 0.7355 - val_loss: 0.6261 - val_accuracy: 0.6870\n",
      "Epoch 275/500\n",
      "10/10 [==============================] - 0s 6ms/step - loss: 0.5152 - accuracy: 0.7406 - val_loss: 0.6252 - val_accuracy: 0.6845\n",
      "Epoch 276/500\n",
      "10/10 [==============================] - 0s 4ms/step - loss: 0.5174 - accuracy: 0.7287 - val_loss: 0.6535 - val_accuracy: 0.6565\n",
      "Epoch 277/500\n",
      "10/10 [==============================] - 0s 4ms/step - loss: 0.5159 - accuracy: 0.7372 - val_loss: 0.6286 - val_accuracy: 0.6819\n",
      "Epoch 278/500\n",
      "10/10 [==============================] - 0s 4ms/step - loss: 0.5134 - accuracy: 0.7406 - val_loss: 0.6351 - val_accuracy: 0.6667\n",
      "Epoch 279/500\n",
      "10/10 [==============================] - ETA: 0s - loss: 0.5004 - accuracy: 0.72 - 0s 5ms/step - loss: 0.5127 - accuracy: 0.7338 - val_loss: 0.6313 - val_accuracy: 0.6768\n",
      "Epoch 280/500\n",
      "10/10 [==============================] - 0s 5ms/step - loss: 0.5142 - accuracy: 0.7364 - val_loss: 0.6365 - val_accuracy: 0.6819\n",
      "Epoch 281/500\n",
      "10/10 [==============================] - 0s 4ms/step - loss: 0.5130 - accuracy: 0.7389 - val_loss: 0.6323 - val_accuracy: 0.6819\n",
      "Epoch 282/500\n",
      "10/10 [==============================] - 0s 4ms/step - loss: 0.5155 - accuracy: 0.7389 - val_loss: 0.6312 - val_accuracy: 0.6845\n",
      "Epoch 283/500\n",
      "10/10 [==============================] - 0s 4ms/step - loss: 0.5167 - accuracy: 0.7338 - val_loss: 0.6507 - val_accuracy: 0.6489\n",
      "Epoch 284/500\n",
      "10/10 [==============================] - 0s 4ms/step - loss: 0.5146 - accuracy: 0.7313 - val_loss: 0.6283 - val_accuracy: 0.6845\n",
      "Epoch 285/500\n",
      "10/10 [==============================] - ETA: 0s - loss: 0.5576 - accuracy: 0.65 - 0s 3ms/step - loss: 0.5130 - accuracy: 0.7338 - val_loss: 0.6411 - val_accuracy: 0.6590\n",
      "Epoch 286/500\n",
      "10/10 [==============================] - 0s 5ms/step - loss: 0.5117 - accuracy: 0.7423 - val_loss: 0.6342 - val_accuracy: 0.6845\n"
     ]
    },
    {
     "name": "stdout",
     "output_type": "stream",
     "text": [
      "Epoch 287/500\n",
      "10/10 [==============================] - 0s 4ms/step - loss: 0.5110 - accuracy: 0.7398 - val_loss: 0.6301 - val_accuracy: 0.6870\n",
      "Epoch 288/500\n",
      "10/10 [==============================] - 0s 5ms/step - loss: 0.5119 - accuracy: 0.7381 - val_loss: 0.6317 - val_accuracy: 0.6870\n",
      "Epoch 289/500\n",
      "10/10 [==============================] - 0s 3ms/step - loss: 0.5094 - accuracy: 0.7406 - val_loss: 0.6365 - val_accuracy: 0.6845\n",
      "Epoch 290/500\n",
      "10/10 [==============================] - 0s 4ms/step - loss: 0.5130 - accuracy: 0.7355 - val_loss: 0.6511 - val_accuracy: 0.6489\n",
      "Epoch 291/500\n",
      "10/10 [==============================] - 0s 4ms/step - loss: 0.5115 - accuracy: 0.7364 - val_loss: 0.6333 - val_accuracy: 0.6743\n",
      "Epoch 292/500\n",
      "10/10 [==============================] - 0s 4ms/step - loss: 0.5122 - accuracy: 0.7355 - val_loss: 0.6294 - val_accuracy: 0.6972\n",
      "Epoch 293/500\n",
      "10/10 [==============================] - 0s 4ms/step - loss: 0.5133 - accuracy: 0.7321 - val_loss: 0.6417 - val_accuracy: 0.6667\n",
      "Epoch 294/500\n",
      "10/10 [==============================] - 0s 4ms/step - loss: 0.5103 - accuracy: 0.7296 - val_loss: 0.6269 - val_accuracy: 0.6845\n",
      "Epoch 295/500\n",
      "10/10 [==============================] - 0s 4ms/step - loss: 0.5082 - accuracy: 0.7457 - val_loss: 0.6990 - val_accuracy: 0.6132\n",
      "Epoch 296/500\n",
      "10/10 [==============================] - 0s 4ms/step - loss: 0.5349 - accuracy: 0.7126 - val_loss: 0.6314 - val_accuracy: 0.6768\n",
      "Epoch 297/500\n",
      "10/10 [==============================] - 0s 4ms/step - loss: 0.5132 - accuracy: 0.7347 - val_loss: 0.6306 - val_accuracy: 0.6718\n",
      "Epoch 298/500\n",
      "10/10 [==============================] - 0s 5ms/step - loss: 0.5062 - accuracy: 0.7372 - val_loss: 0.6276 - val_accuracy: 0.6743\n",
      "Epoch 299/500\n",
      "10/10 [==============================] - 0s 4ms/step - loss: 0.5119 - accuracy: 0.7389 - val_loss: 0.6416 - val_accuracy: 0.6692\n",
      "Epoch 300/500\n",
      "10/10 [==============================] - 0s 4ms/step - loss: 0.5081 - accuracy: 0.7449 - val_loss: 0.6381 - val_accuracy: 0.6768\n",
      "Epoch 301/500\n",
      "10/10 [==============================] - 0s 4ms/step - loss: 0.5066 - accuracy: 0.7389 - val_loss: 0.6320 - val_accuracy: 0.6794\n",
      "Epoch 302/500\n",
      "10/10 [==============================] - 0s 3ms/step - loss: 0.5087 - accuracy: 0.7432 - val_loss: 0.6432 - val_accuracy: 0.6539\n",
      "Epoch 303/500\n",
      "10/10 [==============================] - 0s 3ms/step - loss: 0.5115 - accuracy: 0.7389 - val_loss: 0.6380 - val_accuracy: 0.6667\n",
      "Epoch 304/500\n",
      "10/10 [==============================] - 0s 4ms/step - loss: 0.5166 - accuracy: 0.7262 - val_loss: 0.6666 - val_accuracy: 0.6514\n",
      "Epoch 305/500\n",
      "10/10 [==============================] - 0s 4ms/step - loss: 0.5106 - accuracy: 0.7287 - val_loss: 0.6300 - val_accuracy: 0.6845\n",
      "Epoch 306/500\n",
      "10/10 [==============================] - 0s 4ms/step - loss: 0.5083 - accuracy: 0.7406 - val_loss: 0.6282 - val_accuracy: 0.6947\n",
      "Epoch 307/500\n",
      "10/10 [==============================] - 0s 4ms/step - loss: 0.5095 - accuracy: 0.7381 - val_loss: 0.6332 - val_accuracy: 0.6667\n",
      "Epoch 308/500\n",
      "10/10 [==============================] - 0s 4ms/step - loss: 0.5065 - accuracy: 0.7364 - val_loss: 0.6476 - val_accuracy: 0.6565\n",
      "Epoch 309/500\n",
      "10/10 [==============================] - 0s 4ms/step - loss: 0.5088 - accuracy: 0.7423 - val_loss: 0.6393 - val_accuracy: 0.6819\n",
      "Epoch 310/500\n",
      "10/10 [==============================] - 0s 4ms/step - loss: 0.5080 - accuracy: 0.7313 - val_loss: 0.6343 - val_accuracy: 0.6718\n",
      "Epoch 311/500\n",
      "10/10 [==============================] - 0s 4ms/step - loss: 0.5080 - accuracy: 0.7406 - val_loss: 0.6521 - val_accuracy: 0.6616\n",
      "Epoch 312/500\n",
      "10/10 [==============================] - 0s 4ms/step - loss: 0.5042 - accuracy: 0.7364 - val_loss: 0.6311 - val_accuracy: 0.6794\n",
      "Epoch 313/500\n",
      "10/10 [==============================] - 0s 5ms/step - loss: 0.5125 - accuracy: 0.7355 - val_loss: 0.6377 - val_accuracy: 0.6794\n",
      "Epoch 314/500\n",
      "10/10 [==============================] - 0s 4ms/step - loss: 0.5079 - accuracy: 0.7440 - val_loss: 0.6512 - val_accuracy: 0.6641\n",
      "Epoch 315/500\n",
      "10/10 [==============================] - 0s 4ms/step - loss: 0.5067 - accuracy: 0.7347 - val_loss: 0.6365 - val_accuracy: 0.6692\n",
      "Epoch 316/500\n",
      "10/10 [==============================] - 0s 4ms/step - loss: 0.5060 - accuracy: 0.7313 - val_loss: 0.6532 - val_accuracy: 0.6514\n",
      "Epoch 317/500\n",
      "10/10 [==============================] - 0s 4ms/step - loss: 0.5040 - accuracy: 0.7364 - val_loss: 0.6365 - val_accuracy: 0.6641\n",
      "Epoch 318/500\n",
      "10/10 [==============================] - 0s 6ms/step - loss: 0.5040 - accuracy: 0.7457 - val_loss: 0.6367 - val_accuracy: 0.6845\n",
      "Epoch 319/500\n",
      "10/10 [==============================] - 0s 5ms/step - loss: 0.5048 - accuracy: 0.7364 - val_loss: 0.6555 - val_accuracy: 0.6590\n",
      "Epoch 320/500\n",
      "10/10 [==============================] - 0s 5ms/step - loss: 0.5087 - accuracy: 0.7474 - val_loss: 0.6342 - val_accuracy: 0.6768\n",
      "Epoch 321/500\n",
      "10/10 [==============================] - 0s 4ms/step - loss: 0.5003 - accuracy: 0.7432 - val_loss: 0.6449 - val_accuracy: 0.6718\n",
      "Epoch 322/500\n",
      "10/10 [==============================] - 0s 4ms/step - loss: 0.5056 - accuracy: 0.7330 - val_loss: 0.6516 - val_accuracy: 0.6616\n",
      "Epoch 323/500\n",
      "10/10 [==============================] - 0s 4ms/step - loss: 0.5038 - accuracy: 0.7287 - val_loss: 0.6374 - val_accuracy: 0.6743\n",
      "Epoch 324/500\n",
      "10/10 [==============================] - 0s 4ms/step - loss: 0.5072 - accuracy: 0.7355 - val_loss: 0.6376 - val_accuracy: 0.6794\n",
      "Epoch 325/500\n",
      "10/10 [==============================] - 0s 4ms/step - loss: 0.5007 - accuracy: 0.7457 - val_loss: 0.6358 - val_accuracy: 0.6794\n",
      "Epoch 326/500\n",
      "10/10 [==============================] - 0s 5ms/step - loss: 0.5026 - accuracy: 0.7398 - val_loss: 0.6348 - val_accuracy: 0.6819\n",
      "Epoch 327/500\n",
      "10/10 [==============================] - 0s 4ms/step - loss: 0.5051 - accuracy: 0.7398 - val_loss: 0.6621 - val_accuracy: 0.6489\n",
      "Epoch 328/500\n",
      "10/10 [==============================] - 0s 4ms/step - loss: 0.5051 - accuracy: 0.7372 - val_loss: 0.6381 - val_accuracy: 0.6692\n",
      "Epoch 329/500\n",
      "10/10 [==============================] - 0s 4ms/step - loss: 0.5008 - accuracy: 0.7406 - val_loss: 0.6551 - val_accuracy: 0.6412\n",
      "Epoch 330/500\n",
      "10/10 [==============================] - 0s 4ms/step - loss: 0.5019 - accuracy: 0.7440 - val_loss: 0.6348 - val_accuracy: 0.6768\n",
      "Epoch 331/500\n",
      "10/10 [==============================] - 0s 4ms/step - loss: 0.5021 - accuracy: 0.7466 - val_loss: 0.6626 - val_accuracy: 0.6514\n",
      "Epoch 332/500\n",
      "10/10 [==============================] - 0s 4ms/step - loss: 0.5002 - accuracy: 0.7509 - val_loss: 0.6338 - val_accuracy: 0.6794\n",
      "Epoch 333/500\n",
      "10/10 [==============================] - 0s 5ms/step - loss: 0.4988 - accuracy: 0.7423 - val_loss: 0.6511 - val_accuracy: 0.6590\n",
      "Epoch 334/500\n",
      "10/10 [==============================] - 0s 4ms/step - loss: 0.5064 - accuracy: 0.7321 - val_loss: 0.6495 - val_accuracy: 0.6514\n",
      "Epoch 335/500\n",
      "10/10 [==============================] - 0s 4ms/step - loss: 0.4982 - accuracy: 0.7398 - val_loss: 0.6371 - val_accuracy: 0.6590\n",
      "Epoch 336/500\n",
      "10/10 [==============================] - 0s 5ms/step - loss: 0.5013 - accuracy: 0.7415 - val_loss: 0.6636 - val_accuracy: 0.6438\n",
      "Epoch 337/500\n",
      "10/10 [==============================] - 0s 4ms/step - loss: 0.5008 - accuracy: 0.7398 - val_loss: 0.6393 - val_accuracy: 0.6692\n",
      "Epoch 338/500\n",
      "10/10 [==============================] - 0s 5ms/step - loss: 0.5039 - accuracy: 0.7440 - val_loss: 0.6667 - val_accuracy: 0.6438\n",
      "Epoch 339/500\n",
      "10/10 [==============================] - 0s 3ms/step - loss: 0.4998 - accuracy: 0.7398 - val_loss: 0.6379 - val_accuracy: 0.6743\n",
      "Epoch 340/500\n",
      "10/10 [==============================] - 0s 4ms/step - loss: 0.4958 - accuracy: 0.7449 - val_loss: 0.6457 - val_accuracy: 0.6616\n",
      "Epoch 341/500\n",
      "10/10 [==============================] - 0s 3ms/step - loss: 0.4983 - accuracy: 0.7389 - val_loss: 0.6511 - val_accuracy: 0.6616\n",
      "Epoch 342/500\n",
      "10/10 [==============================] - 0s 4ms/step - loss: 0.4992 - accuracy: 0.7398 - val_loss: 0.6383 - val_accuracy: 0.6718\n",
      "Epoch 343/500\n",
      "10/10 [==============================] - 0s 5ms/step - loss: 0.4980 - accuracy: 0.7457 - val_loss: 0.6604 - val_accuracy: 0.6539\n",
      "Epoch 344/500\n"
     ]
    },
    {
     "name": "stdout",
     "output_type": "stream",
     "text": [
      "10/10 [==============================] - 0s 5ms/step - loss: 0.4985 - accuracy: 0.7381 - val_loss: 0.6431 - val_accuracy: 0.6768\n",
      "Epoch 345/500\n",
      "10/10 [==============================] - 0s 5ms/step - loss: 0.5007 - accuracy: 0.7415 - val_loss: 0.6371 - val_accuracy: 0.6768\n",
      "Epoch 346/500\n",
      "10/10 [==============================] - 0s 6ms/step - loss: 0.4965 - accuracy: 0.7466 - val_loss: 0.6436 - val_accuracy: 0.6743\n",
      "Epoch 347/500\n",
      "10/10 [==============================] - 0s 6ms/step - loss: 0.4954 - accuracy: 0.7457 - val_loss: 0.6445 - val_accuracy: 0.6667\n",
      "Epoch 348/500\n",
      "10/10 [==============================] - 0s 5ms/step - loss: 0.4990 - accuracy: 0.7406 - val_loss: 0.6383 - val_accuracy: 0.6718\n",
      "Epoch 349/500\n",
      "10/10 [==============================] - 0s 4ms/step - loss: 0.4942 - accuracy: 0.7560 - val_loss: 0.6459 - val_accuracy: 0.6743\n",
      "Epoch 350/500\n",
      "10/10 [==============================] - 0s 4ms/step - loss: 0.4958 - accuracy: 0.7534 - val_loss: 0.6417 - val_accuracy: 0.6819\n",
      "Epoch 351/500\n",
      "10/10 [==============================] - 0s 6ms/step - loss: 0.4966 - accuracy: 0.7415 - val_loss: 0.6392 - val_accuracy: 0.6845\n",
      "Epoch 352/500\n",
      "10/10 [==============================] - 0s 5ms/step - loss: 0.4921 - accuracy: 0.7526 - val_loss: 0.6476 - val_accuracy: 0.6743\n",
      "Epoch 353/500\n",
      "10/10 [==============================] - 0s 3ms/step - loss: 0.4917 - accuracy: 0.7474 - val_loss: 0.6360 - val_accuracy: 0.6718\n",
      "Epoch 354/500\n",
      "10/10 [==============================] - 0s 4ms/step - loss: 0.4986 - accuracy: 0.7347 - val_loss: 0.6674 - val_accuracy: 0.6539\n",
      "Epoch 355/500\n",
      "10/10 [==============================] - 0s 4ms/step - loss: 0.4959 - accuracy: 0.7474 - val_loss: 0.6403 - val_accuracy: 0.6870\n",
      "Epoch 356/500\n",
      "10/10 [==============================] - 0s 3ms/step - loss: 0.5018 - accuracy: 0.7415 - val_loss: 0.6602 - val_accuracy: 0.6616\n",
      "Epoch 357/500\n",
      "10/10 [==============================] - 0s 4ms/step - loss: 0.5008 - accuracy: 0.7330 - val_loss: 0.6632 - val_accuracy: 0.6514\n",
      "Epoch 358/500\n",
      "10/10 [==============================] - 0s 3ms/step - loss: 0.5103 - accuracy: 0.7287 - val_loss: 0.6411 - val_accuracy: 0.6743\n",
      "Epoch 359/500\n",
      "10/10 [==============================] - 0s 3ms/step - loss: 0.4960 - accuracy: 0.7304 - val_loss: 0.6637 - val_accuracy: 0.6590\n",
      "Epoch 360/500\n",
      "10/10 [==============================] - 0s 4ms/step - loss: 0.4938 - accuracy: 0.7389 - val_loss: 0.6398 - val_accuracy: 0.6768\n",
      "Epoch 361/500\n",
      "10/10 [==============================] - 0s 4ms/step - loss: 0.4900 - accuracy: 0.7406 - val_loss: 0.6468 - val_accuracy: 0.6718\n",
      "Epoch 362/500\n",
      "10/10 [==============================] - 0s 3ms/step - loss: 0.4921 - accuracy: 0.7423 - val_loss: 0.6490 - val_accuracy: 0.6692\n",
      "Epoch 363/500\n",
      "10/10 [==============================] - 0s 4ms/step - loss: 0.4944 - accuracy: 0.7449 - val_loss: 0.6359 - val_accuracy: 0.6819\n",
      "Epoch 364/500\n",
      "10/10 [==============================] - 0s 4ms/step - loss: 0.4908 - accuracy: 0.7381 - val_loss: 0.6670 - val_accuracy: 0.6539\n",
      "Epoch 365/500\n",
      "10/10 [==============================] - 0s 4ms/step - loss: 0.4956 - accuracy: 0.7389 - val_loss: 0.6488 - val_accuracy: 0.6565\n",
      "Epoch 366/500\n",
      "10/10 [==============================] - 0s 5ms/step - loss: 0.4938 - accuracy: 0.7432 - val_loss: 0.6476 - val_accuracy: 0.6768\n",
      "Epoch 367/500\n",
      "10/10 [==============================] - 0s 8ms/step - loss: 0.4910 - accuracy: 0.7474 - val_loss: 0.6423 - val_accuracy: 0.6743\n",
      "Epoch 368/500\n",
      "10/10 [==============================] - 0s 5ms/step - loss: 0.4942 - accuracy: 0.7347 - val_loss: 0.6488 - val_accuracy: 0.6743\n",
      "Epoch 369/500\n",
      "10/10 [==============================] - 0s 5ms/step - loss: 0.4938 - accuracy: 0.7372 - val_loss: 0.6569 - val_accuracy: 0.6539\n",
      "Epoch 370/500\n",
      "10/10 [==============================] - 0s 4ms/step - loss: 0.4993 - accuracy: 0.7389 - val_loss: 0.6566 - val_accuracy: 0.6412\n",
      "Epoch 371/500\n",
      "10/10 [==============================] - 0s 5ms/step - loss: 0.5239 - accuracy: 0.7032 - val_loss: 0.7127 - val_accuracy: 0.6310\n",
      "Epoch 372/500\n",
      "10/10 [==============================] - 0s 6ms/step - loss: 0.5117 - accuracy: 0.7211 - val_loss: 0.6422 - val_accuracy: 0.6718\n",
      "Epoch 373/500\n",
      "10/10 [==============================] - 0s 5ms/step - loss: 0.4972 - accuracy: 0.7449 - val_loss: 0.6366 - val_accuracy: 0.6768\n",
      "Epoch 374/500\n",
      "10/10 [==============================] - 0s 3ms/step - loss: 0.4950 - accuracy: 0.7457 - val_loss: 0.6433 - val_accuracy: 0.6794\n",
      "Epoch 375/500\n",
      "10/10 [==============================] - 0s 3ms/step - loss: 0.4891 - accuracy: 0.7449 - val_loss: 0.6474 - val_accuracy: 0.6667\n",
      "Epoch 376/500\n",
      "10/10 [==============================] - 0s 3ms/step - loss: 0.4896 - accuracy: 0.7551 - val_loss: 0.6518 - val_accuracy: 0.6667\n",
      "Epoch 377/500\n",
      "10/10 [==============================] - 0s 7ms/step - loss: 0.4881 - accuracy: 0.7432 - val_loss: 0.6461 - val_accuracy: 0.6718\n",
      "Epoch 378/500\n",
      "10/10 [==============================] - 0s 4ms/step - loss: 0.4884 - accuracy: 0.7415 - val_loss: 0.6533 - val_accuracy: 0.6514\n",
      "Epoch 379/500\n",
      "10/10 [==============================] - 0s 4ms/step - loss: 0.4887 - accuracy: 0.7415 - val_loss: 0.6363 - val_accuracy: 0.6794\n",
      "Epoch 380/500\n",
      "10/10 [==============================] - 0s 4ms/step - loss: 0.4877 - accuracy: 0.7509 - val_loss: 0.6490 - val_accuracy: 0.6718\n",
      "Epoch 381/500\n",
      "10/10 [==============================] - 0s 5ms/step - loss: 0.4871 - accuracy: 0.7423 - val_loss: 0.6440 - val_accuracy: 0.6718\n",
      "Epoch 382/500\n",
      "10/10 [==============================] - 0s 4ms/step - loss: 0.4873 - accuracy: 0.7415 - val_loss: 0.6417 - val_accuracy: 0.6896\n",
      "Epoch 383/500\n",
      "10/10 [==============================] - 0s 4ms/step - loss: 0.4895 - accuracy: 0.7474 - val_loss: 0.6640 - val_accuracy: 0.6514\n",
      "Epoch 384/500\n",
      "10/10 [==============================] - 0s 4ms/step - loss: 0.4919 - accuracy: 0.7440 - val_loss: 0.6413 - val_accuracy: 0.6718\n",
      "Epoch 385/500\n",
      "10/10 [==============================] - 0s 5ms/step - loss: 0.4869 - accuracy: 0.7466 - val_loss: 0.6551 - val_accuracy: 0.6718\n",
      "Epoch 386/500\n",
      "10/10 [==============================] - 0s 5ms/step - loss: 0.4888 - accuracy: 0.7423 - val_loss: 0.6483 - val_accuracy: 0.6845\n",
      "Epoch 387/500\n",
      "10/10 [==============================] - 0s 5ms/step - loss: 0.4843 - accuracy: 0.7543 - val_loss: 0.6477 - val_accuracy: 0.6819\n",
      "Epoch 388/500\n",
      "10/10 [==============================] - 0s 3ms/step - loss: 0.4855 - accuracy: 0.7423 - val_loss: 0.6436 - val_accuracy: 0.6870\n",
      "Epoch 389/500\n",
      "10/10 [==============================] - 0s 5ms/step - loss: 0.4854 - accuracy: 0.7474 - val_loss: 0.6439 - val_accuracy: 0.6819\n",
      "Epoch 390/500\n",
      "10/10 [==============================] - 0s 4ms/step - loss: 0.4850 - accuracy: 0.7483 - val_loss: 0.6462 - val_accuracy: 0.6768\n",
      "Epoch 391/500\n",
      "10/10 [==============================] - 0s 5ms/step - loss: 0.4853 - accuracy: 0.7449 - val_loss: 0.6507 - val_accuracy: 0.6743\n",
      "Epoch 392/500\n",
      "10/10 [==============================] - 0s 4ms/step - loss: 0.4891 - accuracy: 0.7517 - val_loss: 0.6481 - val_accuracy: 0.6819\n",
      "Epoch 393/500\n",
      "10/10 [==============================] - 0s 3ms/step - loss: 0.4971 - accuracy: 0.7355 - val_loss: 0.6823 - val_accuracy: 0.6641\n",
      "Epoch 394/500\n",
      "10/10 [==============================] - 0s 4ms/step - loss: 0.4854 - accuracy: 0.7491 - val_loss: 0.6471 - val_accuracy: 0.6667\n",
      "Epoch 395/500\n",
      "10/10 [==============================] - 0s 4ms/step - loss: 0.4866 - accuracy: 0.7440 - val_loss: 0.6532 - val_accuracy: 0.6641\n",
      "Epoch 396/500\n",
      "10/10 [==============================] - 0s 6ms/step - loss: 0.4837 - accuracy: 0.7466 - val_loss: 0.6430 - val_accuracy: 0.6718\n",
      "Epoch 397/500\n",
      "10/10 [==============================] - 0s 5ms/step - loss: 0.4824 - accuracy: 0.7457 - val_loss: 0.6611 - val_accuracy: 0.6641\n",
      "Epoch 398/500\n",
      "10/10 [==============================] - 0s 4ms/step - loss: 0.4842 - accuracy: 0.7466 - val_loss: 0.6425 - val_accuracy: 0.6819\n",
      "Epoch 399/500\n",
      "10/10 [==============================] - 0s 4ms/step - loss: 0.4882 - accuracy: 0.7406 - val_loss: 0.6797 - val_accuracy: 0.6514\n",
      "Epoch 400/500\n",
      "10/10 [==============================] - 0s 4ms/step - loss: 0.4931 - accuracy: 0.7440 - val_loss: 0.6498 - val_accuracy: 0.6539\n",
      "Epoch 401/500\n"
     ]
    },
    {
     "name": "stdout",
     "output_type": "stream",
     "text": [
      "10/10 [==============================] - 0s 4ms/step - loss: 0.4876 - accuracy: 0.7500 - val_loss: 0.6538 - val_accuracy: 0.6743\n",
      "Epoch 402/500\n",
      "10/10 [==============================] - 0s 5ms/step - loss: 0.4847 - accuracy: 0.7568 - val_loss: 0.6553 - val_accuracy: 0.6819\n",
      "Epoch 403/500\n",
      "10/10 [==============================] - 0s 4ms/step - loss: 0.4859 - accuracy: 0.7474 - val_loss: 0.6451 - val_accuracy: 0.6692\n",
      "Epoch 404/500\n",
      "10/10 [==============================] - 0s 4ms/step - loss: 0.4824 - accuracy: 0.7457 - val_loss: 0.6576 - val_accuracy: 0.6616\n",
      "Epoch 405/500\n",
      "10/10 [==============================] - 0s 5ms/step - loss: 0.4892 - accuracy: 0.7304 - val_loss: 0.6557 - val_accuracy: 0.6667\n",
      "Epoch 406/500\n",
      "10/10 [==============================] - 0s 6ms/step - loss: 0.4848 - accuracy: 0.7466 - val_loss: 0.6483 - val_accuracy: 0.6692\n",
      "Epoch 407/500\n",
      "10/10 [==============================] - 0s 4ms/step - loss: 0.4879 - accuracy: 0.7491 - val_loss: 0.6487 - val_accuracy: 0.6819\n",
      "Epoch 408/500\n",
      "10/10 [==============================] - 0s 7ms/step - loss: 0.4876 - accuracy: 0.7500 - val_loss: 0.6741 - val_accuracy: 0.6489\n",
      "Epoch 409/500\n",
      "10/10 [==============================] - 0s 4ms/step - loss: 0.4839 - accuracy: 0.7457 - val_loss: 0.6475 - val_accuracy: 0.6743\n",
      "Epoch 410/500\n",
      "10/10 [==============================] - 0s 4ms/step - loss: 0.4871 - accuracy: 0.7423 - val_loss: 0.6767 - val_accuracy: 0.6514\n",
      "Epoch 411/500\n",
      "10/10 [==============================] - 0s 4ms/step - loss: 0.4870 - accuracy: 0.7517 - val_loss: 0.6475 - val_accuracy: 0.6819\n",
      "Epoch 412/500\n",
      "10/10 [==============================] - 0s 4ms/step - loss: 0.4808 - accuracy: 0.7560 - val_loss: 0.6534 - val_accuracy: 0.6692\n",
      "Epoch 413/500\n",
      "10/10 [==============================] - 0s 5ms/step - loss: 0.4799 - accuracy: 0.7560 - val_loss: 0.6453 - val_accuracy: 0.6794\n",
      "Epoch 414/500\n",
      "10/10 [==============================] - 0s 4ms/step - loss: 0.4815 - accuracy: 0.7526 - val_loss: 0.6490 - val_accuracy: 0.6819\n",
      "Epoch 415/500\n",
      "10/10 [==============================] - 0s 4ms/step - loss: 0.4798 - accuracy: 0.7560 - val_loss: 0.6502 - val_accuracy: 0.6718\n",
      "Epoch 416/500\n",
      "10/10 [==============================] - 0s 5ms/step - loss: 0.4894 - accuracy: 0.7406 - val_loss: 0.6719 - val_accuracy: 0.6565\n",
      "Epoch 417/500\n",
      "10/10 [==============================] - 0s 5ms/step - loss: 0.4895 - accuracy: 0.7440 - val_loss: 0.6421 - val_accuracy: 0.6870\n",
      "Epoch 418/500\n",
      "10/10 [==============================] - 0s 4ms/step - loss: 0.4843 - accuracy: 0.7517 - val_loss: 0.6512 - val_accuracy: 0.6718\n",
      "Epoch 419/500\n",
      "10/10 [==============================] - 0s 4ms/step - loss: 0.4830 - accuracy: 0.7491 - val_loss: 0.6578 - val_accuracy: 0.6692\n",
      "Epoch 420/500\n",
      "10/10 [==============================] - 0s 4ms/step - loss: 0.4829 - accuracy: 0.7466 - val_loss: 0.6478 - val_accuracy: 0.6743\n",
      "Epoch 421/500\n",
      "10/10 [==============================] - 0s 5ms/step - loss: 0.4806 - accuracy: 0.7491 - val_loss: 0.6455 - val_accuracy: 0.6768\n",
      "Epoch 422/500\n",
      "10/10 [==============================] - 0s 6ms/step - loss: 0.4824 - accuracy: 0.7423 - val_loss: 0.6782 - val_accuracy: 0.6514\n",
      "Epoch 423/500\n",
      "10/10 [==============================] - 0s 6ms/step - loss: 0.4855 - accuracy: 0.7432 - val_loss: 0.6474 - val_accuracy: 0.6845\n",
      "Epoch 424/500\n",
      "10/10 [==============================] - 0s 6ms/step - loss: 0.4756 - accuracy: 0.7551 - val_loss: 0.6708 - val_accuracy: 0.6590\n",
      "Epoch 425/500\n",
      "10/10 [==============================] - 0s 4ms/step - loss: 0.4872 - accuracy: 0.7491 - val_loss: 0.6488 - val_accuracy: 0.6692\n",
      "Epoch 426/500\n",
      "10/10 [==============================] - 0s 4ms/step - loss: 0.4780 - accuracy: 0.7517 - val_loss: 0.6551 - val_accuracy: 0.6794\n",
      "Epoch 427/500\n",
      "10/10 [==============================] - 0s 4ms/step - loss: 0.4812 - accuracy: 0.7491 - val_loss: 0.6498 - val_accuracy: 0.6743\n",
      "Epoch 428/500\n",
      "10/10 [==============================] - 0s 4ms/step - loss: 0.4808 - accuracy: 0.7551 - val_loss: 0.6633 - val_accuracy: 0.6590\n",
      "Epoch 429/500\n",
      "10/10 [==============================] - 0s 4ms/step - loss: 0.4772 - accuracy: 0.7457 - val_loss: 0.6412 - val_accuracy: 0.6819\n",
      "Epoch 430/500\n",
      "10/10 [==============================] - 0s 4ms/step - loss: 0.4788 - accuracy: 0.7483 - val_loss: 0.6526 - val_accuracy: 0.6743\n",
      "Epoch 431/500\n",
      "10/10 [==============================] - 0s 5ms/step - loss: 0.4789 - accuracy: 0.7500 - val_loss: 0.6509 - val_accuracy: 0.6768\n",
      "Epoch 432/500\n",
      "10/10 [==============================] - 0s 6ms/step - loss: 0.4784 - accuracy: 0.7466 - val_loss: 0.6671 - val_accuracy: 0.6616\n",
      "Epoch 433/500\n",
      "10/10 [==============================] - 0s 8ms/step - loss: 0.4822 - accuracy: 0.7568 - val_loss: 0.6562 - val_accuracy: 0.6870\n",
      "Epoch 434/500\n",
      "10/10 [==============================] - 0s 6ms/step - loss: 0.4765 - accuracy: 0.7645 - val_loss: 0.6579 - val_accuracy: 0.6692\n",
      "Epoch 435/500\n",
      "10/10 [==============================] - 0s 6ms/step - loss: 0.4769 - accuracy: 0.7474 - val_loss: 0.6463 - val_accuracy: 0.6794\n",
      "Epoch 436/500\n",
      "10/10 [==============================] - 0s 3ms/step - loss: 0.4756 - accuracy: 0.7602 - val_loss: 0.6655 - val_accuracy: 0.6539\n",
      "Epoch 437/500\n",
      "10/10 [==============================] - 0s 5ms/step - loss: 0.4783 - accuracy: 0.7543 - val_loss: 0.6476 - val_accuracy: 0.6845\n",
      "Epoch 438/500\n",
      "10/10 [==============================] - 0s 5ms/step - loss: 0.4776 - accuracy: 0.7543 - val_loss: 0.6556 - val_accuracy: 0.6743\n",
      "Epoch 439/500\n",
      "10/10 [==============================] - 0s 5ms/step - loss: 0.4779 - accuracy: 0.7551 - val_loss: 0.6561 - val_accuracy: 0.6768\n",
      "Epoch 440/500\n",
      "10/10 [==============================] - 0s 15ms/step - loss: 0.4755 - accuracy: 0.7534 - val_loss: 0.6470 - val_accuracy: 0.6794\n",
      "Epoch 441/500\n",
      "10/10 [==============================] - 0s 4ms/step - loss: 0.4776 - accuracy: 0.7585 - val_loss: 0.6629 - val_accuracy: 0.6667\n",
      "Epoch 442/500\n",
      "10/10 [==============================] - 0s 8ms/step - loss: 0.4790 - accuracy: 0.7534 - val_loss: 0.6438 - val_accuracy: 0.6819\n",
      "Epoch 443/500\n",
      "10/10 [==============================] - 0s 5ms/step - loss: 0.4743 - accuracy: 0.7585 - val_loss: 0.6631 - val_accuracy: 0.6539\n",
      "Epoch 444/500\n",
      "10/10 [==============================] - 0s 6ms/step - loss: 0.4763 - accuracy: 0.7483 - val_loss: 0.6544 - val_accuracy: 0.6692\n",
      "Epoch 445/500\n",
      "10/10 [==============================] - 0s 5ms/step - loss: 0.4763 - accuracy: 0.7517 - val_loss: 0.6485 - val_accuracy: 0.6768\n",
      "Epoch 446/500\n",
      "10/10 [==============================] - 0s 6ms/step - loss: 0.4769 - accuracy: 0.7372 - val_loss: 0.6668 - val_accuracy: 0.6489\n",
      "Epoch 447/500\n",
      "10/10 [==============================] - 0s 5ms/step - loss: 0.4784 - accuracy: 0.7432 - val_loss: 0.6444 - val_accuracy: 0.6870\n",
      "Epoch 448/500\n",
      "10/10 [==============================] - 0s 4ms/step - loss: 0.4795 - accuracy: 0.7440 - val_loss: 0.6500 - val_accuracy: 0.6819\n",
      "Epoch 449/500\n",
      "10/10 [==============================] - 0s 5ms/step - loss: 0.4818 - accuracy: 0.7372 - val_loss: 0.6837 - val_accuracy: 0.6438\n",
      "Epoch 450/500\n",
      "10/10 [==============================] - 0s 4ms/step - loss: 0.4774 - accuracy: 0.7526 - val_loss: 0.6504 - val_accuracy: 0.6845\n",
      "Epoch 451/500\n",
      "10/10 [==============================] - 0s 4ms/step - loss: 0.4765 - accuracy: 0.7500 - val_loss: 0.6560 - val_accuracy: 0.6768\n",
      "Epoch 452/500\n",
      "10/10 [==============================] - 0s 4ms/step - loss: 0.4752 - accuracy: 0.7491 - val_loss: 0.6689 - val_accuracy: 0.6616\n",
      "Epoch 453/500\n",
      "10/10 [==============================] - 0s 3ms/step - loss: 0.4744 - accuracy: 0.7491 - val_loss: 0.6474 - val_accuracy: 0.6794\n",
      "Epoch 454/500\n",
      "10/10 [==============================] - 0s 4ms/step - loss: 0.4846 - accuracy: 0.7423 - val_loss: 0.6731 - val_accuracy: 0.6590\n",
      "Epoch 455/500\n",
      "10/10 [==============================] - 0s 4ms/step - loss: 0.4750 - accuracy: 0.7432 - val_loss: 0.6496 - val_accuracy: 0.6794\n",
      "Epoch 456/500\n",
      "10/10 [==============================] - 0s 4ms/step - loss: 0.4801 - accuracy: 0.7432 - val_loss: 0.6476 - val_accuracy: 0.6768\n",
      "Epoch 457/500\n",
      "10/10 [==============================] - 0s 5ms/step - loss: 0.4764 - accuracy: 0.7560 - val_loss: 0.6573 - val_accuracy: 0.6794\n",
      "Epoch 458/500\n"
     ]
    },
    {
     "name": "stdout",
     "output_type": "stream",
     "text": [
      "10/10 [==============================] - 0s 5ms/step - loss: 0.4722 - accuracy: 0.7526 - val_loss: 0.6487 - val_accuracy: 0.6718\n",
      "Epoch 459/500\n",
      "10/10 [==============================] - 0s 4ms/step - loss: 0.4716 - accuracy: 0.7526 - val_loss: 0.6520 - val_accuracy: 0.6794\n",
      "Epoch 460/500\n",
      "10/10 [==============================] - 0s 4ms/step - loss: 0.4731 - accuracy: 0.7500 - val_loss: 0.6730 - val_accuracy: 0.6539\n",
      "Epoch 461/500\n",
      "10/10 [==============================] - 0s 4ms/step - loss: 0.4758 - accuracy: 0.7526 - val_loss: 0.6539 - val_accuracy: 0.6845\n",
      "Epoch 462/500\n",
      "10/10 [==============================] - 0s 4ms/step - loss: 0.4796 - accuracy: 0.7509 - val_loss: 0.6475 - val_accuracy: 0.6870\n",
      "Epoch 463/500\n",
      "10/10 [==============================] - 0s 4ms/step - loss: 0.4722 - accuracy: 0.7543 - val_loss: 0.6619 - val_accuracy: 0.6692\n",
      "Epoch 464/500\n",
      "10/10 [==============================] - 0s 6ms/step - loss: 0.4730 - accuracy: 0.7500 - val_loss: 0.6490 - val_accuracy: 0.6768\n",
      "Epoch 465/500\n",
      "10/10 [==============================] - 0s 5ms/step - loss: 0.4702 - accuracy: 0.7670 - val_loss: 0.6581 - val_accuracy: 0.6692\n",
      "Epoch 466/500\n",
      "10/10 [==============================] - 0s 3ms/step - loss: 0.4713 - accuracy: 0.7602 - val_loss: 0.6516 - val_accuracy: 0.6819\n",
      "Epoch 467/500\n",
      "10/10 [==============================] - 0s 4ms/step - loss: 0.4700 - accuracy: 0.7551 - val_loss: 0.6636 - val_accuracy: 0.6539\n",
      "Epoch 468/500\n",
      "10/10 [==============================] - 0s 4ms/step - loss: 0.4718 - accuracy: 0.7585 - val_loss: 0.6550 - val_accuracy: 0.6641\n",
      "Epoch 469/500\n",
      "10/10 [==============================] - 0s 4ms/step - loss: 0.4704 - accuracy: 0.7568 - val_loss: 0.6573 - val_accuracy: 0.6718\n",
      "Epoch 470/500\n",
      "10/10 [==============================] - 0s 4ms/step - loss: 0.4773 - accuracy: 0.7500 - val_loss: 0.6493 - val_accuracy: 0.6794\n",
      "Epoch 471/500\n",
      "10/10 [==============================] - 0s 3ms/step - loss: 0.4714 - accuracy: 0.7543 - val_loss: 0.6564 - val_accuracy: 0.6870\n",
      "Epoch 472/500\n",
      "10/10 [==============================] - 0s 3ms/step - loss: 0.4705 - accuracy: 0.7534 - val_loss: 0.6488 - val_accuracy: 0.6845\n",
      "Epoch 473/500\n",
      "10/10 [==============================] - 0s 3ms/step - loss: 0.4701 - accuracy: 0.7491 - val_loss: 0.6673 - val_accuracy: 0.6692\n",
      "Epoch 474/500\n",
      "10/10 [==============================] - 0s 3ms/step - loss: 0.4715 - accuracy: 0.7517 - val_loss: 0.6682 - val_accuracy: 0.6641\n",
      "Epoch 475/500\n",
      "10/10 [==============================] - 0s 3ms/step - loss: 0.4723 - accuracy: 0.7534 - val_loss: 0.6516 - val_accuracy: 0.6768\n",
      "Epoch 476/500\n",
      "10/10 [==============================] - 0s 3ms/step - loss: 0.4721 - accuracy: 0.7500 - val_loss: 0.6910 - val_accuracy: 0.6514\n",
      "Epoch 477/500\n",
      "10/10 [==============================] - 0s 3ms/step - loss: 0.4807 - accuracy: 0.7551 - val_loss: 0.6564 - val_accuracy: 0.6641\n",
      "Epoch 478/500\n",
      "10/10 [==============================] - 0s 3ms/step - loss: 0.4722 - accuracy: 0.7543 - val_loss: 0.6522 - val_accuracy: 0.6692\n",
      "Epoch 479/500\n",
      "10/10 [==============================] - 0s 3ms/step - loss: 0.4780 - accuracy: 0.7560 - val_loss: 0.6858 - val_accuracy: 0.6539\n",
      "Epoch 480/500\n",
      "10/10 [==============================] - 0s 3ms/step - loss: 0.4678 - accuracy: 0.7500 - val_loss: 0.6543 - val_accuracy: 0.6641\n",
      "Epoch 481/500\n",
      "10/10 [==============================] - 0s 3ms/step - loss: 0.4707 - accuracy: 0.7491 - val_loss: 0.6649 - val_accuracy: 0.6794\n",
      "Epoch 482/500\n",
      "10/10 [==============================] - 0s 3ms/step - loss: 0.4682 - accuracy: 0.7551 - val_loss: 0.6576 - val_accuracy: 0.6794\n",
      "Epoch 483/500\n",
      "10/10 [==============================] - 0s 3ms/step - loss: 0.4674 - accuracy: 0.7679 - val_loss: 0.6562 - val_accuracy: 0.6794\n",
      "Epoch 484/500\n",
      "10/10 [==============================] - 0s 3ms/step - loss: 0.4690 - accuracy: 0.7602 - val_loss: 0.6712 - val_accuracy: 0.6489\n",
      "Epoch 485/500\n",
      "10/10 [==============================] - 0s 3ms/step - loss: 0.4683 - accuracy: 0.7509 - val_loss: 0.6502 - val_accuracy: 0.6845\n",
      "Epoch 486/500\n",
      "10/10 [==============================] - 0s 3ms/step - loss: 0.4711 - accuracy: 0.7509 - val_loss: 0.6993 - val_accuracy: 0.6310\n",
      "Epoch 487/500\n",
      "10/10 [==============================] - 0s 3ms/step - loss: 0.4802 - accuracy: 0.7466 - val_loss: 0.6569 - val_accuracy: 0.6718\n",
      "Epoch 488/500\n",
      "10/10 [==============================] - 0s 3ms/step - loss: 0.4742 - accuracy: 0.7491 - val_loss: 0.6610 - val_accuracy: 0.6718\n",
      "Epoch 489/500\n",
      "10/10 [==============================] - 0s 3ms/step - loss: 0.4746 - accuracy: 0.7500 - val_loss: 0.6865 - val_accuracy: 0.6514\n",
      "Epoch 490/500\n",
      "10/10 [==============================] - 0s 3ms/step - loss: 0.4747 - accuracy: 0.7406 - val_loss: 0.6576 - val_accuracy: 0.6565\n",
      "Epoch 491/500\n",
      "10/10 [==============================] - 0s 3ms/step - loss: 0.4716 - accuracy: 0.7594 - val_loss: 0.6897 - val_accuracy: 0.6438\n",
      "Epoch 492/500\n",
      "10/10 [==============================] - 0s 3ms/step - loss: 0.4767 - accuracy: 0.7500 - val_loss: 0.6545 - val_accuracy: 0.6819\n",
      "Epoch 493/500\n",
      "10/10 [==============================] - 0s 3ms/step - loss: 0.4688 - accuracy: 0.7568 - val_loss: 0.6622 - val_accuracy: 0.6667\n",
      "Epoch 494/500\n",
      "10/10 [==============================] - 0s 5ms/step - loss: 0.4694 - accuracy: 0.7474 - val_loss: 0.6863 - val_accuracy: 0.6463\n",
      "Epoch 495/500\n",
      "10/10 [==============================] - 0s 6ms/step - loss: 0.4755 - accuracy: 0.7466 - val_loss: 0.6498 - val_accuracy: 0.6768\n",
      "Epoch 496/500\n",
      "10/10 [==============================] - 0s 3ms/step - loss: 0.4713 - accuracy: 0.7568 - val_loss: 0.6591 - val_accuracy: 0.6794\n",
      "Epoch 497/500\n",
      "10/10 [==============================] - 0s 4ms/step - loss: 0.4676 - accuracy: 0.7517 - val_loss: 0.6591 - val_accuracy: 0.6819\n",
      "Epoch 498/500\n",
      "10/10 [==============================] - 0s 4ms/step - loss: 0.4712 - accuracy: 0.7440 - val_loss: 0.6724 - val_accuracy: 0.6641\n",
      "Epoch 499/500\n",
      "10/10 [==============================] - 0s 4ms/step - loss: 0.4749 - accuracy: 0.7466 - val_loss: 0.6532 - val_accuracy: 0.6768\n",
      "Epoch 500/500\n",
      "10/10 [==============================] - 0s 4ms/step - loss: 0.4641 - accuracy: 0.7594 - val_loss: 0.6679 - val_accuracy: 0.6641\n"
     ]
    }
   ],
   "source": [
    "history = nn_model.fit(\n",
    "    lr_extract_inputs(train), \n",
    "    lr_extract_outputs(train),\n",
    "    epochs=500,\n",
    "    batch_size=128,\n",
    "    validation_data=(\n",
    "        lr_extract_inputs(test),\n",
    "        lr_extract_outputs(test),\n",
    "    )\n",
    ")"
   ]
  },
  {
   "cell_type": "code",
   "execution_count": 158,
   "metadata": {},
   "outputs": [
    {
     "name": "stdout",
     "output_type": "stream",
     "text": [
      "train ################################################################################\n",
      "Accuracy: 0.6358284272497897\n",
      "Precision: 0.6186726659167604\n",
      "Recall: 0.8540372670807453\n",
      "\n"
     ]
    },
    {
     "data": {
      "image/png": "[encoded data removed]",
      "text/plain": [
       "<Figure size 216x288 with 1 Axes>"
      ]
     },
     "metadata": {
      "needs_background": "light"
     },
     "output_type": "display_data"
    },
    {
     "name": "stdout",
     "output_type": "stream",
     "text": [
      "test ################################################################################\n",
      "Accuracy: 0.6347607052896725\n",
      "Precision: 0.6057347670250897\n",
      "Recall: 0.8284313725490197\n",
      "\n"
     ]
    },
    {
     "data": {
      "image/png": "[encoded data removed]",
      "text/plain": [
       "<Figure size 216x288 with 1 Axes>"
      ]
     },
     "metadata": {
      "needs_background": "light"
     },
     "output_type": "display_data"
    },
    {
     "name": "stdout",
     "output_type": "stream",
     "text": [
      "validation ################################################################################\n",
      "Accuracy: 0.6717171717171717\n",
      "Precision: 0.6771929824561403\n",
      "Recall: 0.8354978354978355\n",
      "\n"
     ]
    },
    {
     "data": {
      "image/png": "[encoded data removed]",
      "text/plain": [
       "<Figure size 216x288 with 1 Axes>"
      ]
     },
     "metadata": {
      "needs_background": "light"
     },
     "output_type": "display_data"
    }
   ],
   "source": [
    "evaluate_model(knn_model, lr_extract_inputs, lr_extract_outputs, True)"
   ]
  },
  {
   "cell_type": "markdown",
   "metadata": {},
   "source": [
    "#### Conclusión\n",
    "Luego de varias iteraciones sobre diferentes modelos de NN, no logramos mejorar los resultados obtenidos a traves de otros modelos. Probablemente se pueda mejorar un poco los resultados con las funciones de activacion y las cantidades de neuronas por capa correctas, pero teniendo en cuenta que los resultados de todos los modelos no tenían un Accuracy prometedor, se sospecha que puede deberse al dataset utilizado, cuyos datos no provean suficiente informacion para lograr mejores predicciones."
   ]
  },
  {
   "cell_type": "markdown",
   "metadata": {},
   "source": [
    "### Conclusión final\n",
    "El mejor resultado obtenido fue mediante **Gradient Boosted Trees**:"
   ]
  },
  {
   "cell_type": "code",
   "execution_count": 60,
   "metadata": {},
   "outputs": [
    {
     "name": "stdout",
     "output_type": "stream",
     "text": [
      "train ################################################################################\n",
      "Accuracy: 0.7168367346938775\n",
      "Precision: 0.6994818652849741\n",
      "Recall: 0.8424336973478939\n",
      "\n"
     ]
    },
    {
     "data": {
      "image/png": "[encoded data removed]",
      "text/plain": [
       "<Figure size 216x288 with 1 Axes>"
      ]
     },
     "metadata": {
      "needs_background": "light"
     },
     "output_type": "display_data"
    },
    {
     "name": "stdout",
     "output_type": "stream",
     "text": [
      "test ################################################################################\n",
      "Accuracy: 0.7150127226463104\n",
      "Precision: 0.7196969696969697\n",
      "Recall: 0.8333333333333334\n",
      "\n"
     ]
    },
    {
     "data": {
      "image/png": "[encoded data removed]",
      "text/plain": [
       "<Figure size 216x288 with 1 Axes>"
      ]
     },
     "metadata": {
      "needs_background": "light"
     },
     "output_type": "display_data"
    },
    {
     "name": "stdout",
     "output_type": "stream",
     "text": [
      "validation ################################################################################\n",
      "Accuracy: 0.6479591836734694\n",
      "Precision: 0.6353383458646616\n",
      "Recall: 0.8047619047619048\n",
      "\n"
     ]
    },
    {
     "data": {
      "image/png": "[encoded data removed]",
      "text/plain": [
       "<Figure size 216x288 with 1 Axes>"
      ]
     },
     "metadata": {
      "needs_background": "light"
     },
     "output_type": "display_data"
    }
   ],
   "source": [
    "evaluate_model(boost_model, tree_extract_inputs, tree_extract_outputs, True) #con validation"
   ]
  }
 ],
 "metadata": {
  "kernelspec": {
   "display_name": "Python 3",
   "language": "python",
   "name": "python3"
  },
  "language_info": {
   "codemirror_mode": {
    "name": "ipython",
    "version": 3
   },
   "file_extension": ".py",
   "mimetype": "text/x-python",
   "name": "python",
   "nbconvert_exporter": "python",
   "pygments_lexer": "ipython3",
   "version": "3.7.0"
  }
 },
 "nbformat": 4,
 "nbformat_minor": 4
}
