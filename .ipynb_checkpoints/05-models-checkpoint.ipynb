{
 "cells": [
  {
   "cell_type": "markdown",
   "metadata": {},
   "source": [
    "## Carga y  prepación de el dataframe"
   ]
  },
  {
   "cell_type": "markdown",
   "metadata": {},
   "source": [
    "Cargamos y preparamos el dataframe teniendo en cuenta el analisis y la evaluación efectuada. Y de esta manera comenzar a evaluar los distintos modelos y cómo estos se comportan frente a los datos."
   ]
  },
  {
   "cell_type": "code",
   "execution_count": 1,
   "metadata": {},
   "outputs": [],
   "source": [
    "%matplotlib inline\n",
    "import pandas as pd\n",
    "import numpy as np\n",
    "import matplotlib.pyplot as plt\n",
    "import seaborn as sns\n",
    "from sklearn.model_selection import train_test_split\n",
    "import plotly.graph_objects as go\n",
    "from plotly.subplots import make_subplots\n",
    "from datetime import datetime\n",
    "from sklearn.metrics import accuracy_score, precision_score, recall_score, confusion_matrix\n",
    "from sklearn.model_selection import train_test_split\n",
    "\n",
    "plt.rcParams['figure.figsize'] = 25, 10"
   ]
  },
  {
   "cell_type": "code",
   "execution_count": 2,
   "metadata": {},
   "outputs": [],
   "source": [
    "full = pd.read_csv('data/reproductions.csv')\n",
    "\n",
    "full['age'] = datetime.now().date().year - full['birth_year']\n",
    "\n",
    "full['success_reproduction_count'] = full['success_insemination_count'] + full['success_natural_count']\n",
    "full['fail_reproduction_count'] = full['fail_insemination_count'] + full['fail_natural_count']\n",
    "\n",
    "full['pregnant_after_count'] = full['pregnant_after_insemination_count'] + full['pregnant_after_natural_count']\n",
    "full['empty_after_count'] = full['empty_after_natural_count'] + full['empty_after_insemination_count']\n",
    "\n",
    "full['reproduction_execution'] = pd.to_datetime(full.reproduction_execution)\n",
    "full['date_offset'] = (pd.DatetimeIndex(full.reproduction_execution).month*100 + pd.DatetimeIndex(full.reproduction_execution).day - 320)%1300\n",
    "full['season'] = pd.cut(full['date_offset'], [0, 300, 602, 900, 1300], \n",
    "                      labels=['autumn', 'winter', 'spring', 'summer'])\n",
    "\n",
    "full['body_development'] = full['body_development'].round()\n",
    "\n",
    "full.loc[full['DIB_placement'].notnull(),'DIB_placement_converted'] = 1\n",
    "full.loc[full['DIB_placement'].isnull(),'DIB_placement_converted'] = 0\n",
    "\n",
    "full.loc[full['DIB_extraction'].notnull(),'transformed_DIB_extraction'] = 1\n",
    "full.loc[full['DIB_extraction'].isnull(),'transformed_DIB_extraction'] = 0\n",
    "\n",
    "full.loc[full.reproduction_type == 'Natural','reproduction_type'] = 1\n",
    "full.loc[full.reproduction_type == 'Inseminacion','reproduction_type'] = 0\n",
    "\n",
    "full.loc[full.palpation_after == 'Preñada','palpation_after'] = 1\n",
    "full.loc[full.palpation_after == 'preñada','palpation_after'] = 1\n",
    "full.loc[full.palpation_after == 'Vacia','palpation_after'] = 0\n",
    "full.loc[full.palpation_after == 'No Paso','palpation_after'] = 0\n",
    "full.loc[full.palpation_after == 'Sin Tacto','palpation_after'] = 0\n",
    "full.loc[full.palpation_after == 'vacia','palpation_after'] = 0\n",
    "\n",
    "full.loc[full['reproduction_released'].notnull(),'transformed_reproduction_released'] = 1\n",
    "full.loc[full['reproduction_released'].isnull(),'transformed_reproduction_released'] = 0\n",
    "\n",
    "full.loc[full['body_development'].isnull(),'body_development'] = 0\n",
    "#full.loc[full['reproduction_type'].isnull(),'reproduction_type'] = 0\n",
    "#full.loc[full['reproduction_execution'].isnull(),'reproduction_execution'] = ('2017-02-02 16:20:39.396628224')\n",
    "\n",
    "full.drop(full.loc[full['season'].isnull()].index, inplace=True)\n",
    "\n",
    "full.drop(full.loc[full['reproduction_type'].isnull()].index, inplace=True)\n",
    "full.drop(full.loc[full['season'].isnull()].index, inplace=True)\n",
    "\n",
    "del full['palpation_before']\n",
    "del full['birth_year']\n",
    "del full['CUT_before']\n",
    "del full['CUT_after']\n",
    "del full['DIB_placement']\n",
    "del full['DIB_extraction']\n",
    "del full['reproduction_released']\n",
    "del full['date_offset']\n",
    "del full['pregnant_after_insemination_count']\n",
    "del full['empty_after_insemination_count']\n",
    "del full['reproduction_execution']\n",
    "del full['brood_sex']"
   ]
  },
  {
   "cell_type": "markdown",
   "metadata": {},
   "source": [
    "### Porcentajes en los que dividimos el dataset\n",
    "- 60% train\n",
    "- 20% test\n",
    "- 20% validation"
   ]
  },
  {
   "cell_type": "code",
   "execution_count": 3,
   "metadata": {},
   "outputs": [],
   "source": [
    "train, not_train = train_test_split(full, test_size=0.4)\n",
    "validation, test = train_test_split(not_train, test_size=0.5)"
   ]
  },
  {
   "cell_type": "code",
   "execution_count": 4,
   "metadata": {},
   "outputs": [],
   "source": [
    "def evaluate_model(model, extract_inputs_function, extract_outputs_function, include_validation=False):\n",
    "    sets = [('train', train), ('test', test)]\n",
    "    if include_validation:\n",
    "        sets.append(('validation', validation))\n",
    "        \n",
    "    for set_name, set_data in sets:\n",
    "        inputs = extract_inputs_function(set_data)\n",
    "        outputs = extract_outputs_function(set_data)\n",
    "        predictions = model.predict(inputs)\n",
    "        \n",
    "        print(set_name, '#' * 80)\n",
    "        \n",
    "        # print metrics\n",
    "        \n",
    "        print('Accuracy:', accuracy_score(outputs, predictions))\n",
    "        print('Recall:', recall_score(outputs, predictions))\n",
    "        print()\n",
    "        \n",
    "        # plot confussion matrix\n",
    "        \n",
    "        plt.figure(figsize=(3,4))\n",
    "        \n",
    "        plt.xticks([0, 1], ['reproduction unsuccessfull', 'reproduction successfull'], rotation=45)\n",
    "        plt.yticks([0, 1], ['reproduction unsuccessfull', 'reproduction successfull'])\n",
    "        \n",
    "        plt.xlabel('Predicted class')\n",
    "        plt.ylabel('True class')\n",
    "\n",
    "        plt.title(set_name)\n",
    "\n",
    "        plt.imshow(\n",
    "            confusion_matrix(outputs, predictions), \n",
    "            cmap=plt.cm.Blues, \n",
    "            interpolation='nearest',\n",
    "        )\n",
    "\n",
    "        plt.show()"
   ]
  },
  {
   "cell_type": "markdown",
   "metadata": {},
   "source": [
    "## Métricas\n",
    "En nuestro caso contamos con el set de datos balanceado, por lo que vamos a utilizar como una de las métrica **Accuracy**. Esta métrica es muy buena para la clacificación cuando el dataset está bien balanceado. También vamos a utilizar la metrica **Recall** ya que nos interesa encontrar **la mayor cantidad posible de casos positivos**."
   ]
  },
  {
   "cell_type": "markdown",
   "metadata": {},
   "source": [
    "## Primer modelo: Regresión logica"
   ]
  },
  {
   "cell_type": "code",
   "execution_count": 5,
   "metadata": {},
   "outputs": [],
   "source": [
    "from sklearn.linear_model import LogisticRegression\n",
    "from sklearn.preprocessing import StandardScaler\n",
    "from sklearn.pipeline import Pipeline"
   ]
  },
  {
   "cell_type": "code",
   "execution_count": 6,
   "metadata": {},
   "outputs": [],
   "source": [
    "# final input columns, in the order we want to use them\n",
    "LR_INPUT_COLUMNS = [\n",
    "    'age',\n",
    "    'body_development',\n",
    "    'DIB_placement_converted',\n",
    "    'season_autumn',\n",
    "    'season_winter',\n",
    "    'season_spring',\n",
    "    'season_summer',\n",
    "    'success_reproduction_count',\n",
    "    #'success_insemination_count',\n",
    "    #'success_natural_count',\n",
    "    'fail_reproduction_count',\n",
    "    #'fail_insemination_count',\n",
    "    #'fail_natural_count',\n",
    "    'pregnant_after_count',\n",
    "    'empty_after_count',\n",
    "]\n",
    "\n",
    "\n",
    "def lr_extract_inputs(dataset):\n",
    "    \"\"\"\n",
    "    Inputs in the format supported by the logistic regressor.\n",
    "    \"\"\"\n",
    "    inputs = dataset.copy()\n",
    "    \n",
    "    # season to numbers\n",
    "    inputs['season_autumn'] = inputs.season == 'autumn'\n",
    "    inputs['season_winter'] = inputs.season == 'winter'\n",
    "    inputs['season_spring'] = inputs.season == 'spring'\n",
    "    inputs['season_summer'] = inputs.season == 'summer'\n",
    "    del inputs['season']\n",
    "    \n",
    "    # return the raw numbers\n",
    "    return inputs[LR_INPUT_COLUMNS].values.astype(np.float64)\n",
    "\n",
    "def lr_extract_outputs(dataset):\n",
    "    \"\"\"\n",
    "    Outputs in the format supported by the logistic regressor.\n",
    "    \"\"\"\n",
    "    return dataset.transformed_reproduction_released.values"
   ]
  },
  {
   "cell_type": "code",
   "execution_count": 7,
   "metadata": {},
   "outputs": [],
   "source": [
    "lr_model = Pipeline([\n",
    "    ('scaler', StandardScaler()),\n",
    "    ('classifier', LogisticRegression()),\n",
    "])"
   ]
  },
  {
   "cell_type": "code",
   "execution_count": 8,
   "metadata": {},
   "outputs": [
    {
     "data": {
      "text/plain": [
       "Pipeline(steps=[('scaler', StandardScaler()),\n",
       "                ('classifier', LogisticRegression())])"
      ]
     },
     "execution_count": 8,
     "metadata": {},
     "output_type": "execute_result"
    }
   ],
   "source": [
    "lr_model.fit(\n",
    "    lr_extract_inputs(train),\n",
    "    lr_extract_outputs(train),\n",
    ")"
   ]
  },
  {
   "cell_type": "code",
   "execution_count": 9,
   "metadata": {},
   "outputs": [
    {
     "name": "stdout",
     "output_type": "stream",
     "text": [
      "train ################################################################################\n",
      "Accuracy: 0.6232420429311621\n",
      "Recall: 0.7119784656796769\n",
      "\n"
     ]
    },
    {
     "data": {
      "image/png": "[encoded data removed]",
      "text/plain": [
       "<Figure size 216x288 with 1 Axes>"
      ]
     },
     "metadata": {
      "needs_background": "light"
     },
     "output_type": "display_data"
    },
    {
     "name": "stdout",
     "output_type": "stream",
     "text": [
      "test ################################################################################\n",
      "Accuracy: 0.647450110864745\n",
      "Recall: 0.7232472324723247\n",
      "\n"
     ]
    },
    {
     "data": {
      "image/png": "[encoded data removed]",
      "text/plain": [
       "<Figure size 216x288 with 1 Axes>"
      ]
     },
     "metadata": {
      "needs_background": "light"
     },
     "output_type": "display_data"
    }
   ],
   "source": [
    "evaluate_model(lr_model, lr_extract_inputs, lr_extract_outputs)"
   ]
  },
  {
   "cell_type": "markdown",
   "metadata": {},
   "source": [
    "### Conclusión\n",
    "En este modelo, utilizando las métricas mencionadas anteriormente, obtuvimos un 65% en Accuracy y un 72% en Recall en la validación. Aunque el Accuracy no es muy alto, lo vemos aceptable; ya que encontramos más de la mitad de los casos"
   ]
  },
  {
   "cell_type": "markdown",
   "metadata": {},
   "source": [
    "## Segundo modelo: K nearest neighbors"
   ]
  },
  {
   "cell_type": "code",
   "execution_count": 13,
   "metadata": {},
   "outputs": [],
   "source": [
    "from sklearn.neighbors import KNeighborsClassifier"
   ]
  },
  {
   "cell_type": "code",
   "execution_count": 14,
   "metadata": {},
   "outputs": [],
   "source": [
    "K = 100\n",
    "\n",
    "knn_model = Pipeline([\n",
    "    ('scaler', StandardScaler()),\n",
    "    ('classifier', KNeighborsClassifier(n_neighbors=K)),\n",
    "])"
   ]
  },
  {
   "cell_type": "code",
   "execution_count": 15,
   "metadata": {},
   "outputs": [
    {
     "data": {
      "text/plain": [
       "Pipeline(steps=[('scaler', StandardScaler()),\n",
       "                ('classifier', KNeighborsClassifier(n_neighbors=100))])"
      ]
     },
     "execution_count": 15,
     "metadata": {},
     "output_type": "execute_result"
    }
   ],
   "source": [
    "knn_model.fit(\n",
    "    lr_extract_inputs(train),\n",
    "    lr_extract_outputs(train),\n",
    ")"
   ]
  },
  {
   "cell_type": "code",
   "execution_count": 16,
   "metadata": {},
   "outputs": [
    {
     "name": "stdout",
     "output_type": "stream",
     "text": [
      "train ################################################################################\n",
      "Accuracy: 0.6535899333826795\n",
      "Recall: 0.8223418573351279\n",
      "\n"
     ]
    },
    {
     "data": {
      "image/png": "[encoded data removed]",
      "text/plain": [
       "<Figure size 216x288 with 1 Axes>"
      ]
     },
     "metadata": {
      "needs_background": "light"
     },
     "output_type": "display_data"
    },
    {
     "name": "stdout",
     "output_type": "stream",
     "text": [
      "test ################################################################################\n",
      "Accuracy: 0.6496674057649667\n",
      "Recall: 0.7712177121771218\n",
      "\n"
     ]
    },
    {
     "data": {
      "image/png": "[encoded data removed]",
      "text/plain": [
       "<Figure size 216x288 with 1 Axes>"
      ]
     },
     "metadata": {
      "needs_background": "light"
     },
     "output_type": "display_data"
    }
   ],
   "source": [
    "evaluate_model(knn_model, lr_extract_inputs, lr_extract_outputs)"
   ]
  },
  {
   "cell_type": "markdown",
   "metadata": {},
   "source": [
    "### Conclusión\n",
    "Al diferencia del modelo anterior, obtuvimos en validación un 64% en Accuracy, y un 77% en Recall. "
   ]
  },
  {
   "cell_type": "markdown",
   "metadata": {},
   "source": [
    "## Tercer modelo: Decision Trees"
   ]
  },
  {
   "cell_type": "code",
   "execution_count": 17,
   "metadata": {},
   "outputs": [],
   "source": [
    "from sklearn.tree import DecisionTreeClassifier"
   ]
  },
  {
   "cell_type": "code",
   "execution_count": 18,
   "metadata": {},
   "outputs": [],
   "source": [
    "# final input columns, in the order we want to use them\n",
    "TREE_INPUT_COLUMNS = [\n",
    "    'age',\n",
    "    'body_development',\n",
    "    'DIB_placement_converted',\n",
    "    'season',\n",
    "    'success_reproduction_count',\n",
    "    #'success_insemination_count',\n",
    "    #'success_natural_count',\n",
    "    'fail_reproduction_count',\n",
    "    #'fail_insemination_count',\n",
    "    #'fail_natural_count',\n",
    "    'pregnant_after_count',\n",
    "    'empty_after_count',\n",
    "]\n",
    "\n",
    "\n",
    "def tree_extract_inputs(dataset):\n",
    "    \"\"\"\n",
    "    Inputs in the format supported by the logistic regressor.\n",
    "    \"\"\"\n",
    "    inputs = dataset.copy()\n",
    "    \n",
    "    # season to labels\n",
    "    inputs['season'] = inputs.season.map({'autumn': 1, 'winter': 2, 'spring': 3, 'summer': 4})\n",
    "\n",
    "    # return the raw numbers\n",
    "    return inputs[TREE_INPUT_COLUMNS].values\n",
    "\n",
    "def tree_extract_outputs(dataset):\n",
    "    \"\"\"\n",
    "    Outputs in the format supported by the logistic regressor.\n",
    "    \"\"\"\n",
    "    return dataset.transformed_reproduction_released.values"
   ]
  },
  {
   "cell_type": "code",
   "execution_count": 49,
   "metadata": {},
   "outputs": [],
   "source": [
    "tree_model = DecisionTreeClassifier(max_depth=5)"
   ]
  },
  {
   "cell_type": "code",
   "execution_count": 50,
   "metadata": {},
   "outputs": [
    {
     "data": {
      "text/plain": [
       "DecisionTreeClassifier(max_depth=5)"
      ]
     },
     "execution_count": 50,
     "metadata": {},
     "output_type": "execute_result"
    }
   ],
   "source": [
    "tree_model.fit(\n",
    "    tree_extract_inputs(train),\n",
    "    tree_extract_outputs(train),\n",
    ")"
   ]
  },
  {
   "cell_type": "code",
   "execution_count": 51,
   "metadata": {},
   "outputs": [
    {
     "name": "stdout",
     "output_type": "stream",
     "text": [
      "train ################################################################################\n",
      "Accuracy: 0.6646928201332346\n",
      "Recall: 0.8358008075370121\n",
      "\n"
     ]
    },
    {
     "data": {
      "image/png": "[encoded data removed]",
      "text/plain": [
       "<Figure size 216x288 with 1 Axes>"
      ]
     },
     "metadata": {
      "needs_background": "light"
     },
     "output_type": "display_data"
    },
    {
     "name": "stdout",
     "output_type": "stream",
     "text": [
      "test ################################################################################\n",
      "Accuracy: 0.6607538802660754\n",
      "Recall: 0.8228782287822878\n",
      "\n"
     ]
    },
    {
     "data": {
      "image/png": "[encoded data removed]",
      "text/plain": [
       "<Figure size 216x288 with 1 Axes>"
      ]
     },
     "metadata": {
      "needs_background": "light"
     },
     "output_type": "display_data"
    }
   ],
   "source": [
    "evaluate_model(tree_model, tree_extract_inputs, tree_extract_outputs)"
   ]
  },
  {
   "cell_type": "markdown",
   "metadata": {},
   "source": [
    "#### Conclusión\n",
    "En este modelo podemos observar que obtuvimos resultados mejores que con los dos anteriores. Podemos agrear que son más fáciles de sobrenrenar que la regresión lineal y el K-NN, ya que tuvimos que configurarlo con una profundidad máxima de 5 niveles porque arrojaba resultados por encima del 99% en el train y en el validation solo llegabamos al 60 %"
   ]
  },
  {
   "cell_type": "markdown",
   "metadata": {},
   "source": [
    "## Cuarto modelo: Random Forests"
   ]
  },
  {
   "cell_type": "code",
   "execution_count": 22,
   "metadata": {},
   "outputs": [],
   "source": [
    "from sklearn.ensemble import RandomForestClassifier"
   ]
  },
  {
   "cell_type": "code",
   "execution_count": 23,
   "metadata": {},
   "outputs": [],
   "source": [
    "forest_model = RandomForestClassifier(max_depth=5)"
   ]
  },
  {
   "cell_type": "code",
   "execution_count": 24,
   "metadata": {},
   "outputs": [
    {
     "data": {
      "text/plain": [
       "RandomForestClassifier(max_depth=5)"
      ]
     },
     "execution_count": 24,
     "metadata": {},
     "output_type": "execute_result"
    }
   ],
   "source": [
    "forest_model.fit(\n",
    "    tree_extract_inputs(train),\n",
    "    tree_extract_outputs(train),\n",
    ")"
   ]
  },
  {
   "cell_type": "code",
   "execution_count": 25,
   "metadata": {
    "scrolled": false
   },
   "outputs": [
    {
     "name": "stdout",
     "output_type": "stream",
     "text": [
      "train ################################################################################\n",
      "Accuracy: 0.6861584011843079\n",
      "Recall: 0.9084791386271871\n",
      "\n"
     ]
    },
    {
     "data": {
      "image/png": "[encoded data removed]",
      "text/plain": [
       "<Figure size 216x288 with 1 Axes>"
      ]
     },
     "metadata": {
      "needs_background": "light"
     },
     "output_type": "display_data"
    },
    {
     "name": "stdout",
     "output_type": "stream",
     "text": [
      "test ################################################################################\n",
      "Accuracy: 0.7073170731707317\n",
      "Recall: 0.8856088560885609\n",
      "\n"
     ]
    },
    {
     "data": {
      "image/png": "[encoded data removed]",
      "text/plain": [
       "<Figure size 216x288 with 1 Axes>"
      ]
     },
     "metadata": {
      "needs_background": "light"
     },
     "output_type": "display_data"
    }
   ],
   "source": [
    "evaluate_model(forest_model, tree_extract_inputs, tree_extract_outputs)"
   ]
  },
  {
   "cell_type": "markdown",
   "metadata": {},
   "source": [
    "#### Conclusión\n",
    "Obtuvimos resultados de Accuracy mejores que con la regresión lineal y el K-NN:\n",
    "- 71% con Accuracy\n",
    "- 88% con Recall."
   ]
  },
  {
   "cell_type": "markdown",
   "metadata": {},
   "source": [
    "## Fifth model: Gradient Boosted Trees"
   ]
  },
  {
   "cell_type": "code",
   "execution_count": 26,
   "metadata": {},
   "outputs": [],
   "source": [
    "from sklearn.ensemble import GradientBoostingClassifier"
   ]
  },
  {
   "cell_type": "code",
   "execution_count": 27,
   "metadata": {},
   "outputs": [],
   "source": [
    "boost_model = GradientBoostingClassifier()"
   ]
  },
  {
   "cell_type": "code",
   "execution_count": 28,
   "metadata": {},
   "outputs": [
    {
     "data": {
      "text/plain": [
       "GradientBoostingClassifier()"
      ]
     },
     "execution_count": 28,
     "metadata": {},
     "output_type": "execute_result"
    }
   ],
   "source": [
    "boost_model.fit(\n",
    "    tree_extract_inputs(train),\n",
    "    tree_extract_outputs(train),\n",
    ")"
   ]
  },
  {
   "cell_type": "code",
   "execution_count": 29,
   "metadata": {
    "scrolled": false
   },
   "outputs": [
    {
     "name": "stdout",
     "output_type": "stream",
     "text": [
      "train ################################################################################\n",
      "Accuracy: 0.7017024426350851\n",
      "Recall: 0.857335127860027\n",
      "\n"
     ]
    },
    {
     "data": {
      "image/png": "[encoded data removed]",
      "text/plain": [
       "<Figure size 216x288 with 1 Axes>"
      ]
     },
     "metadata": {
      "needs_background": "light"
     },
     "output_type": "display_data"
    },
    {
     "name": "stdout",
     "output_type": "stream",
     "text": [
      "test ################################################################################\n",
      "Accuracy: 0.70509977827051\n",
      "Recall: 0.8339483394833949\n",
      "\n"
     ]
    },
    {
     "data": {
      "image/png": "[encoded data removed]",
      "text/plain": [
       "<Figure size 216x288 with 1 Axes>"
      ]
     },
     "metadata": {
      "needs_background": "light"
     },
     "output_type": "display_data"
    }
   ],
   "source": [
    "evaluate_model(boost_model, tree_extract_inputs, tree_extract_outputs)"
   ]
  },
  {
   "cell_type": "markdown",
   "metadata": {},
   "source": [
    "#### Conclusión\n",
    "Al igual que en el modelo anterior, obtuvimos resultados de Accuracy mejores que con la regresión lineal y el K-NN. Con resultados del 71% con Accuracy y 83% con Recall."
   ]
  },
  {
   "cell_type": "markdown",
   "metadata": {},
   "source": [
    "## Sexto modelo: Neural Networks"
   ]
  },
  {
   "cell_type": "code",
   "execution_count": 30,
   "metadata": {},
   "outputs": [],
   "source": [
    "from keras.models import Sequential\n",
    "from keras.layers import Dense, Activation, Input, Dropout"
   ]
  },
  {
   "cell_type": "code",
   "execution_count": 31,
   "metadata": {},
   "outputs": [],
   "source": [
    "nn_model = Sequential([   \n",
    "    Dense(50, input_shape=(len(LR_INPUT_COLUMNS), )),\n",
    "    Activation('tanh'),\n",
    "    \n",
    "    # Dropout(0.1),\n",
    "\n",
    "    Dense(50),\n",
    "    Activation('tanh'),\n",
    "    \n",
    "    # Dropout(0.1),\n",
    "\n",
    "    Dense(1),\n",
    "    Activation('sigmoid'),\n",
    "])\n",
    "\n",
    "nn_model.compile(\n",
    "    optimizer='adam',\n",
    "    loss='binary_crossentropy',\n",
    "    metrics=['accuracy',],\n",
    ")"
   ]
  },
  {
   "cell_type": "code",
   "execution_count": 32,
   "metadata": {
    "scrolled": true
   },
   "outputs": [
    {
     "name": "stdout",
     "output_type": "stream",
     "text": [
      "Epoch 1/500\n",
      "11/11 [==============================] - 0s 16ms/step - loss: 0.6821 - accuracy: 0.5507 - val_loss: 0.6553 - val_accuracy: 0.5987\n",
      "Epoch 2/500\n",
      "11/11 [==============================] - 0s 4ms/step - loss: 0.6754 - accuracy: 0.5885 - val_loss: 0.6457 - val_accuracy: 0.6053\n",
      "Epoch 3/500\n",
      "11/11 [==============================] - 0s 4ms/step - loss: 0.6702 - accuracy: 0.5981 - val_loss: 0.6398 - val_accuracy: 0.6475\n",
      "Epoch 4/500\n",
      "11/11 [==============================] - 0s 4ms/step - loss: 0.6633 - accuracy: 0.6255 - val_loss: 0.6411 - val_accuracy: 0.6364\n",
      "Epoch 5/500\n",
      "11/11 [==============================] - 0s 4ms/step - loss: 0.6587 - accuracy: 0.6269 - val_loss: 0.6359 - val_accuracy: 0.6164\n",
      "Epoch 6/500\n",
      "11/11 [==============================] - 0s 4ms/step - loss: 0.6587 - accuracy: 0.6269 - val_loss: 0.6525 - val_accuracy: 0.6164\n",
      "Epoch 7/500\n",
      "11/11 [==============================] - 0s 3ms/step - loss: 0.6648 - accuracy: 0.6077 - val_loss: 0.6256 - val_accuracy: 0.6275\n",
      "Epoch 8/500\n",
      "11/11 [==============================] - 0s 3ms/step - loss: 0.6520 - accuracy: 0.6358 - val_loss: 0.6268 - val_accuracy: 0.6341\n",
      "Epoch 9/500\n",
      "11/11 [==============================] - 0s 3ms/step - loss: 0.6505 - accuracy: 0.6351 - val_loss: 0.6314 - val_accuracy: 0.6341\n",
      "Epoch 10/500\n",
      "11/11 [==============================] - 0s 3ms/step - loss: 0.6501 - accuracy: 0.6388 - val_loss: 0.6328 - val_accuracy: 0.6275\n",
      "Epoch 11/500\n",
      "11/11 [==============================] - 0s 3ms/step - loss: 0.6471 - accuracy: 0.6329 - val_loss: 0.6283 - val_accuracy: 0.6430\n",
      "Epoch 12/500\n",
      "11/11 [==============================] - 0s 3ms/step - loss: 0.6482 - accuracy: 0.6314 - val_loss: 0.6216 - val_accuracy: 0.6297\n",
      "Epoch 13/500\n",
      "11/11 [==============================] - 0s 3ms/step - loss: 0.6440 - accuracy: 0.6425 - val_loss: 0.6293 - val_accuracy: 0.6386\n",
      "Epoch 14/500\n",
      "11/11 [==============================] - 0s 3ms/step - loss: 0.6439 - accuracy: 0.6306 - val_loss: 0.6219 - val_accuracy: 0.6297\n",
      "Epoch 15/500\n",
      "11/11 [==============================] - 0s 3ms/step - loss: 0.6423 - accuracy: 0.6351 - val_loss: 0.6220 - val_accuracy: 0.6519\n",
      "Epoch 16/500\n",
      "11/11 [==============================] - 0s 3ms/step - loss: 0.6423 - accuracy: 0.6351 - val_loss: 0.6286 - val_accuracy: 0.6386\n",
      "Epoch 17/500\n",
      "11/11 [==============================] - 0s 4ms/step - loss: 0.6424 - accuracy: 0.6321 - val_loss: 0.6190 - val_accuracy: 0.6364\n",
      "Epoch 18/500\n",
      "11/11 [==============================] - 0s 3ms/step - loss: 0.6406 - accuracy: 0.6380 - val_loss: 0.6329 - val_accuracy: 0.6319\n",
      "Epoch 19/500\n",
      "11/11 [==============================] - 0s 3ms/step - loss: 0.6398 - accuracy: 0.6336 - val_loss: 0.6192 - val_accuracy: 0.6364\n",
      "Epoch 20/500\n",
      "11/11 [==============================] - 0s 3ms/step - loss: 0.6397 - accuracy: 0.6306 - val_loss: 0.6214 - val_accuracy: 0.6452\n",
      "Epoch 21/500\n",
      "11/11 [==============================] - 0s 2ms/step - loss: 0.6392 - accuracy: 0.6373 - val_loss: 0.6277 - val_accuracy: 0.6341\n",
      "Epoch 22/500\n",
      "11/11 [==============================] - 0s 3ms/step - loss: 0.6434 - accuracy: 0.6277 - val_loss: 0.6210 - val_accuracy: 0.6231\n",
      "Epoch 23/500\n",
      "11/11 [==============================] - 0s 3ms/step - loss: 0.6376 - accuracy: 0.6277 - val_loss: 0.6180 - val_accuracy: 0.6275\n",
      "Epoch 24/500\n",
      "11/11 [==============================] - 0s 3ms/step - loss: 0.6379 - accuracy: 0.6306 - val_loss: 0.6244 - val_accuracy: 0.6430\n",
      "Epoch 25/500\n",
      "11/11 [==============================] - 0s 3ms/step - loss: 0.6359 - accuracy: 0.6454 - val_loss: 0.6168 - val_accuracy: 0.6364\n",
      "Epoch 26/500\n",
      "11/11 [==============================] - 0s 3ms/step - loss: 0.6360 - accuracy: 0.6336 - val_loss: 0.6182 - val_accuracy: 0.6364\n",
      "Epoch 27/500\n",
      "11/11 [==============================] - 0s 3ms/step - loss: 0.6366 - accuracy: 0.6447 - val_loss: 0.6185 - val_accuracy: 0.6408\n",
      "Epoch 28/500\n",
      "11/11 [==============================] - 0s 3ms/step - loss: 0.6338 - accuracy: 0.6395 - val_loss: 0.6170 - val_accuracy: 0.6319\n",
      "Epoch 29/500\n",
      "11/11 [==============================] - 0s 3ms/step - loss: 0.6356 - accuracy: 0.6299 - val_loss: 0.6152 - val_accuracy: 0.6475\n",
      "Epoch 30/500\n",
      "11/11 [==============================] - 0s 3ms/step - loss: 0.6366 - accuracy: 0.6306 - val_loss: 0.6107 - val_accuracy: 0.6541\n",
      "Epoch 31/500\n",
      "11/11 [==============================] - 0s 3ms/step - loss: 0.6443 - accuracy: 0.6232 - val_loss: 0.6189 - val_accuracy: 0.6541\n",
      "Epoch 32/500\n",
      "11/11 [==============================] - 0s 3ms/step - loss: 0.6316 - accuracy: 0.6528 - val_loss: 0.6132 - val_accuracy: 0.6408\n",
      "Epoch 33/500\n",
      "11/11 [==============================] - 0s 4ms/step - loss: 0.6309 - accuracy: 0.6425 - val_loss: 0.6141 - val_accuracy: 0.6497\n",
      "Epoch 34/500\n",
      "11/11 [==============================] - 0s 3ms/step - loss: 0.6312 - accuracy: 0.6417 - val_loss: 0.6145 - val_accuracy: 0.6563\n",
      "Epoch 35/500\n",
      "11/11 [==============================] - 0s 3ms/step - loss: 0.6304 - accuracy: 0.6521 - val_loss: 0.6179 - val_accuracy: 0.6430\n",
      "Epoch 36/500\n",
      "11/11 [==============================] - 0s 3ms/step - loss: 0.6296 - accuracy: 0.6469 - val_loss: 0.6098 - val_accuracy: 0.6696\n",
      "Epoch 37/500\n",
      "11/11 [==============================] - 0s 4ms/step - loss: 0.6279 - accuracy: 0.6528 - val_loss: 0.6202 - val_accuracy: 0.6630\n",
      "Epoch 38/500\n",
      "11/11 [==============================] - 0s 3ms/step - loss: 0.6350 - accuracy: 0.6410 - val_loss: 0.6125 - val_accuracy: 0.6608\n",
      "Epoch 39/500\n",
      "11/11 [==============================] - 0s 3ms/step - loss: 0.6295 - accuracy: 0.6551 - val_loss: 0.6219 - val_accuracy: 0.6519\n",
      "Epoch 40/500\n",
      "11/11 [==============================] - 0s 3ms/step - loss: 0.6269 - accuracy: 0.6603 - val_loss: 0.6080 - val_accuracy: 0.6696\n",
      "Epoch 41/500\n",
      "11/11 [==============================] - 0s 3ms/step - loss: 0.6260 - accuracy: 0.6447 - val_loss: 0.6107 - val_accuracy: 0.6452\n",
      "Epoch 42/500\n",
      "11/11 [==============================] - 0s 4ms/step - loss: 0.6293 - accuracy: 0.6551 - val_loss: 0.6275 - val_accuracy: 0.6497\n",
      "Epoch 43/500\n",
      "11/11 [==============================] - 0s 3ms/step - loss: 0.6302 - accuracy: 0.6447 - val_loss: 0.6072 - val_accuracy: 0.6741\n",
      "Epoch 44/500\n",
      "11/11 [==============================] - 0s 3ms/step - loss: 0.6248 - accuracy: 0.6603 - val_loss: 0.6079 - val_accuracy: 0.6674\n",
      "Epoch 45/500\n",
      "11/11 [==============================] - 0s 3ms/step - loss: 0.6251 - accuracy: 0.6528 - val_loss: 0.6120 - val_accuracy: 0.6541\n",
      "Epoch 46/500\n",
      "11/11 [==============================] - 0s 3ms/step - loss: 0.6237 - accuracy: 0.6625 - val_loss: 0.6061 - val_accuracy: 0.6519\n",
      "Epoch 47/500\n",
      "11/11 [==============================] - 0s 3ms/step - loss: 0.6213 - accuracy: 0.6669 - val_loss: 0.6145 - val_accuracy: 0.6652\n",
      "Epoch 48/500\n",
      "11/11 [==============================] - 0s 2ms/step - loss: 0.6260 - accuracy: 0.6432 - val_loss: 0.6168 - val_accuracy: 0.6585\n",
      "Epoch 49/500\n",
      "11/11 [==============================] - 0s 3ms/step - loss: 0.6256 - accuracy: 0.6543 - val_loss: 0.6057 - val_accuracy: 0.6763\n",
      "Epoch 50/500\n",
      "11/11 [==============================] - 0s 3ms/step - loss: 0.6333 - accuracy: 0.6499 - val_loss: 0.6046 - val_accuracy: 0.6874\n",
      "Epoch 51/500\n",
      "11/11 [==============================] - 0s 2ms/step - loss: 0.6237 - accuracy: 0.6521 - val_loss: 0.6212 - val_accuracy: 0.6519\n",
      "Epoch 52/500\n",
      "11/11 [==============================] - 0s 3ms/step - loss: 0.6275 - accuracy: 0.6462 - val_loss: 0.6037 - val_accuracy: 0.6785\n",
      "Epoch 53/500\n",
      "11/11 [==============================] - 0s 3ms/step - loss: 0.6194 - accuracy: 0.6625 - val_loss: 0.6138 - val_accuracy: 0.6630\n",
      "Epoch 54/500\n",
      "11/11 [==============================] - 0s 3ms/step - loss: 0.6211 - accuracy: 0.6573 - val_loss: 0.6078 - val_accuracy: 0.6718\n",
      "Epoch 55/500\n",
      "11/11 [==============================] - 0s 3ms/step - loss: 0.6193 - accuracy: 0.6625 - val_loss: 0.6012 - val_accuracy: 0.6874\n",
      "Epoch 56/500\n",
      "11/11 [==============================] - 0s 3ms/step - loss: 0.6246 - accuracy: 0.6566 - val_loss: 0.6233 - val_accuracy: 0.6452\n",
      "Epoch 57/500\n",
      "11/11 [==============================] - 0s 3ms/step - loss: 0.6268 - accuracy: 0.6580 - val_loss: 0.6029 - val_accuracy: 0.6896\n",
      "Epoch 58/500\n",
      "11/11 [==============================] - 0s 3ms/step - loss: 0.6208 - accuracy: 0.6551 - val_loss: 0.6038 - val_accuracy: 0.6829\n"
     ]
    },
    {
     "name": "stdout",
     "output_type": "stream",
     "text": [
      "Epoch 59/500\n",
      "11/11 [==============================] - 0s 3ms/step - loss: 0.6172 - accuracy: 0.6728 - val_loss: 0.6035 - val_accuracy: 0.6585\n",
      "Epoch 60/500\n",
      "11/11 [==============================] - 0s 3ms/step - loss: 0.6185 - accuracy: 0.6580 - val_loss: 0.5995 - val_accuracy: 0.6962\n",
      "Epoch 61/500\n",
      "11/11 [==============================] - 0s 3ms/step - loss: 0.6170 - accuracy: 0.6669 - val_loss: 0.6056 - val_accuracy: 0.6563\n",
      "Epoch 62/500\n",
      "11/11 [==============================] - 0s 3ms/step - loss: 0.6149 - accuracy: 0.6684 - val_loss: 0.6037 - val_accuracy: 0.6829\n",
      "Epoch 63/500\n",
      "11/11 [==============================] - 0s 3ms/step - loss: 0.6146 - accuracy: 0.6610 - val_loss: 0.6079 - val_accuracy: 0.6652\n",
      "Epoch 64/500\n",
      "11/11 [==============================] - 0s 3ms/step - loss: 0.6146 - accuracy: 0.6758 - val_loss: 0.6017 - val_accuracy: 0.6896\n",
      "Epoch 65/500\n",
      "11/11 [==============================] - 0s 3ms/step - loss: 0.6141 - accuracy: 0.6677 - val_loss: 0.5973 - val_accuracy: 0.6940\n",
      "Epoch 66/500\n",
      "11/11 [==============================] - 0s 3ms/step - loss: 0.6151 - accuracy: 0.6691 - val_loss: 0.6138 - val_accuracy: 0.6608\n",
      "Epoch 67/500\n",
      "11/11 [==============================] - 0s 3ms/step - loss: 0.6163 - accuracy: 0.6610 - val_loss: 0.6067 - val_accuracy: 0.6652\n",
      "Epoch 68/500\n",
      "11/11 [==============================] - 0s 3ms/step - loss: 0.6142 - accuracy: 0.6728 - val_loss: 0.5972 - val_accuracy: 0.7007\n",
      "Epoch 69/500\n",
      "11/11 [==============================] - 0s 3ms/step - loss: 0.6140 - accuracy: 0.6714 - val_loss: 0.6224 - val_accuracy: 0.6541\n",
      "Epoch 70/500\n",
      "11/11 [==============================] - 0s 3ms/step - loss: 0.6143 - accuracy: 0.6758 - val_loss: 0.6030 - val_accuracy: 0.6807\n",
      "Epoch 71/500\n",
      "11/11 [==============================] - 0s 3ms/step - loss: 0.6194 - accuracy: 0.6573 - val_loss: 0.6004 - val_accuracy: 0.6851\n",
      "Epoch 72/500\n",
      "11/11 [==============================] - 0s 3ms/step - loss: 0.6125 - accuracy: 0.6795 - val_loss: 0.6002 - val_accuracy: 0.6785\n",
      "Epoch 73/500\n",
      "11/11 [==============================] - 0s 3ms/step - loss: 0.6120 - accuracy: 0.6632 - val_loss: 0.6015 - val_accuracy: 0.6763\n",
      "Epoch 74/500\n",
      "11/11 [==============================] - 0s 3ms/step - loss: 0.6131 - accuracy: 0.6736 - val_loss: 0.6129 - val_accuracy: 0.6696\n",
      "Epoch 75/500\n",
      "11/11 [==============================] - 0s 3ms/step - loss: 0.6122 - accuracy: 0.6669 - val_loss: 0.5998 - val_accuracy: 0.6851\n",
      "Epoch 76/500\n",
      "11/11 [==============================] - 0s 3ms/step - loss: 0.6114 - accuracy: 0.6677 - val_loss: 0.5957 - val_accuracy: 0.6874\n",
      "Epoch 77/500\n",
      "11/11 [==============================] - 0s 3ms/step - loss: 0.6122 - accuracy: 0.6684 - val_loss: 0.6084 - val_accuracy: 0.6652\n",
      "Epoch 78/500\n",
      "11/11 [==============================] - 0s 3ms/step - loss: 0.6093 - accuracy: 0.6728 - val_loss: 0.5981 - val_accuracy: 0.6874\n",
      "Epoch 79/500\n",
      "11/11 [==============================] - 0s 3ms/step - loss: 0.6086 - accuracy: 0.6706 - val_loss: 0.5991 - val_accuracy: 0.6829\n",
      "Epoch 80/500\n",
      "11/11 [==============================] - 0s 3ms/step - loss: 0.6088 - accuracy: 0.6743 - val_loss: 0.6010 - val_accuracy: 0.6851\n",
      "Epoch 81/500\n",
      "11/11 [==============================] - 0s 3ms/step - loss: 0.6072 - accuracy: 0.6780 - val_loss: 0.5983 - val_accuracy: 0.6896\n",
      "Epoch 82/500\n",
      "11/11 [==============================] - 0s 3ms/step - loss: 0.6077 - accuracy: 0.6721 - val_loss: 0.6092 - val_accuracy: 0.6608\n",
      "Epoch 83/500\n",
      "11/11 [==============================] - 0s 3ms/step - loss: 0.6134 - accuracy: 0.6751 - val_loss: 0.5979 - val_accuracy: 0.6940\n",
      "Epoch 84/500\n",
      "11/11 [==============================] - 0s 3ms/step - loss: 0.6120 - accuracy: 0.6662 - val_loss: 0.6079 - val_accuracy: 0.6652\n",
      "Epoch 85/500\n",
      "11/11 [==============================] - 0s 3ms/step - loss: 0.6126 - accuracy: 0.6706 - val_loss: 0.6151 - val_accuracy: 0.6696\n",
      "Epoch 86/500\n",
      "11/11 [==============================] - 0s 4ms/step - loss: 0.6140 - accuracy: 0.6684 - val_loss: 0.5972 - val_accuracy: 0.7007\n",
      "Epoch 87/500\n",
      "11/11 [==============================] - 0s 3ms/step - loss: 0.6066 - accuracy: 0.6743 - val_loss: 0.6022 - val_accuracy: 0.6718\n",
      "Epoch 88/500\n",
      "11/11 [==============================] - 0s 3ms/step - loss: 0.6066 - accuracy: 0.6758 - val_loss: 0.6006 - val_accuracy: 0.6785\n",
      "Epoch 89/500\n",
      "11/11 [==============================] - 0s 3ms/step - loss: 0.6075 - accuracy: 0.6654 - val_loss: 0.6038 - val_accuracy: 0.6829\n",
      "Epoch 90/500\n",
      "11/11 [==============================] - 0s 3ms/step - loss: 0.6043 - accuracy: 0.6743 - val_loss: 0.5984 - val_accuracy: 0.6896\n",
      "Epoch 91/500\n",
      "11/11 [==============================] - 0s 3ms/step - loss: 0.6049 - accuracy: 0.6736 - val_loss: 0.5986 - val_accuracy: 0.6608\n",
      "Epoch 92/500\n",
      "11/11 [==============================] - 0s 3ms/step - loss: 0.6053 - accuracy: 0.6684 - val_loss: 0.5985 - val_accuracy: 0.6851\n",
      "Epoch 93/500\n",
      "11/11 [==============================] - 0s 3ms/step - loss: 0.6033 - accuracy: 0.6795 - val_loss: 0.6012 - val_accuracy: 0.6785\n",
      "Epoch 94/500\n",
      "11/11 [==============================] - 0s 3ms/step - loss: 0.6031 - accuracy: 0.6788 - val_loss: 0.6010 - val_accuracy: 0.6851\n",
      "Epoch 95/500\n",
      "11/11 [==============================] - 0s 3ms/step - loss: 0.6036 - accuracy: 0.6714 - val_loss: 0.6050 - val_accuracy: 0.6630\n",
      "Epoch 96/500\n",
      "11/11 [==============================] - 0s 3ms/step - loss: 0.6062 - accuracy: 0.6669 - val_loss: 0.5979 - val_accuracy: 0.6829\n",
      "Epoch 97/500\n",
      "11/11 [==============================] - 0s 3ms/step - loss: 0.6030 - accuracy: 0.6662 - val_loss: 0.5958 - val_accuracy: 0.7029\n",
      "Epoch 98/500\n",
      "11/11 [==============================] - 0s 3ms/step - loss: 0.6046 - accuracy: 0.6603 - val_loss: 0.5980 - val_accuracy: 0.6851\n",
      "Epoch 99/500\n",
      "11/11 [==============================] - 0s 3ms/step - loss: 0.6024 - accuracy: 0.6743 - val_loss: 0.6011 - val_accuracy: 0.6851\n",
      "Epoch 100/500\n",
      "11/11 [==============================] - 0s 3ms/step - loss: 0.6032 - accuracy: 0.6714 - val_loss: 0.5915 - val_accuracy: 0.6874\n",
      "Epoch 101/500\n",
      "11/11 [==============================] - 0s 3ms/step - loss: 0.6025 - accuracy: 0.6728 - val_loss: 0.6130 - val_accuracy: 0.6541\n",
      "Epoch 102/500\n",
      "11/11 [==============================] - 0s 3ms/step - loss: 0.6056 - accuracy: 0.6677 - val_loss: 0.5956 - val_accuracy: 0.7007\n",
      "Epoch 103/500\n",
      "11/11 [==============================] - 0s 3ms/step - loss: 0.6073 - accuracy: 0.6595 - val_loss: 0.5928 - val_accuracy: 0.7007\n",
      "Epoch 104/500\n",
      "11/11 [==============================] - 0s 3ms/step - loss: 0.6012 - accuracy: 0.6773 - val_loss: 0.6073 - val_accuracy: 0.6585\n",
      "Epoch 105/500\n",
      "11/11 [==============================] - 0s 3ms/step - loss: 0.6022 - accuracy: 0.6736 - val_loss: 0.5960 - val_accuracy: 0.6785\n",
      "Epoch 106/500\n",
      "11/11 [==============================] - 0s 3ms/step - loss: 0.5994 - accuracy: 0.6810 - val_loss: 0.6017 - val_accuracy: 0.6851\n",
      "Epoch 107/500\n",
      "11/11 [==============================] - 0s 3ms/step - loss: 0.5997 - accuracy: 0.6728 - val_loss: 0.5970 - val_accuracy: 0.6807\n",
      "Epoch 108/500\n",
      "11/11 [==============================] - 0s 3ms/step - loss: 0.6013 - accuracy: 0.6795 - val_loss: 0.5954 - val_accuracy: 0.6984\n",
      "Epoch 109/500\n",
      "11/11 [==============================] - 0s 3ms/step - loss: 0.5991 - accuracy: 0.6743 - val_loss: 0.5986 - val_accuracy: 0.6940\n",
      "Epoch 110/500\n",
      "11/11 [==============================] - 0s 3ms/step - loss: 0.5983 - accuracy: 0.6795 - val_loss: 0.5990 - val_accuracy: 0.6851\n",
      "Epoch 111/500\n",
      "11/11 [==============================] - 0s 3ms/step - loss: 0.6003 - accuracy: 0.6780 - val_loss: 0.5954 - val_accuracy: 0.6874\n",
      "Epoch 112/500\n",
      "11/11 [==============================] - 0s 3ms/step - loss: 0.5999 - accuracy: 0.6773 - val_loss: 0.6019 - val_accuracy: 0.6829\n",
      "Epoch 113/500\n",
      "11/11 [==============================] - 0s 3ms/step - loss: 0.5986 - accuracy: 0.6780 - val_loss: 0.5969 - val_accuracy: 0.6829\n",
      "Epoch 114/500\n",
      "11/11 [==============================] - 0s 3ms/step - loss: 0.5972 - accuracy: 0.6751 - val_loss: 0.5913 - val_accuracy: 0.7007\n",
      "Epoch 115/500\n",
      "11/11 [==============================] - 0s 3ms/step - loss: 0.5987 - accuracy: 0.6839 - val_loss: 0.5948 - val_accuracy: 0.6874\n",
      "Epoch 116/500\n"
     ]
    },
    {
     "name": "stdout",
     "output_type": "stream",
     "text": [
      "11/11 [==============================] - 0s 3ms/step - loss: 0.5970 - accuracy: 0.6802 - val_loss: 0.5939 - val_accuracy: 0.6829\n",
      "Epoch 117/500\n",
      "11/11 [==============================] - 0s 3ms/step - loss: 0.5970 - accuracy: 0.6773 - val_loss: 0.5948 - val_accuracy: 0.6962\n",
      "Epoch 118/500\n",
      "11/11 [==============================] - 0s 3ms/step - loss: 0.5990 - accuracy: 0.6758 - val_loss: 0.6133 - val_accuracy: 0.6541\n",
      "Epoch 119/500\n",
      "11/11 [==============================] - 0s 3ms/step - loss: 0.6025 - accuracy: 0.6684 - val_loss: 0.5893 - val_accuracy: 0.7073\n",
      "Epoch 120/500\n",
      "11/11 [==============================] - 0s 3ms/step - loss: 0.5942 - accuracy: 0.6721 - val_loss: 0.6009 - val_accuracy: 0.6718\n",
      "Epoch 121/500\n",
      "11/11 [==============================] - 0s 3ms/step - loss: 0.5969 - accuracy: 0.6788 - val_loss: 0.6018 - val_accuracy: 0.6807\n",
      "Epoch 122/500\n",
      "11/11 [==============================] - 0s 3ms/step - loss: 0.5957 - accuracy: 0.6773 - val_loss: 0.5938 - val_accuracy: 0.6918\n",
      "Epoch 123/500\n",
      "11/11 [==============================] - 0s 3ms/step - loss: 0.5964 - accuracy: 0.6721 - val_loss: 0.5953 - val_accuracy: 0.6807\n",
      "Epoch 124/500\n",
      "11/11 [==============================] - 0s 3ms/step - loss: 0.5956 - accuracy: 0.6758 - val_loss: 0.5936 - val_accuracy: 0.7029\n",
      "Epoch 125/500\n",
      "11/11 [==============================] - 0s 3ms/step - loss: 0.5931 - accuracy: 0.6847 - val_loss: 0.5946 - val_accuracy: 0.6896\n",
      "Epoch 126/500\n",
      "11/11 [==============================] - 0s 3ms/step - loss: 0.5927 - accuracy: 0.6780 - val_loss: 0.5910 - val_accuracy: 0.6940\n",
      "Epoch 127/500\n",
      "11/11 [==============================] - 0s 4ms/step - loss: 0.5985 - accuracy: 0.6825 - val_loss: 0.6132 - val_accuracy: 0.6452\n",
      "Epoch 128/500\n",
      "11/11 [==============================] - 0s 3ms/step - loss: 0.5926 - accuracy: 0.6825 - val_loss: 0.5912 - val_accuracy: 0.6984\n",
      "Epoch 129/500\n",
      "11/11 [==============================] - 0s 3ms/step - loss: 0.5939 - accuracy: 0.6817 - val_loss: 0.5996 - val_accuracy: 0.6874\n",
      "Epoch 130/500\n",
      "11/11 [==============================] - 0s 3ms/step - loss: 0.5922 - accuracy: 0.6699 - val_loss: 0.5874 - val_accuracy: 0.6829\n",
      "Epoch 131/500\n",
      "11/11 [==============================] - 0s 3ms/step - loss: 0.5915 - accuracy: 0.6869 - val_loss: 0.5941 - val_accuracy: 0.6785\n",
      "Epoch 132/500\n",
      "11/11 [==============================] - 0s 3ms/step - loss: 0.5924 - accuracy: 0.6817 - val_loss: 0.5964 - val_accuracy: 0.6874\n",
      "Epoch 133/500\n",
      "11/11 [==============================] - 0s 3ms/step - loss: 0.5911 - accuracy: 0.6862 - val_loss: 0.5929 - val_accuracy: 0.6874\n",
      "Epoch 134/500\n",
      "11/11 [==============================] - 0s 4ms/step - loss: 0.5895 - accuracy: 0.6825 - val_loss: 0.5956 - val_accuracy: 0.6896\n",
      "Epoch 135/500\n",
      "11/11 [==============================] - 0s 6ms/step - loss: 0.5895 - accuracy: 0.6802 - val_loss: 0.5931 - val_accuracy: 0.7007\n",
      "Epoch 136/500\n",
      "11/11 [==============================] - 0s 4ms/step - loss: 0.5897 - accuracy: 0.6862 - val_loss: 0.5945 - val_accuracy: 0.6918\n",
      "Epoch 137/500\n",
      "11/11 [==============================] - 0s 4ms/step - loss: 0.5901 - accuracy: 0.6876 - val_loss: 0.5939 - val_accuracy: 0.6896\n",
      "Epoch 138/500\n",
      "11/11 [==============================] - 0s 3ms/step - loss: 0.5911 - accuracy: 0.6825 - val_loss: 0.5920 - val_accuracy: 0.6918\n",
      "Epoch 139/500\n",
      "11/11 [==============================] - 0s 3ms/step - loss: 0.5912 - accuracy: 0.6780 - val_loss: 0.5915 - val_accuracy: 0.6851\n",
      "Epoch 140/500\n",
      "11/11 [==============================] - 0s 3ms/step - loss: 0.5907 - accuracy: 0.6795 - val_loss: 0.5920 - val_accuracy: 0.7095\n",
      "Epoch 141/500\n",
      "11/11 [==============================] - 0s 3ms/step - loss: 0.5899 - accuracy: 0.6802 - val_loss: 0.5999 - val_accuracy: 0.6763\n",
      "Epoch 142/500\n",
      "11/11 [==============================] - 0s 3ms/step - loss: 0.5887 - accuracy: 0.6773 - val_loss: 0.5883 - val_accuracy: 0.6984\n",
      "Epoch 143/500\n",
      "11/11 [==============================] - 0s 3ms/step - loss: 0.5880 - accuracy: 0.6780 - val_loss: 0.5917 - val_accuracy: 0.6962\n",
      "Epoch 144/500\n",
      "11/11 [==============================] - 0s 4ms/step - loss: 0.5862 - accuracy: 0.6854 - val_loss: 0.5898 - val_accuracy: 0.6896\n",
      "Epoch 145/500\n",
      "11/11 [==============================] - 0s 3ms/step - loss: 0.5885 - accuracy: 0.6817 - val_loss: 0.5941 - val_accuracy: 0.6851\n",
      "Epoch 146/500\n",
      "11/11 [==============================] - 0s 4ms/step - loss: 0.5892 - accuracy: 0.6810 - val_loss: 0.5907 - val_accuracy: 0.6829\n",
      "Epoch 147/500\n",
      "11/11 [==============================] - 0s 3ms/step - loss: 0.5868 - accuracy: 0.6810 - val_loss: 0.5952 - val_accuracy: 0.6851\n",
      "Epoch 148/500\n",
      "11/11 [==============================] - 0s 3ms/step - loss: 0.5853 - accuracy: 0.6839 - val_loss: 0.5902 - val_accuracy: 0.6940\n",
      "Epoch 149/500\n",
      "11/11 [==============================] - 0s 3ms/step - loss: 0.5870 - accuracy: 0.6817 - val_loss: 0.5879 - val_accuracy: 0.6962\n",
      "Epoch 150/500\n",
      "11/11 [==============================] - 0s 3ms/step - loss: 0.5863 - accuracy: 0.6817 - val_loss: 0.5951 - val_accuracy: 0.6896\n",
      "Epoch 151/500\n",
      "11/11 [==============================] - 0s 3ms/step - loss: 0.5853 - accuracy: 0.6832 - val_loss: 0.6012 - val_accuracy: 0.6718\n",
      "Epoch 152/500\n",
      "11/11 [==============================] - 0s 3ms/step - loss: 0.5849 - accuracy: 0.6854 - val_loss: 0.5893 - val_accuracy: 0.6940\n",
      "Epoch 153/500\n",
      "11/11 [==============================] - 0s 3ms/step - loss: 0.5843 - accuracy: 0.6839 - val_loss: 0.5873 - val_accuracy: 0.7051\n",
      "Epoch 154/500\n",
      "11/11 [==============================] - 0s 3ms/step - loss: 0.5841 - accuracy: 0.6928 - val_loss: 0.5947 - val_accuracy: 0.6807\n",
      "Epoch 155/500\n",
      "11/11 [==============================] - 0s 3ms/step - loss: 0.5834 - accuracy: 0.6869 - val_loss: 0.5935 - val_accuracy: 0.6785\n",
      "Epoch 156/500\n",
      "11/11 [==============================] - 0s 2ms/step - loss: 0.5831 - accuracy: 0.6802 - val_loss: 0.5884 - val_accuracy: 0.6874\n",
      "Epoch 157/500\n",
      "11/11 [==============================] - 0s 3ms/step - loss: 0.5814 - accuracy: 0.6869 - val_loss: 0.5929 - val_accuracy: 0.6896\n",
      "Epoch 158/500\n",
      "11/11 [==============================] - 0s 3ms/step - loss: 0.5820 - accuracy: 0.6884 - val_loss: 0.5861 - val_accuracy: 0.7007\n",
      "Epoch 159/500\n",
      "11/11 [==============================] - 0s 3ms/step - loss: 0.5822 - accuracy: 0.6847 - val_loss: 0.5940 - val_accuracy: 0.6918\n",
      "Epoch 160/500\n",
      "11/11 [==============================] - 0s 3ms/step - loss: 0.5823 - accuracy: 0.6884 - val_loss: 0.5880 - val_accuracy: 0.6829\n",
      "Epoch 161/500\n",
      "11/11 [==============================] - 0s 3ms/step - loss: 0.5805 - accuracy: 0.6862 - val_loss: 0.5852 - val_accuracy: 0.7051\n",
      "Epoch 162/500\n",
      "11/11 [==============================] - 0s 2ms/step - loss: 0.5809 - accuracy: 0.6973 - val_loss: 0.6026 - val_accuracy: 0.6608\n",
      "Epoch 163/500\n",
      "11/11 [==============================] - 0s 3ms/step - loss: 0.5844 - accuracy: 0.6891 - val_loss: 0.5883 - val_accuracy: 0.6874\n",
      "Epoch 164/500\n",
      "11/11 [==============================] - 0s 2ms/step - loss: 0.5823 - accuracy: 0.6825 - val_loss: 0.5860 - val_accuracy: 0.7051\n",
      "Epoch 165/500\n",
      "11/11 [==============================] - 0s 3ms/step - loss: 0.5800 - accuracy: 0.6891 - val_loss: 0.5978 - val_accuracy: 0.6652\n",
      "Epoch 166/500\n",
      "11/11 [==============================] - 0s 3ms/step - loss: 0.5806 - accuracy: 0.6921 - val_loss: 0.5907 - val_accuracy: 0.6851\n",
      "Epoch 167/500\n",
      "11/11 [==============================] - 0s 3ms/step - loss: 0.5845 - accuracy: 0.6839 - val_loss: 0.5867 - val_accuracy: 0.7095\n",
      "Epoch 168/500\n",
      "11/11 [==============================] - 0s 3ms/step - loss: 0.5815 - accuracy: 0.6847 - val_loss: 0.5840 - val_accuracy: 0.7051\n",
      "Epoch 169/500\n",
      "11/11 [==============================] - 0s 3ms/step - loss: 0.5766 - accuracy: 0.6958 - val_loss: 0.5846 - val_accuracy: 0.7007\n",
      "Epoch 170/500\n",
      "11/11 [==============================] - 0s 3ms/step - loss: 0.5774 - accuracy: 0.6921 - val_loss: 0.5939 - val_accuracy: 0.6785\n",
      "Epoch 171/500\n",
      "11/11 [==============================] - 0s 3ms/step - loss: 0.5762 - accuracy: 0.6876 - val_loss: 0.5848 - val_accuracy: 0.6940\n",
      "Epoch 172/500\n",
      "11/11 [==============================] - 0s 3ms/step - loss: 0.5764 - accuracy: 0.6854 - val_loss: 0.5887 - val_accuracy: 0.7029\n",
      "Epoch 173/500\n"
     ]
    },
    {
     "name": "stdout",
     "output_type": "stream",
     "text": [
      "11/11 [==============================] - 0s 3ms/step - loss: 0.5754 - accuracy: 0.6958 - val_loss: 0.5882 - val_accuracy: 0.6807\n",
      "Epoch 174/500\n",
      "11/11 [==============================] - 0s 3ms/step - loss: 0.5752 - accuracy: 0.6876 - val_loss: 0.5846 - val_accuracy: 0.7007\n",
      "Epoch 175/500\n",
      "11/11 [==============================] - 0s 3ms/step - loss: 0.5759 - accuracy: 0.7002 - val_loss: 0.5899 - val_accuracy: 0.6741\n",
      "Epoch 176/500\n",
      "11/11 [==============================] - 0s 3ms/step - loss: 0.5746 - accuracy: 0.6862 - val_loss: 0.5859 - val_accuracy: 0.7073\n",
      "Epoch 177/500\n",
      "11/11 [==============================] - 0s 2ms/step - loss: 0.5737 - accuracy: 0.6936 - val_loss: 0.5967 - val_accuracy: 0.6763\n",
      "Epoch 178/500\n",
      "11/11 [==============================] - 0s 3ms/step - loss: 0.5775 - accuracy: 0.6780 - val_loss: 0.5861 - val_accuracy: 0.7007\n",
      "Epoch 179/500\n",
      "11/11 [==============================] - 0s 3ms/step - loss: 0.5753 - accuracy: 0.6928 - val_loss: 0.5868 - val_accuracy: 0.6962\n",
      "Epoch 180/500\n",
      "11/11 [==============================] - 0s 3ms/step - loss: 0.5775 - accuracy: 0.6921 - val_loss: 0.5815 - val_accuracy: 0.6874\n",
      "Epoch 181/500\n",
      "11/11 [==============================] - 0s 3ms/step - loss: 0.5745 - accuracy: 0.6891 - val_loss: 0.5965 - val_accuracy: 0.6829\n",
      "Epoch 182/500\n",
      "11/11 [==============================] - 0s 3ms/step - loss: 0.5718 - accuracy: 0.6980 - val_loss: 0.5854 - val_accuracy: 0.7073\n",
      "Epoch 183/500\n",
      "11/11 [==============================] - 0s 3ms/step - loss: 0.5740 - accuracy: 0.6928 - val_loss: 0.5851 - val_accuracy: 0.7007\n",
      "Epoch 184/500\n",
      "11/11 [==============================] - 0s 3ms/step - loss: 0.5712 - accuracy: 0.6950 - val_loss: 0.5885 - val_accuracy: 0.6896\n",
      "Epoch 185/500\n",
      "11/11 [==============================] - 0s 3ms/step - loss: 0.5704 - accuracy: 0.6876 - val_loss: 0.5833 - val_accuracy: 0.7051\n",
      "Epoch 186/500\n",
      "11/11 [==============================] - 0s 3ms/step - loss: 0.5708 - accuracy: 0.6936 - val_loss: 0.5858 - val_accuracy: 0.7007\n",
      "Epoch 187/500\n",
      "11/11 [==============================] - 0s 3ms/step - loss: 0.5721 - accuracy: 0.6950 - val_loss: 0.5905 - val_accuracy: 0.6763\n",
      "Epoch 188/500\n",
      "11/11 [==============================] - 0s 3ms/step - loss: 0.5724 - accuracy: 0.6899 - val_loss: 0.5876 - val_accuracy: 0.6940\n",
      "Epoch 189/500\n",
      "11/11 [==============================] - 0s 3ms/step - loss: 0.5711 - accuracy: 0.6928 - val_loss: 0.5837 - val_accuracy: 0.6851\n",
      "Epoch 190/500\n",
      "11/11 [==============================] - 0s 3ms/step - loss: 0.5727 - accuracy: 0.6995 - val_loss: 0.5874 - val_accuracy: 0.6918\n",
      "Epoch 191/500\n",
      "11/11 [==============================] - 0s 3ms/step - loss: 0.5708 - accuracy: 0.6899 - val_loss: 0.5895 - val_accuracy: 0.7029\n",
      "Epoch 192/500\n",
      "11/11 [==============================] - 0s 3ms/step - loss: 0.5726 - accuracy: 0.6936 - val_loss: 0.5987 - val_accuracy: 0.6475\n",
      "Epoch 193/500\n",
      "11/11 [==============================] - 0s 3ms/step - loss: 0.5749 - accuracy: 0.6891 - val_loss: 0.5845 - val_accuracy: 0.6896\n",
      "Epoch 194/500\n",
      "11/11 [==============================] - 0s 3ms/step - loss: 0.5689 - accuracy: 0.6980 - val_loss: 0.5817 - val_accuracy: 0.7118\n",
      "Epoch 195/500\n",
      "11/11 [==============================] - 0s 3ms/step - loss: 0.5668 - accuracy: 0.6943 - val_loss: 0.5917 - val_accuracy: 0.6829\n",
      "Epoch 196/500\n",
      "11/11 [==============================] - 0s 3ms/step - loss: 0.5681 - accuracy: 0.7032 - val_loss: 0.5818 - val_accuracy: 0.7029\n",
      "Epoch 197/500\n",
      "11/11 [==============================] - 0s 2ms/step - loss: 0.5663 - accuracy: 0.6921 - val_loss: 0.5864 - val_accuracy: 0.6984\n",
      "Epoch 198/500\n",
      "11/11 [==============================] - 0s 3ms/step - loss: 0.5669 - accuracy: 0.7039 - val_loss: 0.5814 - val_accuracy: 0.7095\n",
      "Epoch 199/500\n",
      "11/11 [==============================] - 0s 3ms/step - loss: 0.5689 - accuracy: 0.7054 - val_loss: 0.5830 - val_accuracy: 0.7162\n",
      "Epoch 200/500\n",
      "11/11 [==============================] - 0s 3ms/step - loss: 0.5717 - accuracy: 0.7047 - val_loss: 0.6000 - val_accuracy: 0.6497\n",
      "Epoch 201/500\n",
      "11/11 [==============================] - 0s 3ms/step - loss: 0.5659 - accuracy: 0.6987 - val_loss: 0.5824 - val_accuracy: 0.7118\n",
      "Epoch 202/500\n",
      "11/11 [==============================] - 0s 3ms/step - loss: 0.5660 - accuracy: 0.7039 - val_loss: 0.5857 - val_accuracy: 0.6962\n",
      "Epoch 203/500\n",
      "11/11 [==============================] - 0s 2ms/step - loss: 0.5648 - accuracy: 0.7047 - val_loss: 0.5857 - val_accuracy: 0.7029\n",
      "Epoch 204/500\n",
      "11/11 [==============================] - 0s 3ms/step - loss: 0.5649 - accuracy: 0.7128 - val_loss: 0.6083 - val_accuracy: 0.6541\n",
      "Epoch 205/500\n",
      "11/11 [==============================] - 0s 3ms/step - loss: 0.5757 - accuracy: 0.6950 - val_loss: 0.5800 - val_accuracy: 0.7073\n",
      "Epoch 206/500\n",
      "11/11 [==============================] - 0s 3ms/step - loss: 0.5659 - accuracy: 0.6928 - val_loss: 0.5850 - val_accuracy: 0.7029\n",
      "Epoch 207/500\n",
      "11/11 [==============================] - 0s 3ms/step - loss: 0.5743 - accuracy: 0.6891 - val_loss: 0.5878 - val_accuracy: 0.6851\n",
      "Epoch 208/500\n",
      "11/11 [==============================] - 0s 3ms/step - loss: 0.5682 - accuracy: 0.6987 - val_loss: 0.5898 - val_accuracy: 0.6874\n",
      "Epoch 209/500\n",
      "11/11 [==============================] - 0s 2ms/step - loss: 0.5659 - accuracy: 0.6980 - val_loss: 0.5836 - val_accuracy: 0.6962\n",
      "Epoch 210/500\n",
      "11/11 [==============================] - 0s 3ms/step - loss: 0.5615 - accuracy: 0.7032 - val_loss: 0.5774 - val_accuracy: 0.7118\n",
      "Epoch 211/500\n",
      "11/11 [==============================] - 0s 3ms/step - loss: 0.5632 - accuracy: 0.7054 - val_loss: 0.5901 - val_accuracy: 0.6896\n",
      "Epoch 212/500\n",
      "11/11 [==============================] - 0s 3ms/step - loss: 0.5647 - accuracy: 0.6995 - val_loss: 0.5917 - val_accuracy: 0.6874\n",
      "Epoch 213/500\n",
      "11/11 [==============================] - 0s 2ms/step - loss: 0.5635 - accuracy: 0.6987 - val_loss: 0.5821 - val_accuracy: 0.6918\n",
      "Epoch 214/500\n",
      "11/11 [==============================] - 0s 3ms/step - loss: 0.5601 - accuracy: 0.6995 - val_loss: 0.5803 - val_accuracy: 0.7051\n",
      "Epoch 215/500\n",
      "11/11 [==============================] - 0s 3ms/step - loss: 0.5631 - accuracy: 0.7024 - val_loss: 0.5833 - val_accuracy: 0.6874\n",
      "Epoch 216/500\n",
      "11/11 [==============================] - 0s 3ms/step - loss: 0.5587 - accuracy: 0.7128 - val_loss: 0.5818 - val_accuracy: 0.7073\n",
      "Epoch 217/500\n",
      "11/11 [==============================] - 0s 3ms/step - loss: 0.5596 - accuracy: 0.7024 - val_loss: 0.5782 - val_accuracy: 0.7095\n",
      "Epoch 218/500\n",
      "11/11 [==============================] - 0s 3ms/step - loss: 0.5655 - accuracy: 0.6980 - val_loss: 0.5935 - val_accuracy: 0.6696\n",
      "Epoch 219/500\n",
      "11/11 [==============================] - 0s 3ms/step - loss: 0.5629 - accuracy: 0.7069 - val_loss: 0.5824 - val_accuracy: 0.6829\n",
      "Epoch 220/500\n",
      "11/11 [==============================] - 0s 3ms/step - loss: 0.5601 - accuracy: 0.7069 - val_loss: 0.5810 - val_accuracy: 0.7118\n",
      "Epoch 221/500\n",
      "11/11 [==============================] - 0s 3ms/step - loss: 0.5585 - accuracy: 0.6995 - val_loss: 0.5775 - val_accuracy: 0.7118\n",
      "Epoch 222/500\n",
      "11/11 [==============================] - 0s 3ms/step - loss: 0.5599 - accuracy: 0.7039 - val_loss: 0.5833 - val_accuracy: 0.7029\n",
      "Epoch 223/500\n",
      "11/11 [==============================] - 0s 4ms/step - loss: 0.5569 - accuracy: 0.7032 - val_loss: 0.5802 - val_accuracy: 0.7162\n",
      "Epoch 224/500\n",
      "11/11 [==============================] - 0s 4ms/step - loss: 0.5561 - accuracy: 0.7091 - val_loss: 0.5797 - val_accuracy: 0.6962\n",
      "Epoch 225/500\n",
      "11/11 [==============================] - 0s 3ms/step - loss: 0.5584 - accuracy: 0.7061 - val_loss: 0.5895 - val_accuracy: 0.6896\n",
      "Epoch 226/500\n",
      "11/11 [==============================] - 0s 3ms/step - loss: 0.5594 - accuracy: 0.7032 - val_loss: 0.5808 - val_accuracy: 0.7162\n",
      "Epoch 227/500\n",
      "11/11 [==============================] - 0s 3ms/step - loss: 0.5577 - accuracy: 0.7098 - val_loss: 0.5801 - val_accuracy: 0.7118\n",
      "Epoch 228/500\n",
      "11/11 [==============================] - 0s 3ms/step - loss: 0.5576 - accuracy: 0.7106 - val_loss: 0.5777 - val_accuracy: 0.7007\n",
      "Epoch 229/500\n",
      "11/11 [==============================] - 0s 3ms/step - loss: 0.5542 - accuracy: 0.7113 - val_loss: 0.5768 - val_accuracy: 0.6984\n",
      "Epoch 230/500\n"
     ]
    },
    {
     "name": "stdout",
     "output_type": "stream",
     "text": [
      "11/11 [==============================] - 0s 3ms/step - loss: 0.5549 - accuracy: 0.7032 - val_loss: 0.5774 - val_accuracy: 0.7007\n",
      "Epoch 231/500\n",
      "11/11 [==============================] - 0s 4ms/step - loss: 0.5543 - accuracy: 0.7084 - val_loss: 0.5828 - val_accuracy: 0.7051\n",
      "Epoch 232/500\n",
      "11/11 [==============================] - 0s 3ms/step - loss: 0.5543 - accuracy: 0.7165 - val_loss: 0.5909 - val_accuracy: 0.6785\n",
      "Epoch 233/500\n",
      "11/11 [==============================] - 0s 3ms/step - loss: 0.5551 - accuracy: 0.7054 - val_loss: 0.5786 - val_accuracy: 0.7051\n",
      "Epoch 234/500\n",
      "11/11 [==============================] - 0s 3ms/step - loss: 0.5530 - accuracy: 0.7098 - val_loss: 0.5788 - val_accuracy: 0.6962\n",
      "Epoch 235/500\n",
      "11/11 [==============================] - 0s 3ms/step - loss: 0.5540 - accuracy: 0.7054 - val_loss: 0.5807 - val_accuracy: 0.6984\n",
      "Epoch 236/500\n",
      "11/11 [==============================] - 0s 3ms/step - loss: 0.5528 - accuracy: 0.7039 - val_loss: 0.5775 - val_accuracy: 0.7007\n",
      "Epoch 237/500\n",
      "11/11 [==============================] - 0s 3ms/step - loss: 0.5579 - accuracy: 0.7010 - val_loss: 0.5939 - val_accuracy: 0.6896\n",
      "Epoch 238/500\n",
      "11/11 [==============================] - 0s 3ms/step - loss: 0.5691 - accuracy: 0.6906 - val_loss: 0.6112 - val_accuracy: 0.6829\n",
      "Epoch 239/500\n",
      "11/11 [==============================] - 0s 3ms/step - loss: 0.5653 - accuracy: 0.6936 - val_loss: 0.5866 - val_accuracy: 0.6851\n",
      "Epoch 240/500\n",
      "11/11 [==============================] - 0s 3ms/step - loss: 0.5588 - accuracy: 0.6950 - val_loss: 0.5886 - val_accuracy: 0.6918\n",
      "Epoch 241/500\n",
      "11/11 [==============================] - 0s 3ms/step - loss: 0.5541 - accuracy: 0.7047 - val_loss: 0.5854 - val_accuracy: 0.6940\n",
      "Epoch 242/500\n",
      "11/11 [==============================] - 0s 2ms/step - loss: 0.5569 - accuracy: 0.7032 - val_loss: 0.5781 - val_accuracy: 0.7140\n",
      "Epoch 243/500\n",
      "11/11 [==============================] - 0s 3ms/step - loss: 0.5517 - accuracy: 0.7047 - val_loss: 0.5815 - val_accuracy: 0.7095\n",
      "Epoch 244/500\n",
      "11/11 [==============================] - 0s 3ms/step - loss: 0.5519 - accuracy: 0.7032 - val_loss: 0.5908 - val_accuracy: 0.6874\n",
      "Epoch 245/500\n",
      "11/11 [==============================] - 0s 3ms/step - loss: 0.5498 - accuracy: 0.7076 - val_loss: 0.5773 - val_accuracy: 0.7073\n",
      "Epoch 246/500\n",
      "11/11 [==============================] - 0s 3ms/step - loss: 0.5499 - accuracy: 0.7084 - val_loss: 0.5764 - val_accuracy: 0.7118\n",
      "Epoch 247/500\n",
      "11/11 [==============================] - 0s 3ms/step - loss: 0.5491 - accuracy: 0.7135 - val_loss: 0.5864 - val_accuracy: 0.6874\n",
      "Epoch 248/500\n",
      "11/11 [==============================] - 0s 3ms/step - loss: 0.5491 - accuracy: 0.7158 - val_loss: 0.5821 - val_accuracy: 0.6918\n",
      "Epoch 249/500\n",
      "11/11 [==============================] - 0s 2ms/step - loss: 0.5508 - accuracy: 0.6995 - val_loss: 0.5985 - val_accuracy: 0.6896\n",
      "Epoch 250/500\n",
      "11/11 [==============================] - 0s 3ms/step - loss: 0.5493 - accuracy: 0.7098 - val_loss: 0.5781 - val_accuracy: 0.7140\n",
      "Epoch 251/500\n",
      "11/11 [==============================] - 0s 3ms/step - loss: 0.5476 - accuracy: 0.7172 - val_loss: 0.5880 - val_accuracy: 0.6874\n",
      "Epoch 252/500\n",
      "11/11 [==============================] - 0s 3ms/step - loss: 0.5473 - accuracy: 0.7106 - val_loss: 0.5779 - val_accuracy: 0.7029\n",
      "Epoch 253/500\n",
      "11/11 [==============================] - 0s 3ms/step - loss: 0.5466 - accuracy: 0.7054 - val_loss: 0.5784 - val_accuracy: 0.6984\n",
      "Epoch 254/500\n",
      "11/11 [==============================] - 0s 3ms/step - loss: 0.5472 - accuracy: 0.7106 - val_loss: 0.5798 - val_accuracy: 0.7051\n",
      "Epoch 255/500\n",
      "11/11 [==============================] - 0s 2ms/step - loss: 0.5465 - accuracy: 0.7084 - val_loss: 0.5917 - val_accuracy: 0.6896\n",
      "Epoch 256/500\n",
      "11/11 [==============================] - 0s 3ms/step - loss: 0.5495 - accuracy: 0.7047 - val_loss: 0.5807 - val_accuracy: 0.6962\n",
      "Epoch 257/500\n",
      "11/11 [==============================] - 0s 3ms/step - loss: 0.5448 - accuracy: 0.7150 - val_loss: 0.5853 - val_accuracy: 0.6807\n",
      "Epoch 258/500\n",
      "11/11 [==============================] - 0s 3ms/step - loss: 0.5476 - accuracy: 0.7069 - val_loss: 0.5766 - val_accuracy: 0.6918\n",
      "Epoch 259/500\n",
      "11/11 [==============================] - 0s 3ms/step - loss: 0.5448 - accuracy: 0.7135 - val_loss: 0.5831 - val_accuracy: 0.6962\n",
      "Epoch 260/500\n",
      "11/11 [==============================] - 0s 3ms/step - loss: 0.5444 - accuracy: 0.7143 - val_loss: 0.5786 - val_accuracy: 0.7007\n",
      "Epoch 261/500\n",
      "11/11 [==============================] - 0s 3ms/step - loss: 0.5472 - accuracy: 0.7069 - val_loss: 0.5766 - val_accuracy: 0.7073\n",
      "Epoch 262/500\n",
      "11/11 [==============================] - 0s 2ms/step - loss: 0.5445 - accuracy: 0.7113 - val_loss: 0.5787 - val_accuracy: 0.7029\n",
      "Epoch 263/500\n",
      "11/11 [==============================] - 0s 3ms/step - loss: 0.5450 - accuracy: 0.7113 - val_loss: 0.5845 - val_accuracy: 0.6874\n",
      "Epoch 264/500\n",
      "11/11 [==============================] - 0s 3ms/step - loss: 0.5472 - accuracy: 0.7113 - val_loss: 0.5814 - val_accuracy: 0.6918\n",
      "Epoch 265/500\n",
      "11/11 [==============================] - 0s 3ms/step - loss: 0.5471 - accuracy: 0.7084 - val_loss: 0.5863 - val_accuracy: 0.7051\n",
      "Epoch 266/500\n",
      "11/11 [==============================] - 0s 3ms/step - loss: 0.5440 - accuracy: 0.7084 - val_loss: 0.5775 - val_accuracy: 0.7073\n",
      "Epoch 267/500\n",
      "11/11 [==============================] - 0s 3ms/step - loss: 0.5432 - accuracy: 0.7098 - val_loss: 0.5781 - val_accuracy: 0.6940\n",
      "Epoch 268/500\n",
      "11/11 [==============================] - 0s 3ms/step - loss: 0.5428 - accuracy: 0.7128 - val_loss: 0.5840 - val_accuracy: 0.6984\n",
      "Epoch 269/500\n",
      "11/11 [==============================] - 0s 3ms/step - loss: 0.5420 - accuracy: 0.7202 - val_loss: 0.5798 - val_accuracy: 0.6851\n",
      "Epoch 270/500\n",
      "11/11 [==============================] - 0s 4ms/step - loss: 0.5421 - accuracy: 0.7106 - val_loss: 0.5776 - val_accuracy: 0.7029\n",
      "Epoch 271/500\n",
      "11/11 [==============================] - 0s 4ms/step - loss: 0.5415 - accuracy: 0.7135 - val_loss: 0.5842 - val_accuracy: 0.6896\n",
      "Epoch 272/500\n",
      "11/11 [==============================] - 0s 3ms/step - loss: 0.5412 - accuracy: 0.7187 - val_loss: 0.5797 - val_accuracy: 0.6896\n",
      "Epoch 273/500\n",
      "11/11 [==============================] - 0s 3ms/step - loss: 0.5423 - accuracy: 0.7106 - val_loss: 0.5757 - val_accuracy: 0.7073\n",
      "Epoch 274/500\n",
      "11/11 [==============================] - 0s 3ms/step - loss: 0.5393 - accuracy: 0.7180 - val_loss: 0.5947 - val_accuracy: 0.6940\n",
      "Epoch 275/500\n",
      "11/11 [==============================] - 0s 3ms/step - loss: 0.5440 - accuracy: 0.7158 - val_loss: 0.5828 - val_accuracy: 0.6984\n",
      "Epoch 276/500\n",
      "11/11 [==============================] - 0s 3ms/step - loss: 0.5408 - accuracy: 0.7135 - val_loss: 0.5771 - val_accuracy: 0.6918\n",
      "Epoch 277/500\n",
      "11/11 [==============================] - 0s 3ms/step - loss: 0.5410 - accuracy: 0.7128 - val_loss: 0.5850 - val_accuracy: 0.7029\n",
      "Epoch 278/500\n",
      "11/11 [==============================] - 0s 3ms/step - loss: 0.5430 - accuracy: 0.7128 - val_loss: 0.5949 - val_accuracy: 0.7007\n",
      "Epoch 279/500\n",
      "11/11 [==============================] - 0s 2ms/step - loss: 0.5453 - accuracy: 0.7091 - val_loss: 0.5893 - val_accuracy: 0.6984\n",
      "Epoch 280/500\n",
      "11/11 [==============================] - 0s 3ms/step - loss: 0.5427 - accuracy: 0.7017 - val_loss: 0.5897 - val_accuracy: 0.6984\n",
      "Epoch 281/500\n",
      "11/11 [==============================] - 0s 3ms/step - loss: 0.5478 - accuracy: 0.7113 - val_loss: 0.5894 - val_accuracy: 0.6918\n",
      "Epoch 282/500\n",
      "11/11 [==============================] - 0s 3ms/step - loss: 0.5374 - accuracy: 0.7224 - val_loss: 0.5776 - val_accuracy: 0.6984\n",
      "Epoch 283/500\n",
      "11/11 [==============================] - 0s 3ms/step - loss: 0.5384 - accuracy: 0.7091 - val_loss: 0.5797 - val_accuracy: 0.6896\n",
      "Epoch 284/500\n",
      "11/11 [==============================] - 0s 3ms/step - loss: 0.5400 - accuracy: 0.7180 - val_loss: 0.5989 - val_accuracy: 0.6984\n",
      "Epoch 285/500\n",
      "11/11 [==============================] - 0s 3ms/step - loss: 0.5363 - accuracy: 0.7180 - val_loss: 0.5778 - val_accuracy: 0.7162\n",
      "Epoch 286/500\n",
      "11/11 [==============================] - 0s 3ms/step - loss: 0.5405 - accuracy: 0.7128 - val_loss: 0.5928 - val_accuracy: 0.6940\n",
      "Epoch 287/500\n"
     ]
    },
    {
     "name": "stdout",
     "output_type": "stream",
     "text": [
      "11/11 [==============================] - 0s 3ms/step - loss: 0.5468 - accuracy: 0.7106 - val_loss: 0.6010 - val_accuracy: 0.7029\n",
      "Epoch 288/500\n",
      "11/11 [==============================] - 0s 3ms/step - loss: 0.5466 - accuracy: 0.7091 - val_loss: 0.5771 - val_accuracy: 0.7029\n",
      "Epoch 289/500\n",
      "11/11 [==============================] - 0s 3ms/step - loss: 0.5416 - accuracy: 0.7106 - val_loss: 0.5818 - val_accuracy: 0.6984\n",
      "Epoch 290/500\n",
      "11/11 [==============================] - 0s 3ms/step - loss: 0.5373 - accuracy: 0.7158 - val_loss: 0.5846 - val_accuracy: 0.6874\n",
      "Epoch 291/500\n",
      "11/11 [==============================] - 0s 3ms/step - loss: 0.5400 - accuracy: 0.7128 - val_loss: 0.5879 - val_accuracy: 0.7029\n",
      "Epoch 292/500\n",
      "11/11 [==============================] - 0s 3ms/step - loss: 0.5374 - accuracy: 0.7135 - val_loss: 0.5758 - val_accuracy: 0.7029\n",
      "Epoch 293/500\n",
      "11/11 [==============================] - 0s 3ms/step - loss: 0.5358 - accuracy: 0.7209 - val_loss: 0.5809 - val_accuracy: 0.6984\n",
      "Epoch 294/500\n",
      "11/11 [==============================] - 0s 5ms/step - loss: 0.5365 - accuracy: 0.7180 - val_loss: 0.5849 - val_accuracy: 0.6874\n",
      "Epoch 295/500\n",
      "11/11 [==============================] - 0s 3ms/step - loss: 0.5383 - accuracy: 0.7024 - val_loss: 0.5823 - val_accuracy: 0.6984\n",
      "Epoch 296/500\n",
      "11/11 [==============================] - 0s 3ms/step - loss: 0.5448 - accuracy: 0.7106 - val_loss: 0.5929 - val_accuracy: 0.7051\n",
      "Epoch 297/500\n",
      "11/11 [==============================] - 0s 3ms/step - loss: 0.5365 - accuracy: 0.7209 - val_loss: 0.5851 - val_accuracy: 0.6962\n",
      "Epoch 298/500\n",
      "11/11 [==============================] - 0s 3ms/step - loss: 0.5362 - accuracy: 0.7084 - val_loss: 0.5789 - val_accuracy: 0.7140\n",
      "Epoch 299/500\n",
      "11/11 [==============================] - 0s 3ms/step - loss: 0.5345 - accuracy: 0.7121 - val_loss: 0.5913 - val_accuracy: 0.7007\n",
      "Epoch 300/500\n",
      "11/11 [==============================] - 0s 3ms/step - loss: 0.5399 - accuracy: 0.7143 - val_loss: 0.5859 - val_accuracy: 0.7051\n",
      "Epoch 301/500\n",
      "11/11 [==============================] - 0s 3ms/step - loss: 0.5330 - accuracy: 0.7202 - val_loss: 0.5867 - val_accuracy: 0.6984\n",
      "Epoch 302/500\n",
      "11/11 [==============================] - 0s 3ms/step - loss: 0.5327 - accuracy: 0.7202 - val_loss: 0.5818 - val_accuracy: 0.6896\n",
      "Epoch 303/500\n",
      "11/11 [==============================] - 0s 3ms/step - loss: 0.5356 - accuracy: 0.7158 - val_loss: 0.5804 - val_accuracy: 0.6962\n",
      "Epoch 304/500\n",
      "11/11 [==============================] - 0s 3ms/step - loss: 0.5361 - accuracy: 0.7121 - val_loss: 0.5831 - val_accuracy: 0.6962\n",
      "Epoch 305/500\n",
      "11/11 [==============================] - 0s 3ms/step - loss: 0.5314 - accuracy: 0.7217 - val_loss: 0.5867 - val_accuracy: 0.7007\n",
      "Epoch 306/500\n",
      "11/11 [==============================] - 0s 3ms/step - loss: 0.5341 - accuracy: 0.7158 - val_loss: 0.5808 - val_accuracy: 0.6874\n",
      "Epoch 307/500\n",
      "11/11 [==============================] - 0s 4ms/step - loss: 0.5329 - accuracy: 0.7246 - val_loss: 0.5887 - val_accuracy: 0.6940\n",
      "Epoch 308/500\n",
      "11/11 [==============================] - 0s 3ms/step - loss: 0.5310 - accuracy: 0.7187 - val_loss: 0.5765 - val_accuracy: 0.6984\n",
      "Epoch 309/500\n",
      "11/11 [==============================] - 0s 3ms/step - loss: 0.5313 - accuracy: 0.7165 - val_loss: 0.5762 - val_accuracy: 0.7095\n",
      "Epoch 310/500\n",
      "11/11 [==============================] - 0s 3ms/step - loss: 0.5351 - accuracy: 0.7224 - val_loss: 0.5937 - val_accuracy: 0.7007\n",
      "Epoch 311/500\n",
      "11/11 [==============================] - 0s 3ms/step - loss: 0.5341 - accuracy: 0.7195 - val_loss: 0.5863 - val_accuracy: 0.7029\n",
      "Epoch 312/500\n",
      "11/11 [==============================] - 0s 3ms/step - loss: 0.5309 - accuracy: 0.7217 - val_loss: 0.5826 - val_accuracy: 0.6984\n",
      "Epoch 313/500\n",
      "11/11 [==============================] - 0s 3ms/step - loss: 0.5301 - accuracy: 0.7202 - val_loss: 0.5881 - val_accuracy: 0.6984\n",
      "Epoch 314/500\n",
      "11/11 [==============================] - 0s 3ms/step - loss: 0.5306 - accuracy: 0.7217 - val_loss: 0.5806 - val_accuracy: 0.7007\n",
      "Epoch 315/500\n",
      "11/11 [==============================] - 0s 4ms/step - loss: 0.5310 - accuracy: 0.7239 - val_loss: 0.5903 - val_accuracy: 0.7029\n",
      "Epoch 316/500\n",
      "11/11 [==============================] - 0s 4ms/step - loss: 0.5333 - accuracy: 0.7269 - val_loss: 0.5879 - val_accuracy: 0.7029\n",
      "Epoch 317/500\n",
      "11/11 [==============================] - 0s 5ms/step - loss: 0.5345 - accuracy: 0.7202 - val_loss: 0.5805 - val_accuracy: 0.6940\n",
      "Epoch 318/500\n",
      "11/11 [==============================] - 0s 3ms/step - loss: 0.5341 - accuracy: 0.7172 - val_loss: 0.5898 - val_accuracy: 0.7073\n",
      "Epoch 319/500\n",
      "11/11 [==============================] - 0s 3ms/step - loss: 0.5285 - accuracy: 0.7246 - val_loss: 0.5817 - val_accuracy: 0.7051\n",
      "Epoch 320/500\n",
      "11/11 [==============================] - 0s 3ms/step - loss: 0.5274 - accuracy: 0.7224 - val_loss: 0.5885 - val_accuracy: 0.7029\n",
      "Epoch 321/500\n",
      "11/11 [==============================] - 0s 3ms/step - loss: 0.5299 - accuracy: 0.7165 - val_loss: 0.5774 - val_accuracy: 0.6874\n",
      "Epoch 322/500\n",
      "11/11 [==============================] - 0s 3ms/step - loss: 0.5265 - accuracy: 0.7239 - val_loss: 0.5881 - val_accuracy: 0.6874\n",
      "Epoch 323/500\n",
      "11/11 [==============================] - 0s 4ms/step - loss: 0.5290 - accuracy: 0.7195 - val_loss: 0.5842 - val_accuracy: 0.6918\n",
      "Epoch 324/500\n",
      "11/11 [==============================] - 0s 3ms/step - loss: 0.5275 - accuracy: 0.7239 - val_loss: 0.5861 - val_accuracy: 0.7073\n",
      "Epoch 325/500\n",
      "11/11 [==============================] - 0s 4ms/step - loss: 0.5302 - accuracy: 0.7121 - val_loss: 0.5927 - val_accuracy: 0.6896\n",
      "Epoch 326/500\n",
      "11/11 [==============================] - 0s 4ms/step - loss: 0.5421 - accuracy: 0.7143 - val_loss: 0.5800 - val_accuracy: 0.6984\n",
      "Epoch 327/500\n",
      "11/11 [==============================] - 0s 5ms/step - loss: 0.5345 - accuracy: 0.7121 - val_loss: 0.5879 - val_accuracy: 0.6940\n",
      "Epoch 328/500\n",
      "11/11 [==============================] - 0s 5ms/step - loss: 0.5255 - accuracy: 0.7283 - val_loss: 0.5828 - val_accuracy: 0.6984\n",
      "Epoch 329/500\n",
      "11/11 [==============================] - 0s 5ms/step - loss: 0.5258 - accuracy: 0.7239 - val_loss: 0.5829 - val_accuracy: 0.7029\n",
      "Epoch 330/500\n",
      "11/11 [==============================] - 0s 4ms/step - loss: 0.5259 - accuracy: 0.7276 - val_loss: 0.5901 - val_accuracy: 0.7073\n",
      "Epoch 331/500\n",
      "11/11 [==============================] - 0s 4ms/step - loss: 0.5253 - accuracy: 0.7291 - val_loss: 0.5789 - val_accuracy: 0.7051\n",
      "Epoch 332/500\n",
      "11/11 [==============================] - 0s 4ms/step - loss: 0.5264 - accuracy: 0.7224 - val_loss: 0.5903 - val_accuracy: 0.6918\n",
      "Epoch 333/500\n",
      "11/11 [==============================] - 0s 3ms/step - loss: 0.5249 - accuracy: 0.7202 - val_loss: 0.5912 - val_accuracy: 0.7051\n",
      "Epoch 334/500\n",
      "11/11 [==============================] - 0s 3ms/step - loss: 0.5253 - accuracy: 0.7209 - val_loss: 0.5842 - val_accuracy: 0.7118\n",
      "Epoch 335/500\n",
      "11/11 [==============================] - 0s 3ms/step - loss: 0.5255 - accuracy: 0.7224 - val_loss: 0.5893 - val_accuracy: 0.6940\n",
      "Epoch 336/500\n",
      "11/11 [==============================] - 0s 3ms/step - loss: 0.5225 - accuracy: 0.7224 - val_loss: 0.5824 - val_accuracy: 0.6874\n",
      "Epoch 337/500\n",
      "11/11 [==============================] - 0s 3ms/step - loss: 0.5251 - accuracy: 0.7239 - val_loss: 0.5820 - val_accuracy: 0.7051\n",
      "Epoch 338/500\n",
      "11/11 [==============================] - 0s 3ms/step - loss: 0.5256 - accuracy: 0.7217 - val_loss: 0.5859 - val_accuracy: 0.7118\n",
      "Epoch 339/500\n",
      "11/11 [==============================] - 0s 3ms/step - loss: 0.5237 - accuracy: 0.7217 - val_loss: 0.5950 - val_accuracy: 0.7095\n",
      "Epoch 340/500\n",
      "11/11 [==============================] - 0s 3ms/step - loss: 0.5244 - accuracy: 0.7246 - val_loss: 0.5921 - val_accuracy: 0.7029\n",
      "Epoch 341/500\n",
      "11/11 [==============================] - 0s 3ms/step - loss: 0.5254 - accuracy: 0.7217 - val_loss: 0.5904 - val_accuracy: 0.6962\n",
      "Epoch 342/500\n",
      "11/11 [==============================] - 0s 3ms/step - loss: 0.5279 - accuracy: 0.7321 - val_loss: 0.5895 - val_accuracy: 0.6918\n",
      "Epoch 343/500\n",
      "11/11 [==============================] - 0s 3ms/step - loss: 0.5215 - accuracy: 0.7254 - val_loss: 0.5882 - val_accuracy: 0.7073\n",
      "Epoch 344/500\n"
     ]
    },
    {
     "name": "stdout",
     "output_type": "stream",
     "text": [
      "11/11 [==============================] - 0s 3ms/step - loss: 0.5235 - accuracy: 0.7239 - val_loss: 0.5876 - val_accuracy: 0.7073\n",
      "Epoch 345/500\n",
      "11/11 [==============================] - 0s 3ms/step - loss: 0.5253 - accuracy: 0.7269 - val_loss: 0.5946 - val_accuracy: 0.6874\n",
      "Epoch 346/500\n",
      "11/11 [==============================] - 0s 3ms/step - loss: 0.5236 - accuracy: 0.7128 - val_loss: 0.5876 - val_accuracy: 0.7051\n",
      "Epoch 347/500\n",
      "11/11 [==============================] - 0s 3ms/step - loss: 0.5206 - accuracy: 0.7246 - val_loss: 0.5844 - val_accuracy: 0.6940\n",
      "Epoch 348/500\n",
      "11/11 [==============================] - 0s 4ms/step - loss: 0.5211 - accuracy: 0.7232 - val_loss: 0.5903 - val_accuracy: 0.7007\n",
      "Epoch 349/500\n",
      "11/11 [==============================] - 0s 3ms/step - loss: 0.5253 - accuracy: 0.7261 - val_loss: 0.5894 - val_accuracy: 0.6874\n",
      "Epoch 350/500\n",
      "11/11 [==============================] - 0s 4ms/step - loss: 0.5224 - accuracy: 0.7269 - val_loss: 0.5779 - val_accuracy: 0.7073\n",
      "Epoch 351/500\n",
      "11/11 [==============================] - 0s 3ms/step - loss: 0.5231 - accuracy: 0.7276 - val_loss: 0.5943 - val_accuracy: 0.7095\n",
      "Epoch 352/500\n",
      "11/11 [==============================] - 0s 4ms/step - loss: 0.5210 - accuracy: 0.7321 - val_loss: 0.5989 - val_accuracy: 0.7051\n",
      "Epoch 353/500\n",
      "11/11 [==============================] - 0s 4ms/step - loss: 0.5245 - accuracy: 0.7380 - val_loss: 0.5833 - val_accuracy: 0.6940\n",
      "Epoch 354/500\n",
      "11/11 [==============================] - 0s 4ms/step - loss: 0.5204 - accuracy: 0.7269 - val_loss: 0.5866 - val_accuracy: 0.6896\n",
      "Epoch 355/500\n",
      "11/11 [==============================] - 0s 5ms/step - loss: 0.5188 - accuracy: 0.7335 - val_loss: 0.5927 - val_accuracy: 0.7095\n",
      "Epoch 356/500\n",
      "11/11 [==============================] - 0s 3ms/step - loss: 0.5183 - accuracy: 0.7217 - val_loss: 0.5815 - val_accuracy: 0.7051\n",
      "Epoch 357/500\n",
      "11/11 [==============================] - 0s 3ms/step - loss: 0.5188 - accuracy: 0.7269 - val_loss: 0.5944 - val_accuracy: 0.7029\n",
      "Epoch 358/500\n",
      "11/11 [==============================] - 0s 4ms/step - loss: 0.5173 - accuracy: 0.7291 - val_loss: 0.5899 - val_accuracy: 0.6940\n",
      "Epoch 359/500\n",
      "11/11 [==============================] - 0s 4ms/step - loss: 0.5178 - accuracy: 0.7328 - val_loss: 0.5979 - val_accuracy: 0.7051\n",
      "Epoch 360/500\n",
      "11/11 [==============================] - 0s 3ms/step - loss: 0.5215 - accuracy: 0.7239 - val_loss: 0.5911 - val_accuracy: 0.7073\n",
      "Epoch 361/500\n",
      "11/11 [==============================] - 0s 4ms/step - loss: 0.5221 - accuracy: 0.7306 - val_loss: 0.5972 - val_accuracy: 0.7051\n",
      "Epoch 362/500\n",
      "11/11 [==============================] - 0s 3ms/step - loss: 0.5172 - accuracy: 0.7313 - val_loss: 0.5906 - val_accuracy: 0.7095\n",
      "Epoch 363/500\n",
      "11/11 [==============================] - 0s 4ms/step - loss: 0.5173 - accuracy: 0.7313 - val_loss: 0.5844 - val_accuracy: 0.7051\n",
      "Epoch 364/500\n",
      "11/11 [==============================] - 0s 3ms/step - loss: 0.5169 - accuracy: 0.7291 - val_loss: 0.5925 - val_accuracy: 0.7095\n",
      "Epoch 365/500\n",
      "11/11 [==============================] - 0s 3ms/step - loss: 0.5170 - accuracy: 0.7283 - val_loss: 0.5916 - val_accuracy: 0.6984\n",
      "Epoch 366/500\n",
      "11/11 [==============================] - 0s 3ms/step - loss: 0.5167 - accuracy: 0.7298 - val_loss: 0.5840 - val_accuracy: 0.7073\n",
      "Epoch 367/500\n",
      "11/11 [==============================] - 0s 3ms/step - loss: 0.5186 - accuracy: 0.7261 - val_loss: 0.6088 - val_accuracy: 0.7029\n",
      "Epoch 368/500\n",
      "11/11 [==============================] - 0s 3ms/step - loss: 0.5183 - accuracy: 0.7224 - val_loss: 0.5873 - val_accuracy: 0.7095\n",
      "Epoch 369/500\n",
      "11/11 [==============================] - 0s 3ms/step - loss: 0.5229 - accuracy: 0.7165 - val_loss: 0.6018 - val_accuracy: 0.6918\n",
      "Epoch 370/500\n",
      "11/11 [==============================] - 0s 3ms/step - loss: 0.5223 - accuracy: 0.7232 - val_loss: 0.5896 - val_accuracy: 0.7184\n",
      "Epoch 371/500\n",
      "11/11 [==============================] - 0s 3ms/step - loss: 0.5143 - accuracy: 0.7335 - val_loss: 0.6011 - val_accuracy: 0.7095\n",
      "Epoch 372/500\n",
      "11/11 [==============================] - 0s 3ms/step - loss: 0.5171 - accuracy: 0.7298 - val_loss: 0.5910 - val_accuracy: 0.7051\n",
      "Epoch 373/500\n",
      "11/11 [==============================] - 0s 3ms/step - loss: 0.5163 - accuracy: 0.7387 - val_loss: 0.5902 - val_accuracy: 0.6940\n",
      "Epoch 374/500\n",
      "11/11 [==============================] - 0s 3ms/step - loss: 0.5199 - accuracy: 0.7380 - val_loss: 0.5911 - val_accuracy: 0.7118\n",
      "Epoch 375/500\n",
      "11/11 [==============================] - 0s 3ms/step - loss: 0.5181 - accuracy: 0.7217 - val_loss: 0.6009 - val_accuracy: 0.7184\n",
      "Epoch 376/500\n",
      "11/11 [==============================] - 0s 3ms/step - loss: 0.5137 - accuracy: 0.7269 - val_loss: 0.5846 - val_accuracy: 0.7073\n",
      "Epoch 377/500\n",
      "11/11 [==============================] - 0s 3ms/step - loss: 0.5133 - accuracy: 0.7350 - val_loss: 0.5982 - val_accuracy: 0.7140\n",
      "Epoch 378/500\n",
      "11/11 [==============================] - 0s 3ms/step - loss: 0.5151 - accuracy: 0.7254 - val_loss: 0.5887 - val_accuracy: 0.7007\n",
      "Epoch 379/500\n",
      "11/11 [==============================] - 0s 3ms/step - loss: 0.5181 - accuracy: 0.7180 - val_loss: 0.5898 - val_accuracy: 0.6874\n",
      "Epoch 380/500\n",
      "11/11 [==============================] - 0s 3ms/step - loss: 0.5161 - accuracy: 0.7335 - val_loss: 0.5906 - val_accuracy: 0.7051\n",
      "Epoch 381/500\n",
      "11/11 [==============================] - 0s 3ms/step - loss: 0.5131 - accuracy: 0.7306 - val_loss: 0.5898 - val_accuracy: 0.7073\n",
      "Epoch 382/500\n",
      "11/11 [==============================] - 0s 3ms/step - loss: 0.5131 - accuracy: 0.7380 - val_loss: 0.5970 - val_accuracy: 0.6874\n",
      "Epoch 383/500\n",
      "11/11 [==============================] - 0s 3ms/step - loss: 0.5138 - accuracy: 0.7261 - val_loss: 0.6086 - val_accuracy: 0.6962\n",
      "Epoch 384/500\n",
      "11/11 [==============================] - 0s 3ms/step - loss: 0.5216 - accuracy: 0.7232 - val_loss: 0.6034 - val_accuracy: 0.7140\n",
      "Epoch 385/500\n",
      "11/11 [==============================] - 0s 3ms/step - loss: 0.5144 - accuracy: 0.7313 - val_loss: 0.5916 - val_accuracy: 0.6984\n",
      "Epoch 386/500\n",
      "11/11 [==============================] - 0s 3ms/step - loss: 0.5124 - accuracy: 0.7283 - val_loss: 0.5924 - val_accuracy: 0.7118\n",
      "Epoch 387/500\n",
      "11/11 [==============================] - 0s 3ms/step - loss: 0.5133 - accuracy: 0.7365 - val_loss: 0.5898 - val_accuracy: 0.7073\n",
      "Epoch 388/500\n",
      "11/11 [==============================] - 0s 3ms/step - loss: 0.5122 - accuracy: 0.7343 - val_loss: 0.5940 - val_accuracy: 0.7095\n",
      "Epoch 389/500\n",
      "11/11 [==============================] - 0s 3ms/step - loss: 0.5112 - accuracy: 0.7343 - val_loss: 0.5977 - val_accuracy: 0.7095\n",
      "Epoch 390/500\n",
      "11/11 [==============================] - 0s 3ms/step - loss: 0.5098 - accuracy: 0.7328 - val_loss: 0.5910 - val_accuracy: 0.7095\n",
      "Epoch 391/500\n",
      "11/11 [==============================] - 0s 3ms/step - loss: 0.5090 - accuracy: 0.7328 - val_loss: 0.5999 - val_accuracy: 0.7095\n",
      "Epoch 392/500\n",
      "11/11 [==============================] - 0s 3ms/step - loss: 0.5108 - accuracy: 0.7335 - val_loss: 0.5963 - val_accuracy: 0.7118\n",
      "Epoch 393/500\n",
      "11/11 [==============================] - 0s 3ms/step - loss: 0.5121 - accuracy: 0.7298 - val_loss: 0.6085 - val_accuracy: 0.6984\n",
      "Epoch 394/500\n",
      "11/11 [==============================] - 0s 3ms/step - loss: 0.5091 - accuracy: 0.7313 - val_loss: 0.5985 - val_accuracy: 0.6851\n",
      "Epoch 395/500\n",
      "11/11 [==============================] - 0s 3ms/step - loss: 0.5135 - accuracy: 0.7372 - val_loss: 0.5940 - val_accuracy: 0.7051\n",
      "Epoch 396/500\n",
      "11/11 [==============================] - 0s 3ms/step - loss: 0.5167 - accuracy: 0.7254 - val_loss: 0.5980 - val_accuracy: 0.7051\n",
      "Epoch 397/500\n",
      "11/11 [==============================] - 0s 3ms/step - loss: 0.5109 - accuracy: 0.7328 - val_loss: 0.5985 - val_accuracy: 0.7228\n",
      "Epoch 398/500\n",
      "11/11 [==============================] - 0s 3ms/step - loss: 0.5069 - accuracy: 0.7387 - val_loss: 0.5963 - val_accuracy: 0.7118\n",
      "Epoch 399/500\n",
      "11/11 [==============================] - 0s 3ms/step - loss: 0.5104 - accuracy: 0.7328 - val_loss: 0.5905 - val_accuracy: 0.7051\n",
      "Epoch 400/500\n",
      "11/11 [==============================] - 0s 3ms/step - loss: 0.5080 - accuracy: 0.7372 - val_loss: 0.6030 - val_accuracy: 0.7140\n",
      "Epoch 401/500\n"
     ]
    },
    {
     "name": "stdout",
     "output_type": "stream",
     "text": [
      "11/11 [==============================] - 0s 3ms/step - loss: 0.5085 - accuracy: 0.7409 - val_loss: 0.5937 - val_accuracy: 0.7073\n",
      "Epoch 402/500\n",
      "11/11 [==============================] - 0s 3ms/step - loss: 0.5084 - accuracy: 0.7380 - val_loss: 0.6038 - val_accuracy: 0.7184\n",
      "Epoch 403/500\n",
      "11/11 [==============================] - 0s 3ms/step - loss: 0.5097 - accuracy: 0.7306 - val_loss: 0.5937 - val_accuracy: 0.6940\n",
      "Epoch 404/500\n",
      "11/11 [==============================] - 0s 3ms/step - loss: 0.5057 - accuracy: 0.7409 - val_loss: 0.6081 - val_accuracy: 0.7073\n",
      "Epoch 405/500\n",
      "11/11 [==============================] - 0s 3ms/step - loss: 0.5105 - accuracy: 0.7246 - val_loss: 0.5967 - val_accuracy: 0.7206\n",
      "Epoch 406/500\n",
      "11/11 [==============================] - 0s 3ms/step - loss: 0.5116 - accuracy: 0.7269 - val_loss: 0.5943 - val_accuracy: 0.7029\n",
      "Epoch 407/500\n",
      "11/11 [==============================] - 0s 3ms/step - loss: 0.5067 - accuracy: 0.7335 - val_loss: 0.6042 - val_accuracy: 0.6829\n",
      "Epoch 408/500\n",
      "11/11 [==============================] - 0s 3ms/step - loss: 0.5105 - accuracy: 0.7365 - val_loss: 0.5918 - val_accuracy: 0.7051\n",
      "Epoch 409/500\n",
      "11/11 [==============================] - 0s 3ms/step - loss: 0.5085 - accuracy: 0.7298 - val_loss: 0.5970 - val_accuracy: 0.7095\n",
      "Epoch 410/500\n",
      "11/11 [==============================] - 0s 4ms/step - loss: 0.5067 - accuracy: 0.7365 - val_loss: 0.6143 - val_accuracy: 0.7095\n",
      "Epoch 411/500\n",
      "11/11 [==============================] - 0s 3ms/step - loss: 0.5080 - accuracy: 0.7365 - val_loss: 0.5924 - val_accuracy: 0.7073\n",
      "Epoch 412/500\n",
      "11/11 [==============================] - 0s 3ms/step - loss: 0.5059 - accuracy: 0.7409 - val_loss: 0.5939 - val_accuracy: 0.7095\n",
      "Epoch 413/500\n",
      "11/11 [==============================] - 0s 3ms/step - loss: 0.5073 - accuracy: 0.7313 - val_loss: 0.6206 - val_accuracy: 0.6940\n",
      "Epoch 414/500\n",
      "11/11 [==============================] - 0s 3ms/step - loss: 0.5098 - accuracy: 0.7217 - val_loss: 0.5939 - val_accuracy: 0.7051\n",
      "Epoch 415/500\n",
      "11/11 [==============================] - 0s 3ms/step - loss: 0.5067 - accuracy: 0.7350 - val_loss: 0.5979 - val_accuracy: 0.7228\n",
      "Epoch 416/500\n",
      "11/11 [==============================] - 0s 3ms/step - loss: 0.5065 - accuracy: 0.7335 - val_loss: 0.6000 - val_accuracy: 0.7051\n",
      "Epoch 417/500\n",
      "11/11 [==============================] - 0s 3ms/step - loss: 0.5070 - accuracy: 0.7276 - val_loss: 0.6055 - val_accuracy: 0.7095\n",
      "Epoch 418/500\n",
      "11/11 [==============================] - 0s 3ms/step - loss: 0.5047 - accuracy: 0.7313 - val_loss: 0.5959 - val_accuracy: 0.7206\n",
      "Epoch 419/500\n",
      "11/11 [==============================] - 0s 3ms/step - loss: 0.5036 - accuracy: 0.7350 - val_loss: 0.6010 - val_accuracy: 0.6851\n",
      "Epoch 420/500\n",
      "11/11 [==============================] - 0s 3ms/step - loss: 0.5060 - accuracy: 0.7365 - val_loss: 0.6001 - val_accuracy: 0.7118\n",
      "Epoch 421/500\n",
      "11/11 [==============================] - 0s 3ms/step - loss: 0.5037 - accuracy: 0.7402 - val_loss: 0.6115 - val_accuracy: 0.7051\n",
      "Epoch 422/500\n",
      "11/11 [==============================] - 0s 3ms/step - loss: 0.5087 - accuracy: 0.7387 - val_loss: 0.5972 - val_accuracy: 0.7073\n",
      "Epoch 423/500\n",
      "11/11 [==============================] - 0s 3ms/step - loss: 0.5035 - accuracy: 0.7350 - val_loss: 0.6059 - val_accuracy: 0.7073\n",
      "Epoch 424/500\n",
      "11/11 [==============================] - 0s 3ms/step - loss: 0.5074 - accuracy: 0.7269 - val_loss: 0.6135 - val_accuracy: 0.7007\n",
      "Epoch 425/500\n",
      "11/11 [==============================] - 0s 3ms/step - loss: 0.5056 - accuracy: 0.7365 - val_loss: 0.6021 - val_accuracy: 0.7095\n",
      "Epoch 426/500\n",
      "11/11 [==============================] - 0s 3ms/step - loss: 0.5071 - accuracy: 0.7358 - val_loss: 0.5971 - val_accuracy: 0.6962\n",
      "Epoch 427/500\n",
      "11/11 [==============================] - 0s 3ms/step - loss: 0.5044 - accuracy: 0.7358 - val_loss: 0.6010 - val_accuracy: 0.7162\n",
      "Epoch 428/500\n",
      "11/11 [==============================] - 0s 3ms/step - loss: 0.5037 - accuracy: 0.7372 - val_loss: 0.5999 - val_accuracy: 0.7118\n",
      "Epoch 429/500\n",
      "11/11 [==============================] - 0s 3ms/step - loss: 0.5003 - accuracy: 0.7387 - val_loss: 0.5990 - val_accuracy: 0.7118\n",
      "Epoch 430/500\n",
      "11/11 [==============================] - 0s 3ms/step - loss: 0.5027 - accuracy: 0.7335 - val_loss: 0.6052 - val_accuracy: 0.7118\n",
      "Epoch 431/500\n",
      "11/11 [==============================] - 0s 3ms/step - loss: 0.5042 - accuracy: 0.7343 - val_loss: 0.6049 - val_accuracy: 0.6984\n",
      "Epoch 432/500\n",
      "11/11 [==============================] - 0s 3ms/step - loss: 0.5011 - accuracy: 0.7358 - val_loss: 0.5952 - val_accuracy: 0.7206\n",
      "Epoch 433/500\n",
      "11/11 [==============================] - 0s 4ms/step - loss: 0.5029 - accuracy: 0.7283 - val_loss: 0.5995 - val_accuracy: 0.6940\n",
      "Epoch 434/500\n",
      "11/11 [==============================] - 0s 4ms/step - loss: 0.5063 - accuracy: 0.7335 - val_loss: 0.6003 - val_accuracy: 0.7029\n",
      "Epoch 435/500\n",
      "11/11 [==============================] - 0s 3ms/step - loss: 0.5032 - accuracy: 0.7343 - val_loss: 0.6028 - val_accuracy: 0.7228\n",
      "Epoch 436/500\n",
      "11/11 [==============================] - 0s 3ms/step - loss: 0.5006 - accuracy: 0.7365 - val_loss: 0.5960 - val_accuracy: 0.7051\n",
      "Epoch 437/500\n",
      "11/11 [==============================] - 0s 3ms/step - loss: 0.5040 - accuracy: 0.7358 - val_loss: 0.6101 - val_accuracy: 0.7140\n",
      "Epoch 438/500\n",
      "11/11 [==============================] - 0s 3ms/step - loss: 0.4996 - accuracy: 0.7380 - val_loss: 0.5982 - val_accuracy: 0.7184\n",
      "Epoch 439/500\n",
      "11/11 [==============================] - 0s 3ms/step - loss: 0.5020 - accuracy: 0.7387 - val_loss: 0.6060 - val_accuracy: 0.7228\n",
      "Epoch 440/500\n",
      "11/11 [==============================] - 0s 3ms/step - loss: 0.5104 - accuracy: 0.7313 - val_loss: 0.5987 - val_accuracy: 0.6962\n",
      "Epoch 441/500\n",
      "11/11 [==============================] - 0s 3ms/step - loss: 0.5087 - accuracy: 0.7261 - val_loss: 0.6074 - val_accuracy: 0.6984\n",
      "Epoch 442/500\n",
      "11/11 [==============================] - 0s 3ms/step - loss: 0.5057 - accuracy: 0.7321 - val_loss: 0.6052 - val_accuracy: 0.7095\n",
      "Epoch 443/500\n",
      "11/11 [==============================] - 0s 3ms/step - loss: 0.5022 - accuracy: 0.7365 - val_loss: 0.6056 - val_accuracy: 0.7029\n",
      "Epoch 444/500\n",
      "11/11 [==============================] - 0s 3ms/step - loss: 0.5006 - accuracy: 0.7417 - val_loss: 0.6036 - val_accuracy: 0.6940\n",
      "Epoch 445/500\n",
      "11/11 [==============================] - 0s 3ms/step - loss: 0.5047 - accuracy: 0.7283 - val_loss: 0.5989 - val_accuracy: 0.7162\n",
      "Epoch 446/500\n",
      "11/11 [==============================] - 0s 3ms/step - loss: 0.5009 - accuracy: 0.7358 - val_loss: 0.6191 - val_accuracy: 0.6918\n",
      "Epoch 447/500\n",
      "11/11 [==============================] - 0s 3ms/step - loss: 0.5020 - accuracy: 0.7350 - val_loss: 0.5973 - val_accuracy: 0.7228\n",
      "Epoch 448/500\n",
      "11/11 [==============================] - 0s 4ms/step - loss: 0.4983 - accuracy: 0.7402 - val_loss: 0.6107 - val_accuracy: 0.7228\n",
      "Epoch 449/500\n",
      "11/11 [==============================] - 0s 3ms/step - loss: 0.4982 - accuracy: 0.7395 - val_loss: 0.5992 - val_accuracy: 0.7206\n",
      "Epoch 450/500\n",
      "11/11 [==============================] - 0s 3ms/step - loss: 0.4999 - accuracy: 0.7387 - val_loss: 0.6092 - val_accuracy: 0.6962\n",
      "Epoch 451/500\n",
      "11/11 [==============================] - 0s 3ms/step - loss: 0.5029 - accuracy: 0.7424 - val_loss: 0.6033 - val_accuracy: 0.6940\n",
      "Epoch 452/500\n",
      "11/11 [==============================] - 0s 3ms/step - loss: 0.5062 - accuracy: 0.7321 - val_loss: 0.6282 - val_accuracy: 0.6874\n",
      "Epoch 453/500\n",
      "11/11 [==============================] - 0s 3ms/step - loss: 0.5052 - accuracy: 0.7261 - val_loss: 0.6025 - val_accuracy: 0.6940\n",
      "Epoch 454/500\n",
      "11/11 [==============================] - 0s 3ms/step - loss: 0.5033 - accuracy: 0.7350 - val_loss: 0.6004 - val_accuracy: 0.7273\n",
      "Epoch 455/500\n",
      "11/11 [==============================] - 0s 3ms/step - loss: 0.4984 - accuracy: 0.7395 - val_loss: 0.6164 - val_accuracy: 0.6962\n",
      "Epoch 456/500\n",
      "11/11 [==============================] - 0s 3ms/step - loss: 0.5042 - accuracy: 0.7269 - val_loss: 0.6149 - val_accuracy: 0.6962\n",
      "Epoch 457/500\n",
      "11/11 [==============================] - 0s 3ms/step - loss: 0.5077 - accuracy: 0.7261 - val_loss: 0.6058 - val_accuracy: 0.6829\n",
      "Epoch 458/500\n"
     ]
    },
    {
     "name": "stdout",
     "output_type": "stream",
     "text": [
      "11/11 [==============================] - 0s 3ms/step - loss: 0.5022 - accuracy: 0.7276 - val_loss: 0.5991 - val_accuracy: 0.7051\n",
      "Epoch 459/500\n",
      "11/11 [==============================] - 0s 3ms/step - loss: 0.5073 - accuracy: 0.7372 - val_loss: 0.6193 - val_accuracy: 0.7073\n",
      "Epoch 460/500\n",
      "11/11 [==============================] - 0s 4ms/step - loss: 0.5015 - accuracy: 0.7469 - val_loss: 0.5989 - val_accuracy: 0.7162\n",
      "Epoch 461/500\n",
      "11/11 [==============================] - 0s 3ms/step - loss: 0.4991 - accuracy: 0.7402 - val_loss: 0.6239 - val_accuracy: 0.6918\n",
      "Epoch 462/500\n",
      "11/11 [==============================] - 0s 4ms/step - loss: 0.5004 - accuracy: 0.7306 - val_loss: 0.6074 - val_accuracy: 0.7206\n",
      "Epoch 463/500\n",
      "11/11 [==============================] - 0s 3ms/step - loss: 0.4955 - accuracy: 0.7409 - val_loss: 0.6022 - val_accuracy: 0.7095\n",
      "Epoch 464/500\n",
      "11/11 [==============================] - 0s 3ms/step - loss: 0.4979 - accuracy: 0.7343 - val_loss: 0.6225 - val_accuracy: 0.6896\n",
      "Epoch 465/500\n",
      "11/11 [==============================] - ETA: 0s - loss: 0.5170 - accuracy: 0.76 - 0s 3ms/step - loss: 0.5007 - accuracy: 0.7424 - val_loss: 0.6077 - val_accuracy: 0.7295\n",
      "Epoch 466/500\n",
      "11/11 [==============================] - 0s 3ms/step - loss: 0.4953 - accuracy: 0.7380 - val_loss: 0.6018 - val_accuracy: 0.7184\n",
      "Epoch 467/500\n",
      "11/11 [==============================] - 0s 3ms/step - loss: 0.4944 - accuracy: 0.7417 - val_loss: 0.6113 - val_accuracy: 0.7206\n",
      "Epoch 468/500\n",
      "11/11 [==============================] - 0s 3ms/step - loss: 0.4939 - accuracy: 0.7409 - val_loss: 0.6036 - val_accuracy: 0.7206\n",
      "Epoch 469/500\n",
      "11/11 [==============================] - 0s 3ms/step - loss: 0.4963 - accuracy: 0.7358 - val_loss: 0.6081 - val_accuracy: 0.7251\n",
      "Epoch 470/500\n",
      "11/11 [==============================] - 0s 4ms/step - loss: 0.4984 - accuracy: 0.7372 - val_loss: 0.6099 - val_accuracy: 0.7095\n",
      "Epoch 471/500\n",
      "11/11 [==============================] - 0s 3ms/step - loss: 0.4959 - accuracy: 0.7343 - val_loss: 0.6134 - val_accuracy: 0.7206\n",
      "Epoch 472/500\n",
      "11/11 [==============================] - 0s 3ms/step - loss: 0.4932 - accuracy: 0.7409 - val_loss: 0.6070 - val_accuracy: 0.7206\n",
      "Epoch 473/500\n",
      "11/11 [==============================] - 0s 3ms/step - loss: 0.4928 - accuracy: 0.7409 - val_loss: 0.6055 - val_accuracy: 0.7184\n",
      "Epoch 474/500\n",
      "11/11 [==============================] - 0s 4ms/step - loss: 0.4987 - accuracy: 0.7446 - val_loss: 0.6203 - val_accuracy: 0.6940\n",
      "Epoch 475/500\n",
      "11/11 [==============================] - 0s 4ms/step - loss: 0.4945 - accuracy: 0.7439 - val_loss: 0.6029 - val_accuracy: 0.7162\n",
      "Epoch 476/500\n",
      "11/11 [==============================] - 0s 3ms/step - loss: 0.4945 - accuracy: 0.7380 - val_loss: 0.6048 - val_accuracy: 0.7228\n",
      "Epoch 477/500\n",
      "11/11 [==============================] - 0s 3ms/step - loss: 0.4941 - accuracy: 0.7446 - val_loss: 0.6073 - val_accuracy: 0.7206\n",
      "Epoch 478/500\n",
      "11/11 [==============================] - 0s 3ms/step - loss: 0.4922 - accuracy: 0.7469 - val_loss: 0.6075 - val_accuracy: 0.7095\n",
      "Epoch 479/500\n",
      "11/11 [==============================] - 0s 3ms/step - loss: 0.4936 - accuracy: 0.7350 - val_loss: 0.6102 - val_accuracy: 0.7073\n",
      "Epoch 480/500\n",
      "11/11 [==============================] - 0s 3ms/step - loss: 0.4925 - accuracy: 0.7432 - val_loss: 0.6094 - val_accuracy: 0.7073\n",
      "Epoch 481/500\n",
      "11/11 [==============================] - 0s 3ms/step - loss: 0.4959 - accuracy: 0.7424 - val_loss: 0.6072 - val_accuracy: 0.7073\n",
      "Epoch 482/500\n",
      "11/11 [==============================] - 0s 3ms/step - loss: 0.4921 - accuracy: 0.7365 - val_loss: 0.6049 - val_accuracy: 0.7184\n",
      "Epoch 483/500\n",
      "11/11 [==============================] - 0s 3ms/step - loss: 0.4948 - accuracy: 0.7350 - val_loss: 0.6195 - val_accuracy: 0.6962\n",
      "Epoch 484/500\n",
      "11/11 [==============================] - 0s 3ms/step - loss: 0.5016 - accuracy: 0.7306 - val_loss: 0.6111 - val_accuracy: 0.6918\n",
      "Epoch 485/500\n",
      "11/11 [==============================] - 0s 3ms/step - loss: 0.4986 - accuracy: 0.7432 - val_loss: 0.6058 - val_accuracy: 0.7184\n",
      "Epoch 486/500\n",
      "11/11 [==============================] - 0s 3ms/step - loss: 0.4938 - accuracy: 0.7365 - val_loss: 0.6091 - val_accuracy: 0.7184\n",
      "Epoch 487/500\n",
      "11/11 [==============================] - 0s 3ms/step - loss: 0.4918 - accuracy: 0.7424 - val_loss: 0.6103 - val_accuracy: 0.7162\n",
      "Epoch 488/500\n",
      "11/11 [==============================] - 0s 3ms/step - loss: 0.4912 - accuracy: 0.7372 - val_loss: 0.6044 - val_accuracy: 0.7339\n",
      "Epoch 489/500\n",
      "11/11 [==============================] - 0s 3ms/step - loss: 0.4914 - accuracy: 0.7424 - val_loss: 0.6119 - val_accuracy: 0.7251\n",
      "Epoch 490/500\n",
      "11/11 [==============================] - 0s 3ms/step - loss: 0.4925 - accuracy: 0.7446 - val_loss: 0.6071 - val_accuracy: 0.7140\n",
      "Epoch 491/500\n",
      "11/11 [==============================] - 0s 3ms/step - loss: 0.4952 - accuracy: 0.7439 - val_loss: 0.6194 - val_accuracy: 0.6851\n",
      "Epoch 492/500\n",
      "11/11 [==============================] - 0s 3ms/step - loss: 0.4964 - accuracy: 0.7321 - val_loss: 0.6339 - val_accuracy: 0.6829\n",
      "Epoch 493/500\n",
      "11/11 [==============================] - 0s 3ms/step - loss: 0.4951 - accuracy: 0.7417 - val_loss: 0.6138 - val_accuracy: 0.7073\n",
      "Epoch 494/500\n",
      "11/11 [==============================] - 0s 3ms/step - loss: 0.4929 - accuracy: 0.7350 - val_loss: 0.6190 - val_accuracy: 0.7073\n",
      "Epoch 495/500\n",
      "11/11 [==============================] - 0s 3ms/step - loss: 0.4913 - accuracy: 0.7313 - val_loss: 0.6047 - val_accuracy: 0.7140\n",
      "Epoch 496/500\n",
      "11/11 [==============================] - 0s 3ms/step - loss: 0.4914 - accuracy: 0.7380 - val_loss: 0.6105 - val_accuracy: 0.7007\n",
      "Epoch 497/500\n",
      "11/11 [==============================] - 0s 4ms/step - loss: 0.4995 - accuracy: 0.7313 - val_loss: 0.6339 - val_accuracy: 0.6741\n",
      "Epoch 498/500\n",
      "11/11 [==============================] - 0s 3ms/step - loss: 0.4956 - accuracy: 0.7446 - val_loss: 0.6139 - val_accuracy: 0.6918\n",
      "Epoch 499/500\n",
      "11/11 [==============================] - 0s 3ms/step - loss: 0.4962 - accuracy: 0.7387 - val_loss: 0.6059 - val_accuracy: 0.7140\n",
      "Epoch 500/500\n",
      "11/11 [==============================] - 0s 3ms/step - loss: 0.4956 - accuracy: 0.7358 - val_loss: 0.6145 - val_accuracy: 0.7228\n"
     ]
    }
   ],
   "source": [
    "history = nn_model.fit(\n",
    "    lr_extract_inputs(train), \n",
    "    lr_extract_outputs(train),\n",
    "    epochs=500,\n",
    "    batch_size=128,\n",
    "    validation_data=(\n",
    "        lr_extract_inputs(test),\n",
    "        lr_extract_outputs(test),\n",
    "    )\n",
    ")"
   ]
  },
  {
   "cell_type": "code",
   "execution_count": 33,
   "metadata": {},
   "outputs": [
    {
     "name": "stdout",
     "output_type": "stream",
     "text": [
      "train ################################################################################\n",
      "Accuracy: 0.6535899333826795\n",
      "Recall: 0.8223418573351279\n",
      "\n"
     ]
    },
    {
     "data": {
      "image/png": "[encoded data removed]",
      "text/plain": [
       "<Figure size 216x288 with 1 Axes>"
      ]
     },
     "metadata": {
      "needs_background": "light"
     },
     "output_type": "display_data"
    },
    {
     "name": "stdout",
     "output_type": "stream",
     "text": [
      "test ################################################################################\n",
      "Accuracy: 0.6496674057649667\n",
      "Recall: 0.7712177121771218\n",
      "\n"
     ]
    },
    {
     "data": {
      "image/png": "[encoded data removed]",
      "text/plain": [
       "<Figure size 216x288 with 1 Axes>"
      ]
     },
     "metadata": {
      "needs_background": "light"
     },
     "output_type": "display_data"
    },
    {
     "name": "stdout",
     "output_type": "stream",
     "text": [
      "validation ################################################################################\n",
      "Accuracy: 0.6266666666666667\n",
      "Recall: 0.8361344537815126\n",
      "\n"
     ]
    },
    {
     "data": {
      "image/png": "[encoded data removed]",
      "text/plain": [
       "<Figure size 216x288 with 1 Axes>"
      ]
     },
     "metadata": {
      "needs_background": "light"
     },
     "output_type": "display_data"
    }
   ],
   "source": [
    "evaluate_model(knn_model, lr_extract_inputs, lr_extract_outputs, True)"
   ]
  },
  {
   "cell_type": "markdown",
   "metadata": {},
   "source": [
    "#### Conclusión\n",
    "Luego de varias iteraciones sobre diferentes modelos de NN, no logramos mejorar los resultados obtenidos a traves de otros modelos. Probablemente se pueda mejorar un poco los resultados con las funciones de activacion y las cantidades de neuronas por capa correctas, pero teniendo en cuenta que los resultados de todos los modelos no tenían un Accuracy prometedor, se sospecha que puede deberse al dataset utilizado, cuyos datos no provean suficiente informacion para lograr mejores predicciones."
   ]
  },
  {
   "cell_type": "markdown",
   "metadata": {},
   "source": [
    "### Conclusión final\n",
    "El mejor resultado obtenido fue mediante el **cuarto modelo: Random Forests**:"
   ]
  },
  {
   "cell_type": "code",
   "execution_count": 52,
   "metadata": {},
   "outputs": [
    {
     "name": "stdout",
     "output_type": "stream",
     "text": [
      "train ################################################################################\n",
      "Accuracy: 0.6861584011843079\n",
      "Recall: 0.9084791386271871\n",
      "\n"
     ]
    },
    {
     "data": {
      "image/png": "[encoded data removed]",
      "text/plain": [
       "<Figure size 216x288 with 1 Axes>"
      ]
     },
     "metadata": {
      "needs_background": "light"
     },
     "output_type": "display_data"
    },
    {
     "name": "stdout",
     "output_type": "stream",
     "text": [
      "test ################################################################################\n",
      "Accuracy: 0.7073170731707317\n",
      "Recall: 0.8856088560885609\n",
      "\n"
     ]
    },
    {
     "data": {
      "image/png": "[encoded data removed]",
      "text/plain": [
       "<Figure size 216x288 with 1 Axes>"
      ]
     },
     "metadata": {
      "needs_background": "light"
     },
     "output_type": "display_data"
    }
   ],
   "source": [
    "evaluate_model(forest_model, tree_extract_inputs, tree_extract_outputs)"
   ]
  }
 ],
 "metadata": {
  "kernelspec": {
   "display_name": "Python 3",
   "language": "python",
   "name": "python3"
  },
  "language_info": {
   "codemirror_mode": {
    "name": "ipython",
    "version": 3
   },
   "file_extension": ".py",
   "mimetype": "text/x-python",
   "name": "python",
   "nbconvert_exporter": "python",
   "pygments_lexer": "ipython3",
   "version": "3.7.0"
  }
 },
 "nbformat": 4,
 "nbformat_minor": 4
}
