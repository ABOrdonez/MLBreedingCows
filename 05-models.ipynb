{
 "cells": [
  {
   "cell_type": "markdown",
   "metadata": {},
   "source": [
    "## Carga y  prepación de el dataframe"
   ]
  },
  {
   "cell_type": "markdown",
   "metadata": {},
   "source": [
    "Cargamos y preparamos el dataframe teniendo en cuenta el analisis y la evaluación efectuada. Y de esta manera comenzar a evaluar los distintos modelos y cómo estos se comportan frente a los datos."
   ]
  },
  {
   "cell_type": "code",
   "execution_count": 1,
   "metadata": {},
   "outputs": [],
   "source": [
    "%matplotlib inline\n",
    "import pandas as pd\n",
    "import numpy as np\n",
    "import matplotlib.pyplot as plt\n",
    "import seaborn as sns\n",
    "from sklearn.model_selection import train_test_split\n",
    "import plotly.graph_objects as go\n",
    "from plotly.subplots import make_subplots\n",
    "from datetime import datetime\n",
    "from sklearn.metrics import accuracy_score, precision_score, recall_score, confusion_matrix\n",
    "from sklearn.model_selection import train_test_split\n",
    "\n",
    "plt.rcParams['figure.figsize'] = 25, 10"
   ]
  },
  {
   "cell_type": "code",
   "execution_count": 2,
   "metadata": {},
   "outputs": [
    {
     "data": {
      "text/html": [
       "<div>\n",
       "<style scoped>\n",
       "    .dataframe tbody tr th:only-of-type {\n",
       "        vertical-align: middle;\n",
       "    }\n",
       "\n",
       "    .dataframe tbody tr th {\n",
       "        vertical-align: top;\n",
       "    }\n",
       "\n",
       "    .dataframe thead th {\n",
       "        text-align: right;\n",
       "    }\n",
       "</style>\n",
       "<table border=\"1\" class=\"dataframe\">\n",
       "  <thead>\n",
       "    <tr style=\"text-align: right;\">\n",
       "      <th></th>\n",
       "      <th>ID</th>\n",
       "      <th>flock_number</th>\n",
       "      <th>body_development</th>\n",
       "      <th>reproduction_type</th>\n",
       "      <th>reproduction_execution</th>\n",
       "      <th>palpation_after</th>\n",
       "      <th>DIB_placement_count</th>\n",
       "      <th>DIB_extraction_count</th>\n",
       "      <th>success_insemination_count</th>\n",
       "      <th>fail_insemination_count</th>\n",
       "      <th>...</th>\n",
       "      <th>age</th>\n",
       "      <th>DIB_placement_converted</th>\n",
       "      <th>transformed_DIB_extraction</th>\n",
       "      <th>transformed_reproduction_released</th>\n",
       "      <th>success_reproduction_count</th>\n",
       "      <th>fail_reproduction_count</th>\n",
       "      <th>pregnant_after_count</th>\n",
       "      <th>empty_after_count</th>\n",
       "      <th>date_offset</th>\n",
       "      <th>season</th>\n",
       "    </tr>\n",
       "  </thead>\n",
       "  <tbody>\n",
       "    <tr>\n",
       "      <th>0</th>\n",
       "      <td>1</td>\n",
       "      <td>5</td>\n",
       "      <td>0.0</td>\n",
       "      <td>1</td>\n",
       "      <td>2014-01-09</td>\n",
       "      <td>1</td>\n",
       "      <td>0</td>\n",
       "      <td>0</td>\n",
       "      <td>0</td>\n",
       "      <td>0</td>\n",
       "      <td>...</td>\n",
       "      <td>11</td>\n",
       "      <td>0.0</td>\n",
       "      <td>0.0</td>\n",
       "      <td>1.0</td>\n",
       "      <td>0</td>\n",
       "      <td>0</td>\n",
       "      <td>0</td>\n",
       "      <td>0</td>\n",
       "      <td>1089.0</td>\n",
       "      <td>summer</td>\n",
       "    </tr>\n",
       "    <tr>\n",
       "      <th>1</th>\n",
       "      <td>2</td>\n",
       "      <td>9</td>\n",
       "      <td>0.0</td>\n",
       "      <td>0</td>\n",
       "      <td>2014-12-20</td>\n",
       "      <td>1</td>\n",
       "      <td>0</td>\n",
       "      <td>0</td>\n",
       "      <td>0</td>\n",
       "      <td>0</td>\n",
       "      <td>...</td>\n",
       "      <td>11</td>\n",
       "      <td>1.0</td>\n",
       "      <td>1.0</td>\n",
       "      <td>1.0</td>\n",
       "      <td>0</td>\n",
       "      <td>0</td>\n",
       "      <td>0</td>\n",
       "      <td>0</td>\n",
       "      <td>900.0</td>\n",
       "      <td>spring</td>\n",
       "    </tr>\n",
       "    <tr>\n",
       "      <th>2</th>\n",
       "      <td>3</td>\n",
       "      <td>35</td>\n",
       "      <td>0.0</td>\n",
       "      <td>1</td>\n",
       "      <td>2014-01-09</td>\n",
       "      <td>1</td>\n",
       "      <td>0</td>\n",
       "      <td>0</td>\n",
       "      <td>0</td>\n",
       "      <td>0</td>\n",
       "      <td>...</td>\n",
       "      <td>11</td>\n",
       "      <td>0.0</td>\n",
       "      <td>0.0</td>\n",
       "      <td>1.0</td>\n",
       "      <td>0</td>\n",
       "      <td>0</td>\n",
       "      <td>0</td>\n",
       "      <td>0</td>\n",
       "      <td>1089.0</td>\n",
       "      <td>summer</td>\n",
       "    </tr>\n",
       "    <tr>\n",
       "      <th>3</th>\n",
       "      <td>4</td>\n",
       "      <td>38</td>\n",
       "      <td>0.0</td>\n",
       "      <td>0</td>\n",
       "      <td>2014-12-20</td>\n",
       "      <td>1</td>\n",
       "      <td>0</td>\n",
       "      <td>0</td>\n",
       "      <td>0</td>\n",
       "      <td>0</td>\n",
       "      <td>...</td>\n",
       "      <td>11</td>\n",
       "      <td>1.0</td>\n",
       "      <td>1.0</td>\n",
       "      <td>1.0</td>\n",
       "      <td>0</td>\n",
       "      <td>0</td>\n",
       "      <td>0</td>\n",
       "      <td>0</td>\n",
       "      <td>900.0</td>\n",
       "      <td>spring</td>\n",
       "    </tr>\n",
       "    <tr>\n",
       "      <th>4</th>\n",
       "      <td>5</td>\n",
       "      <td>49</td>\n",
       "      <td>0.0</td>\n",
       "      <td>0</td>\n",
       "      <td>2014-12-20</td>\n",
       "      <td>1</td>\n",
       "      <td>0</td>\n",
       "      <td>0</td>\n",
       "      <td>0</td>\n",
       "      <td>0</td>\n",
       "      <td>...</td>\n",
       "      <td>11</td>\n",
       "      <td>1.0</td>\n",
       "      <td>1.0</td>\n",
       "      <td>0.0</td>\n",
       "      <td>0</td>\n",
       "      <td>0</td>\n",
       "      <td>0</td>\n",
       "      <td>0</td>\n",
       "      <td>900.0</td>\n",
       "      <td>spring</td>\n",
       "    </tr>\n",
       "  </tbody>\n",
       "</table>\n",
       "<p>5 rows × 26 columns</p>\n",
       "</div>"
      ],
      "text/plain": [
       "   ID  flock_number  body_development reproduction_type  \\\n",
       "0   1             5               0.0                 1   \n",
       "1   2             9               0.0                 0   \n",
       "2   3            35               0.0                 1   \n",
       "3   4            38               0.0                 0   \n",
       "4   5            49               0.0                 0   \n",
       "\n",
       "  reproduction_execution palpation_after  DIB_placement_count  \\\n",
       "0             2014-01-09               1                    0   \n",
       "1             2014-12-20               1                    0   \n",
       "2             2014-01-09               1                    0   \n",
       "3             2014-12-20               1                    0   \n",
       "4             2014-12-20               1                    0   \n",
       "\n",
       "   DIB_extraction_count  success_insemination_count  fail_insemination_count  \\\n",
       "0                     0                           0                        0   \n",
       "1                     0                           0                        0   \n",
       "2                     0                           0                        0   \n",
       "3                     0                           0                        0   \n",
       "4                     0                           0                        0   \n",
       "\n",
       "   ...  age  DIB_placement_converted  transformed_DIB_extraction  \\\n",
       "0  ...   11                      0.0                         0.0   \n",
       "1  ...   11                      1.0                         1.0   \n",
       "2  ...   11                      0.0                         0.0   \n",
       "3  ...   11                      1.0                         1.0   \n",
       "4  ...   11                      1.0                         1.0   \n",
       "\n",
       "   transformed_reproduction_released  success_reproduction_count  \\\n",
       "0                                1.0                           0   \n",
       "1                                1.0                           0   \n",
       "2                                1.0                           0   \n",
       "3                                1.0                           0   \n",
       "4                                0.0                           0   \n",
       "\n",
       "   fail_reproduction_count  pregnant_after_count  empty_after_count  \\\n",
       "0                        0                     0                  0   \n",
       "1                        0                     0                  0   \n",
       "2                        0                     0                  0   \n",
       "3                        0                     0                  0   \n",
       "4                        0                     0                  0   \n",
       "\n",
       "   date_offset  season  \n",
       "0       1089.0  summer  \n",
       "1        900.0  spring  \n",
       "2       1089.0  summer  \n",
       "3        900.0  spring  \n",
       "4        900.0  spring  \n",
       "\n",
       "[5 rows x 26 columns]"
      ]
     },
     "execution_count": 2,
     "metadata": {},
     "output_type": "execute_result"
    }
   ],
   "source": [
    "full = pd.read_csv('data/reproductions.csv')\n",
    "\n",
    "full['age'] = datetime.now().date().year - full['birth_year']\n",
    "\n",
    "full.loc[full['body_development'].isnull(),'body_development'] = 0\n",
    "\n",
    "full.loc[full['DIB_placement'].notnull(),'DIB_placement_converted'] = 1\n",
    "full.loc[full['DIB_placement'].isnull(),'DIB_placement_converted'] = 0\n",
    "\n",
    "full.loc[full['DIB_extraction'].notnull(),'transformed_DIB_extraction'] = 1\n",
    "full.loc[full['DIB_extraction'].isnull(),'transformed_DIB_extraction'] = 0\n",
    "\n",
    "full.loc[full.reproduction_type == 'Natural','reproduction_type'] = 1\n",
    "full.loc[full.reproduction_type == 'Inseminacion','reproduction_type'] = 0\n",
    "\n",
    "full.loc[full.palpation_after == 'Preñada','palpation_after'] = 1\n",
    "full.loc[full.palpation_after == 'preñada','palpation_after'] = 1\n",
    "full.loc[full.palpation_after == 'Vacia','palpation_after'] = 0\n",
    "full.loc[full.palpation_after == 'No Paso','palpation_after'] = 0\n",
    "full.loc[full.palpation_after == 'Sin Tacto','palpation_after'] = 0\n",
    "full.loc[full.palpation_after == 'vacia','palpation_after'] = 0\n",
    "\n",
    "full['body_development'] = full['body_development'].round()\n",
    "\n",
    "full.loc[full['reproduction_released'].notnull(),'transformed_reproduction_released'] = 1\n",
    "full.loc[full['reproduction_released'].isnull(),'transformed_reproduction_released'] = 0\n",
    "\n",
    "full['success_reproduction_count'] = full['success_insemination_count'] + full['success_natural_count']\n",
    "full['fail_reproduction_count'] = full['fail_insemination_count'] + full['fail_natural_count']\n",
    "\n",
    "full['pregnant_after_count'] = full['pregnant_after_insemination_count'] + full['pregnant_after_natural_count']\n",
    "full['empty_after_count'] = full['empty_after_natural_count'] + full['empty_after_insemination_count']\n",
    "\n",
    "full['reproduction_execution'] = pd.to_datetime(full.reproduction_execution)\n",
    "full['date_offset'] = (pd.DatetimeIndex(full.reproduction_execution).month*100 + pd.DatetimeIndex(full.reproduction_execution).day - 320)%1300\n",
    "full['season'] = pd.cut(full['date_offset'], [0, 300, 602, 900, 1300], \n",
    "                      labels=['autumn', 'winter', 'spring', 'summer'])\n",
    "\n",
    "full.drop(full.loc[full['reproduction_type'].isnull()].index, inplace=True)\n",
    "full.drop(full.loc[full['season'].isnull()].index, inplace=True)\n",
    "\n",
    "del full['palpation_before']\n",
    "del full['birth_year']\n",
    "del full['brood_sex']\n",
    "del full['CUT_before']\n",
    "del full['CUT_after']\n",
    "del full['DIB_placement']\n",
    "del full['DIB_extraction']\n",
    "del full['reproduction_released']\n",
    "\n",
    "full.head() "
   ]
  },
  {
   "cell_type": "markdown",
   "metadata": {},
   "source": [
    "### Porcentajes en los que dividimos el dataset\n",
    "- 60% train\n",
    "- 20% test\n",
    "- 20% validation"
   ]
  },
  {
   "cell_type": "code",
   "execution_count": 3,
   "metadata": {},
   "outputs": [
    {
     "data": {
      "text/plain": [
       "((1351, 26), (901, 26))"
      ]
     },
     "execution_count": 3,
     "metadata": {},
     "output_type": "execute_result"
    }
   ],
   "source": [
    "train, not_train = train_test_split(full, test_size=0.4)\n",
    "validation, test = train_test_split(not_train, test_size=0.5)\n",
    "train.shape, not_train.shape"
   ]
  },
  {
   "cell_type": "code",
   "execution_count": 4,
   "metadata": {},
   "outputs": [],
   "source": [
    "def evaluate_model(model, extract_inputs_function, extract_outputs_function, include_validation=False):\n",
    "    sets = [('train', train), ('test', test)]\n",
    "    if include_validation:\n",
    "        sets.append(('validation', validation))\n",
    "        \n",
    "    for set_name, set_data in sets:\n",
    "        inputs = extract_inputs_function(set_data)\n",
    "        outputs = extract_outputs_function(set_data)\n",
    "        predictions = model.predict(inputs)\n",
    "        \n",
    "        print(set_name, '#' * 80)\n",
    "        \n",
    "        # print metrics\n",
    "        \n",
    "        print('Accuracy:', accuracy_score(outputs, predictions))\n",
    "        print('Precision:', precision_score(outputs, predictions))\n",
    "        print('Recall:', recall_score(outputs, predictions))\n",
    "        print()\n",
    "        \n",
    "        # plot confussion matrix\n",
    "        \n",
    "        plt.figure(figsize=(3,4))\n",
    "        \n",
    "        plt.xticks([0, 1], ['reproduction unsuccessfull', 'reproduction successfull'], rotation=45)\n",
    "        plt.yticks([0, 1], ['reproduction unsuccessfull', 'reproduction successfull'])\n",
    "        \n",
    "        plt.xlabel('Predicted class')\n",
    "        plt.ylabel('True class')\n",
    "\n",
    "        plt.title(set_name)\n",
    "\n",
    "        plt.imshow(\n",
    "            confusion_matrix(outputs, predictions), \n",
    "            cmap=plt.cm.Blues, \n",
    "            interpolation='nearest',\n",
    "        )\n",
    "\n",
    "        plt.show()"
   ]
  },
  {
   "cell_type": "markdown",
   "metadata": {},
   "source": [
    "## Métricas\n",
    "En nuestro caso contamos con el set de datos balanceado, por lo que vamos a utilizar como una de las métrica **Accuracy**. Esta métrica es muy buena para la clacificación cuando el dataset está bien balanceado. También vamos a utilizar la metrica **Recall** ya que nos interesa encontrar **la mayor cantidad posible de casos positivos**."
   ]
  },
  {
   "cell_type": "markdown",
   "metadata": {},
   "source": [
    "## Primer modelo: Regresión logica"
   ]
  },
  {
   "cell_type": "code",
   "execution_count": 5,
   "metadata": {},
   "outputs": [],
   "source": [
    "from sklearn.linear_model import LogisticRegression\n",
    "from sklearn.preprocessing import StandardScaler\n",
    "from sklearn.pipeline import Pipeline"
   ]
  },
  {
   "cell_type": "code",
   "execution_count": 6,
   "metadata": {},
   "outputs": [],
   "source": [
    "# final input columns, in the order we want to use them\n",
    "LR_INPUT_COLUMNS = [\n",
    "    'age',\n",
    "    'body_development',\n",
    "    'DIB_placement_converted',\n",
    "    'season_autumn',\n",
    "    'season_winter',\n",
    "    'season_spring',\n",
    "    'season_summer',\n",
    "    #'success_reproduction_count',\n",
    "    'success_insemination_count',\n",
    "    'success_natural_count',\n",
    "    #'fail_reproduction_count',\n",
    "    'fail_insemination_count',\n",
    "    'fail_natural_count',\n",
    "    'pregnant_after_count',\n",
    "    'empty_after_count',\n",
    "]\n",
    "\n",
    "\n",
    "def lr_extract_inputs(dataset):\n",
    "    \"\"\"\n",
    "    Inputs in the format supported by the logistic regressor.\n",
    "    \"\"\"\n",
    "    # we don't want to modify the original dataset, that we will use with other models\n",
    "    inputs = dataset.copy()\n",
    "    \n",
    "    # season to numbers\n",
    "    inputs['season_autumn'] = inputs.season == 'autumn'\n",
    "    inputs['season_winter'] = inputs.season == 'winter'\n",
    "    inputs['season_spring'] = inputs.season == 'spring'\n",
    "    inputs['season_summer'] = inputs.season == 'summer'\n",
    "    del inputs['season']\n",
    "    \n",
    "    # return the raw numbers\n",
    "    return inputs[LR_INPUT_COLUMNS].values.astype(np.float64)\n",
    "\n",
    "def lr_extract_outputs(dataset):\n",
    "    \"\"\"\n",
    "    Outputs in the format supported by the logistic regressor.\n",
    "    \"\"\"\n",
    "    return dataset.transformed_reproduction_released.values"
   ]
  },
  {
   "cell_type": "code",
   "execution_count": 7,
   "metadata": {},
   "outputs": [],
   "source": [
    "lr_model = Pipeline([\n",
    "    ('scaler', StandardScaler()),\n",
    "    ('classifier', LogisticRegression()),\n",
    "])"
   ]
  },
  {
   "cell_type": "code",
   "execution_count": 8,
   "metadata": {},
   "outputs": [
    {
     "data": {
      "text/plain": [
       "Pipeline(steps=[('scaler', StandardScaler()),\n",
       "                ('classifier', LogisticRegression())])"
      ]
     },
     "execution_count": 8,
     "metadata": {},
     "output_type": "execute_result"
    }
   ],
   "source": [
    "lr_model.fit(\n",
    "    lr_extract_inputs(train),\n",
    "    lr_extract_outputs(train),\n",
    ")"
   ]
  },
  {
   "cell_type": "code",
   "execution_count": 9,
   "metadata": {},
   "outputs": [
    {
     "name": "stdout",
     "output_type": "stream",
     "text": [
      "train ################################################################################\n",
      "Accuracy: 0.6484085862324205\n",
      "Precision: 0.6703431372549019\n",
      "Recall: 0.7264276228419655\n",
      "\n"
     ]
    },
    {
     "data": {
      "image/png": "[encoded data removed]",
      "text/plain": [
       "<Figure size 216x288 with 1 Axes>"
      ]
     },
     "metadata": {
      "needs_background": "light"
     },
     "output_type": "display_data"
    },
    {
     "name": "stdout",
     "output_type": "stream",
     "text": [
      "test ################################################################################\n",
      "Accuracy: 0.6341463414634146\n",
      "Precision: 0.6844262295081968\n",
      "Recall: 0.6549019607843137\n",
      "\n"
     ]
    },
    {
     "data": {
      "image/png": "[encoded data removed]",
      "text/plain": [
       "<Figure size 216x288 with 1 Axes>"
      ]
     },
     "metadata": {
      "needs_background": "light"
     },
     "output_type": "display_data"
    }
   ],
   "source": [
    "evaluate_model(lr_model, lr_extract_inputs, lr_extract_outputs)"
   ]
  },
  {
   "cell_type": "code",
   "execution_count": 10,
   "metadata": {},
   "outputs": [
    {
     "data": {
      "text/plain": [
       "[('scaler', StandardScaler()), ('classifier', LogisticRegression())]"
      ]
     },
     "execution_count": 10,
     "metadata": {},
     "output_type": "execute_result"
    }
   ],
   "source": [
    "lr_model.steps"
   ]
  },
  {
   "cell_type": "code",
   "execution_count": 11,
   "metadata": {},
   "outputs": [
    {
     "data": {
      "text/plain": [
       "array([[-0.15664566,  0.14243029,  0.234515  , -0.25802273,  0.37882899,\n",
       "         0.04837266, -0.01932879,  0.06977899,  0.16198702, -0.19919018,\n",
       "        -0.46624661, -0.01944348,  0.41021434]])"
      ]
     },
     "execution_count": 11,
     "metadata": {},
     "output_type": "execute_result"
    }
   ],
   "source": [
    "clf = lr_model.steps[1][1]\n",
    "clf.coef_"
   ]
  },
  {
   "cell_type": "code",
   "execution_count": 12,
   "metadata": {},
   "outputs": [
    {
     "name": "stdout",
     "output_type": "stream",
     "text": [
      "age : -0.1566456584601627\n",
      "body_development : 0.14243028744579053\n",
      "DIB_placement_converted : 0.23451500181640325\n",
      "season_autumn : -0.25802272900984125\n",
      "season_winter : 0.37882898523290975\n",
      "season_spring : 0.04837266112334211\n",
      "season_summer : -0.01932879055859706\n",
      "success_insemination_count : 0.06977899189121947\n",
      "success_natural_count : 0.16198702068556073\n",
      "fail_insemination_count : -0.19919017915443823\n",
      "fail_natural_count : -0.4662466096989893\n",
      "pregnant_after_count : -0.01944348157909861\n",
      "empty_after_count : 0.41021434095762616\n"
     ]
    }
   ],
   "source": [
    "for col_name, weight in zip(LR_INPUT_COLUMNS, clf.coef_[0]):\n",
    "    print(col_name, ':', weight)"
   ]
  },
  {
   "cell_type": "markdown",
   "metadata": {},
   "source": [
    "### Conclusión\n",
    "En este modelo, utilizando las métricas mencionadas anteriormente, obtuvimos un 65% en Accuracy y un 72% en Recall en la validación. Aunque el Accuracy no es muy alto, lo vemos aceptable; ya que encontramos más de la mitad de los casos"
   ]
  },
  {
   "cell_type": "markdown",
   "metadata": {},
   "source": [
    "## Segundo modelo: K nearest neighbors"
   ]
  },
  {
   "cell_type": "code",
   "execution_count": 13,
   "metadata": {},
   "outputs": [],
   "source": [
    "from sklearn.neighbors import KNeighborsClassifier"
   ]
  },
  {
   "cell_type": "code",
   "execution_count": 14,
   "metadata": {},
   "outputs": [],
   "source": [
    "K = 100\n",
    "\n",
    "knn_model = Pipeline([\n",
    "    ('scaler', StandardScaler()),\n",
    "    ('classifier', KNeighborsClassifier(n_neighbors=K)),\n",
    "])"
   ]
  },
  {
   "cell_type": "code",
   "execution_count": 15,
   "metadata": {},
   "outputs": [
    {
     "data": {
      "text/plain": [
       "Pipeline(steps=[('scaler', StandardScaler()),\n",
       "                ('classifier', KNeighborsClassifier(n_neighbors=100))])"
      ]
     },
     "execution_count": 15,
     "metadata": {},
     "output_type": "execute_result"
    }
   ],
   "source": [
    "knn_model.fit(\n",
    "    lr_extract_inputs(train),\n",
    "    lr_extract_outputs(train),\n",
    ")"
   ]
  },
  {
   "cell_type": "code",
   "execution_count": 16,
   "metadata": {},
   "outputs": [
    {
     "name": "stdout",
     "output_type": "stream",
     "text": [
      "train ################################################################################\n",
      "Accuracy: 0.6476683937823834\n",
      "Precision: 0.6468716861081655\n",
      "Recall: 0.8100929614873837\n",
      "\n"
     ]
    },
    {
     "data": {
      "image/png": "[encoded data removed]",
      "text/plain": [
       "<Figure size 216x288 with 1 Axes>"
      ]
     },
     "metadata": {
      "needs_background": "light"
     },
     "output_type": "display_data"
    },
    {
     "name": "stdout",
     "output_type": "stream",
     "text": [
      "test ################################################################################\n",
      "Accuracy: 0.647450110864745\n",
      "Precision: 0.6558441558441559\n",
      "Recall: 0.792156862745098\n",
      "\n"
     ]
    },
    {
     "data": {
      "image/png": "[encoded data removed]",
      "text/plain": [
       "<Figure size 216x288 with 1 Axes>"
      ]
     },
     "metadata": {
      "needs_background": "light"
     },
     "output_type": "display_data"
    }
   ],
   "source": [
    "evaluate_model(knn_model, lr_extract_inputs, lr_extract_outputs)"
   ]
  },
  {
   "cell_type": "markdown",
   "metadata": {},
   "source": [
    "### Conclusión\n",
    "Al diferencia del modelo anterior, obtuvimos en validación un 60% en Accuracy (%3 menos), un poco menor, y un 80% en Recall (%4 más).\n",
    "\n",
    "Podemos obervar también que los resultados de la validación son casi identicos a los del entrenamiento, lo que nos da indicios de que el modelo se comporta de la misma forma con datos nuevos."
   ]
  },
  {
   "cell_type": "markdown",
   "metadata": {},
   "source": [
    "## Tercer modelo: Decision Trees"
   ]
  },
  {
   "cell_type": "code",
   "execution_count": 17,
   "metadata": {},
   "outputs": [],
   "source": [
    "from sklearn.tree import DecisionTreeClassifier"
   ]
  },
  {
   "cell_type": "code",
   "execution_count": 18,
   "metadata": {},
   "outputs": [],
   "source": [
    "# final input columns, in the order we want to use them\n",
    "TREE_INPUT_COLUMNS = [\n",
    "    'age',\n",
    "    'body_development',\n",
    "    'DIB_placement_converted',\n",
    "    'season',\n",
    "    #'success_reproduction_count',\n",
    "    'success_insemination_count',\n",
    "    'success_natural_count',\n",
    "    #'fail_reproduction_count',\n",
    "    'fail_insemination_count',\n",
    "    'fail_natural_count',\n",
    "    'pregnant_after_count',\n",
    "    'empty_after_count',\n",
    "]\n",
    "\n",
    "\n",
    "def tree_extract_inputs(dataset):\n",
    "    \"\"\"\n",
    "    Inputs in the format supported by the logistic regressor.\n",
    "    \"\"\"\n",
    "    # we don't want to modify the original dataset, that we will use with other models\n",
    "    inputs = dataset.copy()\n",
    "    \n",
    "    # season to labels\n",
    "    inputs['season'] = inputs.season.map({'autumn': 1, 'winter': 2, 'spring': 3, 'summer': 4})\n",
    "\n",
    "    # return the raw numbers\n",
    "    return inputs[TREE_INPUT_COLUMNS].values\n",
    "\n",
    "def tree_extract_outputs(dataset):\n",
    "    \"\"\"\n",
    "    Outputs in the format supported by the logistic regressor.\n",
    "    \"\"\"\n",
    "    return dataset.transformed_reproduction_released.values"
   ]
  },
  {
   "cell_type": "code",
   "execution_count": 19,
   "metadata": {},
   "outputs": [],
   "source": [
    "tree_model = DecisionTreeClassifier(max_depth=6)"
   ]
  },
  {
   "cell_type": "code",
   "execution_count": 20,
   "metadata": {},
   "outputs": [
    {
     "data": {
      "text/plain": [
       "DecisionTreeClassifier(max_depth=6)"
      ]
     },
     "execution_count": 20,
     "metadata": {},
     "output_type": "execute_result"
    }
   ],
   "source": [
    "tree_model.fit(\n",
    "    tree_extract_inputs(train),\n",
    "    tree_extract_outputs(train),\n",
    ")"
   ]
  },
  {
   "cell_type": "code",
   "execution_count": 21,
   "metadata": {},
   "outputs": [
    {
     "name": "stdout",
     "output_type": "stream",
     "text": [
      "train ################################################################################\n",
      "Accuracy: 0.6817172464840858\n",
      "Precision: 0.6845714285714286\n",
      "Recall: 0.795484727755644\n",
      "\n"
     ]
    },
    {
     "data": {
      "image/png": "[encoded data removed]",
      "text/plain": [
       "<Figure size 216x288 with 1 Axes>"
      ]
     },
     "metadata": {
      "needs_background": "light"
     },
     "output_type": "display_data"
    },
    {
     "name": "stdout",
     "output_type": "stream",
     "text": [
      "test ################################################################################\n",
      "Accuracy: 0.6541019955654102\n",
      "Precision: 0.6774193548387096\n",
      "Recall: 0.7411764705882353\n",
      "\n"
     ]
    },
    {
     "data": {
      "image/png": "[encoded data removed]",
      "text/plain": [
       "<Figure size 216x288 with 1 Axes>"
      ]
     },
     "metadata": {
      "needs_background": "light"
     },
     "output_type": "display_data"
    }
   ],
   "source": [
    "evaluate_model(tree_model, tree_extract_inputs, tree_extract_outputs)"
   ]
  },
  {
   "cell_type": "markdown",
   "metadata": {},
   "source": [
    "#### Conclusión\n",
    "En este modelo podemos observar que obtuvimos resultados mejores que con los dos anteriores. Podemos agrear que son más fáciles de sobrenrenar que la regresión lineal y el K-NN, ya que tuvimos que configurarlo con una profundidad máxima de 6 niveles porque arrojaba resultados por encima del 99% en el train y en el validation solo llegabamos al 60 %"
   ]
  },
  {
   "cell_type": "markdown",
   "metadata": {},
   "source": [
    "## Cuarto modelo: Random Forests"
   ]
  },
  {
   "cell_type": "code",
   "execution_count": 22,
   "metadata": {},
   "outputs": [],
   "source": [
    "from sklearn.ensemble import RandomForestClassifier"
   ]
  },
  {
   "cell_type": "code",
   "execution_count": 23,
   "metadata": {},
   "outputs": [],
   "source": [
    "forest_model = RandomForestClassifier(max_depth=6)\n",
    "# n_estimators? max_depth=3?, max_features=2?"
   ]
  },
  {
   "cell_type": "code",
   "execution_count": 24,
   "metadata": {},
   "outputs": [
    {
     "data": {
      "text/plain": [
       "RandomForestClassifier(max_depth=6)"
      ]
     },
     "execution_count": 24,
     "metadata": {},
     "output_type": "execute_result"
    }
   ],
   "source": [
    "forest_model.fit(\n",
    "    tree_extract_inputs(train),\n",
    "    tree_extract_outputs(train),\n",
    ")"
   ]
  },
  {
   "cell_type": "code",
   "execution_count": 25,
   "metadata": {
    "scrolled": false
   },
   "outputs": [
    {
     "name": "stdout",
     "output_type": "stream",
     "text": [
      "train ################################################################################\n",
      "Accuracy: 0.7150259067357513\n",
      "Precision: 0.6932773109243697\n",
      "Recall: 0.8764940239043825\n",
      "\n"
     ]
    },
    {
     "data": {
      "image/png": "[encoded data removed]",
      "text/plain": [
       "<Figure size 216x288 with 1 Axes>"
      ]
     },
     "metadata": {
      "needs_background": "light"
     },
     "output_type": "display_data"
    },
    {
     "name": "stdout",
     "output_type": "stream",
     "text": [
      "test ################################################################################\n",
      "Accuracy: 0.6873614190687362\n",
      "Precision: 0.6838709677419355\n",
      "Recall: 0.8313725490196079\n",
      "\n"
     ]
    },
    {
     "data": {
      "image/png": "[encoded data removed]",
      "text/plain": [
       "<Figure size 216x288 with 1 Axes>"
      ]
     },
     "metadata": {
      "needs_background": "light"
     },
     "output_type": "display_data"
    }
   ],
   "source": [
    "evaluate_model(forest_model, tree_extract_inputs, tree_extract_outputs)"
   ]
  },
  {
   "cell_type": "markdown",
   "metadata": {},
   "source": [
    "#### Conclusión\n",
    "Al igual que en el modelo anterior, obtuvimos resultados de Accuracy mejores que con la regresión lineal y el K-NN. Con resultados del 70% con Accuracy y 81 % con Recall concluimos que este modelo es menos conveniente que los anteriores."
   ]
  },
  {
   "cell_type": "markdown",
   "metadata": {},
   "source": [
    "## Fifth model: Gradient Boosted Trees"
   ]
  },
  {
   "cell_type": "code",
   "execution_count": 26,
   "metadata": {},
   "outputs": [],
   "source": [
    "from sklearn.ensemble import GradientBoostingClassifier"
   ]
  },
  {
   "cell_type": "code",
   "execution_count": 27,
   "metadata": {},
   "outputs": [],
   "source": [
    "boost_model = GradientBoostingClassifier()"
   ]
  },
  {
   "cell_type": "code",
   "execution_count": 28,
   "metadata": {},
   "outputs": [
    {
     "data": {
      "text/plain": [
       "GradientBoostingClassifier()"
      ]
     },
     "execution_count": 28,
     "metadata": {},
     "output_type": "execute_result"
    }
   ],
   "source": [
    "boost_model.fit(\n",
    "    tree_extract_inputs(train),\n",
    "    tree_extract_outputs(train),\n",
    ")"
   ]
  },
  {
   "cell_type": "code",
   "execution_count": 29,
   "metadata": {
    "scrolled": false
   },
   "outputs": [
    {
     "name": "stdout",
     "output_type": "stream",
     "text": [
      "train ################################################################################\n",
      "Accuracy: 0.7194670614359734\n",
      "Precision: 0.7101123595505618\n",
      "Recall: 0.8393094289508632\n",
      "\n"
     ]
    },
    {
     "data": {
      "image/png": "[encoded data removed]",
      "text/plain": [
       "<Figure size 216x288 with 1 Axes>"
      ]
     },
     "metadata": {
      "needs_background": "light"
     },
     "output_type": "display_data"
    },
    {
     "name": "stdout",
     "output_type": "stream",
     "text": [
      "test ################################################################################\n",
      "Accuracy: 0.6940133037694013\n",
      "Precision: 0.6983050847457627\n",
      "Recall: 0.807843137254902\n",
      "\n"
     ]
    },
    {
     "data": {
      "image/png": "[encoded data removed]",
      "text/plain": [
       "<Figure size 216x288 with 1 Axes>"
      ]
     },
     "metadata": {
      "needs_background": "light"
     },
     "output_type": "display_data"
    }
   ],
   "source": [
    "evaluate_model(boost_model, tree_extract_inputs, tree_extract_outputs)"
   ]
  },
  {
   "cell_type": "markdown",
   "metadata": {},
   "source": [
    "#### Conclusión\n",
    "Al igual que en el modelo anterior, obtuvimos resultados de Accuracy mejores que con la regresión lineal y el K-NN. Con resultados del 71% con Accuracy y 84 % con Recall concluimos que este modelo es menos conveniente que los anteriores."
   ]
  },
  {
   "cell_type": "markdown",
   "metadata": {},
   "source": [
    "## Sexto modelo: Neural Networks"
   ]
  },
  {
   "cell_type": "code",
   "execution_count": 30,
   "metadata": {},
   "outputs": [],
   "source": [
    "from keras.models import Sequential\n",
    "from keras.layers import Dense, Activation, Input, Dropout"
   ]
  },
  {
   "cell_type": "code",
   "execution_count": 31,
   "metadata": {},
   "outputs": [],
   "source": [
    "nn_model = Sequential([   \n",
    "    Dense(50, input_shape=(len(LR_INPUT_COLUMNS), )),\n",
    "    Activation('tanh'),\n",
    "    \n",
    "    # Dropout(0.1),\n",
    "\n",
    "    Dense(50),\n",
    "    Activation('tanh'),\n",
    "    \n",
    "    # Dropout(0.1),\n",
    "\n",
    "    Dense(1),\n",
    "    Activation('sigmoid'),\n",
    "])\n",
    "\n",
    "nn_model.compile(\n",
    "    optimizer='adam',\n",
    "    loss='binary_crossentropy',\n",
    "    metrics=['accuracy',],\n",
    ")"
   ]
  },
  {
   "cell_type": "code",
   "execution_count": 32,
   "metadata": {
    "scrolled": true
   },
   "outputs": [
    {
     "name": "stdout",
     "output_type": "stream",
     "text": [
      "Epoch 1/500\n",
      "11/11 [==============================] - 0s 14ms/step - loss: 0.7063 - accuracy: 0.5270 - val_loss: 0.6902 - val_accuracy: 0.5654\n",
      "Epoch 2/500\n",
      "11/11 [==============================] - 0s 5ms/step - loss: 0.6863 - accuracy: 0.5514 - val_loss: 0.6822 - val_accuracy: 0.5831\n",
      "Epoch 3/500\n",
      "11/11 [==============================] - 0s 2ms/step - loss: 0.6795 - accuracy: 0.5744 - val_loss: 0.6749 - val_accuracy: 0.5632\n",
      "Epoch 4/500\n",
      "11/11 [==============================] - 0s 4ms/step - loss: 0.6780 - accuracy: 0.5603 - val_loss: 0.6737 - val_accuracy: 0.5654\n",
      "Epoch 5/500\n",
      "11/11 [==============================] - 0s 3ms/step - loss: 0.6721 - accuracy: 0.5766 - val_loss: 0.6657 - val_accuracy: 0.5765\n",
      "Epoch 6/500\n",
      "11/11 [==============================] - 0s 4ms/step - loss: 0.6671 - accuracy: 0.5855 - val_loss: 0.6601 - val_accuracy: 0.6075\n",
      "Epoch 7/500\n",
      "11/11 [==============================] - 0s 4ms/step - loss: 0.6631 - accuracy: 0.6055 - val_loss: 0.6553 - val_accuracy: 0.5898\n",
      "Epoch 8/500\n",
      "11/11 [==============================] - 0s 3ms/step - loss: 0.6578 - accuracy: 0.6181 - val_loss: 0.6517 - val_accuracy: 0.6142\n",
      "Epoch 9/500\n",
      "11/11 [==============================] - 0s 4ms/step - loss: 0.6535 - accuracy: 0.6292 - val_loss: 0.6488 - val_accuracy: 0.6186\n",
      "Epoch 10/500\n",
      "11/11 [==============================] - 0s 3ms/step - loss: 0.6512 - accuracy: 0.6343 - val_loss: 0.6454 - val_accuracy: 0.6430\n",
      "Epoch 11/500\n",
      "11/11 [==============================] - 0s 4ms/step - loss: 0.6468 - accuracy: 0.6410 - val_loss: 0.6437 - val_accuracy: 0.6475\n",
      "Epoch 12/500\n",
      "11/11 [==============================] - 0s 3ms/step - loss: 0.6451 - accuracy: 0.6477 - val_loss: 0.6453 - val_accuracy: 0.6341\n",
      "Epoch 13/500\n",
      "11/11 [==============================] - 0s 3ms/step - loss: 0.6431 - accuracy: 0.6380 - val_loss: 0.6400 - val_accuracy: 0.6452\n",
      "Epoch 14/500\n",
      "11/11 [==============================] - 0s 3ms/step - loss: 0.6404 - accuracy: 0.6403 - val_loss: 0.6386 - val_accuracy: 0.6563\n",
      "Epoch 15/500\n",
      "11/11 [==============================] - 0s 4ms/step - loss: 0.6408 - accuracy: 0.6447 - val_loss: 0.6395 - val_accuracy: 0.6364\n",
      "Epoch 16/500\n",
      "11/11 [==============================] - 0s 3ms/step - loss: 0.6368 - accuracy: 0.6388 - val_loss: 0.6401 - val_accuracy: 0.6297\n",
      "Epoch 17/500\n",
      "11/11 [==============================] - 0s 3ms/step - loss: 0.6364 - accuracy: 0.6403 - val_loss: 0.6367 - val_accuracy: 0.6497\n",
      "Epoch 18/500\n",
      "11/11 [==============================] - 0s 4ms/step - loss: 0.6382 - accuracy: 0.6432 - val_loss: 0.6380 - val_accuracy: 0.6541\n",
      "Epoch 19/500\n",
      "11/11 [==============================] - 0s 3ms/step - loss: 0.6371 - accuracy: 0.6469 - val_loss: 0.6443 - val_accuracy: 0.6253\n",
      "Epoch 20/500\n",
      "11/11 [==============================] - 0s 4ms/step - loss: 0.6401 - accuracy: 0.6336 - val_loss: 0.6423 - val_accuracy: 0.6364\n",
      "Epoch 21/500\n",
      "11/11 [==============================] - 0s 3ms/step - loss: 0.6374 - accuracy: 0.6447 - val_loss: 0.6371 - val_accuracy: 0.6497\n",
      "Epoch 22/500\n",
      "11/11 [==============================] - 0s 3ms/step - loss: 0.6360 - accuracy: 0.6440 - val_loss: 0.6427 - val_accuracy: 0.6430\n",
      "Epoch 23/500\n",
      "11/11 [==============================] - 0s 3ms/step - loss: 0.6288 - accuracy: 0.6469 - val_loss: 0.6357 - val_accuracy: 0.6497\n",
      "Epoch 24/500\n",
      "11/11 [==============================] - 0s 4ms/step - loss: 0.6281 - accuracy: 0.6580 - val_loss: 0.6389 - val_accuracy: 0.6475\n",
      "Epoch 25/500\n",
      "11/11 [==============================] - 0s 3ms/step - loss: 0.6279 - accuracy: 0.6521 - val_loss: 0.6347 - val_accuracy: 0.6585\n",
      "Epoch 26/500\n",
      "11/11 [==============================] - 0s 3ms/step - loss: 0.6283 - accuracy: 0.6632 - val_loss: 0.6355 - val_accuracy: 0.6563\n",
      "Epoch 27/500\n",
      "11/11 [==============================] - 0s 3ms/step - loss: 0.6277 - accuracy: 0.6521 - val_loss: 0.6413 - val_accuracy: 0.6364\n",
      "Epoch 28/500\n",
      "11/11 [==============================] - 0s 4ms/step - loss: 0.6248 - accuracy: 0.6691 - val_loss: 0.6345 - val_accuracy: 0.6585\n",
      "Epoch 29/500\n",
      "11/11 [==============================] - 0s 3ms/step - loss: 0.6253 - accuracy: 0.6580 - val_loss: 0.6390 - val_accuracy: 0.6452\n",
      "Epoch 30/500\n",
      "11/11 [==============================] - 0s 4ms/step - loss: 0.6241 - accuracy: 0.6573 - val_loss: 0.6344 - val_accuracy: 0.6652\n",
      "Epoch 31/500\n",
      "11/11 [==============================] - 0s 3ms/step - loss: 0.6225 - accuracy: 0.6521 - val_loss: 0.6448 - val_accuracy: 0.6341\n",
      "Epoch 32/500\n",
      "11/11 [==============================] - 0s 3ms/step - loss: 0.6284 - accuracy: 0.6669 - val_loss: 0.6339 - val_accuracy: 0.6585\n",
      "Epoch 33/500\n",
      "11/11 [==============================] - 0s 4ms/step - loss: 0.6296 - accuracy: 0.6595 - val_loss: 0.6337 - val_accuracy: 0.6519\n",
      "Epoch 34/500\n",
      "11/11 [==============================] - 0s 3ms/step - loss: 0.6245 - accuracy: 0.6580 - val_loss: 0.6442 - val_accuracy: 0.6364\n",
      "Epoch 35/500\n",
      "11/11 [==============================] - 0s 4ms/step - loss: 0.6222 - accuracy: 0.6684 - val_loss: 0.6337 - val_accuracy: 0.6652\n",
      "Epoch 36/500\n",
      "11/11 [==============================] - 0s 3ms/step - loss: 0.6199 - accuracy: 0.6654 - val_loss: 0.6324 - val_accuracy: 0.6585\n",
      "Epoch 37/500\n",
      "11/11 [==============================] - 0s 3ms/step - loss: 0.6197 - accuracy: 0.6669 - val_loss: 0.6336 - val_accuracy: 0.6430\n",
      "Epoch 38/500\n",
      "11/11 [==============================] - 0s 4ms/step - loss: 0.6269 - accuracy: 0.6640 - val_loss: 0.6438 - val_accuracy: 0.6319\n",
      "Epoch 39/500\n",
      "11/11 [==============================] - 0s 3ms/step - loss: 0.6283 - accuracy: 0.6336 - val_loss: 0.6324 - val_accuracy: 0.6652\n",
      "Epoch 40/500\n",
      "11/11 [==============================] - 0s 4ms/step - loss: 0.6256 - accuracy: 0.6521 - val_loss: 0.6347 - val_accuracy: 0.6341\n",
      "Epoch 41/500\n",
      "11/11 [==============================] - 0s 3ms/step - loss: 0.6171 - accuracy: 0.6647 - val_loss: 0.6294 - val_accuracy: 0.6563\n",
      "Epoch 42/500\n",
      "11/11 [==============================] - 0s 4ms/step - loss: 0.6170 - accuracy: 0.6751 - val_loss: 0.6308 - val_accuracy: 0.6585\n",
      "Epoch 43/500\n",
      "11/11 [==============================] - 0s 4ms/step - loss: 0.6164 - accuracy: 0.6640 - val_loss: 0.6319 - val_accuracy: 0.6452\n",
      "Epoch 44/500\n",
      "11/11 [==============================] - 0s 3ms/step - loss: 0.6150 - accuracy: 0.6788 - val_loss: 0.6288 - val_accuracy: 0.6519\n",
      "Epoch 45/500\n",
      "11/11 [==============================] - 0s 3ms/step - loss: 0.6161 - accuracy: 0.6632 - val_loss: 0.6323 - val_accuracy: 0.6408\n",
      "Epoch 46/500\n",
      "11/11 [==============================] - 0s 4ms/step - loss: 0.6148 - accuracy: 0.6802 - val_loss: 0.6275 - val_accuracy: 0.6541\n",
      "Epoch 47/500\n",
      "11/11 [==============================] - 0s 4ms/step - loss: 0.6141 - accuracy: 0.6758 - val_loss: 0.6306 - val_accuracy: 0.6386\n",
      "Epoch 48/500\n",
      "11/11 [==============================] - 0s 3ms/step - loss: 0.6131 - accuracy: 0.6662 - val_loss: 0.6306 - val_accuracy: 0.6452\n",
      "Epoch 49/500\n",
      "11/11 [==============================] - 0s 4ms/step - loss: 0.6111 - accuracy: 0.6795 - val_loss: 0.6281 - val_accuracy: 0.6452\n",
      "Epoch 50/500\n",
      "11/11 [==============================] - 0s 3ms/step - loss: 0.6139 - accuracy: 0.6699 - val_loss: 0.6312 - val_accuracy: 0.6364\n",
      "Epoch 51/500\n",
      "11/11 [==============================] - 0s 3ms/step - loss: 0.6106 - accuracy: 0.6751 - val_loss: 0.6268 - val_accuracy: 0.6563\n",
      "Epoch 52/500\n",
      "11/11 [==============================] - 0s 3ms/step - loss: 0.6102 - accuracy: 0.6721 - val_loss: 0.6241 - val_accuracy: 0.6497\n",
      "Epoch 53/500\n",
      "11/11 [==============================] - 0s 3ms/step - loss: 0.6091 - accuracy: 0.6810 - val_loss: 0.6261 - val_accuracy: 0.6608\n",
      "Epoch 54/500\n",
      "11/11 [==============================] - 0s 3ms/step - loss: 0.6088 - accuracy: 0.6728 - val_loss: 0.6246 - val_accuracy: 0.6430\n",
      "Epoch 55/500\n",
      "11/11 [==============================] - 0s 4ms/step - loss: 0.6103 - accuracy: 0.6728 - val_loss: 0.6262 - val_accuracy: 0.6630\n",
      "Epoch 56/500\n",
      "11/11 [==============================] - 0s 3ms/step - loss: 0.6070 - accuracy: 0.6847 - val_loss: 0.6233 - val_accuracy: 0.6475\n",
      "Epoch 57/500\n",
      "11/11 [==============================] - 0s 4ms/step - loss: 0.6106 - accuracy: 0.6743 - val_loss: 0.6246 - val_accuracy: 0.6608\n",
      "Epoch 58/500\n",
      "11/11 [==============================] - 0s 4ms/step - loss: 0.6065 - accuracy: 0.6788 - val_loss: 0.6282 - val_accuracy: 0.6408\n"
     ]
    },
    {
     "name": "stdout",
     "output_type": "stream",
     "text": [
      "Epoch 59/500\n",
      "11/11 [==============================] - 0s 4ms/step - loss: 0.6088 - accuracy: 0.6788 - val_loss: 0.6240 - val_accuracy: 0.6497\n",
      "Epoch 60/500\n",
      "11/11 [==============================] - 0s 3ms/step - loss: 0.6120 - accuracy: 0.6691 - val_loss: 0.6258 - val_accuracy: 0.6674\n",
      "Epoch 61/500\n",
      "11/11 [==============================] - 0s 2ms/step - loss: 0.6074 - accuracy: 0.6854 - val_loss: 0.6510 - val_accuracy: 0.6231\n",
      "Epoch 62/500\n",
      "11/11 [==============================] - 0s 4ms/step - loss: 0.6083 - accuracy: 0.6743 - val_loss: 0.6210 - val_accuracy: 0.6696\n",
      "Epoch 63/500\n",
      "11/11 [==============================] - 0s 3ms/step - loss: 0.6056 - accuracy: 0.6788 - val_loss: 0.6268 - val_accuracy: 0.6497\n",
      "Epoch 64/500\n",
      "11/11 [==============================] - 0s 3ms/step - loss: 0.6035 - accuracy: 0.6839 - val_loss: 0.6235 - val_accuracy: 0.6475\n",
      "Epoch 65/500\n",
      "11/11 [==============================] - 0s 3ms/step - loss: 0.6028 - accuracy: 0.6891 - val_loss: 0.6293 - val_accuracy: 0.6408\n",
      "Epoch 66/500\n",
      "11/11 [==============================] - 0s 2ms/step - loss: 0.6009 - accuracy: 0.6795 - val_loss: 0.6220 - val_accuracy: 0.6763\n",
      "Epoch 67/500\n",
      "11/11 [==============================] - 0s 3ms/step - loss: 0.6063 - accuracy: 0.6728 - val_loss: 0.6239 - val_accuracy: 0.6408\n",
      "Epoch 68/500\n",
      "11/11 [==============================] - 0s 3ms/step - loss: 0.6013 - accuracy: 0.6862 - val_loss: 0.6200 - val_accuracy: 0.6497\n",
      "Epoch 69/500\n",
      "11/11 [==============================] - 0s 3ms/step - loss: 0.5993 - accuracy: 0.6854 - val_loss: 0.6230 - val_accuracy: 0.6541\n",
      "Epoch 70/500\n",
      "11/11 [==============================] - 0s 4ms/step - loss: 0.5993 - accuracy: 0.6869 - val_loss: 0.6206 - val_accuracy: 0.6475\n",
      "Epoch 71/500\n",
      "11/11 [==============================] - 0s 3ms/step - loss: 0.5993 - accuracy: 0.6943 - val_loss: 0.6241 - val_accuracy: 0.6364\n",
      "Epoch 72/500\n",
      "11/11 [==============================] - 0s 4ms/step - loss: 0.5979 - accuracy: 0.6854 - val_loss: 0.6198 - val_accuracy: 0.6608\n",
      "Epoch 73/500\n",
      "11/11 [==============================] - 0s 3ms/step - loss: 0.5975 - accuracy: 0.6921 - val_loss: 0.6201 - val_accuracy: 0.6541\n",
      "Epoch 74/500\n",
      "11/11 [==============================] - 0s 3ms/step - loss: 0.5965 - accuracy: 0.6936 - val_loss: 0.6192 - val_accuracy: 0.6585\n",
      "Epoch 75/500\n",
      "11/11 [==============================] - 0s 4ms/step - loss: 0.5957 - accuracy: 0.6906 - val_loss: 0.6222 - val_accuracy: 0.6519\n",
      "Epoch 76/500\n",
      "11/11 [==============================] - 0s 3ms/step - loss: 0.5965 - accuracy: 0.6876 - val_loss: 0.6206 - val_accuracy: 0.6585\n",
      "Epoch 77/500\n",
      "11/11 [==============================] - 0s 3ms/step - loss: 0.5961 - accuracy: 0.6899 - val_loss: 0.6209 - val_accuracy: 0.6585\n",
      "Epoch 78/500\n",
      "11/11 [==============================] - 0s 3ms/step - loss: 0.5940 - accuracy: 0.6899 - val_loss: 0.6194 - val_accuracy: 0.6497\n",
      "Epoch 79/500\n",
      "11/11 [==============================] - 0s 3ms/step - loss: 0.5937 - accuracy: 0.6876 - val_loss: 0.6180 - val_accuracy: 0.6585\n",
      "Epoch 80/500\n",
      "11/11 [==============================] - 0s 4ms/step - loss: 0.5935 - accuracy: 0.6943 - val_loss: 0.6170 - val_accuracy: 0.6608\n",
      "Epoch 81/500\n",
      "11/11 [==============================] - 0s 3ms/step - loss: 0.5928 - accuracy: 0.6936 - val_loss: 0.6204 - val_accuracy: 0.6497\n",
      "Epoch 82/500\n",
      "11/11 [==============================] - 0s 3ms/step - loss: 0.5935 - accuracy: 0.6928 - val_loss: 0.6204 - val_accuracy: 0.6475\n",
      "Epoch 83/500\n",
      "11/11 [==============================] - 0s 3ms/step - loss: 0.5916 - accuracy: 0.6891 - val_loss: 0.6177 - val_accuracy: 0.6519\n",
      "Epoch 84/500\n",
      "11/11 [==============================] - 0s 4ms/step - loss: 0.5927 - accuracy: 0.6936 - val_loss: 0.6186 - val_accuracy: 0.6497\n",
      "Epoch 85/500\n",
      "11/11 [==============================] - 0s 3ms/step - loss: 0.5928 - accuracy: 0.6921 - val_loss: 0.6175 - val_accuracy: 0.6519\n",
      "Epoch 86/500\n",
      "11/11 [==============================] - 0s 3ms/step - loss: 0.5914 - accuracy: 0.6839 - val_loss: 0.6172 - val_accuracy: 0.6541\n",
      "Epoch 87/500\n",
      "11/11 [==============================] - 0s 3ms/step - loss: 0.5910 - accuracy: 0.6936 - val_loss: 0.6167 - val_accuracy: 0.6541\n",
      "Epoch 88/500\n",
      "11/11 [==============================] - 0s 3ms/step - loss: 0.5911 - accuracy: 0.6825 - val_loss: 0.6191 - val_accuracy: 0.6630\n",
      "Epoch 89/500\n",
      "11/11 [==============================] - 0s 3ms/step - loss: 0.5884 - accuracy: 0.6921 - val_loss: 0.6247 - val_accuracy: 0.6319\n",
      "Epoch 90/500\n",
      "11/11 [==============================] - 0s 3ms/step - loss: 0.5894 - accuracy: 0.6862 - val_loss: 0.6145 - val_accuracy: 0.6652\n",
      "Epoch 91/500\n",
      "11/11 [==============================] - 0s 3ms/step - loss: 0.5912 - accuracy: 0.6743 - val_loss: 0.6170 - val_accuracy: 0.6608\n",
      "Epoch 92/500\n",
      "11/11 [==============================] - 0s 3ms/step - loss: 0.5909 - accuracy: 0.6958 - val_loss: 0.6202 - val_accuracy: 0.6497\n",
      "Epoch 93/500\n",
      "11/11 [==============================] - 0s 3ms/step - loss: 0.5850 - accuracy: 0.6884 - val_loss: 0.6197 - val_accuracy: 0.6608\n",
      "Epoch 94/500\n",
      "11/11 [==============================] - 0s 4ms/step - loss: 0.5939 - accuracy: 0.6795 - val_loss: 0.6261 - val_accuracy: 0.6364\n",
      "Epoch 95/500\n",
      "11/11 [==============================] - 0s 3ms/step - loss: 0.5866 - accuracy: 0.6891 - val_loss: 0.6169 - val_accuracy: 0.6652\n",
      "Epoch 96/500\n",
      "11/11 [==============================] - 0s 3ms/step - loss: 0.5874 - accuracy: 0.6928 - val_loss: 0.6156 - val_accuracy: 0.6608\n",
      "Epoch 97/500\n",
      "11/11 [==============================] - 0s 3ms/step - loss: 0.5855 - accuracy: 0.6891 - val_loss: 0.6185 - val_accuracy: 0.6519\n",
      "Epoch 98/500\n",
      "11/11 [==============================] - 0s 3ms/step - loss: 0.5839 - accuracy: 0.7017 - val_loss: 0.6172 - val_accuracy: 0.6541\n",
      "Epoch 99/500\n",
      "11/11 [==============================] - 0s 4ms/step - loss: 0.5860 - accuracy: 0.6906 - val_loss: 0.6207 - val_accuracy: 0.6452\n",
      "Epoch 100/500\n",
      "11/11 [==============================] - 0s 3ms/step - loss: 0.5844 - accuracy: 0.6906 - val_loss: 0.6190 - val_accuracy: 0.6452\n",
      "Epoch 101/500\n",
      "11/11 [==============================] - 0s 8ms/step - loss: 0.5831 - accuracy: 0.6943 - val_loss: 0.6175 - val_accuracy: 0.6519\n",
      "Epoch 102/500\n",
      "11/11 [==============================] - 0s 4ms/step - loss: 0.5828 - accuracy: 0.6936 - val_loss: 0.6154 - val_accuracy: 0.6497\n",
      "Epoch 103/500\n",
      "11/11 [==============================] - 0s 4ms/step - loss: 0.5825 - accuracy: 0.7002 - val_loss: 0.6170 - val_accuracy: 0.6497\n",
      "Epoch 104/500\n",
      "11/11 [==============================] - 0s 3ms/step - loss: 0.5846 - accuracy: 0.7017 - val_loss: 0.6181 - val_accuracy: 0.6563\n",
      "Epoch 105/500\n",
      "11/11 [==============================] - 0s 4ms/step - loss: 0.5890 - accuracy: 0.6862 - val_loss: 0.6246 - val_accuracy: 0.6763\n",
      "Epoch 106/500\n",
      "11/11 [==============================] - 0s 4ms/step - loss: 0.5864 - accuracy: 0.6869 - val_loss: 0.6171 - val_accuracy: 0.6475\n",
      "Epoch 107/500\n",
      "11/11 [==============================] - 0s 4ms/step - loss: 0.5794 - accuracy: 0.7017 - val_loss: 0.6153 - val_accuracy: 0.6475\n",
      "Epoch 108/500\n",
      "11/11 [==============================] - 0s 3ms/step - loss: 0.5788 - accuracy: 0.6958 - val_loss: 0.6150 - val_accuracy: 0.6452\n",
      "Epoch 109/500\n",
      "11/11 [==============================] - 0s 4ms/step - loss: 0.5815 - accuracy: 0.6876 - val_loss: 0.6180 - val_accuracy: 0.6585\n",
      "Epoch 110/500\n",
      "11/11 [==============================] - 0s 4ms/step - loss: 0.5841 - accuracy: 0.6839 - val_loss: 0.6247 - val_accuracy: 0.6208\n",
      "Epoch 111/500\n",
      "11/11 [==============================] - 0s 3ms/step - loss: 0.5780 - accuracy: 0.6899 - val_loss: 0.6148 - val_accuracy: 0.6475\n",
      "Epoch 112/500\n",
      "11/11 [==============================] - 0s 3ms/step - loss: 0.5767 - accuracy: 0.6921 - val_loss: 0.6163 - val_accuracy: 0.6452\n",
      "Epoch 113/500\n",
      "11/11 [==============================] - 0s 3ms/step - loss: 0.5760 - accuracy: 0.6928 - val_loss: 0.6151 - val_accuracy: 0.6519\n",
      "Epoch 114/500\n",
      "11/11 [==============================] - 0s 3ms/step - loss: 0.5757 - accuracy: 0.6921 - val_loss: 0.6188 - val_accuracy: 0.6341\n",
      "Epoch 115/500\n",
      "11/11 [==============================] - 0s 3ms/step - loss: 0.5807 - accuracy: 0.6825 - val_loss: 0.6156 - val_accuracy: 0.6585\n",
      "Epoch 116/500\n"
     ]
    },
    {
     "name": "stdout",
     "output_type": "stream",
     "text": [
      "11/11 [==============================] - ETA: 0s - loss: 0.5403 - accuracy: 0.78 - 0s 4ms/step - loss: 0.5743 - accuracy: 0.6995 - val_loss: 0.6171 - val_accuracy: 0.6386\n",
      "Epoch 117/500\n",
      "11/11 [==============================] - 0s 4ms/step - loss: 0.5746 - accuracy: 0.6913 - val_loss: 0.6184 - val_accuracy: 0.6475\n",
      "Epoch 118/500\n",
      "11/11 [==============================] - 0s 4ms/step - loss: 0.5733 - accuracy: 0.6913 - val_loss: 0.6173 - val_accuracy: 0.6475\n",
      "Epoch 119/500\n",
      "11/11 [==============================] - 0s 4ms/step - loss: 0.5728 - accuracy: 0.6928 - val_loss: 0.6178 - val_accuracy: 0.6475\n",
      "Epoch 120/500\n",
      "11/11 [==============================] - 0s 3ms/step - loss: 0.5728 - accuracy: 0.6958 - val_loss: 0.6200 - val_accuracy: 0.6408\n",
      "Epoch 121/500\n",
      "11/11 [==============================] - 0s 4ms/step - loss: 0.5774 - accuracy: 0.7024 - val_loss: 0.6160 - val_accuracy: 0.6630\n",
      "Epoch 122/500\n",
      "11/11 [==============================] - 0s 3ms/step - loss: 0.5751 - accuracy: 0.6906 - val_loss: 0.6130 - val_accuracy: 0.6452\n",
      "Epoch 123/500\n",
      "11/11 [==============================] - 0s 3ms/step - loss: 0.5711 - accuracy: 0.6980 - val_loss: 0.6143 - val_accuracy: 0.6585\n",
      "Epoch 124/500\n",
      "11/11 [==============================] - 0s 2ms/step - loss: 0.5746 - accuracy: 0.6973 - val_loss: 0.6252 - val_accuracy: 0.6297\n",
      "Epoch 125/500\n",
      "11/11 [==============================] - 0s 3ms/step - loss: 0.5709 - accuracy: 0.6987 - val_loss: 0.6153 - val_accuracy: 0.6652\n",
      "Epoch 126/500\n",
      "11/11 [==============================] - 0s 3ms/step - loss: 0.5698 - accuracy: 0.7024 - val_loss: 0.6183 - val_accuracy: 0.6452\n",
      "Epoch 127/500\n",
      "11/11 [==============================] - 0s 3ms/step - loss: 0.5700 - accuracy: 0.6943 - val_loss: 0.6173 - val_accuracy: 0.6430\n",
      "Epoch 128/500\n",
      "11/11 [==============================] - 0s 3ms/step - loss: 0.5681 - accuracy: 0.6987 - val_loss: 0.6182 - val_accuracy: 0.6563\n",
      "Epoch 129/500\n",
      "11/11 [==============================] - 0s 3ms/step - loss: 0.5694 - accuracy: 0.6995 - val_loss: 0.6179 - val_accuracy: 0.6475\n",
      "Epoch 130/500\n",
      "11/11 [==============================] - 0s 3ms/step - loss: 0.5711 - accuracy: 0.6950 - val_loss: 0.6199 - val_accuracy: 0.6341\n",
      "Epoch 131/500\n",
      "11/11 [==============================] - 0s 3ms/step - loss: 0.5694 - accuracy: 0.7061 - val_loss: 0.6207 - val_accuracy: 0.6408\n",
      "Epoch 132/500\n",
      "11/11 [==============================] - 0s 3ms/step - loss: 0.5713 - accuracy: 0.6936 - val_loss: 0.6234 - val_accuracy: 0.6674\n",
      "Epoch 133/500\n",
      "11/11 [==============================] - 0s 3ms/step - loss: 0.5705 - accuracy: 0.6980 - val_loss: 0.6151 - val_accuracy: 0.6408\n",
      "Epoch 134/500\n",
      "11/11 [==============================] - 0s 3ms/step - loss: 0.5680 - accuracy: 0.6987 - val_loss: 0.6193 - val_accuracy: 0.6364\n",
      "Epoch 135/500\n",
      "11/11 [==============================] - 0s 3ms/step - loss: 0.5677 - accuracy: 0.7002 - val_loss: 0.6201 - val_accuracy: 0.6408\n",
      "Epoch 136/500\n",
      "11/11 [==============================] - 0s 2ms/step - loss: 0.5655 - accuracy: 0.7076 - val_loss: 0.6141 - val_accuracy: 0.6408\n",
      "Epoch 137/500\n",
      "11/11 [==============================] - 0s 3ms/step - loss: 0.5650 - accuracy: 0.7010 - val_loss: 0.6150 - val_accuracy: 0.6541\n",
      "Epoch 138/500\n",
      "11/11 [==============================] - 0s 3ms/step - loss: 0.5663 - accuracy: 0.7098 - val_loss: 0.6190 - val_accuracy: 0.6386\n",
      "Epoch 139/500\n",
      "11/11 [==============================] - 0s 9ms/step - loss: 0.5631 - accuracy: 0.7084 - val_loss: 0.6196 - val_accuracy: 0.6364\n",
      "Epoch 140/500\n",
      "11/11 [==============================] - 0s 6ms/step - loss: 0.5649 - accuracy: 0.7032 - val_loss: 0.6150 - val_accuracy: 0.6452\n",
      "Epoch 141/500\n",
      "11/11 [==============================] - 0s 5ms/step - loss: 0.5623 - accuracy: 0.7002 - val_loss: 0.6131 - val_accuracy: 0.6408\n",
      "Epoch 142/500\n",
      "11/11 [==============================] - 0s 3ms/step - loss: 0.5625 - accuracy: 0.7039 - val_loss: 0.6168 - val_accuracy: 0.6585\n",
      "Epoch 143/500\n",
      "11/11 [==============================] - 0s 4ms/step - loss: 0.5695 - accuracy: 0.7061 - val_loss: 0.6219 - val_accuracy: 0.6408\n",
      "Epoch 144/500\n",
      "11/11 [==============================] - 0s 4ms/step - loss: 0.5604 - accuracy: 0.7121 - val_loss: 0.6227 - val_accuracy: 0.6341\n",
      "Epoch 145/500\n",
      "11/11 [==============================] - 0s 4ms/step - loss: 0.5621 - accuracy: 0.7047 - val_loss: 0.6277 - val_accuracy: 0.6674\n",
      "Epoch 146/500\n",
      "11/11 [==============================] - 0s 4ms/step - loss: 0.5629 - accuracy: 0.6965 - val_loss: 0.6217 - val_accuracy: 0.6408\n",
      "Epoch 147/500\n",
      "11/11 [==============================] - 0s 4ms/step - loss: 0.5573 - accuracy: 0.7039 - val_loss: 0.6149 - val_accuracy: 0.6452\n",
      "Epoch 148/500\n",
      "11/11 [==============================] - 0s 4ms/step - loss: 0.5595 - accuracy: 0.7024 - val_loss: 0.6166 - val_accuracy: 0.6364\n",
      "Epoch 149/500\n",
      "11/11 [==============================] - 0s 3ms/step - loss: 0.5594 - accuracy: 0.7084 - val_loss: 0.6232 - val_accuracy: 0.6408\n",
      "Epoch 150/500\n",
      "11/11 [==============================] - 0s 3ms/step - loss: 0.5574 - accuracy: 0.7084 - val_loss: 0.6163 - val_accuracy: 0.6430\n",
      "Epoch 151/500\n",
      "11/11 [==============================] - 0s 3ms/step - loss: 0.5563 - accuracy: 0.7061 - val_loss: 0.6208 - val_accuracy: 0.6364\n",
      "Epoch 152/500\n",
      "11/11 [==============================] - 0s 3ms/step - loss: 0.5609 - accuracy: 0.7010 - val_loss: 0.6208 - val_accuracy: 0.6341\n",
      "Epoch 153/500\n",
      "11/11 [==============================] - 0s 5ms/step - loss: 0.5575 - accuracy: 0.7024 - val_loss: 0.6169 - val_accuracy: 0.6452\n",
      "Epoch 154/500\n",
      "11/11 [==============================] - 0s 4ms/step - loss: 0.5546 - accuracy: 0.7039 - val_loss: 0.6160 - val_accuracy: 0.6497\n",
      "Epoch 155/500\n",
      "11/11 [==============================] - 0s 4ms/step - loss: 0.5554 - accuracy: 0.7165 - val_loss: 0.6212 - val_accuracy: 0.6341\n",
      "Epoch 156/500\n",
      "11/11 [==============================] - 0s 3ms/step - loss: 0.5604 - accuracy: 0.7061 - val_loss: 0.6189 - val_accuracy: 0.6408\n",
      "Epoch 157/500\n",
      "11/11 [==============================] - 0s 4ms/step - loss: 0.5612 - accuracy: 0.6995 - val_loss: 0.6172 - val_accuracy: 0.6475\n",
      "Epoch 158/500\n",
      "11/11 [==============================] - 0s 4ms/step - loss: 0.5590 - accuracy: 0.7091 - val_loss: 0.6203 - val_accuracy: 0.6608\n",
      "Epoch 159/500\n",
      "11/11 [==============================] - 0s 3ms/step - loss: 0.5585 - accuracy: 0.7113 - val_loss: 0.6160 - val_accuracy: 0.6452\n",
      "Epoch 160/500\n",
      "11/11 [==============================] - 0s 3ms/step - loss: 0.5537 - accuracy: 0.7128 - val_loss: 0.6300 - val_accuracy: 0.6164\n",
      "Epoch 161/500\n",
      "11/11 [==============================] - 0s 3ms/step - loss: 0.5547 - accuracy: 0.7128 - val_loss: 0.6234 - val_accuracy: 0.6297\n",
      "Epoch 162/500\n",
      "11/11 [==============================] - 0s 3ms/step - loss: 0.5518 - accuracy: 0.7039 - val_loss: 0.6158 - val_accuracy: 0.6364\n",
      "Epoch 163/500\n",
      "11/11 [==============================] - 0s 3ms/step - loss: 0.5542 - accuracy: 0.7113 - val_loss: 0.6217 - val_accuracy: 0.6386\n",
      "Epoch 164/500\n",
      "11/11 [==============================] - 0s 3ms/step - loss: 0.5504 - accuracy: 0.7172 - val_loss: 0.6323 - val_accuracy: 0.6142\n",
      "Epoch 165/500\n",
      "11/11 [==============================] - 0s 4ms/step - loss: 0.5566 - accuracy: 0.7024 - val_loss: 0.6184 - val_accuracy: 0.6652\n",
      "Epoch 166/500\n",
      "11/11 [==============================] - 0s 3ms/step - loss: 0.5519 - accuracy: 0.7032 - val_loss: 0.6177 - val_accuracy: 0.6297\n",
      "Epoch 167/500\n",
      "11/11 [==============================] - 0s 4ms/step - loss: 0.5482 - accuracy: 0.7128 - val_loss: 0.6220 - val_accuracy: 0.6341\n",
      "Epoch 168/500\n",
      "11/11 [==============================] - 0s 3ms/step - loss: 0.5467 - accuracy: 0.7143 - val_loss: 0.6194 - val_accuracy: 0.6630\n",
      "Epoch 169/500\n",
      "11/11 [==============================] - 0s 3ms/step - loss: 0.5486 - accuracy: 0.7076 - val_loss: 0.6156 - val_accuracy: 0.6386\n",
      "Epoch 170/500\n",
      "11/11 [==============================] - 0s 3ms/step - loss: 0.5484 - accuracy: 0.7135 - val_loss: 0.6180 - val_accuracy: 0.6430\n",
      "Epoch 171/500\n",
      "11/11 [==============================] - 0s 3ms/step - loss: 0.5446 - accuracy: 0.7113 - val_loss: 0.6191 - val_accuracy: 0.6563\n",
      "Epoch 172/500\n",
      "11/11 [==============================] - 0s 3ms/step - loss: 0.5485 - accuracy: 0.7113 - val_loss: 0.6207 - val_accuracy: 0.6585\n",
      "Epoch 173/500\n"
     ]
    },
    {
     "name": "stdout",
     "output_type": "stream",
     "text": [
      "11/11 [==============================] - 0s 3ms/step - loss: 0.5643 - accuracy: 0.7039 - val_loss: 0.6161 - val_accuracy: 0.6430\n",
      "Epoch 174/500\n",
      "11/11 [==============================] - 0s 3ms/step - loss: 0.5542 - accuracy: 0.7084 - val_loss: 0.6242 - val_accuracy: 0.6319\n",
      "Epoch 175/500\n",
      "11/11 [==============================] - 0s 3ms/step - loss: 0.5439 - accuracy: 0.7172 - val_loss: 0.6232 - val_accuracy: 0.6341\n",
      "Epoch 176/500\n",
      "11/11 [==============================] - 0s 3ms/step - loss: 0.5447 - accuracy: 0.7209 - val_loss: 0.6203 - val_accuracy: 0.6386\n",
      "Epoch 177/500\n",
      "11/11 [==============================] - 0s 3ms/step - loss: 0.5423 - accuracy: 0.7158 - val_loss: 0.6186 - val_accuracy: 0.6364\n",
      "Epoch 178/500\n",
      "11/11 [==============================] - 0s 3ms/step - loss: 0.5423 - accuracy: 0.7135 - val_loss: 0.6276 - val_accuracy: 0.6297\n",
      "Epoch 179/500\n",
      "11/11 [==============================] - 0s 3ms/step - loss: 0.5432 - accuracy: 0.7202 - val_loss: 0.6248 - val_accuracy: 0.6319\n",
      "Epoch 180/500\n",
      "11/11 [==============================] - 0s 3ms/step - loss: 0.5428 - accuracy: 0.7217 - val_loss: 0.6244 - val_accuracy: 0.6541\n",
      "Epoch 181/500\n",
      "11/11 [==============================] - 0s 3ms/step - loss: 0.5448 - accuracy: 0.7158 - val_loss: 0.6197 - val_accuracy: 0.6408\n",
      "Epoch 182/500\n",
      "11/11 [==============================] - 0s 3ms/step - loss: 0.5496 - accuracy: 0.7180 - val_loss: 0.6251 - val_accuracy: 0.6297\n",
      "Epoch 183/500\n",
      "11/11 [==============================] - 0s 3ms/step - loss: 0.5412 - accuracy: 0.7165 - val_loss: 0.6252 - val_accuracy: 0.6231\n",
      "Epoch 184/500\n",
      "11/11 [==============================] - 0s 3ms/step - loss: 0.5454 - accuracy: 0.7106 - val_loss: 0.6258 - val_accuracy: 0.6186\n",
      "Epoch 185/500\n",
      "11/11 [==============================] - 0s 3ms/step - loss: 0.5458 - accuracy: 0.7128 - val_loss: 0.6180 - val_accuracy: 0.6408\n",
      "Epoch 186/500\n",
      "11/11 [==============================] - 0s 3ms/step - loss: 0.5430 - accuracy: 0.7165 - val_loss: 0.6187 - val_accuracy: 0.6585\n",
      "Epoch 187/500\n",
      "11/11 [==============================] - 0s 3ms/step - loss: 0.5425 - accuracy: 0.7180 - val_loss: 0.6198 - val_accuracy: 0.6541\n",
      "Epoch 188/500\n",
      "11/11 [==============================] - 0s 3ms/step - loss: 0.5441 - accuracy: 0.7187 - val_loss: 0.6210 - val_accuracy: 0.6408\n",
      "Epoch 189/500\n",
      "11/11 [==============================] - 0s 3ms/step - loss: 0.5369 - accuracy: 0.7195 - val_loss: 0.6235 - val_accuracy: 0.6253\n",
      "Epoch 190/500\n",
      "11/11 [==============================] - 0s 3ms/step - loss: 0.5379 - accuracy: 0.7202 - val_loss: 0.6198 - val_accuracy: 0.6519\n",
      "Epoch 191/500\n",
      "11/11 [==============================] - 0s 3ms/step - loss: 0.5343 - accuracy: 0.7195 - val_loss: 0.6256 - val_accuracy: 0.6275\n",
      "Epoch 192/500\n",
      "11/11 [==============================] - 0s 3ms/step - loss: 0.5351 - accuracy: 0.7246 - val_loss: 0.6216 - val_accuracy: 0.6519\n",
      "Epoch 193/500\n",
      "11/11 [==============================] - 0s 3ms/step - loss: 0.5350 - accuracy: 0.7158 - val_loss: 0.6206 - val_accuracy: 0.6430\n",
      "Epoch 194/500\n",
      "11/11 [==============================] - 0s 3ms/step - loss: 0.5333 - accuracy: 0.7158 - val_loss: 0.6162 - val_accuracy: 0.6541\n",
      "Epoch 195/500\n",
      "11/11 [==============================] - 0s 3ms/step - loss: 0.5334 - accuracy: 0.7202 - val_loss: 0.6243 - val_accuracy: 0.6319\n",
      "Epoch 196/500\n",
      "11/11 [==============================] - 0s 3ms/step - loss: 0.5328 - accuracy: 0.7254 - val_loss: 0.6198 - val_accuracy: 0.6386\n",
      "Epoch 197/500\n",
      "11/11 [==============================] - 0s 4ms/step - loss: 0.5303 - accuracy: 0.7239 - val_loss: 0.6190 - val_accuracy: 0.6475\n",
      "Epoch 198/500\n",
      "11/11 [==============================] - 0s 3ms/step - loss: 0.5327 - accuracy: 0.7239 - val_loss: 0.6244 - val_accuracy: 0.6341\n",
      "Epoch 199/500\n",
      "11/11 [==============================] - 0s 3ms/step - loss: 0.5324 - accuracy: 0.7217 - val_loss: 0.6249 - val_accuracy: 0.6319\n",
      "Epoch 200/500\n",
      "11/11 [==============================] - 0s 4ms/step - loss: 0.5302 - accuracy: 0.7283 - val_loss: 0.6185 - val_accuracy: 0.6541\n",
      "Epoch 201/500\n",
      "11/11 [==============================] - 0s 3ms/step - loss: 0.5288 - accuracy: 0.7261 - val_loss: 0.6308 - val_accuracy: 0.6319\n",
      "Epoch 202/500\n",
      "11/11 [==============================] - 0s 4ms/step - loss: 0.5281 - accuracy: 0.7246 - val_loss: 0.6247 - val_accuracy: 0.6585\n",
      "Epoch 203/500\n",
      "11/11 [==============================] - 0s 3ms/step - loss: 0.5319 - accuracy: 0.7135 - val_loss: 0.6291 - val_accuracy: 0.6275\n",
      "Epoch 204/500\n",
      "11/11 [==============================] - 0s 3ms/step - loss: 0.5303 - accuracy: 0.7306 - val_loss: 0.6186 - val_accuracy: 0.6452\n",
      "Epoch 205/500\n",
      "11/11 [==============================] - 0s 4ms/step - loss: 0.5281 - accuracy: 0.7269 - val_loss: 0.6221 - val_accuracy: 0.6452\n",
      "Epoch 206/500\n",
      "11/11 [==============================] - 0s 3ms/step - loss: 0.5294 - accuracy: 0.7246 - val_loss: 0.6218 - val_accuracy: 0.6519\n",
      "Epoch 207/500\n",
      "11/11 [==============================] - 0s 4ms/step - loss: 0.5278 - accuracy: 0.7291 - val_loss: 0.6235 - val_accuracy: 0.6364\n",
      "Epoch 208/500\n",
      "11/11 [==============================] - 0s 4ms/step - loss: 0.5257 - accuracy: 0.7254 - val_loss: 0.6346 - val_accuracy: 0.6275\n",
      "Epoch 209/500\n",
      "11/11 [==============================] - 0s 4ms/step - loss: 0.5344 - accuracy: 0.7232 - val_loss: 0.6221 - val_accuracy: 0.6386\n",
      "Epoch 210/500\n",
      "11/11 [==============================] - 0s 3ms/step - loss: 0.5273 - accuracy: 0.7313 - val_loss: 0.6239 - val_accuracy: 0.6497\n",
      "Epoch 211/500\n",
      "11/11 [==============================] - 0s 5ms/step - loss: 0.5257 - accuracy: 0.7224 - val_loss: 0.6304 - val_accuracy: 0.6341\n",
      "Epoch 212/500\n",
      "11/11 [==============================] - 0s 4ms/step - loss: 0.5268 - accuracy: 0.7313 - val_loss: 0.6206 - val_accuracy: 0.6475\n",
      "Epoch 213/500\n",
      "11/11 [==============================] - 0s 4ms/step - loss: 0.5240 - accuracy: 0.7276 - val_loss: 0.6200 - val_accuracy: 0.6475\n",
      "Epoch 214/500\n",
      "11/11 [==============================] - 0s 4ms/step - loss: 0.5234 - accuracy: 0.7276 - val_loss: 0.6213 - val_accuracy: 0.6475\n",
      "Epoch 215/500\n",
      "11/11 [==============================] - 0s 4ms/step - loss: 0.5259 - accuracy: 0.7172 - val_loss: 0.6211 - val_accuracy: 0.6408\n",
      "Epoch 216/500\n",
      "11/11 [==============================] - 0s 4ms/step - loss: 0.5239 - accuracy: 0.7217 - val_loss: 0.6197 - val_accuracy: 0.6430\n",
      "Epoch 217/500\n",
      "11/11 [==============================] - 0s 5ms/step - loss: 0.5222 - accuracy: 0.7254 - val_loss: 0.6250 - val_accuracy: 0.6341\n",
      "Epoch 218/500\n",
      "11/11 [==============================] - 0s 3ms/step - loss: 0.5201 - accuracy: 0.7261 - val_loss: 0.6240 - val_accuracy: 0.6364\n",
      "Epoch 219/500\n",
      "11/11 [==============================] - 0s 4ms/step - loss: 0.5208 - accuracy: 0.7387 - val_loss: 0.6263 - val_accuracy: 0.6497\n",
      "Epoch 220/500\n",
      "11/11 [==============================] - 0s 3ms/step - loss: 0.5197 - accuracy: 0.7343 - val_loss: 0.6293 - val_accuracy: 0.6341\n",
      "Epoch 221/500\n",
      "11/11 [==============================] - 0s 3ms/step - loss: 0.5206 - accuracy: 0.7276 - val_loss: 0.6196 - val_accuracy: 0.6519\n",
      "Epoch 222/500\n",
      "11/11 [==============================] - 0s 2ms/step - loss: 0.5246 - accuracy: 0.7358 - val_loss: 0.6233 - val_accuracy: 0.6519\n",
      "Epoch 223/500\n",
      "11/11 [==============================] - 0s 3ms/step - loss: 0.5224 - accuracy: 0.7254 - val_loss: 0.6273 - val_accuracy: 0.6475\n",
      "Epoch 224/500\n",
      "11/11 [==============================] - 0s 3ms/step - loss: 0.5235 - accuracy: 0.7358 - val_loss: 0.6274 - val_accuracy: 0.6341\n",
      "Epoch 225/500\n",
      "11/11 [==============================] - 0s 3ms/step - loss: 0.5202 - accuracy: 0.7306 - val_loss: 0.6217 - val_accuracy: 0.6475\n",
      "Epoch 226/500\n",
      "11/11 [==============================] - 0s 3ms/step - loss: 0.5166 - accuracy: 0.7328 - val_loss: 0.6213 - val_accuracy: 0.6519\n",
      "Epoch 227/500\n",
      "11/11 [==============================] - 0s 3ms/step - loss: 0.5163 - accuracy: 0.7350 - val_loss: 0.6217 - val_accuracy: 0.6475\n",
      "Epoch 228/500\n",
      "11/11 [==============================] - 0s 3ms/step - loss: 0.5143 - accuracy: 0.7350 - val_loss: 0.6344 - val_accuracy: 0.6364\n",
      "Epoch 229/500\n",
      "11/11 [==============================] - 0s 3ms/step - loss: 0.5174 - accuracy: 0.7298 - val_loss: 0.6284 - val_accuracy: 0.6319\n",
      "Epoch 230/500\n"
     ]
    },
    {
     "name": "stdout",
     "output_type": "stream",
     "text": [
      "11/11 [==============================] - 0s 3ms/step - loss: 0.5188 - accuracy: 0.7343 - val_loss: 0.6250 - val_accuracy: 0.6452\n",
      "Epoch 231/500\n",
      "11/11 [==============================] - 0s 3ms/step - loss: 0.5170 - accuracy: 0.7387 - val_loss: 0.6272 - val_accuracy: 0.6541\n",
      "Epoch 232/500\n",
      "11/11 [==============================] - 0s 3ms/step - loss: 0.5159 - accuracy: 0.7417 - val_loss: 0.6231 - val_accuracy: 0.6452\n",
      "Epoch 233/500\n",
      "11/11 [==============================] - 0s 3ms/step - loss: 0.5139 - accuracy: 0.7409 - val_loss: 0.6232 - val_accuracy: 0.6475\n",
      "Epoch 234/500\n",
      "11/11 [==============================] - 0s 3ms/step - loss: 0.5131 - accuracy: 0.7358 - val_loss: 0.6289 - val_accuracy: 0.6364\n",
      "Epoch 235/500\n",
      "11/11 [==============================] - 0s 3ms/step - loss: 0.5125 - accuracy: 0.7387 - val_loss: 0.6196 - val_accuracy: 0.6497\n",
      "Epoch 236/500\n",
      "11/11 [==============================] - 0s 3ms/step - loss: 0.5127 - accuracy: 0.7402 - val_loss: 0.6349 - val_accuracy: 0.6231\n",
      "Epoch 237/500\n",
      "11/11 [==============================] - 0s 4ms/step - loss: 0.5128 - accuracy: 0.7469 - val_loss: 0.6202 - val_accuracy: 0.6519\n",
      "Epoch 238/500\n",
      "11/11 [==============================] - 0s 3ms/step - loss: 0.5093 - accuracy: 0.7298 - val_loss: 0.6197 - val_accuracy: 0.6563\n",
      "Epoch 239/500\n",
      "11/11 [==============================] - 0s 3ms/step - loss: 0.5109 - accuracy: 0.7358 - val_loss: 0.6260 - val_accuracy: 0.6364\n",
      "Epoch 240/500\n",
      "11/11 [==============================] - 0s 3ms/step - loss: 0.5137 - accuracy: 0.7372 - val_loss: 0.6311 - val_accuracy: 0.6341\n",
      "Epoch 241/500\n",
      "11/11 [==============================] - 0s 4ms/step - loss: 0.5132 - accuracy: 0.7350 - val_loss: 0.6286 - val_accuracy: 0.6519\n",
      "Epoch 242/500\n",
      "11/11 [==============================] - 0s 3ms/step - loss: 0.5073 - accuracy: 0.7372 - val_loss: 0.6316 - val_accuracy: 0.6275\n",
      "Epoch 243/500\n",
      "11/11 [==============================] - 0s 3ms/step - loss: 0.5100 - accuracy: 0.7343 - val_loss: 0.6318 - val_accuracy: 0.6386\n",
      "Epoch 244/500\n",
      "11/11 [==============================] - 0s 3ms/step - loss: 0.5073 - accuracy: 0.7446 - val_loss: 0.6226 - val_accuracy: 0.6475\n",
      "Epoch 245/500\n",
      "11/11 [==============================] - 0s 3ms/step - loss: 0.5080 - accuracy: 0.7409 - val_loss: 0.6258 - val_accuracy: 0.6452\n",
      "Epoch 246/500\n",
      "11/11 [==============================] - 0s 3ms/step - loss: 0.5049 - accuracy: 0.7432 - val_loss: 0.6293 - val_accuracy: 0.6386\n",
      "Epoch 247/500\n",
      "11/11 [==============================] - 0s 3ms/step - loss: 0.5078 - accuracy: 0.7417 - val_loss: 0.6385 - val_accuracy: 0.6231\n",
      "Epoch 248/500\n",
      "11/11 [==============================] - 0s 3ms/step - loss: 0.5135 - accuracy: 0.7409 - val_loss: 0.6305 - val_accuracy: 0.6364\n",
      "Epoch 249/500\n",
      "11/11 [==============================] - 0s 3ms/step - loss: 0.5133 - accuracy: 0.7298 - val_loss: 0.6259 - val_accuracy: 0.6386\n",
      "Epoch 250/500\n",
      "11/11 [==============================] - 0s 3ms/step - loss: 0.5031 - accuracy: 0.7439 - val_loss: 0.6261 - val_accuracy: 0.6452\n",
      "Epoch 251/500\n",
      "11/11 [==============================] - 0s 3ms/step - loss: 0.5046 - accuracy: 0.7409 - val_loss: 0.6286 - val_accuracy: 0.6408\n",
      "Epoch 252/500\n",
      "11/11 [==============================] - 0s 3ms/step - loss: 0.5162 - accuracy: 0.7261 - val_loss: 0.6307 - val_accuracy: 0.6430\n",
      "Epoch 253/500\n",
      "11/11 [==============================] - 0s 3ms/step - loss: 0.5075 - accuracy: 0.7432 - val_loss: 0.6231 - val_accuracy: 0.6541\n",
      "Epoch 254/500\n",
      "11/11 [==============================] - 0s 4ms/step - loss: 0.5033 - accuracy: 0.7424 - val_loss: 0.6312 - val_accuracy: 0.6386\n",
      "Epoch 255/500\n",
      "11/11 [==============================] - 0s 3ms/step - loss: 0.5057 - accuracy: 0.7483 - val_loss: 0.6281 - val_accuracy: 0.6430\n",
      "Epoch 256/500\n",
      "11/11 [==============================] - 0s 3ms/step - loss: 0.5011 - accuracy: 0.7476 - val_loss: 0.6262 - val_accuracy: 0.6408\n",
      "Epoch 257/500\n",
      "11/11 [==============================] - 0s 3ms/step - loss: 0.5039 - accuracy: 0.7395 - val_loss: 0.6275 - val_accuracy: 0.6519\n",
      "Epoch 258/500\n",
      "11/11 [==============================] - 0s 2ms/step - loss: 0.4998 - accuracy: 0.7483 - val_loss: 0.6255 - val_accuracy: 0.6497\n",
      "Epoch 259/500\n",
      "11/11 [==============================] - 0s 3ms/step - loss: 0.5009 - accuracy: 0.7417 - val_loss: 0.6316 - val_accuracy: 0.6364\n",
      "Epoch 260/500\n",
      "11/11 [==============================] - 0s 3ms/step - loss: 0.5001 - accuracy: 0.7446 - val_loss: 0.6251 - val_accuracy: 0.6519\n",
      "Epoch 261/500\n",
      "11/11 [==============================] - 0s 3ms/step - loss: 0.5010 - accuracy: 0.7387 - val_loss: 0.6274 - val_accuracy: 0.6475\n",
      "Epoch 262/500\n",
      "11/11 [==============================] - 0s 3ms/step - loss: 0.5000 - accuracy: 0.7461 - val_loss: 0.6323 - val_accuracy: 0.6430\n",
      "Epoch 263/500\n",
      "11/11 [==============================] - 0s 3ms/step - loss: 0.4987 - accuracy: 0.7498 - val_loss: 0.6265 - val_accuracy: 0.6475\n",
      "Epoch 264/500\n",
      "11/11 [==============================] - 0s 3ms/step - loss: 0.4979 - accuracy: 0.7535 - val_loss: 0.6327 - val_accuracy: 0.6386\n",
      "Epoch 265/500\n",
      "11/11 [==============================] - 0s 3ms/step - loss: 0.5001 - accuracy: 0.7424 - val_loss: 0.6594 - val_accuracy: 0.6208\n",
      "Epoch 266/500\n",
      "11/11 [==============================] - 0s 3ms/step - loss: 0.5076 - accuracy: 0.7402 - val_loss: 0.6269 - val_accuracy: 0.6519\n",
      "Epoch 267/500\n",
      "11/11 [==============================] - 0s 3ms/step - loss: 0.4991 - accuracy: 0.7395 - val_loss: 0.6317 - val_accuracy: 0.6364\n",
      "Epoch 268/500\n",
      "11/11 [==============================] - 0s 3ms/step - loss: 0.4985 - accuracy: 0.7498 - val_loss: 0.6281 - val_accuracy: 0.6386\n",
      "Epoch 269/500\n",
      "11/11 [==============================] - 0s 3ms/step - loss: 0.5002 - accuracy: 0.7439 - val_loss: 0.6535 - val_accuracy: 0.6231\n",
      "Epoch 270/500\n",
      "11/11 [==============================] - 0s 3ms/step - loss: 0.5040 - accuracy: 0.7395 - val_loss: 0.6357 - val_accuracy: 0.6475\n",
      "Epoch 271/500\n",
      "11/11 [==============================] - 0s 3ms/step - loss: 0.5040 - accuracy: 0.7372 - val_loss: 0.6256 - val_accuracy: 0.6475\n",
      "Epoch 272/500\n",
      "11/11 [==============================] - 0s 3ms/step - loss: 0.5004 - accuracy: 0.7506 - val_loss: 0.6260 - val_accuracy: 0.6497\n",
      "Epoch 273/500\n",
      "11/11 [==============================] - 0s 3ms/step - loss: 0.5007 - accuracy: 0.7476 - val_loss: 0.6281 - val_accuracy: 0.6408\n",
      "Epoch 274/500\n",
      "11/11 [==============================] - 0s 3ms/step - loss: 0.5048 - accuracy: 0.7395 - val_loss: 0.6335 - val_accuracy: 0.6497\n",
      "Epoch 275/500\n",
      "11/11 [==============================] - 0s 3ms/step - loss: 0.4998 - accuracy: 0.7454 - val_loss: 0.6433 - val_accuracy: 0.6563\n",
      "Epoch 276/500\n",
      "11/11 [==============================] - 0s 3ms/step - loss: 0.5083 - accuracy: 0.7350 - val_loss: 0.6266 - val_accuracy: 0.6452\n",
      "Epoch 277/500\n",
      "11/11 [==============================] - 0s 3ms/step - loss: 0.4959 - accuracy: 0.7461 - val_loss: 0.6332 - val_accuracy: 0.6475\n",
      "Epoch 278/500\n",
      "11/11 [==============================] - 0s 3ms/step - loss: 0.4955 - accuracy: 0.7572 - val_loss: 0.6295 - val_accuracy: 0.6519\n",
      "Epoch 279/500\n",
      "11/11 [==============================] - 0s 3ms/step - loss: 0.4963 - accuracy: 0.7454 - val_loss: 0.6514 - val_accuracy: 0.6164\n",
      "Epoch 280/500\n",
      "11/11 [==============================] - 0s 2ms/step - loss: 0.5035 - accuracy: 0.7491 - val_loss: 0.6316 - val_accuracy: 0.6452\n",
      "Epoch 281/500\n",
      "11/11 [==============================] - 0s 3ms/step - loss: 0.4942 - accuracy: 0.7498 - val_loss: 0.6299 - val_accuracy: 0.6541\n",
      "Epoch 282/500\n",
      "11/11 [==============================] - 0s 3ms/step - loss: 0.4931 - accuracy: 0.7520 - val_loss: 0.6342 - val_accuracy: 0.6497\n",
      "Epoch 283/500\n",
      "11/11 [==============================] - 0s 4ms/step - loss: 0.4963 - accuracy: 0.7335 - val_loss: 0.6308 - val_accuracy: 0.6519\n",
      "Epoch 284/500\n",
      "11/11 [==============================] - 0s 3ms/step - loss: 0.4875 - accuracy: 0.7565 - val_loss: 0.6281 - val_accuracy: 0.6430\n",
      "Epoch 285/500\n",
      "11/11 [==============================] - 0s 3ms/step - loss: 0.4902 - accuracy: 0.7543 - val_loss: 0.6288 - val_accuracy: 0.6519\n",
      "Epoch 286/500\n",
      "11/11 [==============================] - 0s 2ms/step - loss: 0.4905 - accuracy: 0.7520 - val_loss: 0.6417 - val_accuracy: 0.6541\n",
      "Epoch 287/500\n"
     ]
    },
    {
     "name": "stdout",
     "output_type": "stream",
     "text": [
      "11/11 [==============================] - 0s 3ms/step - loss: 0.5119 - accuracy: 0.7365 - val_loss: 0.6335 - val_accuracy: 0.6430\n",
      "Epoch 288/500\n",
      "11/11 [==============================] - 0s 3ms/step - loss: 0.4970 - accuracy: 0.7594 - val_loss: 0.6369 - val_accuracy: 0.6319\n",
      "Epoch 289/500\n",
      "11/11 [==============================] - 0s 2ms/step - loss: 0.4868 - accuracy: 0.7476 - val_loss: 0.6303 - val_accuracy: 0.6408\n",
      "Epoch 290/500\n",
      "11/11 [==============================] - 0s 3ms/step - loss: 0.4901 - accuracy: 0.7557 - val_loss: 0.6401 - val_accuracy: 0.6519\n",
      "Epoch 291/500\n",
      "11/11 [==============================] - 0s 2ms/step - loss: 0.4954 - accuracy: 0.7439 - val_loss: 0.6312 - val_accuracy: 0.6386\n",
      "Epoch 292/500\n",
      "11/11 [==============================] - 0s 3ms/step - loss: 0.4873 - accuracy: 0.7572 - val_loss: 0.6355 - val_accuracy: 0.6408\n",
      "Epoch 293/500\n",
      "11/11 [==============================] - 0s 3ms/step - loss: 0.4849 - accuracy: 0.7602 - val_loss: 0.6289 - val_accuracy: 0.6475\n",
      "Epoch 294/500\n",
      "11/11 [==============================] - 0s 4ms/step - loss: 0.4897 - accuracy: 0.7550 - val_loss: 0.6360 - val_accuracy: 0.6364\n",
      "Epoch 295/500\n",
      "11/11 [==============================] - 0s 3ms/step - loss: 0.4860 - accuracy: 0.7594 - val_loss: 0.6424 - val_accuracy: 0.6364\n",
      "Epoch 296/500\n",
      "11/11 [==============================] - 0s 3ms/step - loss: 0.4951 - accuracy: 0.7335 - val_loss: 0.6331 - val_accuracy: 0.6430\n",
      "Epoch 297/500\n",
      "11/11 [==============================] - 0s 3ms/step - loss: 0.4872 - accuracy: 0.7580 - val_loss: 0.6429 - val_accuracy: 0.6297\n",
      "Epoch 298/500\n",
      "11/11 [==============================] - 0s 3ms/step - loss: 0.4881 - accuracy: 0.7476 - val_loss: 0.6402 - val_accuracy: 0.6452\n",
      "Epoch 299/500\n",
      "11/11 [==============================] - 0s 3ms/step - loss: 0.4902 - accuracy: 0.7572 - val_loss: 0.6484 - val_accuracy: 0.6231\n",
      "Epoch 300/500\n",
      "11/11 [==============================] - 0s 3ms/step - loss: 0.4841 - accuracy: 0.7631 - val_loss: 0.6295 - val_accuracy: 0.6519\n",
      "Epoch 301/500\n",
      "11/11 [==============================] - 0s 3ms/step - loss: 0.4830 - accuracy: 0.7483 - val_loss: 0.6314 - val_accuracy: 0.6497\n",
      "Epoch 302/500\n",
      "11/11 [==============================] - 0s 3ms/step - loss: 0.4858 - accuracy: 0.7535 - val_loss: 0.6412 - val_accuracy: 0.6319\n",
      "Epoch 303/500\n",
      "11/11 [==============================] - 0s 3ms/step - loss: 0.4873 - accuracy: 0.7498 - val_loss: 0.6360 - val_accuracy: 0.6497\n",
      "Epoch 304/500\n",
      "11/11 [==============================] - 0s 3ms/step - loss: 0.4837 - accuracy: 0.7506 - val_loss: 0.6330 - val_accuracy: 0.6452\n",
      "Epoch 305/500\n",
      "11/11 [==============================] - 0s 3ms/step - loss: 0.4847 - accuracy: 0.7580 - val_loss: 0.6446 - val_accuracy: 0.6563\n",
      "Epoch 306/500\n",
      "11/11 [==============================] - 0s 3ms/step - loss: 0.4875 - accuracy: 0.7498 - val_loss: 0.6322 - val_accuracy: 0.6497\n",
      "Epoch 307/500\n",
      "11/11 [==============================] - 0s 3ms/step - loss: 0.4803 - accuracy: 0.7639 - val_loss: 0.6510 - val_accuracy: 0.6319\n",
      "Epoch 308/500\n",
      "11/11 [==============================] - 0s 3ms/step - loss: 0.4836 - accuracy: 0.7617 - val_loss: 0.6348 - val_accuracy: 0.6519\n",
      "Epoch 309/500\n",
      "11/11 [==============================] - 0s 3ms/step - loss: 0.4812 - accuracy: 0.7594 - val_loss: 0.6331 - val_accuracy: 0.6497\n",
      "Epoch 310/500\n",
      "11/11 [==============================] - 0s 3ms/step - loss: 0.4804 - accuracy: 0.7602 - val_loss: 0.6358 - val_accuracy: 0.6452\n",
      "Epoch 311/500\n",
      "11/11 [==============================] - 0s 3ms/step - loss: 0.4830 - accuracy: 0.7557 - val_loss: 0.6398 - val_accuracy: 0.6386\n",
      "Epoch 312/500\n",
      "11/11 [==============================] - 0s 3ms/step - loss: 0.4793 - accuracy: 0.7594 - val_loss: 0.6371 - val_accuracy: 0.6430\n",
      "Epoch 313/500\n",
      "11/11 [==============================] - 0s 3ms/step - loss: 0.4815 - accuracy: 0.7572 - val_loss: 0.6361 - val_accuracy: 0.6475\n",
      "Epoch 314/500\n",
      "11/11 [==============================] - 0s 3ms/step - loss: 0.4793 - accuracy: 0.7543 - val_loss: 0.6435 - val_accuracy: 0.6341\n",
      "Epoch 315/500\n",
      "11/11 [==============================] - 0s 3ms/step - loss: 0.4844 - accuracy: 0.7528 - val_loss: 0.6383 - val_accuracy: 0.6430\n",
      "Epoch 316/500\n",
      "11/11 [==============================] - 0s 3ms/step - loss: 0.4781 - accuracy: 0.7602 - val_loss: 0.6341 - val_accuracy: 0.6497\n",
      "Epoch 317/500\n",
      "11/11 [==============================] - 0s 3ms/step - loss: 0.4759 - accuracy: 0.7654 - val_loss: 0.6456 - val_accuracy: 0.6341\n",
      "Epoch 318/500\n",
      "11/11 [==============================] - 0s 3ms/step - loss: 0.4780 - accuracy: 0.7580 - val_loss: 0.6376 - val_accuracy: 0.6475\n",
      "Epoch 319/500\n",
      "11/11 [==============================] - 0s 3ms/step - loss: 0.4827 - accuracy: 0.7557 - val_loss: 0.6370 - val_accuracy: 0.6386\n",
      "Epoch 320/500\n",
      "11/11 [==============================] - 0s 3ms/step - loss: 0.4782 - accuracy: 0.7631 - val_loss: 0.6354 - val_accuracy: 0.6541\n",
      "Epoch 321/500\n",
      "11/11 [==============================] - 0s 2ms/step - loss: 0.4750 - accuracy: 0.7661 - val_loss: 0.6394 - val_accuracy: 0.6519\n",
      "Epoch 322/500\n",
      "11/11 [==============================] - 0s 3ms/step - loss: 0.4764 - accuracy: 0.7594 - val_loss: 0.6399 - val_accuracy: 0.6475\n",
      "Epoch 323/500\n",
      "11/11 [==============================] - 0s 3ms/step - loss: 0.4762 - accuracy: 0.7646 - val_loss: 0.6462 - val_accuracy: 0.6452\n",
      "Epoch 324/500\n",
      "11/11 [==============================] - 0s 3ms/step - loss: 0.4756 - accuracy: 0.7661 - val_loss: 0.6383 - val_accuracy: 0.6408\n",
      "Epoch 325/500\n",
      "11/11 [==============================] - 0s 3ms/step - loss: 0.4805 - accuracy: 0.7572 - val_loss: 0.6435 - val_accuracy: 0.6275\n",
      "Epoch 326/500\n",
      "11/11 [==============================] - 0s 3ms/step - loss: 0.4736 - accuracy: 0.7594 - val_loss: 0.6364 - val_accuracy: 0.6408\n",
      "Epoch 327/500\n",
      "11/11 [==============================] - 0s 3ms/step - loss: 0.4727 - accuracy: 0.7602 - val_loss: 0.6557 - val_accuracy: 0.6319\n",
      "Epoch 328/500\n",
      "11/11 [==============================] - 0s 3ms/step - loss: 0.4744 - accuracy: 0.7631 - val_loss: 0.6407 - val_accuracy: 0.6386\n",
      "Epoch 329/500\n",
      "11/11 [==============================] - 0s 3ms/step - loss: 0.4748 - accuracy: 0.7594 - val_loss: 0.6470 - val_accuracy: 0.6364\n",
      "Epoch 330/500\n",
      "11/11 [==============================] - 0s 3ms/step - loss: 0.4752 - accuracy: 0.7668 - val_loss: 0.6633 - val_accuracy: 0.6319\n",
      "Epoch 331/500\n",
      "11/11 [==============================] - 0s 3ms/step - loss: 0.4864 - accuracy: 0.7409 - val_loss: 0.6473 - val_accuracy: 0.6408\n",
      "Epoch 332/500\n",
      "11/11 [==============================] - 0s 3ms/step - loss: 0.4947 - accuracy: 0.7454 - val_loss: 0.6459 - val_accuracy: 0.6408\n",
      "Epoch 333/500\n",
      "11/11 [==============================] - 0s 3ms/step - loss: 0.4912 - accuracy: 0.7454 - val_loss: 0.6510 - val_accuracy: 0.6585\n",
      "Epoch 334/500\n",
      "11/11 [==============================] - 0s 3ms/step - loss: 0.4782 - accuracy: 0.7557 - val_loss: 0.6464 - val_accuracy: 0.6541\n",
      "Epoch 335/500\n",
      "11/11 [==============================] - 0s 4ms/step - loss: 0.4794 - accuracy: 0.7520 - val_loss: 0.6550 - val_accuracy: 0.6541\n",
      "Epoch 336/500\n",
      "11/11 [==============================] - 0s 4ms/step - loss: 0.4773 - accuracy: 0.7639 - val_loss: 0.6387 - val_accuracy: 0.6408\n",
      "Epoch 337/500\n",
      "11/11 [==============================] - 0s 3ms/step - loss: 0.4724 - accuracy: 0.7668 - val_loss: 0.6448 - val_accuracy: 0.6364\n",
      "Epoch 338/500\n",
      "11/11 [==============================] - 0s 4ms/step - loss: 0.4731 - accuracy: 0.7550 - val_loss: 0.6398 - val_accuracy: 0.6430\n",
      "Epoch 339/500\n",
      "11/11 [==============================] - 0s 3ms/step - loss: 0.4754 - accuracy: 0.7587 - val_loss: 0.6456 - val_accuracy: 0.6563\n",
      "Epoch 340/500\n",
      "11/11 [==============================] - 0s 3ms/step - loss: 0.4752 - accuracy: 0.7550 - val_loss: 0.6470 - val_accuracy: 0.6519\n",
      "Epoch 341/500\n",
      "11/11 [==============================] - 0s 3ms/step - loss: 0.4718 - accuracy: 0.7705 - val_loss: 0.6516 - val_accuracy: 0.6386\n",
      "Epoch 342/500\n",
      "11/11 [==============================] - 0s 3ms/step - loss: 0.4689 - accuracy: 0.7646 - val_loss: 0.6436 - val_accuracy: 0.6452\n",
      "Epoch 343/500\n",
      "11/11 [==============================] - 0s 3ms/step - loss: 0.4698 - accuracy: 0.7646 - val_loss: 0.6416 - val_accuracy: 0.6364\n",
      "Epoch 344/500\n"
     ]
    },
    {
     "name": "stdout",
     "output_type": "stream",
     "text": [
      "11/11 [==============================] - 0s 3ms/step - loss: 0.4726 - accuracy: 0.7631 - val_loss: 0.6530 - val_accuracy: 0.6563\n",
      "Epoch 345/500\n",
      "11/11 [==============================] - 0s 3ms/step - loss: 0.4765 - accuracy: 0.7580 - val_loss: 0.6531 - val_accuracy: 0.6563\n",
      "Epoch 346/500\n",
      "11/11 [==============================] - 0s 3ms/step - loss: 0.4760 - accuracy: 0.7528 - val_loss: 0.6415 - val_accuracy: 0.6497\n",
      "Epoch 347/500\n",
      "11/11 [==============================] - 0s 3ms/step - loss: 0.4714 - accuracy: 0.7535 - val_loss: 0.6445 - val_accuracy: 0.6408\n",
      "Epoch 348/500\n",
      "11/11 [==============================] - 0s 3ms/step - loss: 0.4701 - accuracy: 0.7698 - val_loss: 0.6459 - val_accuracy: 0.6430\n",
      "Epoch 349/500\n",
      "11/11 [==============================] - 0s 3ms/step - loss: 0.4693 - accuracy: 0.7676 - val_loss: 0.6583 - val_accuracy: 0.6608\n",
      "Epoch 350/500\n",
      "11/11 [==============================] - 0s 4ms/step - loss: 0.4758 - accuracy: 0.7594 - val_loss: 0.6470 - val_accuracy: 0.6408\n",
      "Epoch 351/500\n",
      "11/11 [==============================] - 0s 3ms/step - loss: 0.4709 - accuracy: 0.7602 - val_loss: 0.6659 - val_accuracy: 0.6253\n",
      "Epoch 352/500\n",
      "11/11 [==============================] - 0s 3ms/step - loss: 0.4730 - accuracy: 0.7609 - val_loss: 0.6483 - val_accuracy: 0.6430\n",
      "Epoch 353/500\n",
      "11/11 [==============================] - 0s 3ms/step - loss: 0.4692 - accuracy: 0.7661 - val_loss: 0.6436 - val_accuracy: 0.6408\n",
      "Epoch 354/500\n",
      "11/11 [==============================] - 0s 5ms/step - loss: 0.4692 - accuracy: 0.7631 - val_loss: 0.6563 - val_accuracy: 0.6386\n",
      "Epoch 355/500\n",
      "11/11 [==============================] - 0s 4ms/step - loss: 0.4715 - accuracy: 0.7565 - val_loss: 0.6510 - val_accuracy: 0.6408\n",
      "Epoch 356/500\n",
      "11/11 [==============================] - 0s 4ms/step - loss: 0.4682 - accuracy: 0.7720 - val_loss: 0.6449 - val_accuracy: 0.6452\n",
      "Epoch 357/500\n",
      "11/11 [==============================] - 0s 2ms/step - loss: 0.4722 - accuracy: 0.7631 - val_loss: 0.6510 - val_accuracy: 0.6497\n",
      "Epoch 358/500\n",
      "11/11 [==============================] - 0s 3ms/step - loss: 0.4770 - accuracy: 0.7520 - val_loss: 0.6484 - val_accuracy: 0.6430\n",
      "Epoch 359/500\n",
      "11/11 [==============================] - 0s 3ms/step - loss: 0.4662 - accuracy: 0.7661 - val_loss: 0.6446 - val_accuracy: 0.6386\n",
      "Epoch 360/500\n",
      "11/11 [==============================] - 0s 3ms/step - loss: 0.4654 - accuracy: 0.7631 - val_loss: 0.6500 - val_accuracy: 0.6386\n",
      "Epoch 361/500\n",
      "11/11 [==============================] - 0s 3ms/step - loss: 0.4645 - accuracy: 0.7750 - val_loss: 0.6500 - val_accuracy: 0.6430\n",
      "Epoch 362/500\n",
      "11/11 [==============================] - 0s 2ms/step - loss: 0.4639 - accuracy: 0.7713 - val_loss: 0.6529 - val_accuracy: 0.6408\n",
      "Epoch 363/500\n",
      "11/11 [==============================] - 0s 3ms/step - loss: 0.4668 - accuracy: 0.7691 - val_loss: 0.6656 - val_accuracy: 0.6341\n",
      "Epoch 364/500\n",
      "11/11 [==============================] - 0s 3ms/step - loss: 0.4719 - accuracy: 0.7587 - val_loss: 0.6569 - val_accuracy: 0.6341\n",
      "Epoch 365/500\n",
      "11/11 [==============================] - 0s 3ms/step - loss: 0.4632 - accuracy: 0.7646 - val_loss: 0.6482 - val_accuracy: 0.6408\n",
      "Epoch 366/500\n",
      "11/11 [==============================] - 0s 3ms/step - loss: 0.4658 - accuracy: 0.7691 - val_loss: 0.6511 - val_accuracy: 0.6475\n",
      "Epoch 367/500\n",
      "11/11 [==============================] - 0s 3ms/step - loss: 0.4641 - accuracy: 0.7624 - val_loss: 0.6572 - val_accuracy: 0.6408\n",
      "Epoch 368/500\n",
      "11/11 [==============================] - 0s 3ms/step - loss: 0.4612 - accuracy: 0.7661 - val_loss: 0.6434 - val_accuracy: 0.6452\n",
      "Epoch 369/500\n",
      "11/11 [==============================] - 0s 3ms/step - loss: 0.4625 - accuracy: 0.7728 - val_loss: 0.6522 - val_accuracy: 0.6497\n",
      "Epoch 370/500\n",
      "11/11 [==============================] - 0s 3ms/step - loss: 0.4648 - accuracy: 0.7691 - val_loss: 0.6455 - val_accuracy: 0.6430\n",
      "Epoch 371/500\n",
      "11/11 [==============================] - 0s 3ms/step - loss: 0.4603 - accuracy: 0.7698 - val_loss: 0.6493 - val_accuracy: 0.6475\n",
      "Epoch 372/500\n",
      "11/11 [==============================] - 0s 3ms/step - loss: 0.4611 - accuracy: 0.7691 - val_loss: 0.6522 - val_accuracy: 0.6430\n",
      "Epoch 373/500\n",
      "11/11 [==============================] - 0s 3ms/step - loss: 0.4588 - accuracy: 0.7728 - val_loss: 0.6582 - val_accuracy: 0.6386\n",
      "Epoch 374/500\n",
      "11/11 [==============================] - 0s 3ms/step - loss: 0.4632 - accuracy: 0.7661 - val_loss: 0.6508 - val_accuracy: 0.6386\n",
      "Epoch 375/500\n",
      "11/11 [==============================] - 0s 3ms/step - loss: 0.4608 - accuracy: 0.7691 - val_loss: 0.6513 - val_accuracy: 0.6475\n",
      "Epoch 376/500\n",
      "11/11 [==============================] - 0s 4ms/step - loss: 0.4581 - accuracy: 0.7631 - val_loss: 0.6634 - val_accuracy: 0.6430\n",
      "Epoch 377/500\n",
      "11/11 [==============================] - 0s 3ms/step - loss: 0.4649 - accuracy: 0.7676 - val_loss: 0.6751 - val_accuracy: 0.6364\n",
      "Epoch 378/500\n",
      "11/11 [==============================] - 0s 3ms/step - loss: 0.4654 - accuracy: 0.7631 - val_loss: 0.6569 - val_accuracy: 0.6408\n",
      "Epoch 379/500\n",
      "11/11 [==============================] - 0s 3ms/step - loss: 0.4580 - accuracy: 0.7728 - val_loss: 0.6587 - val_accuracy: 0.6630\n",
      "Epoch 380/500\n",
      "11/11 [==============================] - 0s 3ms/step - loss: 0.4717 - accuracy: 0.7654 - val_loss: 0.6867 - val_accuracy: 0.6608\n",
      "Epoch 381/500\n",
      "11/11 [==============================] - 0s 4ms/step - loss: 0.4749 - accuracy: 0.7631 - val_loss: 0.6501 - val_accuracy: 0.6452\n",
      "Epoch 382/500\n",
      "11/11 [==============================] - 0s 3ms/step - loss: 0.4666 - accuracy: 0.7580 - val_loss: 0.6535 - val_accuracy: 0.6452\n",
      "Epoch 383/500\n",
      "11/11 [==============================] - 0s 3ms/step - loss: 0.4610 - accuracy: 0.7787 - val_loss: 0.6510 - val_accuracy: 0.6497\n",
      "Epoch 384/500\n",
      "11/11 [==============================] - 0s 3ms/step - loss: 0.4625 - accuracy: 0.7728 - val_loss: 0.6722 - val_accuracy: 0.6364\n",
      "Epoch 385/500\n",
      "11/11 [==============================] - 0s 3ms/step - loss: 0.4580 - accuracy: 0.7735 - val_loss: 0.6498 - val_accuracy: 0.6430\n",
      "Epoch 386/500\n",
      "11/11 [==============================] - 0s 3ms/step - loss: 0.4568 - accuracy: 0.7705 - val_loss: 0.6561 - val_accuracy: 0.6386\n",
      "Epoch 387/500\n",
      "11/11 [==============================] - 0s 3ms/step - loss: 0.4589 - accuracy: 0.7602 - val_loss: 0.6520 - val_accuracy: 0.6497\n",
      "Epoch 388/500\n",
      "11/11 [==============================] - 0s 3ms/step - loss: 0.4575 - accuracy: 0.7691 - val_loss: 0.6564 - val_accuracy: 0.6475\n",
      "Epoch 389/500\n",
      "11/11 [==============================] - 0s 3ms/step - loss: 0.4593 - accuracy: 0.7735 - val_loss: 0.6531 - val_accuracy: 0.6497\n",
      "Epoch 390/500\n",
      "11/11 [==============================] - 0s 3ms/step - loss: 0.4638 - accuracy: 0.7631 - val_loss: 0.6566 - val_accuracy: 0.6408\n",
      "Epoch 391/500\n",
      "11/11 [==============================] - 0s 3ms/step - loss: 0.4586 - accuracy: 0.7676 - val_loss: 0.6592 - val_accuracy: 0.6541\n",
      "Epoch 392/500\n",
      "11/11 [==============================] - 0s 3ms/step - loss: 0.4618 - accuracy: 0.7720 - val_loss: 0.6629 - val_accuracy: 0.6452\n",
      "Epoch 393/500\n",
      "11/11 [==============================] - 0s 3ms/step - loss: 0.4574 - accuracy: 0.7765 - val_loss: 0.6554 - val_accuracy: 0.6386\n",
      "Epoch 394/500\n",
      "11/11 [==============================] - 0s 3ms/step - loss: 0.4633 - accuracy: 0.7631 - val_loss: 0.6644 - val_accuracy: 0.6386\n",
      "Epoch 395/500\n",
      "11/11 [==============================] - 0s 3ms/step - loss: 0.4587 - accuracy: 0.7617 - val_loss: 0.6886 - val_accuracy: 0.6275\n",
      "Epoch 396/500\n",
      "11/11 [==============================] - 0s 3ms/step - loss: 0.4641 - accuracy: 0.7624 - val_loss: 0.6545 - val_accuracy: 0.6519\n",
      "Epoch 397/500\n",
      "11/11 [==============================] - 0s 3ms/step - loss: 0.4570 - accuracy: 0.7720 - val_loss: 0.6552 - val_accuracy: 0.6386\n",
      "Epoch 398/500\n",
      "11/11 [==============================] - 0s 3ms/step - loss: 0.4521 - accuracy: 0.7765 - val_loss: 0.6595 - val_accuracy: 0.6430\n",
      "Epoch 399/500\n",
      "11/11 [==============================] - 0s 3ms/step - loss: 0.4556 - accuracy: 0.7683 - val_loss: 0.6627 - val_accuracy: 0.6386\n",
      "Epoch 400/500\n",
      "11/11 [==============================] - 0s 3ms/step - loss: 0.4579 - accuracy: 0.7661 - val_loss: 0.6747 - val_accuracy: 0.6297\n",
      "Epoch 401/500\n"
     ]
    },
    {
     "name": "stdout",
     "output_type": "stream",
     "text": [
      "11/11 [==============================] - 0s 3ms/step - loss: 0.4541 - accuracy: 0.7698 - val_loss: 0.6569 - val_accuracy: 0.6430\n",
      "Epoch 402/500\n",
      "11/11 [==============================] - 0s 3ms/step - loss: 0.4542 - accuracy: 0.7720 - val_loss: 0.6558 - val_accuracy: 0.6475\n",
      "Epoch 403/500\n",
      "11/11 [==============================] - 0s 3ms/step - loss: 0.4544 - accuracy: 0.7742 - val_loss: 0.6566 - val_accuracy: 0.6452\n",
      "Epoch 404/500\n",
      "11/11 [==============================] - 0s 3ms/step - loss: 0.4640 - accuracy: 0.7646 - val_loss: 0.6627 - val_accuracy: 0.6452\n",
      "Epoch 405/500\n",
      "11/11 [==============================] - 0s 3ms/step - loss: 0.4522 - accuracy: 0.7705 - val_loss: 0.6627 - val_accuracy: 0.6386\n",
      "Epoch 406/500\n",
      "11/11 [==============================] - 0s 3ms/step - loss: 0.4522 - accuracy: 0.7779 - val_loss: 0.6701 - val_accuracy: 0.6497\n",
      "Epoch 407/500\n",
      "11/11 [==============================] - 0s 3ms/step - loss: 0.4537 - accuracy: 0.7772 - val_loss: 0.6590 - val_accuracy: 0.6519\n",
      "Epoch 408/500\n",
      "11/11 [==============================] - 0s 3ms/step - loss: 0.4508 - accuracy: 0.7772 - val_loss: 0.6606 - val_accuracy: 0.6430\n",
      "Epoch 409/500\n",
      "11/11 [==============================] - 0s 3ms/step - loss: 0.4498 - accuracy: 0.7757 - val_loss: 0.6570 - val_accuracy: 0.6497\n",
      "Epoch 410/500\n",
      "11/11 [==============================] - 0s 3ms/step - loss: 0.4546 - accuracy: 0.7683 - val_loss: 0.6593 - val_accuracy: 0.6497\n",
      "Epoch 411/500\n",
      "11/11 [==============================] - 0s 3ms/step - loss: 0.4508 - accuracy: 0.7720 - val_loss: 0.6703 - val_accuracy: 0.6364\n",
      "Epoch 412/500\n",
      "11/11 [==============================] - 0s 3ms/step - loss: 0.4561 - accuracy: 0.7646 - val_loss: 0.6659 - val_accuracy: 0.6386\n",
      "Epoch 413/500\n",
      "11/11 [==============================] - 0s 3ms/step - loss: 0.4531 - accuracy: 0.7735 - val_loss: 0.6630 - val_accuracy: 0.6430\n",
      "Epoch 414/500\n",
      "11/11 [==============================] - 0s 3ms/step - loss: 0.4477 - accuracy: 0.7750 - val_loss: 0.6573 - val_accuracy: 0.6408\n",
      "Epoch 415/500\n",
      "11/11 [==============================] - 0s 5ms/step - loss: 0.4560 - accuracy: 0.7698 - val_loss: 0.6615 - val_accuracy: 0.6408\n",
      "Epoch 416/500\n",
      "11/11 [==============================] - 0s 4ms/step - loss: 0.4499 - accuracy: 0.7728 - val_loss: 0.6675 - val_accuracy: 0.6608\n",
      "Epoch 417/500\n",
      "11/11 [==============================] - 0s 3ms/step - loss: 0.4525 - accuracy: 0.7728 - val_loss: 0.6576 - val_accuracy: 0.6475\n",
      "Epoch 418/500\n",
      "11/11 [==============================] - 0s 3ms/step - loss: 0.4478 - accuracy: 0.7772 - val_loss: 0.6664 - val_accuracy: 0.6519\n",
      "Epoch 419/500\n",
      "11/11 [==============================] - 0s 3ms/step - loss: 0.4541 - accuracy: 0.7713 - val_loss: 0.6776 - val_accuracy: 0.6364\n",
      "Epoch 420/500\n",
      "11/11 [==============================] - 0s 3ms/step - loss: 0.4548 - accuracy: 0.7676 - val_loss: 0.6656 - val_accuracy: 0.6497\n",
      "Epoch 421/500\n",
      "11/11 [==============================] - 0s 3ms/step - loss: 0.4477 - accuracy: 0.7765 - val_loss: 0.6571 - val_accuracy: 0.6430\n",
      "Epoch 422/500\n",
      "11/11 [==============================] - 0s 3ms/step - loss: 0.4498 - accuracy: 0.7735 - val_loss: 0.6605 - val_accuracy: 0.6497\n",
      "Epoch 423/500\n",
      "11/11 [==============================] - 0s 3ms/step - loss: 0.4491 - accuracy: 0.7757 - val_loss: 0.6758 - val_accuracy: 0.6408\n",
      "Epoch 424/500\n",
      "11/11 [==============================] - 0s 3ms/step - loss: 0.4523 - accuracy: 0.7705 - val_loss: 0.6699 - val_accuracy: 0.6408\n",
      "Epoch 425/500\n",
      "11/11 [==============================] - 0s 3ms/step - loss: 0.4504 - accuracy: 0.7735 - val_loss: 0.6737 - val_accuracy: 0.6341\n",
      "Epoch 426/500\n",
      "11/11 [==============================] - 0s 3ms/step - loss: 0.4501 - accuracy: 0.7691 - val_loss: 0.6612 - val_accuracy: 0.6430\n",
      "Epoch 427/500\n",
      "11/11 [==============================] - 0s 3ms/step - loss: 0.4478 - accuracy: 0.7705 - val_loss: 0.6599 - val_accuracy: 0.6497\n",
      "Epoch 428/500\n",
      "11/11 [==============================] - 0s 4ms/step - loss: 0.4453 - accuracy: 0.7698 - val_loss: 0.6641 - val_accuracy: 0.6475\n",
      "Epoch 429/500\n",
      "11/11 [==============================] - 0s 4ms/step - loss: 0.4462 - accuracy: 0.7772 - val_loss: 0.6636 - val_accuracy: 0.6475\n",
      "Epoch 430/500\n",
      "11/11 [==============================] - 0s 3ms/step - loss: 0.4498 - accuracy: 0.7757 - val_loss: 0.6777 - val_accuracy: 0.6319\n",
      "Epoch 431/500\n",
      "11/11 [==============================] - 0s 3ms/step - loss: 0.4547 - accuracy: 0.7750 - val_loss: 0.6627 - val_accuracy: 0.6452\n",
      "Epoch 432/500\n",
      "11/11 [==============================] - 0s 3ms/step - loss: 0.4463 - accuracy: 0.7691 - val_loss: 0.6623 - val_accuracy: 0.6475\n",
      "Epoch 433/500\n",
      "11/11 [==============================] - 0s 3ms/step - loss: 0.4452 - accuracy: 0.7757 - val_loss: 0.6633 - val_accuracy: 0.6519\n",
      "Epoch 434/500\n",
      "11/11 [==============================] - 0s 3ms/step - loss: 0.4493 - accuracy: 0.7735 - val_loss: 0.6749 - val_accuracy: 0.6519\n",
      "Epoch 435/500\n",
      "11/11 [==============================] - 0s 3ms/step - loss: 0.4509 - accuracy: 0.7779 - val_loss: 0.6717 - val_accuracy: 0.6386\n",
      "Epoch 436/500\n",
      "11/11 [==============================] - 0s 3ms/step - loss: 0.4534 - accuracy: 0.7609 - val_loss: 0.6645 - val_accuracy: 0.6519\n",
      "Epoch 437/500\n",
      "11/11 [==============================] - 0s 3ms/step - loss: 0.4494 - accuracy: 0.7676 - val_loss: 0.6736 - val_accuracy: 0.6364\n",
      "Epoch 438/500\n",
      "11/11 [==============================] - 0s 3ms/step - loss: 0.4440 - accuracy: 0.7720 - val_loss: 0.6625 - val_accuracy: 0.6452\n",
      "Epoch 439/500\n",
      "11/11 [==============================] - 0s 3ms/step - loss: 0.4498 - accuracy: 0.7720 - val_loss: 0.6668 - val_accuracy: 0.6452\n",
      "Epoch 440/500\n",
      "11/11 [==============================] - 0s 3ms/step - loss: 0.4501 - accuracy: 0.7713 - val_loss: 0.6702 - val_accuracy: 0.6452\n",
      "Epoch 441/500\n",
      "11/11 [==============================] - 0s 3ms/step - loss: 0.4474 - accuracy: 0.7750 - val_loss: 0.6768 - val_accuracy: 0.6386\n",
      "Epoch 442/500\n",
      "11/11 [==============================] - 0s 3ms/step - loss: 0.4474 - accuracy: 0.7728 - val_loss: 0.6646 - val_accuracy: 0.6475\n",
      "Epoch 443/500\n",
      "11/11 [==============================] - 0s 3ms/step - loss: 0.4615 - accuracy: 0.7617 - val_loss: 0.6709 - val_accuracy: 0.6386\n",
      "Epoch 444/500\n",
      "11/11 [==============================] - 0s 4ms/step - loss: 0.4529 - accuracy: 0.7705 - val_loss: 0.6846 - val_accuracy: 0.6364\n",
      "Epoch 445/500\n",
      "11/11 [==============================] - 0s 3ms/step - loss: 0.4440 - accuracy: 0.7683 - val_loss: 0.6658 - val_accuracy: 0.6563\n",
      "Epoch 446/500\n",
      "11/11 [==============================] - 0s 3ms/step - loss: 0.4419 - accuracy: 0.7816 - val_loss: 0.6696 - val_accuracy: 0.6497\n",
      "Epoch 447/500\n",
      "11/11 [==============================] - 0s 3ms/step - loss: 0.4405 - accuracy: 0.7765 - val_loss: 0.6733 - val_accuracy: 0.6475\n",
      "Epoch 448/500\n",
      "11/11 [==============================] - 0s 3ms/step - loss: 0.4416 - accuracy: 0.7779 - val_loss: 0.6670 - val_accuracy: 0.6452\n",
      "Epoch 449/500\n",
      "11/11 [==============================] - 0s 4ms/step - loss: 0.4391 - accuracy: 0.7831 - val_loss: 0.6683 - val_accuracy: 0.6541\n",
      "Epoch 450/500\n",
      "11/11 [==============================] - 0s 3ms/step - loss: 0.4390 - accuracy: 0.7824 - val_loss: 0.6678 - val_accuracy: 0.6430\n",
      "Epoch 451/500\n",
      "11/11 [==============================] - 0s 3ms/step - loss: 0.4397 - accuracy: 0.7794 - val_loss: 0.6719 - val_accuracy: 0.6475\n",
      "Epoch 452/500\n",
      "11/11 [==============================] - 0s 3ms/step - loss: 0.4425 - accuracy: 0.7742 - val_loss: 0.6681 - val_accuracy: 0.6541\n",
      "Epoch 453/500\n",
      "11/11 [==============================] - 0s 3ms/step - loss: 0.4469 - accuracy: 0.7720 - val_loss: 0.6702 - val_accuracy: 0.6475\n",
      "Epoch 454/500\n",
      "11/11 [==============================] - 0s 3ms/step - loss: 0.4391 - accuracy: 0.7794 - val_loss: 0.6689 - val_accuracy: 0.6430\n",
      "Epoch 455/500\n",
      "11/11 [==============================] - 0s 3ms/step - loss: 0.4387 - accuracy: 0.7809 - val_loss: 0.6679 - val_accuracy: 0.6430\n",
      "Epoch 456/500\n",
      "11/11 [==============================] - 0s 3ms/step - loss: 0.4400 - accuracy: 0.7809 - val_loss: 0.6709 - val_accuracy: 0.6452\n",
      "Epoch 457/500\n",
      "11/11 [==============================] - 0s 3ms/step - loss: 0.4374 - accuracy: 0.7720 - val_loss: 0.6814 - val_accuracy: 0.6408\n",
      "Epoch 458/500\n"
     ]
    },
    {
     "name": "stdout",
     "output_type": "stream",
     "text": [
      "11/11 [==============================] - 0s 3ms/step - loss: 0.4393 - accuracy: 0.7779 - val_loss: 0.6793 - val_accuracy: 0.6430\n",
      "Epoch 459/500\n",
      "11/11 [==============================] - 0s 3ms/step - loss: 0.4450 - accuracy: 0.7639 - val_loss: 0.6707 - val_accuracy: 0.6475\n",
      "Epoch 460/500\n",
      "11/11 [==============================] - 0s 3ms/step - loss: 0.4405 - accuracy: 0.7809 - val_loss: 0.6892 - val_accuracy: 0.6563\n",
      "Epoch 461/500\n",
      "11/11 [==============================] - 0s 3ms/step - loss: 0.4558 - accuracy: 0.7646 - val_loss: 0.6853 - val_accuracy: 0.6585\n",
      "Epoch 462/500\n",
      "11/11 [==============================] - 0s 3ms/step - loss: 0.4547 - accuracy: 0.7750 - val_loss: 0.6830 - val_accuracy: 0.6608\n",
      "Epoch 463/500\n",
      "11/11 [==============================] - 0s 3ms/step - loss: 0.4479 - accuracy: 0.7676 - val_loss: 0.6739 - val_accuracy: 0.6541\n",
      "Epoch 464/500\n",
      "11/11 [==============================] - 0s 3ms/step - loss: 0.4375 - accuracy: 0.7720 - val_loss: 0.6743 - val_accuracy: 0.6364\n",
      "Epoch 465/500\n",
      "11/11 [==============================] - 0s 3ms/step - loss: 0.4387 - accuracy: 0.7787 - val_loss: 0.6704 - val_accuracy: 0.6519\n",
      "Epoch 466/500\n",
      "11/11 [==============================] - 0s 3ms/step - loss: 0.4371 - accuracy: 0.7787 - val_loss: 0.6852 - val_accuracy: 0.6452\n",
      "Epoch 467/500\n",
      "11/11 [==============================] - 0s 3ms/step - loss: 0.4376 - accuracy: 0.7802 - val_loss: 0.6755 - val_accuracy: 0.6497\n",
      "Epoch 468/500\n",
      "11/11 [==============================] - 0s 3ms/step - loss: 0.4371 - accuracy: 0.7779 - val_loss: 0.6726 - val_accuracy: 0.6563\n",
      "Epoch 469/500\n",
      "11/11 [==============================] - 0s 3ms/step - loss: 0.4387 - accuracy: 0.7772 - val_loss: 0.6739 - val_accuracy: 0.6475\n",
      "Epoch 470/500\n",
      "11/11 [==============================] - 0s 3ms/step - loss: 0.4378 - accuracy: 0.7787 - val_loss: 0.6733 - val_accuracy: 0.6430\n",
      "Epoch 471/500\n",
      "11/11 [==============================] - 0s 3ms/step - loss: 0.4359 - accuracy: 0.7853 - val_loss: 0.6729 - val_accuracy: 0.6475\n",
      "Epoch 472/500\n",
      "11/11 [==============================] - 0s 6ms/step - loss: 0.4399 - accuracy: 0.7757 - val_loss: 0.6759 - val_accuracy: 0.6452\n",
      "Epoch 473/500\n",
      "11/11 [==============================] - 0s 4ms/step - loss: 0.4380 - accuracy: 0.7831 - val_loss: 0.6781 - val_accuracy: 0.6519\n",
      "Epoch 474/500\n",
      "11/11 [==============================] - 0s 5ms/step - loss: 0.4371 - accuracy: 0.7787 - val_loss: 0.6786 - val_accuracy: 0.6386\n",
      "Epoch 475/500\n",
      "11/11 [==============================] - 0s 4ms/step - loss: 0.4350 - accuracy: 0.7861 - val_loss: 0.6860 - val_accuracy: 0.6386\n",
      "Epoch 476/500\n",
      "11/11 [==============================] - 0s 3ms/step - loss: 0.4378 - accuracy: 0.7853 - val_loss: 0.6782 - val_accuracy: 0.6497\n",
      "Epoch 477/500\n",
      "11/11 [==============================] - 0s 3ms/step - loss: 0.4360 - accuracy: 0.7809 - val_loss: 0.6783 - val_accuracy: 0.6452\n",
      "Epoch 478/500\n",
      "11/11 [==============================] - 0s 3ms/step - loss: 0.4402 - accuracy: 0.7698 - val_loss: 0.6793 - val_accuracy: 0.6386\n",
      "Epoch 479/500\n",
      "11/11 [==============================] - 0s 3ms/step - loss: 0.4335 - accuracy: 0.7816 - val_loss: 0.6776 - val_accuracy: 0.6541\n",
      "Epoch 480/500\n",
      "11/11 [==============================] - 0s 3ms/step - loss: 0.4371 - accuracy: 0.7787 - val_loss: 0.6776 - val_accuracy: 0.6408\n",
      "Epoch 481/500\n",
      "11/11 [==============================] - 0s 3ms/step - loss: 0.4332 - accuracy: 0.7853 - val_loss: 0.6840 - val_accuracy: 0.6364\n",
      "Epoch 482/500\n",
      "11/11 [==============================] - 0s 3ms/step - loss: 0.4332 - accuracy: 0.7787 - val_loss: 0.6866 - val_accuracy: 0.6386\n",
      "Epoch 483/500\n",
      "11/11 [==============================] - 0s 3ms/step - loss: 0.4405 - accuracy: 0.7794 - val_loss: 0.6787 - val_accuracy: 0.6497\n",
      "Epoch 484/500\n",
      "11/11 [==============================] - 0s 4ms/step - loss: 0.4381 - accuracy: 0.7757 - val_loss: 0.6775 - val_accuracy: 0.6497\n",
      "Epoch 485/500\n",
      "11/11 [==============================] - 0s 5ms/step - loss: 0.4399 - accuracy: 0.7683 - val_loss: 0.6757 - val_accuracy: 0.6386\n",
      "Epoch 486/500\n",
      "11/11 [==============================] - 0s 5ms/step - loss: 0.4334 - accuracy: 0.7816 - val_loss: 0.6808 - val_accuracy: 0.6497\n",
      "Epoch 487/500\n",
      "11/11 [==============================] - 0s 5ms/step - loss: 0.4366 - accuracy: 0.7779 - val_loss: 0.6818 - val_accuracy: 0.6497\n",
      "Epoch 488/500\n",
      "11/11 [==============================] - 0s 4ms/step - loss: 0.4335 - accuracy: 0.7750 - val_loss: 0.6831 - val_accuracy: 0.6386\n",
      "Epoch 489/500\n",
      "11/11 [==============================] - 0s 4ms/step - loss: 0.4317 - accuracy: 0.7824 - val_loss: 0.6748 - val_accuracy: 0.6519\n",
      "Epoch 490/500\n",
      "11/11 [==============================] - 0s 3ms/step - loss: 0.4359 - accuracy: 0.7794 - val_loss: 0.6839 - val_accuracy: 0.6519\n",
      "Epoch 491/500\n",
      "11/11 [==============================] - 0s 3ms/step - loss: 0.4319 - accuracy: 0.7861 - val_loss: 0.6745 - val_accuracy: 0.6497\n",
      "Epoch 492/500\n",
      "11/11 [==============================] - 0s 3ms/step - loss: 0.4322 - accuracy: 0.7853 - val_loss: 0.6846 - val_accuracy: 0.6497\n",
      "Epoch 493/500\n",
      "11/11 [==============================] - 0s 9ms/step - loss: 0.4300 - accuracy: 0.7868 - val_loss: 0.6808 - val_accuracy: 0.6452\n",
      "Epoch 494/500\n",
      "11/11 [==============================] - 0s 3ms/step - loss: 0.4500 - accuracy: 0.7580 - val_loss: 0.7252 - val_accuracy: 0.6031\n",
      "Epoch 495/500\n",
      "11/11 [==============================] - 0s 4ms/step - loss: 0.4391 - accuracy: 0.7705 - val_loss: 0.6934 - val_accuracy: 0.6341\n",
      "Epoch 496/500\n",
      "11/11 [==============================] - 0s 4ms/step - loss: 0.4367 - accuracy: 0.7757 - val_loss: 0.6892 - val_accuracy: 0.6475\n",
      "Epoch 497/500\n",
      "11/11 [==============================] - 0s 5ms/step - loss: 0.4363 - accuracy: 0.7765 - val_loss: 0.6834 - val_accuracy: 0.6541\n",
      "Epoch 498/500\n",
      "11/11 [==============================] - 0s 12ms/step - loss: 0.4388 - accuracy: 0.7765 - val_loss: 0.6864 - val_accuracy: 0.6408\n",
      "Epoch 499/500\n",
      "11/11 [==============================] - 0s 6ms/step - loss: 0.4290 - accuracy: 0.7898 - val_loss: 0.6855 - val_accuracy: 0.6497\n",
      "Epoch 500/500\n",
      "11/11 [==============================] - 0s 8ms/step - loss: 0.4289 - accuracy: 0.7868 - val_loss: 0.6873 - val_accuracy: 0.6408\n"
     ]
    }
   ],
   "source": [
    "history = nn_model.fit(\n",
    "    lr_extract_inputs(train), \n",
    "    lr_extract_outputs(train),\n",
    "    epochs=500,\n",
    "    batch_size=128,\n",
    "    validation_data=(\n",
    "        lr_extract_inputs(test),\n",
    "        lr_extract_outputs(test),\n",
    "    )\n",
    ")"
   ]
  },
  {
   "cell_type": "code",
   "execution_count": 33,
   "metadata": {},
   "outputs": [
    {
     "name": "stdout",
     "output_type": "stream",
     "text": [
      "train ################################################################################\n",
      "Accuracy: 0.6476683937823834\n",
      "Precision: 0.6468716861081655\n",
      "Recall: 0.8100929614873837\n",
      "\n"
     ]
    },
    {
     "data": {
      "image/png": "[encoded data removed]",
      "text/plain": [
       "<Figure size 216x288 with 1 Axes>"
      ]
     },
     "metadata": {
      "needs_background": "light"
     },
     "output_type": "display_data"
    },
    {
     "name": "stdout",
     "output_type": "stream",
     "text": [
      "test ################################################################################\n",
      "Accuracy: 0.647450110864745\n",
      "Precision: 0.6558441558441559\n",
      "Recall: 0.792156862745098\n",
      "\n"
     ]
    },
    {
     "data": {
      "image/png": "[encoded data removed]",
      "text/plain": [
       "<Figure size 216x288 with 1 Axes>"
      ]
     },
     "metadata": {
      "needs_background": "light"
     },
     "output_type": "display_data"
    },
    {
     "name": "stdout",
     "output_type": "stream",
     "text": [
      "validation ################################################################################\n",
      "Accuracy: 0.6488888888888888\n",
      "Precision: 0.6378205128205128\n",
      "Recall: 0.8155737704918032\n",
      "\n"
     ]
    },
    {
     "data": {
      "image/png": "[encoded data removed]",
      "text/plain": [
       "<Figure size 216x288 with 1 Axes>"
      ]
     },
     "metadata": {
      "needs_background": "light"
     },
     "output_type": "display_data"
    }
   ],
   "source": [
    "evaluate_model(knn_model, lr_extract_inputs, lr_extract_outputs, True)"
   ]
  },
  {
   "cell_type": "markdown",
   "metadata": {},
   "source": [
    "#### Conclusión\n",
    "Luego de varias iteraciones sobre diferentes modelos de NN, no logramos mejorar los resultados obtenidos a traves de otros modelos. Probablemente se pueda mejorar un poco los resultados con las funciones de activacion y las cantidades de neuronas por capa correctas, pero teniendo en cuenta que los resultados de todos los modelos no tenían un Accuracy prometedor, se sospecha que puede deberse al dataset utilizado, cuyos datos no provean suficiente informacion para lograr mejores predicciones."
   ]
  },
  {
   "cell_type": "markdown",
   "metadata": {},
   "source": [
    "### Conclusión final\n",
    "El mejor resultado obtenido fue mediante **Gradient Boosted Trees**:"
   ]
  },
  {
   "cell_type": "code",
   "execution_count": 34,
   "metadata": {},
   "outputs": [
    {
     "name": "stdout",
     "output_type": "stream",
     "text": [
      "train ################################################################################\n",
      "Accuracy: 0.7194670614359734\n",
      "Precision: 0.7101123595505618\n",
      "Recall: 0.8393094289508632\n",
      "\n"
     ]
    },
    {
     "data": {
      "image/png": "[encoded data removed]",
      "text/plain": [
       "<Figure size 216x288 with 1 Axes>"
      ]
     },
     "metadata": {
      "needs_background": "light"
     },
     "output_type": "display_data"
    },
    {
     "name": "stdout",
     "output_type": "stream",
     "text": [
      "test ################################################################################\n",
      "Accuracy: 0.6940133037694013\n",
      "Precision: 0.6983050847457627\n",
      "Recall: 0.807843137254902\n",
      "\n"
     ]
    },
    {
     "data": {
      "image/png": "[encoded data removed]",
      "text/plain": [
       "<Figure size 216x288 with 1 Axes>"
      ]
     },
     "metadata": {
      "needs_background": "light"
     },
     "output_type": "display_data"
    },
    {
     "name": "stdout",
     "output_type": "stream",
     "text": [
      "validation ################################################################################\n",
      "Accuracy: 0.6666666666666666\n",
      "Precision: 0.6631944444444444\n",
      "Recall: 0.7827868852459017\n",
      "\n"
     ]
    },
    {
     "data": {
      "image/png": "[encoded data removed]",
      "text/plain": [
       "<Figure size 216x288 with 1 Axes>"
      ]
     },
     "metadata": {
      "needs_background": "light"
     },
     "output_type": "display_data"
    }
   ],
   "source": [
    "evaluate_model(boost_model, tree_extract_inputs, tree_extract_outputs, True) #con validation"
   ]
  }
 ],
 "metadata": {
  "kernelspec": {
   "display_name": "Python 3",
   "language": "python",
   "name": "python3"
  },
  "language_info": {
   "codemirror_mode": {
    "name": "ipython",
    "version": 3
   },
   "file_extension": ".py",
   "mimetype": "text/x-python",
   "name": "python",
   "nbconvert_exporter": "python",
   "pygments_lexer": "ipython3",
   "version": "3.7.0"
  }
 },
 "nbformat": 4,
 "nbformat_minor": 4
}
